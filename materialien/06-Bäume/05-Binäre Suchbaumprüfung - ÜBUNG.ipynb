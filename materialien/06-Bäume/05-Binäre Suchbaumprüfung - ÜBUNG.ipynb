{
 "cells": [
  {
   "cell_type": "markdown",
   "metadata": {},
   "source": [
    "<a href=\"http://datamics.com/de/courses/\"><img src=../DATA/bg_datamics_top.png></a>\n",
    "\n",
    "<em text-align:center>© Datamics</em>\n",
    "# Binäre Suchbaumprüfung  (Binary Search Tree Check) \n",
    "\n",
    "## Problemstellung\n",
    "\n",
    "Bei einem binären Baum ist zu prüfen, ob es sich um einen binären Suchbaum handelt oder nicht.\n",
    "\n",
    "**Auch hier gibt es keine Lösungsfeld, kümmern dich nur darum, dass dein Code logisch Sinn macht. Tipp: Denke an die Baum-Traversierung (tree traversals)**\n",
    "\n",
    "## Lösung\n",
    "\n",
    "Bitte tragen unten deinen Lösungsvorschlag ein:"
   ]
  },
  {
   "cell_type": "code",
   "execution_count": 1,
   "metadata": {},
   "outputs": [],
   "source": [
    "# Code kommt hierher"
   ]
  },
  {
   "cell_type": "markdown",
   "metadata": {},
   "source": [
    "Das ist ein klassisches Interviewproblem, also zögere nicht, einfach die Google-Suche \"Validate BST\" zu verwenden, um mehr Informationen zu diesem Problem zu finden!"
   ]
  }
 ],
 "metadata": {
  "kernelspec": {
   "display_name": "Python 3",
   "language": "python",
   "name": "python3"
  },
  "language_info": {
   "codemirror_mode": {
    "name": "ipython",
    "version": 3
   },
   "file_extension": ".py",
   "mimetype": "text/x-python",
   "name": "python",
   "nbconvert_exporter": "python",
   "pygments_lexer": "ipython3",
   "version": "3.7.0"
  }
 },
 "nbformat": 4,
 "nbformat_minor": 2
}
