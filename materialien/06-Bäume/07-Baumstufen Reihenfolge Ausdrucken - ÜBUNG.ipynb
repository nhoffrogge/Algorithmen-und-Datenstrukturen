{
 "cells": [
  {
   "cell_type": "markdown",
   "metadata": {},
   "source": [
    "<a href=\"http://datamics.com/de/courses/\"><img src=../DATA/bg_datamics_top.png></a>\n",
    "\n",
    "<em text-align:center>© Datamics</em>\n",
    "# Baumebenen in Reihenfolge Ausdrucken (Tree Level Order Print)\n",
    "\n",
    "Wenn du einen binären Baum von ganzen Zahlen hast, kannst du ihn in Ebenenreihenfolge (level order) drucken. Die Ausgabe enthält Leerzeichen zwischen den Zahlen in der gleichen Stufe und eine neue Zeile zwischen den verschiedenen Stufen. Zum Beispiel, wenn der Baum so aussieht:  \n",
    "___\n",
    "![title](tree_print.png)\n",
    "___\n",
    "sollte die Ausgabe so sein: \n",
    "\n",
    "    1 \n",
    "    2 3 \n",
    "    4 5 6"
   ]
  },
  {
   "cell_type": "markdown",
   "metadata": {},
   "source": [
    "## Lösung\n",
    "\n",
    "Bitte trage unten deine Lösung ein:"
   ]
  },
  {
   "cell_type": "code",
   "execution_count": 1,
   "metadata": {},
   "outputs": [],
   "source": [
    "class Node:\n",
    "    def __init__(self, val=None):\n",
    "        self.left = None\n",
    "        self.right = None\n",
    "        self.val =  val "
   ]
  },
  {
   "cell_type": "code",
   "execution_count": 2,
   "metadata": {},
   "outputs": [],
   "source": [
    "def levelOrderPrint(tree):\n",
    "    #Code hier eingeben\n",
    "    pass"
   ]
  }
 ],
 "metadata": {
  "kernelspec": {
   "display_name": "Python 3",
   "language": "python",
   "name": "python3"
  },
  "language_info": {
   "codemirror_mode": {
    "name": "ipython",
    "version": 3
   },
   "file_extension": ".py",
   "mimetype": "text/x-python",
   "name": "python",
   "nbconvert_exporter": "python",
   "pygments_lexer": "ipython3",
   "version": "3.7.0"
  }
 },
 "nbformat": 4,
 "nbformat_minor": 2
}
