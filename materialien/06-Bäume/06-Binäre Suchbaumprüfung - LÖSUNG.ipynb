{
 "cells": [
  {
   "cell_type": "markdown",
   "metadata": {},
   "source": [
    "<a href=\"http://datamics.com/de/courses/\"><img src=../DATA/bg_datamics_top.png></a>\n",
    "\n",
    "<em text-align:center>© Datamics</em>\n",
    "# Binäre Suchbaumprüfung  (Binary Search Tree Check) - LÖSUNG\n",
    "\n",
    "## Problemstellung\n",
    "\n",
    "Bei einem binären Baum ist zu prüfen, ob es sich um einen binären Suchbaum handelt oder nicht.\n",
    "\n",
    "**Auch hier gibt es keine Lösungsfeld, kümmern dich nur darum, dass dein Code logisch Sinn macht. Tipp: Denke an  die Baum-Traversierung (tree traversals)**\n",
    "\n",
    "## Lösung\n",
    "\n",
    "Bitte tragen unten deinen Lösungsvorschlag ein:"
   ]
  },
  {
   "cell_type": "code",
   "execution_count": 1,
   "metadata": {},
   "outputs": [
    {
     "data": {
      "text/plain": [
       "True"
      ]
     },
     "execution_count": 1,
     "metadata": {},
     "output_type": "execute_result"
    }
   ],
   "source": [
    "tree_vals = []\n",
    "\n",
    "def inorder(tree):\n",
    "    if tree != None:\n",
    "        inorder(tree.getLeftChild())\n",
    "        tree_vals.append(tree.getRootVal())\n",
    "        inorder(tree.getRightChild())\n",
    "        \n",
    "def sort_check(tree_vals):\n",
    "    return tree_vals == sorted(tree_vals)\n",
    "\n",
    "inorder(tree)\n",
    "sort_check(tree_vals)"
   ]
  },
  {
   "cell_type": "markdown",
   "metadata": {},
   "source": [
    "Eine weitere klassische Lösung ist die Überwachung der Minimal- und Maximalwerte, die ein Knoten annehmen kann. Und an jedem Knoten prüfen wir, ob sein Wert zwischen dem Min- und Max-Wert liegt, den er annehmen darf. Die Wurzel kann jeden Wert zwischen negativer Unendlichkeit und positiver Unendlichkeit annehmen. An jedem Knoten sollte sein linkes Kind (Child) kleiner oder gleich seinem eigenen Wert sein, und ebenso sollte das rechte Kind größer oder gleich sein. Während der Rekursion senden wir also den aktuellen Wert als neues Maximum an unser linkes Kind und senden das Minimum, wie es ist, ohne es zu ändern. Und an das rechte Kind senden wir den aktuellen Wert als neues Minimum und das Maximum ohne Änderung."
   ]
  },
  {
   "cell_type": "code",
   "execution_count": 2,
   "metadata": {},
   "outputs": [
    {
     "name": "stdout",
     "output_type": "stream",
     "text": [
      "True\n",
      "False\n"
     ]
    }
   ],
   "source": [
    "class Node:\n",
    "    def __init__(self, k, val):\n",
    "        self.key = k\n",
    "        self.value = val\n",
    "        self.left = None\n",
    "        self.right = None\n",
    "\n",
    "def tree_max(node):\n",
    "    if not node:\n",
    "        return float(\"-inf\")\n",
    "    maxleft  = tree_max(node.left)\n",
    "    maxright = tree_max(node.right)\n",
    "    return max(node.key, maxleft, maxright)\n",
    "\n",
    "def tree_min(node):\n",
    "    if not node:\n",
    "        return float(\"inf\")\n",
    "    minleft  = tree_min(node.left)\n",
    "    minright = tree_min(node.right)\n",
    "    return min(node.key, minleft, minright)\n",
    "\n",
    "def verify(node):\n",
    "    if not node:\n",
    "        return True\n",
    "    if (tree_max(node.left) <= node.key <= tree_min(node.right) and\n",
    "        verify(node.left) and verify(node.right)):\n",
    "        return True\n",
    "    else:\n",
    "        return False\n",
    "\n",
    "root= Node(10, \"Hello\")\n",
    "root.left = Node(5, \"Five\")\n",
    "root.right= Node(30, \"Thirty\")\n",
    "\n",
    "print(verify(root)) # gibt True aus, da dieser Baum gültig ist.\n",
    "\n",
    "root = Node(10, \"Ten\")\n",
    "root.right = Node(20, \"Twenty\")\n",
    "root.left = Node(5, \"Five\")\n",
    "root.left.right = Node(15, \"Fifteen\")\n",
    "\n",
    "print(verify(root)) # gibt False aus, da 15 links von 10 liegt."
   ]
  },
  {
   "cell_type": "markdown",
   "metadata": {},
   "source": [
    "Das ist ein klassisches Interviewproblem, also zögere nicht, einfach die Google-Suche \"Validate BST\" zu verwenden um mehr Informationen zu diesem Problem zu finden!"
   ]
  },
  {
   "cell_type": "markdown",
   "metadata": {},
   "source": [
    "## Gut gemacht!"
   ]
  }
 ],
 "metadata": {
  "kernelspec": {
   "display_name": "Python 3",
   "language": "python",
   "name": "python3"
  },
  "language_info": {
   "codemirror_mode": {
    "name": "ipython",
    "version": 3
   },
   "file_extension": ".py",
   "mimetype": "text/x-python",
   "name": "python",
   "nbconvert_exporter": "python",
   "pygments_lexer": "ipython3",
   "version": "3.7.0"
  }
 },
 "nbformat": 4,
 "nbformat_minor": 2
}
