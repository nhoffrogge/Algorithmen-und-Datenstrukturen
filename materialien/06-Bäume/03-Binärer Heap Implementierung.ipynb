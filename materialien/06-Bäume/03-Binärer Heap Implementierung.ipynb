{
 "cells": [
  {
   "cell_type": "markdown",
   "metadata": {},
   "source": [
    "<a href=\"http://datamics.com/de/courses/\"><img src=../DATA/bg_datamics_top.png></a>\n",
    "\n",
    "<em text-align:center>© Datamics</em>\n",
    "# Binärer Heap Implementierung\n",
    "\n",
    "Hier ist der Referenzcode für die Implementierung des Binären Heaps. Achte darauf, dass du den Videokurs für die detaillierte Erklärung ansiehst!"
   ]
  },
  {
   "cell_type": "markdown",
   "metadata": {},
   "source": [
    "### Binäre Heap-Operationen\n",
    "**Die grundlegenden Operationen, die wir für unseren Binär-Heap implementieren werden, sind folgende:**\n",
    "\n",
    "* BinaryHeap() erstellt einen neuen, leeren, binären Heap.\n",
    "* insert(k) fügt dem Heap einen neuen Eintrag hinzu.\n",
    "* findMin() gibt den Eintrag mit dem minimalen Schlüsselwert zurück und lässt den Eintrag im Heap zurück.\n",
    "* delMin() gibt den Eintrag mit dem minimalen Schlüsselwert zurück und entfernt den Eintrag aus dem Heap.\n",
    "* isEmpty() gibt true zurück, wenn der Heap leer ist, ansonsten false.\n",
    "* size() gibt die Anzahl der Elemente im Heap zurück.\n",
    "* buildHeap(list) erstellt einen neuen Heap aus einer Liste von Schlüsseln."
   ]
  },
  {
   "cell_type": "code",
   "execution_count": 1,
   "metadata": {},
   "outputs": [],
   "source": [
    "class BinHeap:\n",
    "    def __init__(self):\n",
    "        self.heapList = [0]\n",
    "        self.currentSize = 0\n",
    "\n",
    "\n",
    "    def percUp(self,i):\n",
    "        \n",
    "        while i // 2 > 0:\n",
    "            \n",
    "            if self.heapList[i] < self.heapList[i // 2]:\n",
    "                \n",
    "            \n",
    "                tmp = self.heapList[i // 2]\n",
    "                self.heapList[i // 2] = self.heapList[i]\n",
    "                self.heapList[i] = tmp\n",
    "            i = i // 2\n",
    "\n",
    "    def insert(self,k):\n",
    "        \n",
    "        self.heapList.append(k)\n",
    "        self.currentSize = self.currentSize + 1\n",
    "        self.percUp(self.currentSize)\n",
    "\n",
    "    def percDown(self,i):\n",
    "        \n",
    "        while (i * 2) <= self.currentSize:\n",
    "            \n",
    "            mc = self.minChild(i)\n",
    "            if self.heapList[i] > self.heapList[mc]:\n",
    "                \n",
    "                tmp = self.heapList[i]\n",
    "                self.heapList[i] = self.heapList[mc]\n",
    "                self.heapList[mc] = tmp\n",
    "            i = mc\n",
    "\n",
    "    def minChild(self,i):\n",
    "        \n",
    "        if i * 2 + 1 > self.currentSize:\n",
    "            \n",
    "            return i * 2\n",
    "        else:\n",
    "            \n",
    "            if self.heapList[i*2] < self.heapList[i*2+1]:\n",
    "                return i * 2\n",
    "            else:\n",
    "                return i * 2 + 1\n",
    "\n",
    "    def delMin(self):\n",
    "        retval = self.heapList[1]\n",
    "        self.heapList[1] = self.heapList[self.currentSize]\n",
    "        self.currentSize = self.currentSize - 1\n",
    "        self.heapList.pop()\n",
    "        self.percDown(1)\n",
    "        return retval\n",
    "\n",
    "    def buildHeap(self,alist):\n",
    "        i = len(alist) // 2\n",
    "        self.currentSize = len(alist)\n",
    "        self.heapList = [0] + alist[:]\n",
    "        while (i > 0):\n",
    "            self.percDown(i)\n",
    "            i = i - 1"
   ]
  },
  {
   "cell_type": "code",
   "execution_count": null,
   "metadata": {},
   "outputs": [],
   "source": []
  }
 ],
 "metadata": {
  "kernelspec": {
   "display_name": "Python 3",
   "language": "python",
   "name": "python3"
  },
  "language_info": {
   "codemirror_mode": {
    "name": "ipython",
    "version": 3
   },
   "file_extension": ".py",
   "mimetype": "text/x-python",
   "name": "python",
   "nbconvert_exporter": "python",
   "pygments_lexer": "ipython3",
   "version": "3.7.0"
  }
 },
 "nbformat": 4,
 "nbformat_minor": 2
}
