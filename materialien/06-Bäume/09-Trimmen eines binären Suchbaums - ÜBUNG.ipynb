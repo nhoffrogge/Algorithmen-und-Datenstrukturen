{
 "cells": [
  {
   "cell_type": "markdown",
   "metadata": {},
   "source": [
    "<a href=\"http://datamics.com/de/courses/\"><img src=../DATA/bg_datamics_top.png></a>\n",
    "\n",
    "<em text-align:center>© Datamics</em>\n",
    "# Trimmen eines binären Suchbaums\n",
    "\n",
    "## Problemstellung\n",
    "\n",
    "Angesichts der Wurzel eines binären Suchbaums und 2 Zahlen min und max, trimme den Baum so, dass alle Zahlen im neuen Baum zwischen min und max (einschließlich) liegen. Der resultierende Baum sollte immer noch ein gültiger binärer Suchbaum sein. Also, wenn wir diesen Baum als Input bekommen:\n",
    "___\n",
    "\n",
    "![title](bst1.png)\n",
    "___\n",
    "und wir erhalten **als min Wert 5** und **als max Wert 13**, dann sollte der resultierende binäre Suchbaum sein: \n",
    "___\n",
    "![title](bst_trim.png)\n",
    "___\n",
    "Wir müssen alle Knoten entfernen, deren Wert nicht zwischen min und max liegt. \n",
    "\n",
    "___\n",
    "**Du kannst gerne auf die Lektion über Binäre Suchbäume(Binary Search Tree) für die Knotenklasse zurückgreifen, aber was hier wichtiger ist, ist die Logik deiner Funktion. In diesem Fall sollte deine Funktion folgende Form haben:**"
   ]
  },
  {
   "cell_type": "code",
   "execution_count": 3,
   "metadata": {},
   "outputs": [],
   "source": [
    "def trimBST(tree,minVal,maxVal):\n",
    "    \n",
    "    print (tree.left) # Linkes Kind\n",
    "    print (tree.right) # Rechtes Kind\n",
    "    print (tree.val) # Wert des Knotens\n",
    "    \n",
    "    pass\n",
    "\n",
    "# Benutze tree.left, tree.right und tree.val als Methoden \n",
    "# zum Aufrufen der Knoten."
   ]
  },
  {
   "cell_type": "markdown",
   "metadata": {},
   "source": [
    "**Es gibt kein Lösungsfeld, weil die Art des Quellcodes logischer ablaufen sollte und ein Test im Wesentlichen die Lösung verraten würde. Konzentriere dich einfach auf deine Antwort, um die Logik der Lösung mit den oben beschriebenen Methoden zu beschreiben**.\n",
    "\n",
    "## Ich wünsche dir viel Glück!"
   ]
  }
 ],
 "metadata": {
  "kernelspec": {
   "display_name": "Python 3",
   "language": "python",
   "name": "python3"
  },
  "language_info": {
   "codemirror_mode": {
    "name": "ipython",
    "version": 3
   },
   "file_extension": ".py",
   "mimetype": "text/x-python",
   "name": "python",
   "nbconvert_exporter": "python",
   "pygments_lexer": "ipython3",
   "version": "3.7.0"
  }
 },
 "nbformat": 4,
 "nbformat_minor": 2
}
