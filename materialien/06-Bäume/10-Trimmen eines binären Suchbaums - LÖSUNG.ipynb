{
 "cells": [
  {
   "cell_type": "markdown",
   "metadata": {},
   "source": [
    "<a href=\"http://datamics.com/de/courses/\"><img src=../DATA/bg_datamics_top.png></a>\n",
    "\n",
    "<em text-align:center>© Datamics</em>\n",
    "# Trimmen eines binären Suchbaums - LÖSUNG\n",
    "\n",
    "## Problemstellung\n",
    "\n",
    "Angesichts der Wurzel eines binären Suchbaums und 2 Zahlen min und max, trimme den Baum so, dass alle Zahlen im neuen Baum zwischen min und max (einschließlich) liegen. Der resultierende Baum sollte immer noch ein gültiger binärer Suchbaum sein. Also, wenn wir diesen Baum als Input bekommen:\n",
    "___\n",
    "\n",
    "![title](bst1.png)\n",
    "___\n",
    "und wir erhalten **als min Wert 5** und **als max Wert 13**, dann sollte der resultierende binäre Suchbaum sein: \n",
    "___\n",
    "![title](bst_trim.png)\n",
    "___\n",
    "Wir müssen alle Knoten entfernen, deren Wert nicht zwischen min und max liegt. "
   ]
  },
  {
   "cell_type": "markdown",
   "metadata": {},
   "source": [
    "## Lösung\n",
    "\n",
    "Wir können dies erreichen, indem wir eine nachträgliche Traversierung des Baumes durchführen. Wir verarbeiten zuerst die linken Kinder, dann die rechten Kinder und schließlich den Knoten selbst. So bilden wir den neuen Baum von unten nach oben, beginnend mit den Blättern bis zur Wurzel. Infolgedessen sind während der Verarbeitung des Knotens selbst sowohl der linke als auch der rechte Teilbaum gültige getrimmte binäre Suchbäume (kann auch NULL sein).\n",
    "\n",
    "An jedem Knoten geben wir eine Referenz basierend auf seinem Wert zurück, die dann dem linken oder rechten Kind-Zeiger des übergeordneten Knotens zugewiesen wird, je nachdem, ob der aktuelle Knoten links oder rechts vom übergeordneten Kind ist. Wenn der Wert des aktuellen Knotens zwischen min und max liegt (min<=node<=max), dann gibt es keinen Handlungsbedarf, also geben wir die Referenz auf den Knoten selbst zurück. Wenn der Wert des aktuellen Knotens kleiner als min ist, dann geben wir die Referenz auf seinen rechten Teilbaum zurück und verwerfen den linken Teilbaum. Denn wenn der Wert eines Knotens kleiner als min ist, dann sind seine linken Kinder definitiv kleiner als min, da es sich um einen binären Suchbaum handelt. Aber seine rechten Kinder können oder dürfen nicht weniger als min sein, wir können uns nicht sicher sein, also geben wir den Hinweis darauf zurück. Da wir eine bottom-up Post-Order-Traversal durchführen, ist der rechte Teilbaum bereits ein abgeschnittener gültiger binärer Suchbaum (möglicherweise NULL), und der linke Teilbaum ist definitiv NULL, da diese Knoten sicherlich weniger als min waren und während der Post-Order-Traversal eliminiert wurden. Denke daran, dass wir beim Post-Order-Traversal zuerst alle Kinder eines Knotens verarbeiten und dann schließlich den Knoten selbst.\n",
    "\n",
    "Eine ähnliche Situation tritt auf, wenn der Wert des Knotens größer als max ist, wir geben nun die Referenz auf seinen linken Teilbaum zurück. Denn wenn der Wert eines Knotens größer als max ist, dann sind seine rechten Kinder definitiv größer als max. Aber seine linken Kinder können oder dürfen nicht größer als max. sein. Also verwerfen wir den rechten Teilbaum und geben die Referenz auf den bereits gültigen linken Teilbaum zurück. Der Code ist leichter zu verstehen:"
   ]
  },
  {
   "cell_type": "code",
   "execution_count": 1,
   "metadata": {},
   "outputs": [],
   "source": [
    "def trimBST(tree, minVal, maxVal): \n",
    "    \n",
    "    if not tree: \n",
    "        return \n",
    "    \n",
    "    tree.left=trimBST(tree.left, minVal, maxVal) \n",
    "    tree.right=trimBST(tree.right, minVal, maxVal) \n",
    "    \n",
    "    if minVal<=tree.val<=maxVal: \n",
    "        return tree \n",
    "    \n",
    "    if tree.val<minVal: \n",
    "        return tree.right \n",
    "    \n",
    "    if tree.val>maxVal: \n",
    "        return tree.left "
   ]
  },
  {
   "cell_type": "markdown",
   "metadata": {},
   "source": [
    "Die Komplexität dieses Algorithmus ist O(N), wobei N die Anzahl der Knoten im Baum ist. Weil wir im Grunde genommen eine Post-Order Traversierung des Baumes durchführen und jeden einzelnen Knoten besuchen. Dies ist optimal, da wir jeden Knoten mindestens einmal besuchen sollten. Dies ist eine sehr elegante Frage, die die Wirksamkeit der Rekursion in Bäumen zeigt. "
   ]
  },
  {
   "cell_type": "markdown",
   "metadata": {},
   "source": [
    "# Gut Gemacht!"
   ]
  }
 ],
 "metadata": {
  "kernelspec": {
   "display_name": "Python 3",
   "language": "python",
   "name": "python3"
  },
  "language_info": {
   "codemirror_mode": {
    "name": "ipython",
    "version": 3
   },
   "file_extension": ".py",
   "mimetype": "text/x-python",
   "name": "python",
   "nbconvert_exporter": "python",
   "pygments_lexer": "ipython3",
   "version": "3.7.0"
  }
 },
 "nbformat": 4,
 "nbformat_minor": 2
}
