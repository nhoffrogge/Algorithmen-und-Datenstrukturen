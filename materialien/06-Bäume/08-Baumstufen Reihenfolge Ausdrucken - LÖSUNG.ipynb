{
 "cells": [
  {
   "cell_type": "markdown",
   "metadata": {},
   "source": [
    "<a href=\"http://datamics.com/de/courses/\"><img src=../DATA/bg_datamics_top.png></a>\n",
    "\n",
    "<em text-align:center>© Datamics</em>\n",
    "# Baumebenen in Reihenfolge Ausdrucken (Tree Level Order Print)\n",
    "\n",
    "Wenn du einen binären Baum von ganzen Zahlen hast, kannst du ihn in Ebenenreihenfolge (level order) drucken. Die Ausgabe enthält Leerzeichen zwischen den Zahlen der gleichen Stufe und eine neue Zeile zwischen den verschiedenen Stufen. Zum Beispiel, wenn der Baum so aussieht:  \n",
    "___\n",
    "![title](tree_print.png)\n",
    "___\n",
    "sollte die Ausgabe so sein: \n",
    "\n",
    "    1 \n",
    "    2 3 \n",
    "    4 5 6"
   ]
  },
  {
   "cell_type": "markdown",
   "metadata": {},
   "source": [
    "## Lösung\n",
    "\n",
    "Es ist nicht praktisch, dieses Problem mit Rekursion zu lösen, denn Rekursion ist ähnlich wie die Tiefensuche (depth first search), aber was wir hier brauchen, ist die Breitensuche (breadth first search). Also werden wir eine Warteschlange (queue) verwenden, wie wir es zuvor bei der Breitensuche getan haben. Zuerst werden wir den Wurzelknoten(root node) in die Warteschlange schieben. Dann beginnen wir eine while-Schleife, in der die Bedingung nicht leer ist. Dann wird bei jeder Iteration ein Knoten vom Anfang der Warteschlange aus geöffnet und seine Kinder an das Ende der Warteschlange geschoben. Sobald wir einen Knoten öffnen, geben wir seinen Wert und ein Leerzeichen aus.\n",
    "\n",
    "Um die neue Zeile an der richtigen Stelle auszugeben, sollten wir die Anzahl der Knoten auf jeder Ebene zählen. Wir werden 2 Zählungen haben, nämlich die aktuelle und die nächste Zählstufe. Die Anzahl der aktuellen Ebenen gibt an, wie viele Knoten auf dieser Ebene gedruckt werden sollen, bevor eine neue Zeile gedruckt wird. Wir dekrementieren den Wert jedes Mal, wenn wir ein Element aus der Warteschlange herausnehmen und ausgeben. Sobald der aktuelle Füllstandszähler Null erreicht hat, geben wir eine neue Zeile aus. nextCount enthält die Anzahl der Knoten in der nächsten Stufe, die nach der Ausgabe einer neuen Zeile zur aktuellen Stufenzahl wird. Wir zählen die Anzahl der Knoten in der nächsten Ebene, indem wir die Anzahl der Kinder der Knoten in der aktuelle Ebene zählen. Das Verständnis des Codes ist einfacher als seine Erklärung:"
   ]
  },
  {
   "cell_type": "code",
   "execution_count": 1,
   "metadata": {},
   "outputs": [],
   "source": [
    "class Node:\n",
    "    def __init__(self, val=None):\n",
    "        self.left = None\n",
    "        self.right = None\n",
    "        self.val =  val "
   ]
  },
  {
   "cell_type": "code",
   "execution_count": 2,
   "metadata": {},
   "outputs": [],
   "source": [
    "def levelOrderPrint(tree):    \n",
    "    if not tree:\n",
    "        return\n",
    "    nodes=collections.deque([tree])\n",
    "    currentCount, nextCount = 1, 0\n",
    "    while len(nodes)!=0:\n",
    "        currentNode=nodes.popleft()\n",
    "        currentCount-=1\n",
    "        print (currentNode.val, end = ' ')\n",
    "        if currentNode.left:\n",
    "            nodes.append(currentNode.left)\n",
    "            nextCount+=1\n",
    "        if currentNode.right:\n",
    "            nodes.append(currentNode.right)\n",
    "            nextCount+=1\n",
    "        if currentCount==0:\n",
    "            #fertiger Ausdruck des aktuellen Levels/ Stufe\n",
    "            print ('\\n')\n",
    "            currentCount, nextCount = nextCount, currentCount"
   ]
  },
  {
   "cell_type": "markdown",
   "metadata": {},
   "source": [
    "Die zeitliche Komplexität(time complexity) dieser Lösung ist O(N), das ist die Anzahl der Knoten im Baum, also ist sie optimal, weil wir jeden Knoten mindestens einmal besuchen sollten. Die Raumkomplexität(space complexity) hängt von der maximalen Größe der Warteschlange an jedem Punkt ab, was die größte Anzahl von Knoten auf einer Ebene ist. Der schlimmste Fall tritt ein, wenn der Baum ein vollständiger binärer Baum ist, was bedeutet, dass jede Ebene vollständig mit der maximal möglichen Anzahl von Knoten gefüllt ist. In diesem Fall erscheint die größte Anzahl von Knoten auf der letzten Ebene, d.h. (N+1)/2, wobei N die Gesamtzahl der Knoten ist. Die Raumkomplexität ist also auch O(N). Was auch bei der Verwendung einer Warteschlange optimal ist. \n",
    "\n",
    "Nochmals, dies ist eine sehr häufige Bauminterview-Frage!"
   ]
  },
  {
   "cell_type": "markdown",
   "metadata": {},
   "source": [
    "## Gut gemacht!"
   ]
  }
 ],
 "metadata": {
  "kernelspec": {
   "display_name": "Python 3",
   "language": "python",
   "name": "python3"
  },
  "language_info": {
   "codemirror_mode": {
    "name": "ipython",
    "version": 3
   },
   "file_extension": ".py",
   "mimetype": "text/x-python",
   "name": "python",
   "nbconvert_exporter": "python",
   "pygments_lexer": "ipython3",
   "version": "3.7.0"
  }
 },
 "nbformat": 4,
 "nbformat_minor": 2
}
