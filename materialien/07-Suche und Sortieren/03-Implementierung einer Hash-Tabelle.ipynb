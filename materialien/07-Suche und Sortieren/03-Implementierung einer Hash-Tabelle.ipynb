{
 "cells": [
  {
   "cell_type": "markdown",
   "metadata": {},
   "source": [
    "<a href=\"http://datamics.com/de/courses/\"><img src=../DATA/bg_datamics_top.png></a>\n",
    "\n",
    "<em text-align:center>© Datamics</em>\n",
    "# Implementierung einer Hash-Tabelle (Hash Table)\n",
    "\n",
    "In dieser Lektion werden wir unsere eigene Hash-Tabelle implementieren, um unser Verständnis von Hash-Tabellen und Hash-Funktionen zu vervollständigen! Achte bitte darauf, dass du den Videovortrag davor schon angesehen hast, um diese Implementierung vollständig zu verstehen!\n",
    "\n",
    "Da Python bereits ein eingebautes Dictionary-Objekt hat, das als Hash-Tabelle dient, musst du nie wirklich deine eigene Hash-Tabelle in Python implementieren.\n",
    "\n",
    "___\n",
    "## Map\n",
    "Die Idee eines Dictionary, das als Hash-Tabelle verwendet wird, um Elemente mit Hilfe von **Schlüsseln (keys)** zu erhalten und abzurufen, wird oft als Mapping bezeichnet. In unserer Implementierung werden wir die folgenden Methoden haben:\n",
    "\n",
    "\n",
    "* **HashTable()** Erstellt eine neue, leere Map. Die Funktion gibt eine leere Map-Collection zurück.\n",
    "* **put(key,val)** Fügt ein neues Schlüssel-Wert-Paar (key-value pair) zur Map hinzu. Wenn sich der Schlüssel bereits in der Map befindet, dann wird der alte Wert durch den neuen Wert ersetzt.\n",
    "* **get(key)** Bei einem Schlüssel wird der in der Map gespeicherte Wert zurückgegeben oder andernfalls *None*.\n",
    "* **del** Löscht das Schlüssel-Wert-Paar(key value pair) aus der Map mit einer Anweisung in der Form del map[key].\n",
    "* **len()** Gibt die Anzahl der gespeicherten Schlüssel-Werte-Paare(key value pairs) zurück \n",
    "* **in** Gibt true für eine Aussage der Form **keys in map** zurück, wenn sich der angegebene Schlüssel in der Map befindet, sonst false."
   ]
  },
  {
   "cell_type": "code",
   "execution_count": 1,
   "metadata": {},
   "outputs": [],
   "source": [
    "class HashTable(object):\n",
    "    \n",
    "    def __init__(self,size):\n",
    "        \n",
    "        # Einrichten der Größe(size),Plätze(slots) und Daten(data)\n",
    "        self.size = size\n",
    "        self.slots = [None] * self.size\n",
    "        self.data = [None] * self.size\n",
    " \n",
    "    def hashfunction(self,key,size):\n",
    "        # Division-Rest Methode\n",
    "        return key%size\n",
    "\n",
    "    def rehash(self,oldhash,size):\n",
    "        # Für das Finden der nächstmöglichen Positionen\n",
    "        return (oldhash+1)%size\n",
    "    \n",
    "    def put(self,key,data):\n",
    "        #Hinweis: Wir verwenden nur Integer-Schlüssel \n",
    "        #für die einfache Verwendung mit der Hash-Funktion.\n",
    "        \n",
    "        # Liefert den Hash-Wert\n",
    "        hashvalue = self.hashfunction(key,len(self.slots))\n",
    "\n",
    "        # Wenn der Platz leer ist \n",
    "        if self.slots[hashvalue] == None:\n",
    "            self.slots[hashvalue] = key\n",
    "            self.data[hashvalue] = data\n",
    "        \n",
    "        else:\n",
    "            # Wenn der Schlüssel bereits existiert, ersetze den alten Wert.\n",
    "            if self.slots[hashvalue] == key:\n",
    "                self.data[hashvalue] = data \n",
    "                \n",
    "            # Andernfalls finden den nächsten verfügbaren Platz.\n",
    "            else:\n",
    "                \n",
    "                nextslot = self.rehash(hashvalue,len(self.slots))\n",
    "                \n",
    "                # Zum nächsten Platz gelangen\n",
    "                while self.slots[nextslot] != None and self.slots[nextslot] != key:\n",
    "                    nextslot = self.rehash(nextslot,len(self.slots))\n",
    "                \n",
    "                # Neuen Schlüssel setzen, wenn NONE\n",
    "                if self.slots[nextslot] == None:\n",
    "                    self.slots[nextslot]=key\n",
    "                    self.data[nextslot]=data\n",
    "                    \n",
    "                # Andernfalls wird der alte Wert ersetzt.\n",
    "                else:\n",
    "                    self.data[nextslot] = data \n",
    "\n",
    "    \n",
    "    \n",
    "    def get(self,key):\n",
    "        \n",
    "        # Erhalten von Elementen mit einem Schlüssel\n",
    "        \n",
    "        # Einrichten von Variablen für unsere Suche\n",
    "        startslot = self.hashfunction(key,len(self.slots))\n",
    "        data = None\n",
    "        stop = False\n",
    "        found = False\n",
    "        position = startslot\n",
    "        \n",
    "        # Bis wir erkennen, dass es nicht leer oder auffindbar ist \n",
    "        #(sowie noch nicht beendet ist).\n",
    "        while self.slots[position] != None and not found and not stop:\n",
    "            \n",
    "            if self.slots[position] == key:\n",
    "                found = True\n",
    "                data = self.data[position]\n",
    "                \n",
    "            else:\n",
    "                position=self.rehash(position,len(self.slots))\n",
    "                if position == startslot:\n",
    "                    \n",
    "                    stop = True\n",
    "        return data\n",
    "\n",
    "    # Spezielle Methoden zur Verwendung mit der Python-Indizierung\n",
    "    def __getitem__(self,key):\n",
    "        return self.get(key)\n",
    "\n",
    "    def __setitem__(self,key,data):\n",
    "        self.put(key,data)"
   ]
  },
  {
   "cell_type": "markdown",
   "metadata": {},
   "source": [
    "Lasst es uns in Aktion sehen!"
   ]
  },
  {
   "cell_type": "code",
   "execution_count": 2,
   "metadata": {},
   "outputs": [],
   "source": [
    "h = HashTable(5)"
   ]
  },
  {
   "cell_type": "code",
   "execution_count": 3,
   "metadata": {},
   "outputs": [],
   "source": [
    "# Den ersten Schlüssel einfügen.\n",
    "h[1] = 'one'"
   ]
  },
  {
   "cell_type": "code",
   "execution_count": 4,
   "metadata": {},
   "outputs": [],
   "source": [
    "h[2] = 'two'"
   ]
  },
  {
   "cell_type": "code",
   "execution_count": 5,
   "metadata": {},
   "outputs": [],
   "source": [
    "h[3] = 'three'"
   ]
  },
  {
   "cell_type": "code",
   "execution_count": 6,
   "metadata": {},
   "outputs": [
    {
     "data": {
      "text/plain": [
       "'one'"
      ]
     },
     "execution_count": 6,
     "metadata": {},
     "output_type": "execute_result"
    }
   ],
   "source": [
    "h[1]"
   ]
  },
  {
   "cell_type": "code",
   "execution_count": 7,
   "metadata": {},
   "outputs": [],
   "source": [
    "h[1] = 'new_one'"
   ]
  },
  {
   "cell_type": "code",
   "execution_count": 8,
   "metadata": {},
   "outputs": [
    {
     "data": {
      "text/plain": [
       "'new_one'"
      ]
     },
     "execution_count": 8,
     "metadata": {},
     "output_type": "execute_result"
    }
   ],
   "source": [
    "h[1]"
   ]
  },
  {
   "cell_type": "code",
   "execution_count": 9,
   "metadata": {},
   "outputs": [
    {
     "name": "stdout",
     "output_type": "stream",
     "text": [
      "None\n"
     ]
    }
   ],
   "source": [
    "print (h[4])"
   ]
  },
  {
   "cell_type": "markdown",
   "metadata": {},
   "source": [
    "### Tolle Arbeit!\n",
    "\n",
    "Das wäre es mit dieser rudimentären Implementierung, probiere doch mal die Implementierung einer anderen Hash-Funktion für die Praxis!"
   ]
  }
 ],
 "metadata": {
  "kernelspec": {
   "display_name": "Python 3",
   "language": "python",
   "name": "python3"
  },
  "language_info": {
   "codemirror_mode": {
    "name": "ipython",
    "version": 3
   },
   "file_extension": ".py",
   "mimetype": "text/x-python",
   "name": "python",
   "nbconvert_exporter": "python",
   "pygments_lexer": "ipython3",
   "version": "3.7.0"
  }
 },
 "nbformat": 4,
 "nbformat_minor": 2
}
