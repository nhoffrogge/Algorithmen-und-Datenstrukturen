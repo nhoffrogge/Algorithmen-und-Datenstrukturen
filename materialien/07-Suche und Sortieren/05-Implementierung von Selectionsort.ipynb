{
 "cells": [
  {
   "cell_type": "markdown",
   "metadata": {},
   "source": [
    "<a href=\"http://datamics.com/de/courses/\"><img src=../DATA/bg_datamics_top.png></a>\n",
    "\n",
    "<em text-align:center>© Datamics</em>\n",
    "# Implementierung von Selectionsort\n",
    "\n",
    "Der Selectionsort verbessert den Bubblesort, da nur ein Tausch für jeden Durchlauf durch die Liste erfolgt. Zu diesem Zweck sucht ein Selectionsort nach dem größten Wert, während er einen Durchlauf macht, und platziert ihn nach Abschluss des Durchlaufs an der richtigen Stelle. Wie bei einem Bubblesort befindet sich nach dem ersten Durchlauf die größte Position an der richtigen Stelle. Nach dem zweiten Durchgang ist der nächstgrößere an Ort und Stelle. Dieser Prozess wird fortgesetzt und erfordert n-1 Durchgänge, um n Elemente zu sortieren, da das letzte Element nach dem (n-1)-ten Durchgang an seinem Platz sein muss."
   ]
  },
  {
   "cell_type": "markdown",
   "metadata": {},
   "source": [
    "# Quellen zur Überprüfung\n",
    "\n",
    "Schaue dir bitte die folgenden Quellen an, um einen Überblick über Selectionsort zu erhalten!\n",
    "\n",
    "* [Wikipedia](https://de.wikipedia.org/wiki/Selectionsort)\n",
    "* [Visual Algo](http://visualgo.net/sorting.html)\n",
    "* [Animation](http://cs.armstrong.edu/liang/animation/web/SelectionSort.html)\n",
    "* [Sorting Algorithms Animcation with Pseudocode](http://www.sorting-algorithms.com/selection-sort)"
   ]
  },
  {
   "cell_type": "code",
   "execution_count": 1,
   "metadata": {},
   "outputs": [],
   "source": [
    "def selection_sort(arr):\n",
    "    \n",
    "    # Für jedes Feld im Array\n",
    "    for fillslot in range(len(arr)-1,0,-1):\n",
    "        positionOfMax=0\n",
    "        \n",
    "        # Für jeden Set von 0 bis zu fillslot+1\n",
    "        for location in range(1,fillslot+1):\n",
    "            # Setze die Position des Maximums\n",
    "            if arr[location]>arr[positionOfMax]:\n",
    "                positionOfMax = location\n",
    "\n",
    "        temp = arr[fillslot]\n",
    "        arr[fillslot] = arr[positionOfMax]\n",
    "        arr[positionOfMax] = temp"
   ]
  },
  {
   "cell_type": "code",
   "execution_count": 2,
   "metadata": {},
   "outputs": [
    {
     "data": {
      "text/plain": [
       "[2, 3, 5, 6, 7, 8, 12, 21, 40]"
      ]
     },
     "execution_count": 2,
     "metadata": {},
     "output_type": "execute_result"
    }
   ],
   "source": [
    "arr = [3,5,2,7,6,8,12,40,21]\n",
    "selection_sort(arr)\n",
    "arr"
   ]
  },
  {
   "cell_type": "markdown",
   "metadata": {},
   "source": [
    "# Gut gemacht!"
   ]
  }
 ],
 "metadata": {
  "kernelspec": {
   "display_name": "Python 3",
   "language": "python",
   "name": "python3"
  },
  "language_info": {
   "codemirror_mode": {
    "name": "ipython",
    "version": 3
   },
   "file_extension": ".py",
   "mimetype": "text/x-python",
   "name": "python",
   "nbconvert_exporter": "python",
   "pygments_lexer": "ipython3",
   "version": "3.7.0"
  }
 },
 "nbformat": 4,
 "nbformat_minor": 2
}
