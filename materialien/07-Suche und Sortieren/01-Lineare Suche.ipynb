{
 "cells": [
  {
   "cell_type": "markdown",
   "metadata": {},
   "source": [
    "<a href=\"http://datamics.com/de/courses/\"><img src=../DATA/bg_datamics_top.png></a>\n",
    "\n",
    "<em text-align:center>© Datamics</em>\n",
    "# Lineare Suche (Sequential Search)\n",
    "\n",
    "Schau dir die Videolektion für eine vollständige Analyse an, in diesem Notebook ist nur die Implementierung der **'Linearen Suche'** in einer ungeordneten Liste und in einer geordneten Liste."
   ]
  },
  {
   "cell_type": "markdown",
   "metadata": {},
   "source": [
    "____\n",
    "## Lineare Suche (Sequential Search)"
   ]
  },
  {
   "cell_type": "code",
   "execution_count": 4,
   "metadata": {},
   "outputs": [],
   "source": [
    "def seq_search(arr,ele):\n",
    "    \"\"\"\n",
    "    Allgemeine lineare Suche. Funktioniert auf ungeordneten Listen.\n",
    "    \"\"\"\n",
    "    \n",
    "    # Start an Position 0\n",
    "    pos = 0\n",
    "    # Zielwert wird wahr, wenn ele in der Liste ist.\n",
    "    found = False\n",
    "    \n",
    "    # bis zum Ende der Liste gehen\n",
    "    while pos < len(arr) and not found:\n",
    "        \n",
    "        # Wenn übereinstimmend\n",
    "        if arr[pos] == ele:\n",
    "            found = True\n",
    "            \n",
    "        # Andernfalls bewegen wir uns um eine Position weiter.\n",
    "        else:\n",
    "            pos  = pos+1\n",
    "    \n",
    "    return found"
   ]
  },
  {
   "cell_type": "code",
   "execution_count": 5,
   "metadata": {},
   "outputs": [],
   "source": [
    "arr = [1,9,2,8,3,4,7,5,6]"
   ]
  },
  {
   "cell_type": "code",
   "execution_count": 6,
   "metadata": {},
   "outputs": [
    {
     "name": "stdout",
     "output_type": "stream",
     "text": [
      "(True, 0)\n"
     ]
    }
   ],
   "source": [
    "print (seq_search(arr,1))"
   ]
  },
  {
   "cell_type": "code",
   "execution_count": 7,
   "metadata": {},
   "outputs": [
    {
     "name": "stdout",
     "output_type": "stream",
     "text": [
      "(False, 9)\n"
     ]
    }
   ],
   "source": [
    "print (seq_search(arr,10))"
   ]
  },
  {
   "cell_type": "markdown",
   "metadata": {},
   "source": [
    "## Geordnete Liste\n",
    "\n",
    "Wenn wir wissen, dass die Liste geordnet ist, müssen wir nur so lange prüfen, bis wir das Element oder ein höherwertiges Element gefunden haben."
   ]
  },
  {
   "cell_type": "code",
   "execution_count": 8,
   "metadata": {},
   "outputs": [],
   "source": [
    "def ordered_seq_search(arr,ele):\n",
    "    \"\"\"\n",
    "    Lineare Suche in einer geordneten Liste\n",
    "    \"\"\"\n",
    "    # Start an Position 0\n",
    "    pos = 0\n",
    "    \n",
    "    # Zielwert wird wahr, wenn ele in der Liste ist.\n",
    "    found = False\n",
    "    \n",
    "    # Stopp-Markierung\n",
    "    stopped = False\n",
    "    \n",
    "    # bis zum Ende der Liste gehen\n",
    "    while pos < len(arr) and not found and not stopped:\n",
    "        \n",
    "        # Wenn übereinstimmend\n",
    "        if arr[pos] == ele:\n",
    "            found = True\n",
    "            \n",
    "        else:\n",
    "            \n",
    "            # Prüft, ob das Element größer ist.\n",
    "            if arr[pos] > ele:\n",
    "                stopped = True\n",
    "                \n",
    "            # Andernfalls weitermachen\n",
    "            else:\n",
    "                pos  = pos+1\n",
    "    \n",
    "    return found"
   ]
  },
  {
   "cell_type": "code",
   "execution_count": 9,
   "metadata": {},
   "outputs": [],
   "source": [
    "arr.sort() "
   ]
  },
  {
   "cell_type": "code",
   "execution_count": 10,
   "metadata": {},
   "outputs": [
    {
     "data": {
      "text/plain": [
       "True"
      ]
     },
     "execution_count": 10,
     "metadata": {},
     "output_type": "execute_result"
    }
   ],
   "source": [
    "ordered_seq_search(arr,3)"
   ]
  },
  {
   "cell_type": "code",
   "execution_count": 8,
   "metadata": {},
   "outputs": [
    {
     "data": {
      "text/plain": [
       "False"
      ]
     },
     "execution_count": 8,
     "metadata": {},
     "output_type": "execute_result"
    }
   ],
   "source": [
    "ordered_seq_search(arr,1.5)"
   ]
  },
  {
   "cell_type": "markdown",
   "metadata": {},
   "source": [
    "# Gut gemacht!"
   ]
  }
 ],
 "metadata": {
  "kernelspec": {
   "display_name": "Python 3",
   "language": "python",
   "name": "python3"
  },
  "language_info": {
   "codemirror_mode": {
    "name": "ipython",
    "version": 3
   },
   "file_extension": ".py",
   "mimetype": "text/x-python",
   "name": "python",
   "nbconvert_exporter": "python",
   "pygments_lexer": "ipython3",
   "version": "3.7.0"
  }
 },
 "nbformat": 4,
 "nbformat_minor": 2
}
