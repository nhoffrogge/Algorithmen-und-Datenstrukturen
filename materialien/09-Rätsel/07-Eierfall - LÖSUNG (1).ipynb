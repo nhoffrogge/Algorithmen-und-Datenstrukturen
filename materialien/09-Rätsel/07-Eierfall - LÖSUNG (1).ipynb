{
 "cells": [
  {
   "cell_type": "markdown",
   "metadata": {},
   "source": [
    "<a href=\"http://datamics.com/de/courses/\"><img src=../DATA/bg_datamics_top.png></a>\n",
    "\n",
    "<em text-align:center>©  Datamics</em>\n",
    "# Eierfall - LÖSUNG \n",
    "Dies ist wahrscheinlich das häufigste Knobelrätsel aus der Gruppe, also versuche wirklich, algorithmisch über dieses Problem nachzudenken, bevor du dir die Lösung ansiehst!\n",
    "\n",
    "## Problemstellung\n",
    "\n",
    "Ein Turm hat 100 Stockwerke. Du hast zwei Eier bekommen. Die Eier sind so robust, dass sie von einem bestimmten Stockwerk im Turm fallen gelassen werden können, ohne zu zerbrechen. Du wurdest beauftragt, den höchsten Stock zu finden, aus dem ein Ei fallen gelassen werden kann, ohne zu zerbrechen, und zwar mit so wenigen Würfen wie möglich. Wenn ein Ei überhalb des Zielstock fallen gelassen wird, zerbricht es. Wenn es von diesem Stockwerk oder darunter fallen gelassen wird, ist es intakt und du kannst das Ei erneut auf einem anderen Stockwerk fallen lassen.\n",
    "\n",
    "Zeige algorithmisch, wie du dies mit so wenig Abwürfen wie möglich erreichen kannst. (Deine Antwort sollte die Mindestanzahl der Abwürfe sein, die benötigt werden, um 2 Eier auf 100 Stockwerken zu testen.)\n",
    "\n",
    "## Lösung\n",
    "\n",
    "Fang im 10. Stock an und steigere die Stockwerke in Vielfachen von 10.\n",
    "Wenn das erste Ei kaputt geht, sagen wir im 20. Stock, dann kannst du alle Stockwerke zwischen dem 11. und 19. mit dem zweiten Ei überprüfen, um zu sehen, auf welchem Stockwerk es nicht zerbricht.\n",
    "\n",
    "Die Worst-Case Anzahl der Abwürfe beträgt in diesem Fall 19. Wenn die Schwelle 99. Stock wäre, dann müsste man das erste Ei 10 mal und das zweite Ei 9 mal linear fallen lassen.\n",
    "\n",
    "**Beste Lösung:**\n",
    "Wir müssen die Worst-Case-Anzahl von Abwürfe minimieren. Dazu müssen wir das Problem verallgemeinern, um n Stockwerke zu haben. Was wäre der Stufenwert für das erste Ei? Wären es immer noch zehn? Angenommen, wir haben 200 Stockwerke. Wäre der Schrittwert noch 10? \n",
    "\n",
    "Der Punkt, der hier zu beachten ist, ist, dass wir versuchen, die Worst-Case-Anzahl der Abwürfe zu minimieren, die auftritt, wenn sich die Schwelle in den höchsten Stockwerken befindet. Unsere Schritte sollten also von einem Wert sein, der die Anzahl der Würfe des ersten Eis reduziert.\n",
    "\n",
    "Nehmen wir an, wir machen zunächst einen Schrittwert m. Wenn jeder nachfolgende Schritt m-1 ist,\n",
    "dann\n",
    "$$m+m-1+m-2+......+1=n$$\n",
    "\n",
    "Das ist \n",
    "\n",
    "$$\\frac{m∗(m+1)}{2}=n$$\n",
    "\n",
    "Wenn n =100, dann wäre m=13,65, wobei wir eigentlich 14 verwenden, da wir nicht von einer Dezimalstelle eines Stockwerks fallen lassen können.\n",
    "\n",
    "Also, das Worst-Case-Szenario ist jetzt, wenn sich die Schwelle in den ersten 14 Stockwerken befindet, wobei die Anzahl der Würfe 14 beträgt.\n",
    "\n",
    "Beachte bitte, dass es sich hierbei lediglich um eine binäre Suche handelt!\n"
   ]
  },
  {
   "cell_type": "markdown",
   "metadata": {},
   "source": [
    "___\n",
    "Du kannst viele andere Erklärungen finden, indem du einfach googelst: \"2 eggs 100 floors\""
   ]
  }
 ],
 "metadata": {
  "kernelspec": {
   "display_name": "Python 3",
   "language": "python",
   "name": "python3"
  },
  "language_info": {
   "codemirror_mode": {
    "name": "ipython",
    "version": 3
   },
   "file_extension": ".py",
   "mimetype": "text/x-python",
   "name": "python",
   "nbconvert_exporter": "python",
   "pygments_lexer": "ipython3",
   "version": "3.7.0"
  }
 },
 "nbformat": 4,
 "nbformat_minor": 2
}
