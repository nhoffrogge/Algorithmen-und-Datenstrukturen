{
 "cells": [
  {
   "cell_type": "markdown",
   "metadata": {},
   "source": [
    "<a href=\"http://datamics.com/de/courses/\"><img src=../DATA/bg_datamics_top.png></a>\n",
    "\n",
    "<em text-align:center>©  Datamics</em>\n",
    "# Lichtschalter \n",
    "## Problemstellung\n",
    "\n",
    "Du befindest dich in einem Flur neben drei Lichtschaltern, die alle ausgeschaltet sind. Jeder Schalter aktiviert eine andere *weißglühende Glühlampe* im Raum am Ende der Halle. Man kann die Lichter von dem Ort aus, an dem sich die Schalter befinden, nicht sehen. Deine Aufgabe ist es, festzustellen, welches Licht jedem Schalter entspricht. Du darfst jedoch nur einmal in den Raum mit den Lichtern gehen.\n",
    "\n",
    "**Hinweis: Dies ist eine \"Fangfrage\", also verbringe nicht zu viel Zeit damit. Obwohl es hier mehr um die \"lustige\" Seite der Knobelaufgaben geht.**"
   ]
  }
 ],
 "metadata": {
  "kernelspec": {
   "display_name": "Python 3",
   "language": "python",
   "name": "python3"
  },
  "language_info": {
   "codemirror_mode": {
    "name": "ipython",
    "version": 3
   },
   "file_extension": ".py",
   "mimetype": "text/x-python",
   "name": "python",
   "nbconvert_exporter": "python",
   "pygments_lexer": "ipython3",
   "version": "3.7.0"
  }
 },
 "nbformat": 4,
 "nbformat_minor": 2
}
