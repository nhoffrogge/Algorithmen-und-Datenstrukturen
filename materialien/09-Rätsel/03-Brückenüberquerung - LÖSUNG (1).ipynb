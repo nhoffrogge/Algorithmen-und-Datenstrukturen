{
 "cells": [
  {
   "cell_type": "markdown",
   "metadata": {},
   "source": [
    "<a href=\"http://datamics.com/de/courses/\"><img src=../DATA/bg_datamics_top.png></a>\n",
    "\n",
    "<em text-align:center>© Datamics</em>\n",
    "# Brückenüberquerung - LÖSUNG "
   ]
  },
  {
   "cell_type": "markdown",
   "metadata": {},
   "source": [
    "## Problemstellung\n",
    "\n",
    "Eine Gruppe von vier Reisenden kommt nachts auf eine Brücke. Die Brücke kann das Gewicht von höchstens zwei der Reisenden auf einmal tragen und kann ohne Taschenlampe nicht überquert werden. \n",
    "\n",
    "Die Reisenden haben eine Taschenlampe dabei. Jeder Reisende geht mit einer anderen Geschwindigkeit: Der erste kann die Brücke in 1 Minute überqueren, der zweite in 2 Minuten, der dritte in 5 Minuten und der vierte in 10 Minuten. Wenn zwei Reisende zusammen gehen, gehen sie mit der Geschwindigkeit des langsameren Reisenden.\n",
    "\n",
    "Was ist die schnellste Zeit, in der alle Reisenden von einer Seite der Brücke zur anderen gelangen können?\n",
    "\n",
    "\n",
    "\n",
    "## Lösung\n",
    "\n",
    "Dies gehört zu den sogenannten [River Crossing](https://en.wikipedia.org/wiki/River_crossing_puzzle) Rätseln. Es ist bekannt als das [Brücken- und Fackelproblem](https://en.wikipedia.org/wiki/Bridge_and_torch_problem) (manchmal sind die Zeiten, die jeder Person zugeordnet sind, unterschiedlich).\n",
    "\n",
    "Die Lösung für diese Version ist:\n",
    "<table class=\"p4table width50\">\n",
    "<tr><th>Bewegung</th><th><th>Zeit</th>\n",
    "</tr>\n",
    "<tr><td>(1) &amp; (2) Überqueren mit Taschenlampe</td><td><td>2</td>\n",
    "</tr>\n",
    "<tr><td>(1) Rückgabe mit Taschenlampe</td><td><td>1</td>\n",
    "</tr>\n",
    "<tr><td>(5) &amp; (10) Überqueren mit Taschenlampe</td><td><td>10</td>\n",
    "</tr>\n",
    "<tr><td>(2) Rückgabe mit Taschenlampe</td><td><td>2</td>\n",
    "</tr>\n",
    "<tr><td>(1) &amp; (2) Überqueren mit Taschenlampe</td><td><td>2</td>\n",
    "</tr>\n",
    "<tr><td>&nbsp;</td><th><th>17</th></tr></tr>\n",
    "</table>"
   ]
  },
  {
   "cell_type": "code",
   "execution_count": null,
   "metadata": {},
   "outputs": [],
   "source": []
  }
 ],
 "metadata": {
  "kernelspec": {
   "display_name": "Python 3",
   "language": "python",
   "name": "python3"
  },
  "language_info": {
   "codemirror_mode": {
    "name": "ipython",
    "version": 3
   },
   "file_extension": ".py",
   "mimetype": "text/x-python",
   "name": "python",
   "nbconvert_exporter": "python",
   "pygments_lexer": "ipython3",
   "version": "3.7.0"
  }
 },
 "nbformat": 4,
 "nbformat_minor": 1
}
