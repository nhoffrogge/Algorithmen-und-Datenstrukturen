{
 "cells": [
  {
   "cell_type": "markdown",
   "metadata": {},
   "source": [
    "<a href=\"http://datamics.com/de/courses/\"><img src=../DATA/bg_datamics_top.png></a>\n",
    "\n",
    "<em text-align:center>©  Datamics</em>\n",
    "# Lichtschalter - LÖSUNG\n",
    "## Problemstellung\n",
    "\n",
    "Du befindest dich in einem Flur neben drei Lichtschaltern, die alle ausgeschaltet sind. Jeder Schalter aktiviert eine andere *weißglühende Glühlampe* im Raum am Ende der Halle. Man kann die Lichter von dem Ort aus, an dem sich die Schalter befinden, nicht sehen. Deine Aufgabe ist es, festzustellen, welches Licht jedem Schalter entspricht. Du darfst jedoch nur einmal in den Raum mit den Lichtern gehen.\n",
    "\n",
    "**Hinweis: Dies ist eine \"Fangfrage\", also verbringe nicht zu viel Zeit damit. Obwohl es mehr um die \"spaßige\" Seite der Knobelaufgaben geht.**\n",
    "\n",
    "## Lösung\n",
    "\n",
    "Dies ist eine kleine Fangfrage und hoffentlich wird dir diese Art von Frage in einem Interview nicht gestellt, da sie weder mathematisch noch logisch begründet ist. Die Lösung besteht darin, zu erkennen, dass man eine *Glühbirne* für eine Weile an lassen kann, bis sie sich erwärmt. \n",
    "\n",
    "Die Lösung ist also, den Schalter 1 einzuschalten und 15 Minuten zu warten, bis die entsprechende Lampe heiß ist. Dann schaltest du den Schalter 2 ein und gehst dann in den Raum. Dann weißt du folgendes:\n",
    "\n",
    "* Die Glühbirne, die heiß ist, entspricht dem Schalter 1.\n",
    "* Die eingeschaltete Lampe entspricht dem Schalter 2.\n",
    "* Die ausgeschaltete Glühbirne entspricht dem Schalter 3.\n"
   ]
  }
 ],
 "metadata": {
  "kernelspec": {
   "display_name": "Python 3",
   "language": "python",
   "name": "python3"
  },
  "language_info": {
   "codemirror_mode": {
    "name": "ipython",
    "version": 3
   },
   "file_extension": ".py",
   "mimetype": "text/x-python",
   "name": "python",
   "nbconvert_exporter": "python",
   "pygments_lexer": "ipython3",
   "version": "3.7.0"
  }
 },
 "nbformat": 4,
 "nbformat_minor": 2
}
