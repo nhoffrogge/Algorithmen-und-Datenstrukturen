{
 "cells": [
  {
   "cell_type": "markdown",
   "metadata": {},
   "source": [
    "<a href=\"http://datamics.com/de/courses/\"><img src=../DATA/bg_datamics_top.png></a>\n",
    "\n",
    "<em text-align:center>©  Datamics</em>\n",
    "# Flurschränke - LÖSUNG\n",
    "## Problemstellung\n",
    "\n",
    "Du befindest dich in einem Flur, der von 100 Schließfächern gesäumt wird. Du beginnst mit einem Durchgang und öffnest alle Schließfächer, sodass die *geöffneten* Schließfächer nun offene Türen haben. Du fängst damit an, **jedes zweite** Schließfach zu schließen. Dann änderst du **jedes dritte Schließfach** und zwar **schließt du das Schließfach, wenn es geöffnet ist, oder öffnest es, wenn es geschlossen ist** - wir bezeichnen dies als \" Umschalten (Toggeln) \" der Schließfächer. Du fährst so fort mit jedem n-ten Schließfach im n-ten Durchlauf. Nach deinem hundertsten Durchgang des Flurs, in dem du nur Schließfach Nr. 100 umschaltest, wie viele Schließfächer sind offen?\n",
    "\n",
    "## Lösung\n",
    "\n",
    "Natürlich kann man nicht einfach rohe Gewalt anwenden und dieses Problem ausrechnen, es gibt einfach zu viele Durchgänge, deshalb müssen wir das algorithmisch lösen.\n",
    "\n",
    "Beginnen wir mit der Lösung dieses Problems, indem wir ein beliebiges Schließfach wählen und prüfen, ob wir ein Muster erkennen können. Wählen wir Schrank 12, er wurde bei deinem ersten Durchgang geöffnet.\n",
    "\n",
    "Zunächst einmal wissen wir, dass wir es bei keinem Durchgang größer als 12 toggeln müssen. Daher müssen wir jetzt nur noch die Veränderungen berücksichtigen, die zwischen den Durchgängen 2 und 11 stattfinden. Wir können diese tatsächlich auszählen:\n",
    "\n",
    "* Bei Durchgang **2**: 2,4,6,8,10,12\n",
    "* Bei Durchgang **3**: 3,6,9,12\n",
    "* Bei Durchgang **4**: 4,8,12\n",
    "* Bei Durchgang **5**: 5,10 *Kein Toggeln bei diesem Durchlauf*\n",
    "* Bei Durchgang **6**: 6,12\n",
    "* Bei Durchgang **7**: 7,14 *Kein Toggeln bei diesem Durchlauf*\n",
    "* etc..... \n",
    "\n",
    "Du wirst das Muster bemerken, das entsteht, wir schalten den Schrank nur um, wenn die Nummer des Durchgangs ein Teiler der Schließfachnummer ist. Wir können dies so vereinfachen, dass alle Schließfächer nach dem ersten Durchgang geöffnet wurden und zwischen offen und geschlossen wechseln. So werden Schließfächer nach dem zweiten, vierten, sechsten und so weiter geschlossen, wenn sie getoggelt werden - mit anderen Worten, wenn ein Schließfach eine gerade Anzahl von Malen getoggelt wird, dann endet es mit geschlossen Tür; andernfalls endet es mit einer offen Tür. Du weißt, dass ein Schließfach einmal für jeden Teiler der Schließfachnummer getoggelt wird, also kannst du sagen, dass ein Schließfach nur dann offen endet, wenn es eine ungerade Anzahl von Teilern hat.\n",
    "\n",
    "**Wir haben die Aufgabe nun darauf reduziert, herauszufinden, wie viele Zahlen zwischen 1 und 100 eine ungerade Anzahl von Teilern haben!**\n",
    "____\n",
    "\n",
    "Wir können darüber wie folgt nachdenken:\n",
    "\n",
    "Wenn eine Zahl **i** ein Teiler von **n** ist, was bedeutet das? Es bedeutet, dass **i** mal eine andere Zahl **j** gleich n ist. Da die Multiplikation kommutativ ist (i × j = j × i), bedeutet das, dass j auch ein Teiler von n ist, so dass die Anzahl der Teiler normalerweise gerade ist, weil Teiler meistens paarweise kommen. Wenn du die Zahlen findest, die ungepaarte Teiler haben, weißt du, welche Schließfächer geöffnet sind. Multiplikation ist eine binäre Operation, also werden immer zwei Zahlen beteiligt sein, aber was ist, wenn diese beiden Zahlen gleich sind (d.h. i = j)? In diesem Fall würde eine einzige Zahl effektiv beide Hälften des Paares bilden, und es gäbe eine ungerade Anzahl von Teilen. In diesem Fall ist i × i = n. Daher muss n eine Quadratzahl sein. Versuche es mit einer Quadratzahl, um diese Lösung zu überprüfen. Zum Beispiel hat 16 die Teiler 1, 2, 4, 8, 16; die Operationen sind offen, geschlossen, geöffnet, geschlossen, geschlossen, geöffnet - wie erwartet, endet es offen.\n",
    "\n",
    "Basierend auf dieser Argumentation kannst du feststellen, dass nur Schließfächer mit Zahlen, die Quadratzahlen sind, geöffnet werden. Die Quadratzahlen zwischen 1 und 100 (einschließlich) sind 1, 4, 9, 16, 25, 36, 49, 64, 81 und 100. So bleiben 10 Schließfächer offen.\n"
   ]
  }
 ],
 "metadata": {
  "kernelspec": {
   "display_name": "Python 3",
   "language": "python",
   "name": "python3"
  },
  "language_info": {
   "codemirror_mode": {
    "name": "ipython",
    "version": 3
   },
   "file_extension": ".py",
   "mimetype": "text/x-python",
   "name": "python",
   "nbconvert_exporter": "python",
   "pygments_lexer": "ipython3",
   "version": "3.7.0"
  }
 },
 "nbformat": 4,
 "nbformat_minor": 2
}
