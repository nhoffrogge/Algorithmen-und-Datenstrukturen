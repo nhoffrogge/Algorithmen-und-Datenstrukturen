{
 "cells": [
  {
   "cell_type": "markdown",
   "metadata": {},
   "source": [
    "<a href=\"http://datamics.com/de/courses/\"><img src=../DATA/bg_datamics_top.png></a>\n",
    "\n",
    "<em text-align:center>© Datamics</em>\n",
    "# Münzen und eine Waage - LÖSUNG\n",
    "## Problemstellung\n",
    "\n",
    "Du hast acht Münzen und eine Waage mit zwei Waagschalen. Alle Münzen wiegen gleich viel, **bis auf eine**, die schwerer ist als alle anderen. Die Münzen sind ansonsten nicht unterscheidbar. Du darfst keine Annahmen darüber treffen, wie viel schwerer die schwere Münze ist. Was ist die Mindestanzahl von Wiegevorgängen, um die schwere Münze sicher zu identifizieren?\n",
    "\n",
    "## Lösung\n",
    "\n",
    "Beginne damit, die Münzen in drei Gruppen aufzuteilen: zwei Dreierguppen, die du auf die Waage legst, und eine Zweiergruppe, die du weglässt. Wenn die beiden Seiten das gleiche Gewicht haben, ist die schwere Münze eine der beiden, die du nicht gewogen hast, und du kannst sie mit einem weiteren Wiegen finden, also mit insgesamt zwei Wiegevorgängen. Andererseits, wenn eine der beiden Waagschalen schwerer ist, muss die schwere Münze in dieser Dreiergruppe sein. Du kannst alle anderen Münzen eliminieren und je eine Münze aus dieser Gruppe auf jeder der beiden Waagschalen platzieren, wobei die dritte Münze beiseite bleibt. Wenn eine Seite schwerer ist, enthält sie die schwere Münze; wenn beide Seiten gleich schwer sind, ist die schwere Münze diejenige, die du nicht auf die Waage gelegt hast. Dies sind auch insgesamt zwei Wiegevorgänge, so dass man die schwere Münze in einer Achtergruppe immer mit zweimaligem Wiegen finden kann."
   ]
  }
 ],
 "metadata": {
  "kernelspec": {
   "display_name": "Python 3",
   "language": "python",
   "name": "python3"
  },
  "language_info": {
   "codemirror_mode": {
    "name": "ipython",
    "version": 3
   },
   "file_extension": ".py",
   "mimetype": "text/x-python",
   "name": "python",
   "nbconvert_exporter": "python",
   "pygments_lexer": "ipython3",
   "version": "3.7.0"
  }
 },
 "nbformat": 4,
 "nbformat_minor": 1
}
