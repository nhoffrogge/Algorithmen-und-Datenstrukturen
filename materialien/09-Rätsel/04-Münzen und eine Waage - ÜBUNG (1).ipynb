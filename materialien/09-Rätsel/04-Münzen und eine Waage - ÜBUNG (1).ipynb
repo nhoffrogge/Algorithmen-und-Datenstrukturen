{
 "cells": [
  {
   "cell_type": "markdown",
   "metadata": {},
   "source": [
    "<a href=\"http://datamics.com/de/courses/\"><img src=../DATA/bg_datamics_top.png></a>\n",
    "\n",
    "<em text-align:center>© Datamics</em>\n",
    "# Münzen und eine Waage\n",
    "## Problemstellung\n",
    "\n",
    "Du hast acht Münzen und eine Waage mit zwei Waagschalen. Alle Münzen wiegen gleich viel, **bis auf eine**, die schwerer ist als alle anderen. Die Münzen sind ansonsten nicht unterscheidbar. Du darfst keine Annahmen darüber treffen, wie viel schwerer die schwere Münze ist. Was ist die Mindestanzahl von Wiegevorgängen, um die schwere Münze sicher zu identifizieren?"
   ]
  }
 ],
 "metadata": {
  "kernelspec": {
   "display_name": "Python 3",
   "language": "python",
   "name": "python3"
  },
  "language_info": {
   "codemirror_mode": {
    "name": "ipython",
    "version": 3
   },
   "file_extension": ".py",
   "mimetype": "text/x-python",
   "name": "python",
   "nbconvert_exporter": "python",
   "pygments_lexer": "ipython3",
   "version": "3.7.0"
  }
 },
 "nbformat": 4,
 "nbformat_minor": 1
}
