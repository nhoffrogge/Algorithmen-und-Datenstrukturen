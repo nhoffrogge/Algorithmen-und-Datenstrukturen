{
 "cells": [
  {
   "cell_type": "markdown",
   "metadata": {},
   "source": [
    "<a href=\"http://datamics.com/de/courses/\"><img src=../DATA/bg_datamics_top.png></a>\n",
    "\n",
    "<em text-align:center>©  Datamics</em>\n",
    "# Seile brennen \n",
    "## Problemstellung\n",
    "\n",
    "Du hast zwei Seile. Die Brenndauer beträgt jeweils genau 60 Minuten.\n",
    "\n",
    "Die Seile sind aus unterschiedlichem Material gefertigt und obwohl sie die gleiche Brenndauer haben, brennen sie mit unterschiedlichen Geschwindigkeiten. Darüber hinaus brennt jedes Seil ungleichmäßig ab.\n",
    "\n",
    "Wie misst man genau 45 Minuten?\n"
   ]
  }
 ],
 "metadata": {
  "kernelspec": {
   "display_name": "Python 3",
   "language": "python",
   "name": "python3"
  },
  "language_info": {
   "codemirror_mode": {
    "name": "ipython",
    "version": 3
   },
   "file_extension": ".py",
   "mimetype": "text/x-python",
   "name": "python",
   "nbconvert_exporter": "python",
   "pygments_lexer": "ipython3",
   "version": "3.7.0"
  }
 },
 "nbformat": 4,
 "nbformat_minor": 2
}
