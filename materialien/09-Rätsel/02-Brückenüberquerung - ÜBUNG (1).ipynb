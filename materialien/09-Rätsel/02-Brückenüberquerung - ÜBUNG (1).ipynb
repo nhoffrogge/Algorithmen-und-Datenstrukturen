{
 "cells": [
  {
   "cell_type": "markdown",
   "metadata": {},
   "source": [
    "<a href=\"http://datamics.com/de/courses/\"><img src=../DATA/bg_datamics_top.png></a>\n",
    "\n",
    "<em text-align:center>© Datamics</em>\n",
    "# Brückenüberquerung "
   ]
  },
  {
   "cell_type": "markdown",
   "metadata": {},
   "source": [
    "## Problemstellung\n",
    "\n",
    "Eine Gruppe von vier Reisenden kommt nachts auf eine Brücke. Die Brücke kann das Gewicht von höchstens zwei der Reisenden auf einmal tragen und kann ohne Taschenlampe nicht überquert werden. \n",
    "\n",
    "Die Reisenden haben eine Taschenlampe dabei. Jeder Reisende geht mit einer anderen Geschwindigkeit: Der erste kann die Brücke in 1 Minute überqueren, der zweite in 2 Minuten, der dritte in 5 Minuten und der vierte in 10 Minuten. Wenn zwei Reisende zusammen gehen, gehen sie mit der Geschwindigkeit des langsameren Reisenden.\n",
    "\n"
   ]
  }
 ],
 "metadata": {
  "kernelspec": {
   "display_name": "Python 3",
   "language": "python",
   "name": "python3"
  },
  "language_info": {
   "codemirror_mode": {
    "name": "ipython",
    "version": 3
   },
   "file_extension": ".py",
   "mimetype": "text/x-python",
   "name": "python",
   "nbconvert_exporter": "python",
   "pygments_lexer": "ipython3",
   "version": "3.7.0"
  }
 },
 "nbformat": 4,
 "nbformat_minor": 1
}
