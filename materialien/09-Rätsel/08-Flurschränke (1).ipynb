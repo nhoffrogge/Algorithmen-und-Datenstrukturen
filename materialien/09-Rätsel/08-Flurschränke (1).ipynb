{
 "cells": [
  {
   "cell_type": "markdown",
   "metadata": {},
   "source": [
    "<a href=\"http://datamics.com/de/courses/\"><img src=../DATA/bg_datamics_top.png></a>\n",
    "\n",
    "<em text-align:center>©  Datamics</em>\n",
    "# Flurschränke\n",
    "## Problemstellung\n",
    "\n",
    "Du befindest dich in einem Flur, der von 100 Schließfächern gesäumt wird. Du beginnst mit einem Durchgang und öffnest alle Schließfächer, sodass die *geöffneten* Schließfächer nun offene Türen haben. Du fängst damit an, **jedes zweite** Schließfach zu schließen. Dann änderst du **jedes dritte Schließfach** und zwar **schließt du das Schließfach, wenn es geöffnet ist, oder öffnest es, wenn es geschlossen ist** - wir bezeichnen dies als \" Umschalten (Toggeln) \" der Schließfächer. Du fährst so fort mit jedem n-ten Schließfach im n-ten Durchlauf. Nach deinem hundertsten Durchgang des Flurs, in dem du nur Schließfach Nr. 100 umschaltest, wie viele Schließfächer sind offen?"
   ]
  }
 ],
 "metadata": {
  "kernelspec": {
   "display_name": "Python 3",
   "language": "python",
   "name": "python3"
  },
  "language_info": {
   "codemirror_mode": {
    "name": "ipython",
    "version": 3
   },
   "file_extension": ".py",
   "mimetype": "text/x-python",
   "name": "python",
   "nbconvert_exporter": "python",
   "pygments_lexer": "ipython3",
   "version": "3.7.0"
  }
 },
 "nbformat": 4,
 "nbformat_minor": 2
}
