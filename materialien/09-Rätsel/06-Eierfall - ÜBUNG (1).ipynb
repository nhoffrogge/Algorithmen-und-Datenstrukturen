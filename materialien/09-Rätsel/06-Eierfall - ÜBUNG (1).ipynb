{
 "cells": [
  {
   "cell_type": "markdown",
   "metadata": {},
   "source": [
    "<a href=\"http://datamics.com/de/courses/\"><img src=../DATA/bg_datamics_top.png></a>\n",
    "\n",
    "<em text-align:center>© Datamics</em>\n",
    "# Eierfall \n",
    "Dies ist wahrscheinlich das häufigste Knobelrätsel aus der Gruppe, also versuche wirklich, algorithmisch über dieses Problem nachzudenken, bevor du dir die Lösung ansiehst!\n",
    "\n",
    "## Problemstellung\n",
    "\n",
    "Ein Turm hat 100 Stockwerke. Du hast zwei Eier bekommen. Die Eier sind so robust, dass sie von einem bestimmten Stockwerk im Turm fallen gelassen werden können, ohne zu zerbrechen. Du wurdest beauftragt, den höchsten Stock zu finden, aus dem ein Ei fallen gelassen werden kann, ohne zu zerbrechen, und zwar mit so wenigen Würfen wie möglich. Wenn ein Ei überhalb des Zielstock fallen gelassen wird, zerbricht es. Wenn es von diesem Stockwerk oder darunter fallen gelassen wird, ist es intakt und du kannst das Ei erneut auf einem anderen Stockwerk fallen lassen.\n",
    "\n",
    "Zeige algorithmisch, wie du dies mit so wenig Abwürfen wie möglich erreichen kannst. (Deine Antwort sollte die Mindestanzahl der Abwürfe sein, die benötigt werden, um 2 Eier auf 100 Stockwerken zu testen.)"
   ]
  }
 ],
 "metadata": {
  "kernelspec": {
   "display_name": "Python 3",
   "language": "python",
   "name": "python3"
  },
  "language_info": {
   "codemirror_mode": {
    "name": "ipython",
    "version": 3
   },
   "file_extension": ".py",
   "mimetype": "text/x-python",
   "name": "python",
   "nbconvert_exporter": "python",
   "pygments_lexer": "ipython3",
   "version": "3.7.0"
  }
 },
 "nbformat": 4,
 "nbformat_minor": 1
}
