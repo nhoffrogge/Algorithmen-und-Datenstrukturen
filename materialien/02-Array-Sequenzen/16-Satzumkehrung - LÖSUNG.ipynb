{
 "cells": [
  {
   "cell_type": "markdown",
   "metadata": {},
   "source": [
    "<a href=\"http://datamics.com/de/courses/\"><img src=../DATA/bg_datamics_top.png></a>\n",
    "\n",
    "<em text-align:center>© Datamics</em>\n",
    "# Satzumkehrung\n",
    "\n",
    "## Problem\n",
    "\n",
    "Bei einer Reihe von Wörtern solltest du alle Wörter umdrehen. Zum Beispiel:\n",
    "\n",
    "Gegeben:\n",
    "    \n",
    "    \"Das ist das Beste\".\n",
    "\n",
    "Umkehren:\n",
    "\n",
    "    \" Beste das ist Das\".\n",
    "\n",
    "Als Teil dieser Übung solltest du alle führenden und nachfolgenden Leerzeichen entfernen. So dass Eingaben wie:\n",
    "\n",
    "    '     Raum hier', 'Raum hier      ' und ' Raum hier '.\n",
    "\n",
    "werden alle zu:\n",
    "\n",
    "    \" hier Raum\".\n",
    "\n",
    "## Lösung\n",
    "\n",
    "Wir sollten die Stärken von Python nutzen und das Problem mit der Verwendung von **split()** und etwas Slicing oder mit der Funktion **reversed** lösen:"
   ]
  },
  {
   "cell_type": "code",
   "execution_count": 8,
   "metadata": {},
   "outputs": [],
   "source": [
    "def rev_word1(s):\n",
    "    return \" \".join(reversed(s.split()))\n",
    "\n",
    "#Or\n",
    "\n",
    "def rev_word2(s):\n",
    "    return \" \".join(s.split()[::-1])"
   ]
  },
  {
   "cell_type": "code",
   "execution_count": 9,
   "metadata": {},
   "outputs": [
    {
     "data": {
      "text/plain": [
       "'go? to ready you are John, Hi'"
      ]
     },
     "execution_count": 9,
     "metadata": {},
     "output_type": "execute_result"
    }
   ],
   "source": [
    "rev_word1('Hi John,   are you ready to go?')"
   ]
  },
  {
   "cell_type": "code",
   "execution_count": 10,
   "metadata": {},
   "outputs": [
    {
     "data": {
      "text/plain": [
       "'go? to ready you are John, Hi'"
      ]
     },
     "execution_count": 10,
     "metadata": {},
     "output_type": "execute_result"
    }
   ],
   "source": [
    "rev_word2('Hi John,   are you ready to go?')"
   ]
  },
  {
   "cell_type": "markdown",
   "metadata": {},
   "source": [
    "Während dies gültige Lösungen sind, musst du in einem Interview den grundlegenden Algorithmus herausfinden, mit dem gearbeitet wird. \n",
    "In diesem Fall wollen wir den Text durchlaufen und die Wörter selbst aus der Zeichenkette extrahieren. \n",
    "Danach können wir die Wörter zu einem \" Stack \" schieben und am Ende alle umdrehen. \n",
    "\n",
    "Lass uns sehen, wie das hier tatsächlich aussieht:"
   ]
  },
  {
   "cell_type": "code",
   "execution_count": 11,
   "metadata": {},
   "outputs": [],
   "source": [
    "def rev_word3(s):\n",
    "    \"\"\"\n",
    "    Manuell die Splits auf den Flächen vornehmen.\n",
    "    \"\"\"\n",
    "    \n",
    "    words = []\n",
    "    length = len(s)\n",
    "    spaces = [' ']\n",
    "    \n",
    "    # Index-Tracker\n",
    "    i = 0\n",
    "    \n",
    "    # Während der Index kleiner als die Länge der Zeichenkette ist.\n",
    "    while i < length:\n",
    "        \n",
    "        # Wenn das Element kein Leerzeichen ist.\n",
    "        if s[i] not in spaces:\n",
    "            \n",
    "            # Das Wort beginnt bei diesem Index.\n",
    "            word_start = i\n",
    "            \n",
    "            while i < length and s[i] not in spaces:\n",
    "                \n",
    "                # Index holen, wo das Wort endet\n",
    "                i += 1\n",
    "            # Dieses Wort an die Liste anhängen\n",
    "            words.append(s[word_start:i])\n",
    "        # Zum Index hinzufügen\n",
    "        i += 1\n",
    "        \n",
    "    # Join the reversed words\n",
    "    return \" \".join(reversed(words))"
   ]
  },
  {
   "cell_type": "code",
   "execution_count": 12,
   "metadata": {},
   "outputs": [
    {
     "data": {
      "text/plain": [
       "'you are how John Hello'"
      ]
     },
     "execution_count": 12,
     "metadata": {},
     "output_type": "execute_result"
    }
   ],
   "source": [
    "rev_word3('   Hello John    how are you   ')"
   ]
  },
  {
   "cell_type": "code",
   "execution_count": 13,
   "metadata": {},
   "outputs": [
    {
     "data": {
      "text/plain": [
       "'before space'"
      ]
     },
     "execution_count": 13,
     "metadata": {},
     "output_type": "execute_result"
    }
   ],
   "source": [
    "rev_word3('    space before')"
   ]
  },
  {
   "cell_type": "markdown",
   "metadata": {},
   "source": [
    "Wenn du willst, kannst du diese Lösung so weiter entwickeln, dass sie vollständig manuell ist, du kannst dir deine eigene Umkehrfunktion erstellen."
   ]
  },
  {
   "cell_type": "markdown",
   "metadata": {},
   "source": [
    "# Test Your Solution"
   ]
  },
  {
   "cell_type": "code",
   "execution_count": 14,
   "metadata": {},
   "outputs": [
    {
     "name": "stdout",
     "output_type": "stream",
     "text": [
      "ALLE TESTFÄLLE BESTANDEN\n",
      "ALLE TESTFÄLLE BESTANDEN\n",
      "ALLE TESTFÄLLE BESTANDEN\n"
     ]
    }
   ],
   "source": [
    "\"\"\"\n",
    "BITTE, FÜHRE DIESE ZELLE AUS, UM DEINE LÖSUNG ZU TESTEN.\n",
    "\"\"\"\n",
    "\n",
    "from nose.tools import assert_equal\n",
    "\n",
    "class ReversalTest(object):\n",
    "    \n",
    "    def test(self,sol):\n",
    "        assert_equal(sol('    space before'),'before space')\n",
    "        assert_equal(sol('space after     '),'after space')\n",
    "        assert_equal(sol('   Hello John    how are you   '),'you are how John Hello')\n",
    "        assert_equal(sol('1'),'1')\n",
    "        print ('ALLE TESTFÄLLE BESTANDEN')\n",
    "        \n",
    "# Tests durchführen\n",
    "t = ReversalTest()\n",
    "t.test(rev_word1)\n",
    "t.test(rev_word2)\n",
    "t.test(rev_word3)"
   ]
  },
  {
   "cell_type": "markdown",
   "metadata": {},
   "source": [
    "## Gut gemacht!"
   ]
  }
 ],
 "metadata": {
  "kernelspec": {
   "display_name": "Python 3",
   "language": "python",
   "name": "python3"
  },
  "language_info": {
   "codemirror_mode": {
    "name": "ipython",
    "version": 3
   },
   "file_extension": ".py",
   "mimetype": "text/x-python",
   "name": "python",
   "nbconvert_exporter": "python",
   "pygments_lexer": "ipython3",
   "version": "3.7.0"
  }
 },
 "nbformat": 4,
 "nbformat_minor": 1
}
