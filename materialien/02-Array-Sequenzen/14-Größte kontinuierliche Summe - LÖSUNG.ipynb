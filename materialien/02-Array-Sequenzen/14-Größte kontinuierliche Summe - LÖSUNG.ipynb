{
 "cells": [
  {
   "cell_type": "markdown",
   "metadata": {},
   "source": [
    "<a href=\"http://datamics.com/de/courses/\"><img src=../DATA/bg_datamics_top.png></a>\n",
    "\n",
    "<em text-align:center>© Datamics</em>\n",
    "# Größte kontinuierliche Summe\n",
    "\n",
    "## Problem\n",
    "Bei einer Reihe von ganzen Zahlen (positiv und negativ) finde die größte kontinuierliche Summe. \n",
    "\n",
    "## Lösung\n",
    "\n",
    "Wenn das Array durchweg positiv ist, dann ist das Ergebnis einfach die Summe aller Zahlen. Die negativen Zahlen im Array veranlassen uns, mit der Überprüfung der Sequenzen zu beginnen.  \n",
    "\n",
    "Der Algorithmus ist, dass wir anfangen, die Zahlen zu summieren und in einer aktuellen Summenvariablen speichern. Nach dem Hinzufügen jedes Elements prüfen wir, ob die aktuelle Summe größer ist als die bisher erreichte maximale Summe. Wenn ja, aktualisieren wir die maximale Summe. Solange die aktuelle Summe positiv ist, addieren wir die Zahlen weiter. Wenn die aktuelle Summe negativ wird, beginnen wir mit einer neuen aktuellen Summe. Denn eine negative Summe verringert nur die Summe einer zukünftigen Sequenz. Beachte bitte, dass wir die aktuelle Summe nicht auf 0 zurücksetzen, da das Array alle negativen Ganzzahlen enthalten kann. Dann wäre das Ergebnis die größte negative Zahl. \n",
    "\n",
    "Schauen wir uns den Code an:"
   ]
  },
  {
   "cell_type": "code",
   "execution_count": 2,
   "metadata": {},
   "outputs": [],
   "source": [
    "def large_cont_sum(arr): \n",
    "    \n",
    "    # Überprüfe, ob das Array die Länge 0 hat.\n",
    "    if len(arr)==0: \n",
    "        return 0\n",
    "    \n",
    "    # Start der maximalen und aktuellen Summe am ersten Element\n",
    "    max_sum=current_sum=arr[0] \n",
    "    \n",
    "    # Für jedes Element im Array\n",
    "    for num in arr[1:]: \n",
    "        \n",
    "        # Setzt die aktuelle Summe als den höheren der beiden Werte.\n",
    "        current_sum=max(current_sum+num, num)\n",
    "        \n",
    "        # Stelle max als den höheren Wert \n",
    "        # zwischen der aktuellen Summe und dem aktuellen Wert ein.\n",
    "        max_sum=max(current_sum, max_sum) \n",
    "        \n",
    "    return max_sum "
   ]
  },
  {
   "cell_type": "code",
   "execution_count": 3,
   "metadata": {},
   "outputs": [
    {
     "data": {
      "text/plain": [
       "29"
      ]
     },
     "execution_count": 3,
     "metadata": {},
     "output_type": "execute_result"
    }
   ],
   "source": [
    "large_cont_sum([1,2,-1,3,4,10,10,-10,-1])"
   ]
  },
  {
   "cell_type": "markdown",
   "metadata": {},
   "source": [
    "____\n",
    "Häufig verlangt die Frage in einem Interview, dass du auch den Start- und Endpunkt der Summe zurückmeldest. Denke daran und schaue, ob du dieses Problem lösen kannst, wir werden es in dem Abschnitt \" Probe-Interview \" des Kurses wiederfinden!"
   ]
  },
  {
   "cell_type": "markdown",
   "metadata": {},
   "source": [
    "# Test Your Solution"
   ]
  },
  {
   "cell_type": "code",
   "execution_count": 4,
   "metadata": {},
   "outputs": [
    {
     "name": "stdout",
     "output_type": "stream",
     "text": [
      "ALLE TESTFÄLLE BESTANDEN\n"
     ]
    }
   ],
   "source": [
    "from nose.tools import assert_equal\n",
    "\n",
    "class LargeContTest(object):\n",
    "    def test(self,sol):\n",
    "        assert_equal(sol([1,2,-1,3,4,-1]),9)\n",
    "        assert_equal(sol([1,2,-1,3,4,10,10,-10,-1]),29)\n",
    "        assert_equal(sol([-1,1]),1)\n",
    "        print ('ALLE TESTFÄLLE BESTANDEN')\n",
    "        \n",
    "#Tests durchführen\n",
    "t = LargeContTest()\n",
    "t.test(large_cont_sum)"
   ]
  },
  {
   "cell_type": "markdown",
   "metadata": {},
   "source": [
    "## Gut gemacht!"
   ]
  }
 ],
 "metadata": {
  "kernelspec": {
   "display_name": "Python 3",
   "language": "python",
   "name": "python3"
  },
  "language_info": {
   "codemirror_mode": {
    "name": "ipython",
    "version": 3
   },
   "file_extension": ".py",
   "mimetype": "text/x-python",
   "name": "python",
   "nbconvert_exporter": "python",
   "pygments_lexer": "ipython3",
   "version": "3.7.0"
  }
 },
 "nbformat": 4,
 "nbformat_minor": 1
}
