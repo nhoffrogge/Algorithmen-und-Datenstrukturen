{
 "cells": [
  {
   "cell_type": "markdown",
   "metadata": {},
   "source": [
    "<a href=\"http://datamics.com/de/courses/\"><img src=../DATA/bg_datamics_top.png></a>\n",
    "\n",
    "<em text-align:center>© Datamics</em>\n",
    "# String-Kompression\n",
    "\n",
    "## Problem\n",
    "\n",
    "Du hast einen String in der Form 'AAAABBBBBCCCCCDDEEEE', komprimiere diese zu 'A4B4C5D2E4'. Bei diesem Problem kannst du Strings von Einzel- oder Doppelbuchstaben fälschlicherweise \"komprimieren\". So ist es beispielsweise für'AAB' in Ordnung,'A2B1' zurückzugeben, obwohl dies technisch gesehen mehr Platz benötigt. \n",
    "\n",
    "Die Funktion sollte auch Groß-/Kleinschreibung berücksichtigen, so dass eine Zeichenkette 'AAAaaa' den Wert 'A3a3' zurückgibt."
   ]
  },
  {
   "cell_type": "markdown",
   "metadata": {},
   "source": [
    "## Lösung\n",
    "Da Python-Strings unveränderlich sind, müssen wir eine Liste von Zeichen abarbeiten und am Ende diese Liste wieder in einen String mit einer **join**-Anweisung umwandeln.\n",
    "\n",
    "Die folgende Lösung sollte uns eine Zeit- und Raumkomplexität von O(n) liefern. Werfen wir sorgfältig einen Blick auf die erklärenden Kommentare:"
   ]
  },
  {
   "cell_type": "code",
   "execution_count": 1,
   "metadata": {},
   "outputs": [],
   "source": [
    "def compress(s):\n",
    "    \"\"\"\n",
    "    Diese Lösung komprimiert ohne Prüfung. Bekannt als Lauflängenkodierung \n",
    "    (rle /RunLength Compression Algorithmus).\n",
    "    https://www.wikiwand.com/de/Laufl%C3%A4ngenkodierung\n",
    "    \"\"\"\n",
    "    \n",
    "    # Beginn als leerer String\n",
    "    r = \"\"\n",
    "    l = len(s)\n",
    "    \n",
    "    # Prüfen ob der Übergebene String leer ist\n",
    "    if l == 0:\n",
    "        return \"\"\n",
    "    \n",
    "    #  Prüfen ob der Übergebene String die Länge 1 hat\n",
    "    if l == 1:\n",
    "        return s + \"1\"\n",
    "    \n",
    "    #Werte intialisieren\n",
    "    last = s[0]\n",
    "    cnt = 1\n",
    "    i = 1\n",
    "    \n",
    "    while i < l:\n",
    "        \n",
    "        # Überprüfe, ob es sich um den gleichen Buchstaben handelt.\n",
    "        if s[i] == s[i - 1]: \n",
    "            # Füge einen Zähler hinzu, wenn er mit dem bisherigen übereinstimmt.\n",
    "            cnt += 1\n",
    "        else:\n",
    "            # Andernfalls werden die bisherigen Daten gespeichert.\n",
    "            r = r + s[i - 1] + str(cnt)\n",
    "            cnt = 1\n",
    "            \n",
    "        # Hinzufügen zur Indexanzahl, um die while-Schleife zu beenden.\n",
    "        i += 1\n",
    "    \n",
    "    # Bringe alles wieder zum Laufen.\n",
    "    r = r + s[i - 1] + str(cnt)\n",
    "    \n",
    "    return r"
   ]
  },
  {
   "cell_type": "code",
   "execution_count": 2,
   "metadata": {},
   "outputs": [
    {
     "data": {
      "text/plain": [
       "'A5B4C4'"
      ]
     },
     "execution_count": 2,
     "metadata": {},
     "output_type": "execute_result"
    }
   ],
   "source": [
    "compress('AAAAABBBBCCCC')"
   ]
  },
  {
   "cell_type": "markdown",
   "metadata": {},
   "source": [
    "# Teste deine Lösung"
   ]
  },
  {
   "cell_type": "code",
   "execution_count": 3,
   "metadata": {},
   "outputs": [
    {
     "name": "stdout",
     "output_type": "stream",
     "text": [
      "ALLE TESTFÄLLE BESTANDEN\n"
     ]
    }
   ],
   "source": [
    "\"\"\"\n",
    "FÜHREN DIESE ZELLE AUS, UM DEINE LÖSUNG ZU TESTEN.\n",
    "\"\"\"\n",
    "from nose.tools import assert_equal\n",
    "\n",
    "class TestCompress(object):\n",
    "\n",
    "    def test(self, sol):\n",
    "        assert_equal(sol(''), '')\n",
    "        assert_equal(sol('AABBCC'), 'A2B2C2')\n",
    "        assert_equal(sol('AAABCCDDDDD'), 'A3B1C2D5')\n",
    "        print ('ALLE TESTFÄLLE BESTANDEN')\n",
    "\n",
    "# Tests durchführen\n",
    "t = TestCompress()\n",
    "t.test(compress)"
   ]
  },
  {
   "cell_type": "markdown",
   "metadata": {},
   "source": [
    "## Gut gemacht!"
   ]
  }
 ],
 "metadata": {
  "kernelspec": {
   "display_name": "Python 3",
   "language": "python",
   "name": "python3"
  },
  "language_info": {
   "codemirror_mode": {
    "name": "ipython",
    "version": 3
   },
   "file_extension": ".py",
   "mimetype": "text/x-python",
   "name": "python",
   "nbconvert_exporter": "python",
   "pygments_lexer": "ipython3",
   "version": "3.7.0"
  }
 },
 "nbformat": 4,
 "nbformat_minor": 1
}
