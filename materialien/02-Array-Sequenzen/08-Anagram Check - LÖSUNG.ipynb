{
 "cells": [
  {
   "cell_type": "markdown",
   "metadata": {},
   "source": [
    "<a href=\"http://datamics.com/de/courses/\"><img src=../DATA/bg_datamics_top.png></a>\n",
    "\n",
    "<em text-align:center>© Datamics</em>\n",
    "# Anagramm-Check - LÖSUNG\n",
    "\n",
    "## Problem\n",
    "\n",
    "Bei zwei Strings sollte geprüft werden, ob es sich um ein Anagramm handelt. Ein Anagramm ist, wenn die beiden Zeichenketten mit genau den gleichen Buchstaben geschrieben werden können (so kannst du die Buchstaben einfach neu anordnen, um eine andere Phrase oder ein anderes Wort zu erhalten). \n",
    "\n",
    "Zum Beispiel:\n",
    "\n",
    "    \"public relations\" ist ein Anagramm aus  \"crap built on lies.\"\n",
    "    \n",
    "    \"clint eastwood\" ist ein Anagramm von\" \"old west action\"\n",
    "    \n",
    "**Hinweis: Ignoriere Leerzeichen und Großschreibung. \"d go\" ist also ein Anagramm aus \" God \" und \" Dog \" und \" o d g \". **\n",
    "\n",
    "## Lösung\n",
    "\n",
    "Es gibt zwei Möglichkeiten, über dieses Problem nachzudenken, wenn zwei Strings die gleiche Häufigkeit von Buchstaben/Elementen haben (d.h. jeder Buchstabe zeigt in beiden Strings die gleiche Anzahl von Malen an), dann sind sie Anagramme von einander. Auf einem ähnlichen Weg der Logik, wenn zwei Strings gleich sind, sobald sie sortiert sind, dann sind sie auch Anagramme von einander.\n",
    "\n",
    "Du könntest diese zweite Lösung ziemlich einfach in Python implementieren:"
   ]
  },
  {
   "cell_type": "code",
   "execution_count": 1,
   "metadata": {},
   "outputs": [],
   "source": [
    "def anagram(s1,s2):\n",
    "    \n",
    "    # Leerzeichen und Großbuchstaben entfernen\n",
    "    s1 = s1.replace(' ','').lower()\n",
    "    s2 = s2.replace(' ','').lower()\n",
    "    \n",
    "    # Liefert Booleschwert (boolean) für sortierte Übereinstimmung.\n",
    "    return sorted(s1) == sorted(s2)"
   ]
  },
  {
   "cell_type": "code",
   "execution_count": 2,
   "metadata": {},
   "outputs": [
    {
     "data": {
      "text/plain": [
       "True"
      ]
     },
     "execution_count": 2,
     "metadata": {},
     "output_type": "execute_result"
    }
   ],
   "source": [
    "anagram('dog','god')"
   ]
  },
  {
   "cell_type": "code",
   "execution_count": 3,
   "metadata": {},
   "outputs": [
    {
     "data": {
      "text/plain": [
       "True"
      ]
     },
     "execution_count": 3,
     "metadata": {},
     "output_type": "execute_result"
    }
   ],
   "source": [
    "anagram('clint eastwood','old west action')"
   ]
  },
  {
   "cell_type": "code",
   "execution_count": 4,
   "metadata": {},
   "outputs": [
    {
     "data": {
      "text/plain": [
       "False"
      ]
     },
     "execution_count": 4,
     "metadata": {},
     "output_type": "execute_result"
    }
   ],
   "source": [
    "anagram('aa','bb')"
   ]
  },
  {
   "cell_type": "markdown",
   "metadata": {},
   "source": [
    "Jetzt ist der obige Sortieransatz einfach, aber eigentlich nicht optimal und in einer Interviewumgebung wirst du wahrscheinlich gebeten, eine manuellere Lösung zu implementieren, bei der du nur die Anzahl der Buchstaben in jeder Zeichenkette zählst, um deine Fähigkeit zu testen, Hash-Tabellen zu verstehen. Lasst uns eine umfassendere Lösung mit Zähl- und Python-Dictionaries entwickeln:"
   ]
  },
  {
   "cell_type": "code",
   "execution_count": 5,
   "metadata": {},
   "outputs": [],
   "source": [
    "def anagram2(s1,s2):\n",
    "    \n",
    "    # Leerzeichen und Großbuchstaben entfernen\n",
    "    s1 = s1.replace(' ','').lower()\n",
    "    s2 = s2.replace(' ','').lower()\n",
    "    \n",
    "    # Edge Case zur Überprüfung, ob die gleiche Anzahl von Buchstaben vorhanden ist.\n",
    "    if len(s1) != len(s2):\n",
    "        return False\n",
    "    \n",
    "    # counting dictionary erstellen (Hinweis: DefaultDict aus dem Modul Collections verwenden)\n",
    "    count = {}\n",
    "    \n",
    "    \n",
    "        \n",
    "    # Dictionary für die erste Zeichenkette ausfüllen (Anzahl hinzufügen)\n",
    "    for letter in s1:\n",
    "        if letter in count:\n",
    "            count[letter] += 1\n",
    "        else:\n",
    "            count[letter] = 1\n",
    "            \n",
    "    # Dictionary für zweite Zeichenkette ausfüllen (Anzahl der Subtraktionen)\n",
    "    for letter in s2:\n",
    "        if letter in count:\n",
    "            count[letter] -= 1\n",
    "        else:\n",
    "            count[letter] = 1\n",
    "    \n",
    "    # Prüfen ob alle Zählungen 0 sind.\n",
    "    for k in count:\n",
    "        if count[k] != 0:\n",
    "            return False\n",
    "\n",
    "    # Sonst sind es Anagramme.\n",
    "    return True"
   ]
  },
  {
   "cell_type": "code",
   "execution_count": 6,
   "metadata": {},
   "outputs": [
    {
     "data": {
      "text/plain": [
       "True"
      ]
     },
     "execution_count": 6,
     "metadata": {},
     "output_type": "execute_result"
    }
   ],
   "source": [
    "anagram2('dog','god')"
   ]
  },
  {
   "cell_type": "code",
   "execution_count": 7,
   "metadata": {},
   "outputs": [
    {
     "data": {
      "text/plain": [
       "True"
      ]
     },
     "execution_count": 7,
     "metadata": {},
     "output_type": "execute_result"
    }
   ],
   "source": [
    "anagram2('clint eastwood','old west action')"
   ]
  },
  {
   "cell_type": "code",
   "execution_count": 8,
   "metadata": {},
   "outputs": [
    {
     "data": {
      "text/plain": [
       "False"
      ]
     },
     "execution_count": 8,
     "metadata": {},
     "output_type": "execute_result"
    }
   ],
   "source": [
    "anagram2('dd','aa')"
   ]
  },
  {
   "cell_type": "markdown",
   "metadata": {},
   "source": [
    "A quick note on the second solution, the use of defaultdict form the collections module would clean up this code quite a bit, and the final for loop could be built into the second for loop, but in the above implementation every step is very clear."
   ]
  },
  {
   "cell_type": "markdown",
   "metadata": {},
   "source": [
    "# Testen deine Lösung\n",
    "Führ bitte die nachfolgende Zelle aus, um deine Lösung zu testen."
   ]
  },
  {
   "cell_type": "code",
   "execution_count": 9,
   "metadata": {},
   "outputs": [
    {
     "name": "stdout",
     "output_type": "stream",
     "text": [
      "ALL TEST CASES PASSED\n"
     ]
    }
   ],
   "source": [
    "\"\"\"\n",
    "BITTE, FÜHRE DIESE ZELLE AUS, UM DEINE LÖSUNG ZU TESTEN.\n",
    "\"\"\"\n",
    "from nose.tools import assert_equal\n",
    "\n",
    "class AnagramTest(object):\n",
    "    \n",
    "    def test(self,sol):\n",
    "        assert_equal(sol('go go go','gggooo'),True)\n",
    "        assert_equal(sol('abc','cba'),True)\n",
    "        assert_equal(sol('hi man','hi     man'),True)\n",
    "        assert_equal(sol('aabbcc','aabbc'),False)\n",
    "        assert_equal(sol('123','1 2'),False)\n",
    "        print (\"ALL TEST CASES PASSED\")\n",
    "\n",
    "# Tests durchführen\n",
    "t = AnagramTest()\n",
    "t.test(anagram)"
   ]
  },
  {
   "cell_type": "code",
   "execution_count": 10,
   "metadata": {},
   "outputs": [
    {
     "name": "stdout",
     "output_type": "stream",
     "text": [
      "ALL TEST CASES PASSED\n"
     ]
    }
   ],
   "source": [
    "t.test(anagram2)"
   ]
  },
  {
   "cell_type": "markdown",
   "metadata": {},
   "source": [
    "# Gut gemacht!"
   ]
  }
 ],
 "metadata": {
  "kernelspec": {
   "display_name": "Python 3",
   "language": "python",
   "name": "python3"
  },
  "language_info": {
   "codemirror_mode": {
    "name": "ipython",
    "version": 3
   },
   "file_extension": ".py",
   "mimetype": "text/x-python",
   "name": "python",
   "nbconvert_exporter": "python",
   "pygments_lexer": "ipython3",
   "version": "3.7.0"
  }
 },
 "nbformat": 4,
 "nbformat_minor": 1
}
