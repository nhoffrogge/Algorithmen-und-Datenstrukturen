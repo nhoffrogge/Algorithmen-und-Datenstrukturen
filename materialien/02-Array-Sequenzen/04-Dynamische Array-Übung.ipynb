{
 "cells": [
  {
   "cell_type": "markdown",
   "metadata": {},
   "source": [
    "<a href=\"http://datamics.com/de/courses/\"><img src=../DATA/bg_datamics_top.png></a>\n",
    "\n",
    "<em text-align:center>© Datamics</em>\n",
    "# Dynamische Array-Übung\n",
    "____\n",
    "\n",
    "In dieser Übung werden wir unsere eigene dynamische Array-Klasse erstellen!\n",
    "\n",
    "Wir werden eine eingebaute Bibliothek namens [ctypes](https://docs.python.org/2/library/ctypes.html) verwenden. Bitte lies die Dokumentation für weitere Informationen, aber es wird hier grundsätzlich als ein Raw-Array aus dem ctypes-Modul verwendet.\n",
    "\n",
    "Wenn du dich sehr dafür interessierst, schau dir das an: [Ctypes Tutorial](http://starship.python.net/crew/theller/ctypes/tutorial.html)\n",
    "\n",
    "Außerdem...."
   ]
  },
  {
   "cell_type": "markdown",
   "metadata": {},
   "source": [
    "**Eine kurze Anmerkung zu öffentlichen(public) vs. privaten(private) Methoden, wir können einen Unterstrich _ vor dem Methodennamen verwenden, um ihn nicht öffentlich(non-public) zu halten. Zum Beispiel:***"
   ]
  },
  {
   "cell_type": "code",
   "execution_count": 6,
   "metadata": {},
   "outputs": [],
   "source": [
    "class M(object):\n",
    "    \n",
    "    def public(self):\n",
    "        print ('Use Tab to see me!')\n",
    "        \n",
    "    def _private(self):\n",
    "        print (\"You won't be able to Tab to see me!\")"
   ]
  },
  {
   "cell_type": "code",
   "execution_count": 7,
   "metadata": {},
   "outputs": [],
   "source": [
    "m = M()"
   ]
  },
  {
   "cell_type": "code",
   "execution_count": 8,
   "metadata": {},
   "outputs": [
    {
     "name": "stdout",
     "output_type": "stream",
     "text": [
      "Use Tab to see me!\n"
     ]
    }
   ],
   "source": [
    "m.public()"
   ]
  },
  {
   "cell_type": "code",
   "execution_count": 9,
   "metadata": {},
   "outputs": [
    {
     "name": "stdout",
     "output_type": "stream",
     "text": [
      "You won't be able to Tab to see me!\n"
     ]
    }
   ],
   "source": [
    "m._private()"
   ]
  },
  {
   "cell_type": "markdown",
   "metadata": {},
   "source": [
    "Schau dir PEP 8 und die Python-Dokumente an, um mehr darüber zu erfahren!\n",
    "_____\n",
    "\n",
    "### Dynamische Array-Implementierung"
   ]
  },
  {
   "cell_type": "code",
   "execution_count": 10,
   "metadata": {},
   "outputs": [],
   "source": [
    "import ctypes\n",
    "\n",
    "class DynamicArray(object):\n",
    "    '''\n",
    "    Dynamische Array-Klasse(ähnlich der Python List)\n",
    "    (DYNAMIC ARRAY CLASS (Similar to Python List))\n",
    "    '''\n",
    "    \n",
    "    def __init__(self):\n",
    "        self.n = 0 # Count actual elements (Default is 0)\n",
    "        self.capacity = 1 # Default Capacity\n",
    "        self.A = self.make_array(self.capacity)\n",
    "        \n",
    "    def __len__(self):\n",
    "        \"\"\"\n",
    "        Return number of elements sorted in array\n",
    "        \"\"\"\n",
    "        return self.n\n",
    "    \n",
    "    def __getitem__(self,k):\n",
    "        \"\"\"\n",
    "        Rückgabeelement bei Index k\n",
    "        \"\"\"\n",
    "        if not 0 <= k <self.n:\n",
    "            return IndexError('K is out of bounds!') #Prüfe, ob der k-Index in den Grenzen des Arrays liegt.\n",
    "        \n",
    "        return self.A[k] #Zurückholen aus dem Array mit dem Index k\n",
    "        \n",
    "    def append(self, ele):\n",
    "        \"\"\"\n",
    "        Element am Ende des Arrays hinzufügen\n",
    "        \"\"\"\n",
    "        if self.n == self.capacity:\n",
    "            self._resize(2*self.capacity) #Doppelte Kapazität bei zu wenig Platz\n",
    "        \n",
    "        self.A[self.n] = ele #Self.n-Index auf Element setzen\n",
    "        self.n += 1\n",
    "        \n",
    "    def _resize(self,new_cap):\n",
    "        \"\"\"\n",
    "        Ändern der Größe des internen Arrays auf die Kapazität new_cap\n",
    "        \"\"\"\n",
    "        \n",
    "        B = self.make_array(new_cap) #Neues, größeres Array\n",
    "        \n",
    "        for k in range(self.n): #Alle vorhandenen Werte referenzieren \n",
    "            B[k] = self.A[k]\n",
    "            \n",
    "        self.A = B # Rufe A das neue größere Array auf.\n",
    "        self.capacity = new_cap # Zurücksetzen der Kapazität\n",
    "        \n",
    "    def make_array(self,new_cap):\n",
    "        \"\"\"\n",
    "        Liefert ein neues Array mitneuer Cap-Kapazität (new_cap) .\n",
    "        \"\"\"\n",
    "        return (new_cap * ctypes.py_object)()"
   ]
  },
  {
   "cell_type": "code",
   "execution_count": 11,
   "metadata": {},
   "outputs": [],
   "source": [
    "# Instanziieren\n",
    "arr = DynamicArray()"
   ]
  },
  {
   "cell_type": "code",
   "execution_count": 12,
   "metadata": {},
   "outputs": [],
   "source": [
    "# Neues Element hinzufügen\n",
    "arr.append(1)"
   ]
  },
  {
   "cell_type": "code",
   "execution_count": 13,
   "metadata": {},
   "outputs": [
    {
     "data": {
      "text/plain": [
       "1"
      ]
     },
     "execution_count": 13,
     "metadata": {},
     "output_type": "execute_result"
    }
   ],
   "source": [
    "# Länge prüfen\n",
    "len(arr)"
   ]
  },
  {
   "cell_type": "code",
   "execution_count": 14,
   "metadata": {},
   "outputs": [],
   "source": [
    "# Neues Element hinzufügen\n",
    "arr.append(2)"
   ]
  },
  {
   "cell_type": "code",
   "execution_count": 15,
   "metadata": {},
   "outputs": [
    {
     "data": {
      "text/plain": [
       "2"
      ]
     },
     "execution_count": 15,
     "metadata": {},
     "output_type": "execute_result"
    }
   ],
   "source": [
    "# Länge prüfen\n",
    "len(arr)"
   ]
  },
  {
   "cell_type": "code",
   "execution_count": 16,
   "metadata": {},
   "outputs": [
    {
     "data": {
      "text/plain": [
       "1"
      ]
     },
     "execution_count": 16,
     "metadata": {},
     "output_type": "execute_result"
    }
   ],
   "source": [
    "# Index\n",
    "arr[0]"
   ]
  },
  {
   "cell_type": "code",
   "execution_count": 17,
   "metadata": {},
   "outputs": [
    {
     "data": {
      "text/plain": [
       "2"
      ]
     },
     "execution_count": 17,
     "metadata": {},
     "output_type": "execute_result"
    }
   ],
   "source": [
    "arr[1]"
   ]
  },
  {
   "cell_type": "markdown",
   "metadata": {},
   "source": [
    "Großartig, wir haben unser eigenes dynamisches Array erstellt! Probiere damit herum und sieh dir an, wie sich die Größe automatisch ändert.Versuch doch auch bitte die gleiche **sys.getsizeof()** Funktion zu verwenden, mit der wir zuvor gearbeitet haben!"
   ]
  },
  {
   "cell_type": "markdown",
   "metadata": {},
   "source": [
    "# Gut gemacht!"
   ]
  }
 ],
 "metadata": {
  "kernelspec": {
   "display_name": "Python 3 (ipykernel)",
   "language": "python",
   "name": "python3"
  },
  "language_info": {
   "codemirror_mode": {
    "name": "ipython",
    "version": 3
   },
   "file_extension": ".py",
   "mimetype": "text/x-python",
   "name": "python",
   "nbconvert_exporter": "python",
   "pygments_lexer": "ipython3",
   "version": "3.9.12"
  }
 },
 "nbformat": 4,
 "nbformat_minor": 4
}
