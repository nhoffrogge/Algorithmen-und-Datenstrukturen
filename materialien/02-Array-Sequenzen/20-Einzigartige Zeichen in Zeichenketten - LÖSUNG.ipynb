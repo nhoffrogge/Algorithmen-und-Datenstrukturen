{
 "cells": [
  {
   "cell_type": "markdown",
   "metadata": {},
   "source": [
    "<a href=\"http://datamics.com/de/courses/\"><img src=../DATA/bg_datamics_top.png></a>\n",
    "\n",
    "<em text-align:center>© Datamics</em>\n",
    "\n",
    "# Einzigartige Zeichen in Zeichenketten\n",
    "\n",
    "## Problem\n",
    "Wenn du eine Zeichenkette verwendest, überprüfe, ob die Zeichenkette nur eindeutige Zeichen enthält. Zum Beispiel hat die Zeichenkette 'abcde' alle eindeutigen Zeichen und sollte **True** zurückgeben. Die Zeichenkette 'aabcde' enthält doppelte Zeichen und sollte **False** zurückgeben."
   ]
  },
  {
   "cell_type": "markdown",
   "metadata": {},
   "source": [
    "## Lösung\n",
    "Wir zeigen zwei mögliche Lösungen, eine mit einer eingebauten Datenstruktur und einer eingebauten Funktion und eine andere mit einer eingebauten Datenstruktur, aber mit einer Nachschlagemethode(Look-Up-Methode), um zu überprüfen, ob die Zeichen eindeutig sind."
   ]
  },
  {
   "cell_type": "code",
   "execution_count": 1,
   "metadata": {},
   "outputs": [],
   "source": [
    "def uni_char(s):\n",
    "    return len(set(s)) == len(s)"
   ]
  },
  {
   "cell_type": "code",
   "execution_count": 2,
   "metadata": {},
   "outputs": [],
   "source": [
    "def uni_char2(s):\n",
    "    chars = set()\n",
    "    for let in s:\n",
    "        # Überprüfen ob das Zeichen im Set vorhanden ist\n",
    "        if let in chars:\n",
    "            return False\n",
    "        else:\n",
    "            #Zum Set hinzufügen\n",
    "            chars.add(let)\n",
    "    return True"
   ]
  },
  {
   "cell_type": "markdown",
   "metadata": {},
   "source": [
    "# Teste deine Lösung"
   ]
  },
  {
   "cell_type": "code",
   "execution_count": 3,
   "metadata": {},
   "outputs": [
    {
     "name": "stdout",
     "output_type": "stream",
     "text": [
      "ALLE TESTFÄLLE BESTANDEN\n"
     ]
    }
   ],
   "source": [
    "\"\"\"\n",
    "BITTE, FÜHRE DIESE ZELLE AUS, UM DEINE LÖSUNG ZU TESTEN.\n",
    "\"\"\"\n",
    "from nose.tools import assert_equal\n",
    "\n",
    "\n",
    "class TestUnique(object):\n",
    "\n",
    "    def test(self, sol):\n",
    "        assert_equal(sol(''), True)\n",
    "        assert_equal(sol('goo'), False)\n",
    "        assert_equal(sol('abcdefg'), True)\n",
    "        print ('ALLE TESTFÄLLE BESTANDEN')\n",
    "        \n",
    "# Tests druchführen\n",
    "t = TestUnique()\n",
    "t.test(uni_char)"
   ]
  },
  {
   "cell_type": "markdown",
   "metadata": {},
   "source": [
    "## Gut gemacht!"
   ]
  }
 ],
 "metadata": {
  "kernelspec": {
   "display_name": "Python 3",
   "language": "python",
   "name": "python3"
  },
  "language_info": {
   "codemirror_mode": {
    "name": "ipython",
    "version": 3
   },
   "file_extension": ".py",
   "mimetype": "text/x-python",
   "name": "python",
   "nbconvert_exporter": "python",
   "pygments_lexer": "ipython3",
   "version": "3.7.0"
  }
 },
 "nbformat": 4,
 "nbformat_minor": 1
}
