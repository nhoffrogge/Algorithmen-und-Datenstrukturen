{
 "cells": [
  {
   "cell_type": "markdown",
   "metadata": {},
   "source": [
    "<a href=\"http://datamics.com/de/courses/\"><img src=../DATA/bg_datamics_top.png></a>\n",
    "\n",
    "<em text-align:center>© Datamics</em>\n",
    "# Array Paarsumme - LÖSUNG\n",
    "\n",
    "## Problem\n",
    "\n",
    "Bei einem ganzzahligen Array werden alle ** *einzigartige* ** Paare ausgegeben, die sich zu einem bestimmten Wert **k** summieren.\n",
    "Also die Eingabe:\n",
    "    \n",
    "    pair_sum([1,3,2,2],4)\n",
    "\n",
    "würde **2** Paare zurückgeben:\n",
    "\n",
    "     (1,3)\n",
    "     (2,2)\n",
    "\n",
    "**HINWEIS: ZU TESTZWECKEN < ÄNDERE DEINE FUNKTION, SO DASS SIE DIE ANZAHL DER PAARE AUSGIBT**\n",
    "\n",
    "## Lösung\n",
    "\n",
    "Der O(N)-Algorithmus verwendet die Set Datenstruktur. Wir führen von Anfang an einen linearen Durchgang durch und prüfen für jedes Element, ob sich das k-Element in das Set der schon gesehten Zahlen befindet. Wenn ja, dann haben wir ein Summenpaar k gefunden und fügen es zur Ausgabe hinzu. Wenn nicht, gehört dieses Element noch nicht zu einem Paar, und wir fügen es zum Set der gesehenen Elemente hinzu. \n",
    "\n",
    "Der Algorithmus ist wirklich einfach, sobald wir herausgefunden haben, dass wir ein Set verwenden. Die Komplexität ist O(N), weil wir einen einzigen linearen Scan des Arrays durchführen, und für jedes Element prüfen wir einfach, ob die entsprechende Zahl, um ein Paar zu bilden, im Satz ist oder das aktuelle Element zum Satz hinzugefügt wird. Insert und Find Operationen eines Sets sind beide durchschnittliche O(1), so dass der Algorithmus insgesamt O(N) ist. "
   ]
  },
  {
   "cell_type": "code",
   "execution_count": null,
   "metadata": {},
   "outputs": [],
   "source": [
    "def pair_sum(arr,k):\n",
    "    \n",
    "    if len(arr)<2:\n",
    "        return\n",
    "    \n",
    "    # Sets zur Rückverfolgung\n",
    "    seen = set()\n",
    "    output = set()\n",
    "    \n",
    "    # Für jede Nummer im Array\n",
    "    for num in arr:\n",
    "        \n",
    "        # Soll-Differenz einstellen\n",
    "        target = k-num\n",
    "        \n",
    "        # Hinzufügen zum Set, wenn das Target nicht gesehen wurde.\n",
    "        if target not in seen:\n",
    "            seen.add(num)\n",
    "        \n",
    "        else:\n",
    "            # Füge ein Tupel mit dem entsprechenden Paar hinzu.\n",
    "            output.add( (min(num,target),  max(num,target)) )\n",
    "    \n",
    "    \n",
    "    # ZUR PRÜFUNG\n",
    "    return len(output)\n",
    "    # Schöner Einzeiler für die Druckausgabe\n",
    "    #return '\\n'.join(map(str,list(output)))"
   ]
  },
  {
   "cell_type": "code",
   "execution_count": null,
   "metadata": {},
   "outputs": [],
   "source": [
    "pair_sum([1,3,2,2],4)"
   ]
  },
  {
   "cell_type": "markdown",
   "metadata": {},
   "source": [
    "# Teste deine Lösung"
   ]
  },
  {
   "cell_type": "code",
   "execution_count": null,
   "metadata": {},
   "outputs": [],
   "source": [
    "\"\"\"\n",
    "FÜHREN DIESE ZELLE AUS, UM DEINE LÖSUNG ZU TESTEN.\n",
    "\"\"\"\n",
    "from nose.tools import assert_equal\n",
    "\n",
    "class TestPair(object):\n",
    "    \n",
    "    def test(self,sol):\n",
    "        assert_equal(sol([1,9,2,8,3,7,4,6,5,5,13,14,11,13,-1],10),6)\n",
    "        assert_equal(sol([1,2,3,1],3),1)\n",
    "        assert_equal(sol([1,3,2,2],4),2)\n",
    "        print 'Alle Testfälle bestanden'\n",
    "        \n",
    "#Test durchführen\n",
    "t = TestPair()\n",
    "t.test(pair_sum)\n",
    "    "
   ]
  },
  {
   "cell_type": "markdown",
   "metadata": {},
   "source": [
    "## Gut gemacht!"
   ]
  }
 ],
 "metadata": {
  "kernelspec": {
   "display_name": "Python 3",
   "language": "python",
   "name": "python3"
  },
  "language_info": {
   "codemirror_mode": {
    "name": "ipython",
    "version": 3
   },
   "file_extension": ".py",
   "mimetype": "text/x-python",
   "name": "python",
   "nbconvert_exporter": "python",
   "pygments_lexer": "ipython3",
   "version": "3.7.0"
  }
 },
 "nbformat": 4,
 "nbformat_minor": 1
}
