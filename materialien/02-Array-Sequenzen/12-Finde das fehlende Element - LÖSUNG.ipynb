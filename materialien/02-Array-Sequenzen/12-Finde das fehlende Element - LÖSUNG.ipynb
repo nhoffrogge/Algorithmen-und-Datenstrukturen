{
 "cells": [
  {
   "cell_type": "markdown",
   "metadata": {},
   "source": [
    "<a href=\"http://datamics.com/de/courses/\"><img src=../DATA/bg_datamics_top.png></a>\n",
    "\n",
    "<em text-align:center>© Datamics</em>\n",
    "# Finde das fehlende Element - LÖSUNG\n",
    "\n",
    "## Problem\n",
    "\n",
    "Man betrachte ein Array von nicht-negativen ganzen Zahlen. Ein zweites Array wird gebildet, indem die Elemente des ersten Arrays gemischt und ein zufälliges Element gelöscht werden. Ermittele anhand dieser beiden Arrays, welches Element im zweiten Array fehlt. \n",
    "\n",
    "Hier ist eine beispielhafte Eingabe, das erste Array wird gemischt und die Zahl 5 wird entfernt, um das zweite Array zu erstellen.\n",
    "\n",
    "Eingabe:\n",
    "    \n",
    "    Finder([1,2,3,4,5,6,7],[3,7,2,1,4,6]))\n",
    "\n",
    "Ausgabe:\n",
    "\n",
    "    5 ist die fehlende Zahl\n",
    "\n",
    "\n",
    "## Lösung\n",
    "\n",
    "Die naive Lösung ist, jedes Element im zweiten Array durchzugehen und zu überprüfen, ob es im ersten Array erscheint. Beachte bitte, dass es doppelte Einträge in den Arrays geben kann, daher sollten wir besonders darauf achten. Die Komplexität dieses Ansatzes ist O(N^2), da wir zwei for-Schleifen brauchen würden.\n",
    "\n",
    "Eine effizientere Lösung ist die Sortierung des ersten Arrays, so dass wir bei der Überprüfung, ob ein Element im ersten Array im zweiten erscheint, eine binäre Suche durchführen können (wir werden die binäre Suche in einem späteren Abschnitt näher erläutern). Aber wir sollten trotzdem vorsichtig sein mit doppelten Elementen. Die Komplexität ist O(NlogN). \n",
    "\n",
    "Wenn wir uns nicht mit dem Sonderfall der doppelten Zahlen befassen wollen, können wir beide Arrays sortieren und gleichzeitig darüber iterieren. Sobald zwei Iteratoren unterschiedliche Werte haben, können wir anhalten. Der Wert des ersten Iterators ist das fehlende Element. Diese Lösung ist auch O(NlogN). Hier ist die Lösung für diesen Ansatz:"
   ]
  },
  {
   "cell_type": "code",
   "execution_count": 1,
   "metadata": {},
   "outputs": [],
   "source": [
    "def finder(arr1,arr2):\n",
    "    \n",
    "    # Sortiere die Arrays\n",
    "    arr1.sort()\n",
    "    arr2.sort()\n",
    "    \n",
    "    # Vergleiche die Elemente in den sortierten Arrays\n",
    "    for num1, num2 in zip(arr1,arr2):\n",
    "        if num1!= num2:\n",
    "            return num1\n",
    "    \n",
    "    # Andernfalls wird das letzte Element zurückgegeben.\n",
    "    return arr1[-1]"
   ]
  },
  {
   "cell_type": "code",
   "execution_count": 2,
   "metadata": {},
   "outputs": [
    {
     "data": {
      "text/plain": [
       "5"
      ]
     },
     "execution_count": 2,
     "metadata": {},
     "output_type": "execute_result"
    }
   ],
   "source": [
    "arr1 = [1,2,3,4,5,6,7]\n",
    "arr2 = [3,7,2,1,4,6]\n",
    "finder(arr1,arr2)"
   ]
  },
  {
   "cell_type": "markdown",
   "metadata": {},
   "source": [
    "In den meisten Interviews wird von dir erwartet, eine lineare Zeitlösung zu finden. Wir können eine Hash-Tabelle verwenden und die Anzahl der Erscheinungen jedes Elements im zweiten Array speichern. Dann dekrementieren wir für jedes Element im ersten Array seinen Zähler. Einmal ein Element mit null Zählwerten getroffen, ist das das fehlende Element. Hier ist diese Lösung: "
   ]
  },
  {
   "cell_type": "code",
   "execution_count": 3,
   "metadata": {},
   "outputs": [],
   "source": [
    "import collections\n",
    "\n",
    "def finder2(arr1, arr2): \n",
    "    \n",
    "    # Verwendung des Standard-Dict um Schlüsselfehler zu vermeiden \n",
    "    d=collections.defaultdict(int) \n",
    "    \n",
    "    # Fügt eine Zähler für jede Instanz in Array 1 hinzu.\n",
    "    for num in arr2:\n",
    "        d[num]+=1 \n",
    "    \n",
    "    # Überprüfe, ob die Nummer nicht im Dictionary steht.\n",
    "    for num in arr1: \n",
    "        if d[num]==0: \n",
    "            return num \n",
    "        \n",
    "        # Andernfalls subtrahiere von Zählerstand.\n",
    "        else: d[num]-=1 "
   ]
  },
  {
   "cell_type": "code",
   "execution_count": 4,
   "metadata": {},
   "outputs": [
    {
     "data": {
      "text/plain": [
       "5"
      ]
     },
     "execution_count": 4,
     "metadata": {},
     "output_type": "execute_result"
    }
   ],
   "source": [
    "arr1 = [5,5,7,7]\n",
    "arr2 = [5,7,7]\n",
    "\n",
    "finder2(arr1,arr2)"
   ]
  },
  {
   "cell_type": "markdown",
   "metadata": {},
   "source": [
    "Eine mögliche Lösung ist das Berechnen der Summe aller Zahlen in arr1 und arr2 und das Subtrahieren der Summe von arr2 von der Summe von array1. Der Unterschied ist die fehlende Zahl in arr2. Dieser Ansatz könnte jedoch problematisch sein, wenn die Arrays zu lang oder die Zahlen sehr groß sind. Dann kommt es beim Summieren der Zahlen zu einem Überlauf.\n",
    "\n",
    "Durch einen sehr cleveren Trick können wir ohne Probleme eine lineare Zeit und konstante Raumkomplexität erreichen. Hier ist es: Initialisieren Sie eine Variable auf 0, dann [XOR](https://de.wikipedia.org/wiki/Kontravalenz) jedes Element im ersten und zweiten Array mit dieser Variable. Am Ende ist der Wert der Variable das Ergebnis, dass ein Element in Array2 fehlt."
   ]
  },
  {
   "cell_type": "code",
   "execution_count": 5,
   "metadata": {},
   "outputs": [],
   "source": [
    "def finder3(arr1, arr2): \n",
    "    result=0 \n",
    "    \n",
    "    # Führe ein XOR zwischen den Zahlen in den Arrays durch.\n",
    "    for num in arr1+arr2: \n",
    "        result^=num \n",
    "        print (result)\n",
    "        \n",
    "    return result "
   ]
  },
  {
   "cell_type": "code",
   "execution_count": 6,
   "metadata": {},
   "outputs": [
    {
     "name": "stdout",
     "output_type": "stream",
     "text": [
      "5\n",
      "0\n",
      "7\n",
      "0\n",
      "5\n",
      "2\n",
      "5\n"
     ]
    },
    {
     "data": {
      "text/plain": [
       "5"
      ]
     },
     "execution_count": 6,
     "metadata": {},
     "output_type": "execute_result"
    }
   ],
   "source": [
    "finder3(arr1,arr2)"
   ]
  },
  {
   "cell_type": "markdown",
   "metadata": {},
   "source": [
    "# Teste deine Lösung"
   ]
  },
  {
   "cell_type": "code",
   "execution_count": 7,
   "metadata": {},
   "outputs": [
    {
     "name": "stdout",
     "output_type": "stream",
     "text": [
      "ALLE TESTFÄLLE BESTANDEN\n"
     ]
    }
   ],
   "source": [
    "\"\"\"\n",
    "FÜHRE DIESE ZELLE AUS, UM DEINE LÖSUNG ZU TESTEN.\n",
    "\"\"\"\n",
    "# pip install nose\n",
    "from nose.tools import assert_equal\n",
    "\n",
    "class TestFinder(object):\n",
    "    \n",
    "    def test(self,sol):\n",
    "        assert_equal(sol([5,5,7,7],[5,7,7]),5)\n",
    "        assert_equal(sol([1,2,3,4,5,6,7],[3,7,2,1,4,6]),5)\n",
    "        assert_equal(sol([9,8,7,6,5,4,3,2,1],[9,8,7,5,4,3,2,1]),6)\n",
    "        print ('ALLE TESTFÄLLE BESTANDEN')\n",
    "\n",
    "# TEST durchführen\n",
    "t = TestFinder()\n",
    "t.test(finder)"
   ]
  },
  {
   "cell_type": "markdown",
   "metadata": {},
   "source": [
    "## Gut gemacht!"
   ]
  }
 ],
 "metadata": {
  "kernelspec": {
   "display_name": "Python 3",
   "language": "python",
   "name": "python3"
  },
  "language_info": {
   "codemirror_mode": {
    "name": "ipython",
    "version": 3
   },
   "file_extension": ".py",
   "mimetype": "text/x-python",
   "name": "python",
   "nbconvert_exporter": "python",
   "pygments_lexer": "ipython3",
   "version": "3.7.0"
  }
 },
 "nbformat": 4,
 "nbformat_minor": 1
}
