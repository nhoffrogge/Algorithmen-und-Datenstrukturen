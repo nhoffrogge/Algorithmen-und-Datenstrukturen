{
 "cells": [
  {
   "cell_type": "markdown",
   "metadata": {},
   "source": [
    "<a href=\"http://datamics.com/de/courses/\"><img src=../DATA/bg_datamics_top.png></a>\n",
    "\n",
    "<em text-align:center>© Datamics</em>\n",
    "# Telefoninterview\n",
    "\n",
    "## Problem\n",
    "\n",
    "**Ein Turm hat 100 Etagen. Du hast zwei Eier bekommen. Die Eier sind so widerstandsfähig, dass sie von einer bestimmten Etage im Turm fallen gelassen werden können, ohne zu brechen. Du wurdest beauftragt, die höchste Etage zu finden, auf der ein Ei fallen gelassen werden kann, ohne zu brechen, und zwar mit so wenigen Abwürfen wie möglich. Wenn ein Ei oberhalb seiner Ziel-Etage fallen gelassen wird, zerbricht es. Wenn es von dieser Ziel-Etage oder darunter fallen gelassen wird, bleibt es intakt und du kannst das Ei erneut auf einer anderen Etage fallen lassen.**\n",
    "\n",
    "**Zeige algorithmisch, wie du dies mit so wenig Abwürfen wie möglich tun würdest.**\n",
    "\n",
    "## Anforderungen\n",
    "\n",
    "**Benutze Papier und Stift oder ein Whiteboard um dieses Problem zu lösen**."
   ]
  },
  {
   "cell_type": "markdown",
   "metadata": {},
   "source": [
    "# Viel Glück!"
   ]
  }
 ],
 "metadata": {
  "kernelspec": {
   "display_name": "Python 3",
   "language": "python",
   "name": "python3"
  },
  "language_info": {
   "codemirror_mode": {
    "name": "ipython",
    "version": 3
   },
   "file_extension": ".py",
   "mimetype": "text/x-python",
   "name": "python",
   "nbconvert_exporter": "python",
   "pygments_lexer": "ipython3",
   "version": "3.7.0"
  }
 },
 "nbformat": 4,
 "nbformat_minor": 1
}
