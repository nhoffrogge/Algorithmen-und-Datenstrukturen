{
 "cells": [
  {
   "cell_type": "markdown",
   "metadata": {},
   "source": [
    "<a href=\"http://datamics.com/de/courses/\"><img src=../DATA/bg_datamics_top.png></a>\n",
    "\n",
    "<em text-align:center>© Datamics</em>\n",
    "# Vor-Ort-Frage 2 \n",
    "___\n",
    "\n",
    "## Frage\n",
    "**Gegeben sei ein Würfel, der die Zahlen 1 bis 5 würfelt. Simuliere einen 7-seitigen Würfel!**\n",
    "\n",
    "## Anforderungen\n",
    "\n",
    "**Du MUSST dies auf Stift und Papier oder auf einer Tafel erledigen. Erst wenn du es auf Papier und Stift gelöst hast, ist eine tatsächliche Programmierung erlaubt!**"
   ]
  },
  {
   "cell_type": "markdown",
   "metadata": {},
   "source": [
    "___"
   ]
  },
  {
   "cell_type": "markdown",
   "metadata": {},
   "source": [
    "# Viel Glück!"
   ]
  }
 ],
 "metadata": {
  "kernelspec": {
   "display_name": "Python 3",
   "language": "python",
   "name": "python3"
  },
  "language_info": {
   "codemirror_mode": {
    "name": "ipython",
    "version": 3
   },
   "file_extension": ".py",
   "mimetype": "text/x-python",
   "name": "python",
   "nbconvert_exporter": "python",
   "pygments_lexer": "ipython3",
   "version": "3.7.0"
  }
 },
 "nbformat": 4,
 "nbformat_minor": 1
}
