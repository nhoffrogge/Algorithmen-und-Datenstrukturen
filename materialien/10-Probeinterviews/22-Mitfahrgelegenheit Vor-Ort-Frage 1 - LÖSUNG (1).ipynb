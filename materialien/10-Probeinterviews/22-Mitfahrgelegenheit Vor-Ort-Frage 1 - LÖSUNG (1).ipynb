{
 "cells": [
  {
   "cell_type": "markdown",
   "metadata": {},
   "source": [
    "<a href=\"http://datamics.com/de/courses/\"><img src=../DATA/bg_datamics_top.png></a>\n",
    "\n",
    "<em text-align:center>© Datamics</em>\n",
    "# Vor-Ort-Frage 1 - LÖSUNG\n",
    "\n",
    "## Problem\n",
    "\n",
    "**Anhand einer Liste von ganzen Zahlen finde das größte Produkt, das du aus 3 ganzen Zahlen aus der Liste machen kannst **.\n",
    "\n",
    "## Anforderungen\n",
    "\n",
    "**Du kannst davon ausgehen, dass die Liste immer mindestens 3 ganze Zahlen haben wird **.\n",
    "\n",
    "**Nur Papier/Bleistift, programmiere das nicht, bis du es so weit wie möglich von Hand gelöst hast. **"
   ]
  },
  {
   "cell_type": "markdown",
   "metadata": {},
   "source": [
    "## Lösung\n",
    "\n",
    "Wir können dieses Problem in O(n)-Zeit mit O(1)-Raumkomplexität lösen, wir sollten auch negative Zahlen berücksichtigen können, so dass eine Liste wie: [-5,-5,1,3] \n",
    "(-5)(-5)(-5)(3) = 75 als Antwort zurückgibt .\n",
    "\n",
    "Hoffentlich hast du begonnen, die Ähnlichkeit zwischen diesem Problem und dem Amazon-Aktienproblem aus den Interviewfragen der E-Commerce Company zu erkennen! Du könntest dieses Problem brutal erzwingen, indem du einfach jede einzelne dreistellige Kombination ausprobierst, aber das würde O(n^3) Zeit erfordern!\n",
    "\n",
    "Wie wäre es, wenn wir einen Greedy Algorithmus benutzen und einige Zahlen im Auge behalten? Im Aktienproblem haben wir bisher den maximalen Gewinn im Auge behalten, in diesem Problem müssen wir eigentlich mehrere Zahlen im Auge behalten:\n",
    "\n",
    "* Das bisher höchste Produkt aus 3 Zahlen\n",
    "* Das bisher höchste Produkt aus 2 Zahlen\n",
    "* Die bisher höchste Zahl\n",
    "\n",
    "Da wir negative Zahlen im Auge behalten wollen, werden wir auch das niedrigste Produkt von zwei Zahlen und die niedrigste Zahl im Auge behalten:\n",
    "\n",
    "* Das niedrigste Produkt aus 2 Zahlen.\n",
    "* Die niedrigste Zahl\n",
    "\n",
    "Sobald wir durch die Liste iterieren und das Ende erreichen, werden wir das höchstmögliche Produkt mit unseren 3 Zahlen haben. Bei jeder Iteration nehmen wir das aktuell höchste Produkt von 3 und vergleichen es mit der aktuellen ganzen Zahl multipliziert mit dem höchsten und niedrigsten Produkt aus 2 Zahlen.\n",
    "\n",
    "Mal sehen, wie das aussieht:"
   ]
  },
  {
   "cell_type": "code",
   "execution_count": 1,
   "metadata": {},
   "outputs": [],
   "source": [
    "def solution(lst):\n",
    "    \n",
    "    # Start bei Index 2 (3. Element) und Zuweisung von Höchst- und Tiefstwert \n",
    "    # basierend auf den ersten beiden Elementen\n",
    "    \n",
    "    # Bisher höchste Zahl\n",
    "    high = max(lst[0],lst[1])\n",
    "    \n",
    "    # Bisher niedrigste Zahl\n",
    "    low = min(lst[0],lst[1])\n",
    "    \n",
    "    # Initiieren der höchsten und niedrigsten Produkte von zwei Zahlen\n",
    "    high_prod2 = lst[0]*lst[1]\n",
    "    low_prod2 = lst[0]*lst[1]\n",
    "    \n",
    "    # Initiieren des höchsten Produkts von 3 Zahlen\n",
    "    high_prod3 = lst[0]*lst[1]*lst[2]\n",
    "    \n",
    "    # Iteration durch die Liste\n",
    "    for num in lst[2:]:\n",
    "        \n",
    "        # Vergleiche das mögliche höchste Produkt aus 3 Zahlen\n",
    "        high_prod3 = max(high_prod3,num*high_prod2,num*low_prod2)\n",
    "        \n",
    "        \n",
    "        # Überprüfung auf mögliches neues höchste Produkte von 2 Zahlen\n",
    "        high_prod2 = max(high_prod2,num*high,num*low)\n",
    "        \n",
    "        # Auf mögliche neuen niedrigsten Produkte von 2 Zahlen prüfen.\n",
    "        low_prod2 = min(low_prod2,num*high,num*low)\n",
    "        \n",
    "        # Auf neue mögliche Höchstwerte prüfen\n",
    "        high = max(high,num)\n",
    "        \n",
    "        # Auf neue mögliche Tiefstwerte prüfen\n",
    "        low = min(low,num)\n",
    "        \n",
    "    return high_prod3"
   ]
  },
  {
   "cell_type": "code",
   "execution_count": 2,
   "metadata": {},
   "outputs": [
    {
     "data": {
      "text/plain": [
       "763092"
      ]
     },
     "execution_count": 2,
     "metadata": {},
     "output_type": "execute_result"
    }
   ],
   "source": [
    "l = [99,-82,82,40,75,-24,39, -82, 5, 30, -25, -94, 93, -23, 48, 50, 49,-81,41,63]\n",
    "\n",
    "solution(l)"
   ]
  },
  {
   "cell_type": "markdown",
   "metadata": {},
   "source": [
    "Großartig! Durch den Einsatz eines Greedy-Algorithmus konnten wir das Problem in O(n)-Zeit lösen. Behalte diese Art von Ansatz im Hinterkopf, wenn du durch eine Liste iterieren musst und eine Lösung mit roher Gewalt (brute force) exponentiell ist!\n",
    "\n",
    "# Gut gemacht!"
   ]
  }
 ],
 "metadata": {
  "kernelspec": {
   "display_name": "Python 3",
   "language": "python",
   "name": "python3"
  },
  "language_info": {
   "codemirror_mode": {
    "name": "ipython",
    "version": 3
   },
   "file_extension": ".py",
   "mimetype": "text/x-python",
   "name": "python",
   "nbconvert_exporter": "python",
   "pygments_lexer": "ipython3",
   "version": "3.7.0"
  }
 },
 "nbformat": 4,
 "nbformat_minor": 1
}
