{
 "cells": [
  {
   "cell_type": "markdown",
   "metadata": {},
   "source": [
    "<a href=\"http://datamics.com/de/courses/\"><img src=../DATA/bg_datamics_top.png></a>\n",
    "\n",
    "<em text-align:center>© Datamics</em>\n",
    "# Telefoninterview\n",
    "\n",
    "## Problem \n",
    "\n",
    "**Entferne das doppelte Zeichen in einer bestimmten Zeichenkette, wobei nur die ersten Vorkommen berücksichtigt werden. Wenn die Eingabe beispielsweise \"tree traversal\" ist, ist die Ausgabe \"tre avsl\".**\n",
    "\n",
    "## Anforderungen\n",
    "\n",
    "**Löse dieses Problem mit einem Texteditor, der keine Syntaxhervorhebung hat, wie z.B. ein google doc!**."
   ]
  },
  {
   "cell_type": "markdown",
   "metadata": {},
   "source": [
    "# Viel Glück!"
   ]
  }
 ],
 "metadata": {
  "kernelspec": {
   "display_name": "Python 3",
   "language": "python",
   "name": "python3"
  },
  "language_info": {
   "codemirror_mode": {
    "name": "ipython",
    "version": 3
   },
   "file_extension": ".py",
   "mimetype": "text/x-python",
   "name": "python",
   "nbconvert_exporter": "python",
   "pygments_lexer": "ipython3",
   "version": "3.7.0"
  }
 },
 "nbformat": 4,
 "nbformat_minor": 1
}
