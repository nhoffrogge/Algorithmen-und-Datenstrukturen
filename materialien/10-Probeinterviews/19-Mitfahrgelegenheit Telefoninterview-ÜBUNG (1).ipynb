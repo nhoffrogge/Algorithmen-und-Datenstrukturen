{
 "cells": [
  {
   "cell_type": "markdown",
   "metadata": {},
   "source": [
    "<a href=\"http://datamics.com/de/courses/\"><img src=../DATA/bg_datamics_top.png></a>\n",
    "\n",
    "<em text-align:center>© Datamics</em>\n",
    "# Telefoninterview - LÖSUNG\n",
    "\n",
    "## Problem\n",
    "\n",
    "**Wenn dir eine Liste von n ganzen Zahlen gegeben wurde und du wusstest, dass sie sortiert waren, wie schnell könntest du überprüfen, ob eine bestimmte ganze Zahl in der Liste war? Erarbeite deine Argumentations- und Suchmethoden im Allgemeinen.**\n",
    "\n",
    "## Anforderungen\n",
    "\n",
    "**Versuche jemandem deine Lösung zu erklären und zu sehen, ob es für ihn Sinn macht. Programmieren nichts für dieses Problem.**"
   ]
  },
  {
   "cell_type": "markdown",
   "metadata": {},
   "source": [
    "# Viel Glück!"
   ]
  }
 ],
 "metadata": {
  "kernelspec": {
   "display_name": "Python 3",
   "language": "python",
   "name": "python3"
  },
  "language_info": {
   "codemirror_mode": {
    "name": "ipython",
    "version": 3
   },
   "file_extension": ".py",
   "mimetype": "text/x-python",
   "name": "python",
   "nbconvert_exporter": "python",
   "pygments_lexer": "ipython3",
   "version": "3.7.0"
  }
 },
 "nbformat": 4,
 "nbformat_minor": 1
}
