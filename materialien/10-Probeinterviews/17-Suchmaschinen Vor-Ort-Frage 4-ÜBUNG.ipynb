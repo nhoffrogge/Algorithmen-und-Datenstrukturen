{
 "cells": [
  {
   "cell_type": "markdown",
   "metadata": {},
   "source": [
    "<a href=\"http://datamics.com/de/courses/\"><img src=../DATA/bg_datamics_top.png></a>\n",
    "\n",
    "<em text-align:center>© Datamics</em>\n",
    "# Vor-Ort-Frage 4 \n",
    "\n",
    "## Frage\n",
    "**Finde die Quadratzahlen einer bestimmten Zahl, abgerundet auf die nächste ganze Zahl, ohne die Funktion sqrt zu verwenden. Zum Beispiel sollte die Funktion bei einer Zahl zwischen[9, 15] 3 zurückgeben, und [16, 24] sollte 4 zurückgeben.**\n",
    "\n",
    "## Anforderungen\n",
    "\n",
    "**Du kannst diese Aufgabe gerne mit einem Programmcode zubeantworten (aber es wird empfohlen, Papier/Bleistift oder ein Whiteboard zu verwenden)**."
   ]
  },
  {
   "cell_type": "markdown",
   "metadata": {},
   "source": [
    "# Viel Glück!"
   ]
  }
 ],
 "metadata": {
  "kernelspec": {
   "display_name": "Python 3",
   "language": "python",
   "name": "python3"
  },
  "language_info": {
   "codemirror_mode": {
    "name": "ipython",
    "version": 3
   },
   "file_extension": ".py",
   "mimetype": "text/x-python",
   "name": "python",
   "nbconvert_exporter": "python",
   "pygments_lexer": "ipython3",
   "version": "3.7.0"
  }
 },
 "nbformat": 4,
 "nbformat_minor": 1
}
