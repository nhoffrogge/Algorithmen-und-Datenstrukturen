{
 "cells": [
  {
   "cell_type": "markdown",
   "metadata": {},
   "source": [
    "<a href=\"http://datamics.com/de/courses/\"><img src=../DATA/bg_datamics_top.png></a>\n",
    "\n",
    "<em text-align:center>© Datamics</em>\n",
    "# Vor-Ort-Frage 2 - LÖSUNG\n",
    "\n",
    "## Problem\n",
    "\n",
    "**Bei einer Liste von Konto-ID-Nummern (ganze Zahlen), die Duplikate enthalten, finde die eine eindeutige ganze Zahl. (die Liste hat garantiert nur eine eindeutige (nicht duplizierte) ganze Zahl)**.\n",
    "\n",
    "## Anforderungen\n",
    "\n",
    "**Verwende keine integrierten Python-Funktionen oder -Methoden**."
   ]
  },
  {
   "cell_type": "markdown",
   "metadata": {
    "collapsed": true
   },
   "source": [
    "## Lösung\n",
    "\n",
    "Dies sollte sich sehr vertraut anfühlen mit einem der Probleme, die wir im Array-Bereich des Kurses gemacht haben! Wir können eine Operation [XOR](https://www.wikiwand.com/de/Kontravalenz) (Kontravalenz) verwenden. Die **exklusive oder** Operationen nimmt zwei Bitsätze und gibt für jedes Paar einen Wert von 1 zurück, wenn **einer, aber nicht beide** der Bits 1 ist.\n",
    "\n",
    "In Python können wir das Symbol ^ verwenden, um ein XOR auszuführen.\n",
    "\n",
    "Jetzt können wir für unsere Lösung einfach alle ganzen Zahlen in der Liste **xor** verwenden. Wir beginnen mit einer eindeutigen ID, die auf 0 gesetzt ist, und jedes Mal, wenn wir XOR eine neue ID aus der Liste eingeben, ändert diese die Bits. Wenn wir XOR mit der gleichen ID wieder verwenden, wird die frühere Änderung aufgehoben.\n",
    "\n",
    "Am Ende werden wir mit der ID zurückgelassen, die einzigartig war und nur ein einziges Mal erschien!"
   ]
  },
  {
   "cell_type": "code",
   "execution_count": 1,
   "metadata": {},
   "outputs": [],
   "source": [
    "def solution(id_list):\n",
    "    \n",
    "    # Eindeutige Initiierungs-ID\n",
    "    unique_id = 0\n",
    "    \n",
    "    # XOR für jede ID in der ID-Liste\n",
    "    for i in id_list:\n",
    "        \n",
    "        # XOR Operation\n",
    "        unique_id ^= i\n",
    "    \n",
    "    return unique_id"
   ]
  },
  {
   "cell_type": "markdown",
   "metadata": {},
   "source": [
    "# Gut gemacht!"
   ]
  }
 ],
 "metadata": {
  "kernelspec": {
   "display_name": "Python 3",
   "language": "python",
   "name": "python3"
  },
  "language_info": {
   "codemirror_mode": {
    "name": "ipython",
    "version": 3
   },
   "file_extension": ".py",
   "mimetype": "text/x-python",
   "name": "python",
   "nbconvert_exporter": "python",
   "pygments_lexer": "ipython3",
   "version": "3.7.0"
  }
 },
 "nbformat": 4,
 "nbformat_minor": 1
}
