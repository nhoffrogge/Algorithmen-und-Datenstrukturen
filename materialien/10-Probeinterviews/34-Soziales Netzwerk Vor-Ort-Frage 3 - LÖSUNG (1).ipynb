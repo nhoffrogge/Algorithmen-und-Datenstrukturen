{
 "cells": [
  {
   "cell_type": "markdown",
   "metadata": {},
   "source": [
    "<a href=\"http://datamics.com/de/courses/\"><img src=../DATA/bg_datamics_top.png></a>\n",
    "\n",
    "<em text-align:center>© Datamics</em>\n",
    "# Vor-Ort-Frage 3 - LÖSUNG\n",
    "\n",
    "## Problem\n",
    "\n",
    "**Erstelle eine Funktion, die eine Liste mit unsortierten Preisen (ganze Zahlen) und einen maximal möglichen Preiswert aufnimmt, und gib eine sortierte Liste von Preisen zurück**\n",
    "\n",
    "## Anforderungen\n",
    "\n",
    "**Deine Funktion sollte in der Lage sein, dies in kürzerer Zeit als O(nlogn) durchzuführen.**"
   ]
  },
  {
   "cell_type": "markdown",
   "metadata": {
    "collapsed": true
   },
   "source": [
    "## Lösung\n",
    "\n",
    "Wir können dieses Problem tatsächlich lösen, indem wir ein [*Countingsort*](https://www.wikiwand.com/de/Countingsort) verwenden. Grundsätzlich funktioniert ein Countingsort gut, wenn man den Bereich der ganzzahligen Werte kennt, die man im Vorhinein hat.\n",
    "\n",
    "Lies dir bitte den oben verlinkten Wikipedia-Artikel für eine umfassende Beschreibung durch, wobei eine Implementierung hier unten steht (unter Verwendung der im obigen Problem beschriebenen Preissituation)."
   ]
  },
  {
   "cell_type": "code",
   "execution_count": 1,
   "metadata": {},
   "outputs": [],
   "source": [
    "def solution(unsorted_prices,max_price):\n",
    "    \n",
    "    # Liste der Nullen bei den Indizes 0 bis max_price\n",
    "    prices_to_counts = [0]* (max_price+1)\n",
    "    \n",
    "    # Preise eintragen\n",
    "    for price in unsorted_prices:\n",
    "        prices_to_counts[price] +=1\n",
    "        \n",
    "    # die endgültigen sortierten Preise eintragen.\n",
    "    sorted_prices = []\n",
    "    \n",
    "    # Für jeden Preis inprices_to_counts\n",
    "    for price,count in enumerate(prices_to_counts):\n",
    "        \n",
    "        # für die Häufigkeit, mit der das Element vorkommt.\n",
    "        for time in range(count):\n",
    "            \n",
    "            # in die sortierte Preisliste hinzufügen\n",
    "            sorted_prices.append(price)\n",
    "            \n",
    "    return sorted_prices"
   ]
  },
  {
   "cell_type": "code",
   "execution_count": 2,
   "metadata": {},
   "outputs": [
    {
     "data": {
      "text/plain": [
       "[2, 3, 4, 6, 7, 8, 9]"
      ]
     },
     "execution_count": 2,
     "metadata": {},
     "output_type": "execute_result"
    }
   ],
   "source": [
    "solution([4,6,2,7,3,8,9],9)"
   ]
  },
  {
   "cell_type": "markdown",
   "metadata": {},
   "source": [
    "Dies war eine großartige Übung, um mehr über einen neuen Sortieralgorithmus zu erfahren, stelle bitte sicher, dass du dich darüber informierst und dieses Problem noch einmal übst!\n",
    "\n",
    "# Gut gemacht!"
   ]
  }
 ],
 "metadata": {
  "kernelspec": {
   "display_name": "Python 3",
   "language": "python",
   "name": "python3"
  },
  "language_info": {
   "codemirror_mode": {
    "name": "ipython",
    "version": 3
   },
   "file_extension": ".py",
   "mimetype": "text/x-python",
   "name": "python",
   "nbconvert_exporter": "python",
   "pygments_lexer": "ipython3",
   "version": "3.7.0"
  }
 },
 "nbformat": 4,
 "nbformat_minor": 1
}
