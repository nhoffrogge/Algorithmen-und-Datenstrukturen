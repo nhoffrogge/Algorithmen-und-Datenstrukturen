{
 "cells": [
  {
   "cell_type": "markdown",
   "metadata": {},
   "source": [
    "<a href=\"http://datamics.com/de/courses/\"><img src=../DATA/bg_datamics_top.png></a>\n",
    "\n",
    "<em text-align:center>© Datamics</em>\n",
    "# Vor-Ort-Frage 3\n",
    "\n",
    "## Problem\n",
    "\n",
    "**Es sind zwei Rechtecke geben, stelle fest, ob sich die beiden Rechtecke in einem Kartesischen Koordinatensystem überlappen.   Die Rechtecke sind als Dictionary definiert, z.B.:**."
   ]
  },
  {
   "cell_type": "code",
   "execution_count": 1,
   "metadata": {},
   "outputs": [],
   "source": [
    "r1 = {\n",
    "    \n",
    "         # x- und y-Koordinaten der linken unteren Ecke des Rechtecks\n",
    "         'x': 2 , 'y': 4,\n",
    "         \n",
    "         # Breite='w' und Höhe='h' des Rechtecks\n",
    "         'w':5,'h':12}"
   ]
  },
  {
   "cell_type": "markdown",
   "metadata": {},
   "source": [
    "**Wenn sich die beiden Rechtecke überlappen, gib das Dictionary zurück, das den überlappenden Abschnitt beschreibt.**"
   ]
  },
  {
   "cell_type": "markdown",
   "metadata": {},
   "source": [
    "## Voraussetzungen\n",
    "\n",
    "**Achte darauf, dass das von dir ausgegebene Dictionary die gleiche Form wie die Eingabe hat.**\n",
    "\n",
    "**Du kannst gerne eine IDE für den Code verwenden, aber stelle sicher, dass du Papier und Stift oder ein Whiteboard verwendest, um deinen Plan und deine Logik auszuarbeiten**."
   ]
  },
  {
   "cell_type": "markdown",
   "metadata": {},
   "source": [
    "# Viel Glück!"
   ]
  }
 ],
 "metadata": {
  "kernelspec": {
   "display_name": "Python 3",
   "language": "python",
   "name": "python3"
  },
  "language_info": {
   "codemirror_mode": {
    "name": "ipython",
    "version": 3
   },
   "file_extension": ".py",
   "mimetype": "text/x-python",
   "name": "python",
   "nbconvert_exporter": "python",
   "pygments_lexer": "ipython3",
   "version": "3.7.0"
  }
 },
 "nbformat": 4,
 "nbformat_minor": 1
}
