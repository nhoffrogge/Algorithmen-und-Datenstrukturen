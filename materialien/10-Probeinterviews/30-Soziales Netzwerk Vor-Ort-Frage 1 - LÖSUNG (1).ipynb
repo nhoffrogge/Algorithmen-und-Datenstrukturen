{
 "cells": [
  {
   "cell_type": "markdown",
   "metadata": {},
   "source": [
    "<a href=\"http://datamics.com/de/courses/\"><img src=../DATA/bg_datamics_top.png></a>\n",
    "\n",
    "<em text-align:center>© Datamics</em>\n",
    "# Vor-Ort-Frage 1 - LÖSUNG\n",
    "\n",
    "## Problem\n",
    "\n",
    "**Bei einer Liste von ganzen Zahlen und einer Zielzahl schreibe eine Funktion, die einen Booleschen Wert zurückgibt und angibt, ob es möglich ist, zwei ganze Zahlen aus der Liste zu summieren, um die Zielzahl zu erreichen**.\n",
    "\n",
    "## Anforderungen\n",
    "\n",
    "**Probiere zuerst Stift und Papier aus, bevor du deine Lösung ausprogrammierst.**\n",
    "\n",
    "**Du kannst ein ganzzahliges Element nicht zweimal verwenden. Optimiere deinen Algorithmus für die Zeit über den Raum**."
   ]
  },
  {
   "cell_type": "markdown",
   "metadata": {
    "collapsed": true
   },
   "source": [
    "## Lösung\n",
    "\n",
    "Für dieses Problem werden wir die Vorteile einer **set** Datenstruktur nutzen. Wir werden einen einzigen Durchlauf durch die Liste der ganzen Zahlen machen und jedes Element als die erste ganze Zahl unserer möglichen Summe behandeln.\n",
    "\n",
    "Bei jeder Iteration werden wir prüfen, ob es eine zweite ganze Zahl gibt, die es uns erlaubt, die Zielzahl zu erreichen, und wir werden ein Set verwenden, um zu überprüfen, ob wir sie bereits in unserer Liste überprüft haben.\n",
    "\n",
    "Wir werden dann unser überprüftes Set aktualisieren, indem wir die aktuelle Zahl in der Iteration dazu hinzufügen.\n",
    "\n",
    "Mal sehen, wie das aussieht:"
   ]
  },
  {
   "cell_type": "code",
   "execution_count": 1,
   "metadata": {},
   "outputs": [],
   "source": [
    "def solution(lst,target):\n",
    "    \n",
    "    # Erstellen eines Sets zur Verfolgung von Duplikaten\n",
    "    seen = set()\n",
    "    \n",
    "    # Wir wollen herausfinden, ob es eine num2 gibt\n",
    "    # , die mit num summiert werden kann, um den Zielwert zu erreichen.\n",
    "    \n",
    "    for num in lst:\n",
    "        \n",
    "        num2 = target - num\n",
    "        \n",
    "        if num2 in seen:\n",
    "            return True\n",
    "        \n",
    "        seen.add(num)\n",
    "        \n",
    "    # Wenn wir nie ein Paar finden, das die Summe ergibt.\n",
    "    return False"
   ]
  },
  {
   "cell_type": "code",
   "execution_count": 2,
   "metadata": {},
   "outputs": [
    {
     "data": {
      "text/plain": [
       "True"
      ]
     },
     "execution_count": 2,
     "metadata": {},
     "output_type": "execute_result"
    }
   ],
   "source": [
    "solution([1,3,5,1,7],4)"
   ]
  },
  {
   "cell_type": "code",
   "execution_count": 3,
   "metadata": {},
   "outputs": [
    {
     "data": {
      "text/plain": [
       "False"
      ]
     },
     "execution_count": 3,
     "metadata": {},
     "output_type": "execute_result"
    }
   ],
   "source": [
    "solution([1,3,5,1,7],14)"
   ]
  },
  {
   "cell_type": "markdown",
   "metadata": {},
   "source": [
    "# Gut gemacht!"
   ]
  }
 ],
 "metadata": {
  "kernelspec": {
   "display_name": "Python 3",
   "language": "python",
   "name": "python3"
  },
  "language_info": {
   "codemirror_mode": {
    "name": "ipython",
    "version": 3
   },
   "file_extension": ".py",
   "mimetype": "text/x-python",
   "name": "python",
   "nbconvert_exporter": "python",
   "pygments_lexer": "ipython3",
   "version": "3.7.0"
  }
 },
 "nbformat": 4,
 "nbformat_minor": 1
}
