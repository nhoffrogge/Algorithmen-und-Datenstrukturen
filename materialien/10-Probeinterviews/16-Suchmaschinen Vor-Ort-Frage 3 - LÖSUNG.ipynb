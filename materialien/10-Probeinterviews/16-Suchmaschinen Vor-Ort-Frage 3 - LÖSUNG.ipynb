{
 "cells": [
  {
   "cell_type": "markdown",
   "metadata": {},
   "source": [
    "<a href=\"http://datamics.com/de/courses/\"><img src=../DATA/bg_datamics_top.png></a>\n",
    "\n",
    "<em text-align:center>© Datamics</em>\n",
    "# Vor-Ort-Frage 3 - LÖSUNG\n",
    "\n",
    "## Frage\n",
    "\n",
    "**Gegeben ist eine Zeichenkette, schreibe eine Funktion, die Rekursion verwendet, um sie umzukehren.**\n",
    "\n",
    "## Anforderungen\n",
    "\n",
    "**Du MUSST dies auf Stift und Papier oder auf einer Tafel erledigen. Erst wenn du es auf Papier und Stift gelöst hast, ist eine tatsächliche Programmierung erlaubt!**"
   ]
  },
  {
   "cell_type": "markdown",
   "metadata": {},
   "source": [
    "____"
   ]
  },
  {
   "cell_type": "markdown",
   "metadata": {},
   "source": [
    "# LÖSUNG\n",
    "\n",
    "Hoffentlich erinnerst du dich an dieses Problem, du hast es bereits gesehen! Die Lösung ist:"
   ]
  },
  {
   "cell_type": "code",
   "execution_count": 1,
   "metadata": {},
   "outputs": [],
   "source": [
    "def reverse(s):\n",
    "    \n",
    "    # Basisfall\n",
    "    if len(s) <= 1:\n",
    "        return s\n",
    "\n",
    "    # Rekursion\n",
    "    return reverse(s[1:]) + s[0]"
   ]
  },
  {
   "cell_type": "markdown",
   "metadata": {},
   "source": [
    "___\n",
    "## Bemerkungen\n",
    "\n",
    "Bitte beachte, wenn Rekursionsfragen auftreten, unbedingt den Basisfall sowie den Rekursionsfall. Überprüfe den Abschnitt Rekursion des Kurses für die Überprüfung dieses Problems."
   ]
  },
  {
   "cell_type": "markdown",
   "metadata": {},
   "source": [
    "# Gut gemacht!"
   ]
  }
 ],
 "metadata": {
  "kernelspec": {
   "display_name": "Python 3",
   "language": "python",
   "name": "python3"
  },
  "language_info": {
   "codemirror_mode": {
    "name": "ipython",
    "version": 3
   },
   "file_extension": ".py",
   "mimetype": "text/x-python",
   "name": "python",
   "nbconvert_exporter": "python",
   "pygments_lexer": "ipython3",
   "version": "3.7.0"
  }
 },
 "nbformat": 4,
 "nbformat_minor": 1
}
