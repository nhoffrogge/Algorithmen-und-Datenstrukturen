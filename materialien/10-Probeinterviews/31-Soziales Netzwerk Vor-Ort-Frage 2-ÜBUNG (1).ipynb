{
 "cells": [
  {
   "cell_type": "markdown",
   "metadata": {},
   "source": [
    "<a href=\"http://datamics.com/de/courses/\"><img src=../DATA/bg_datamics_top.png></a>\n",
    "\n",
    "<em text-align:center>© Datamics</em>\n",
    "# Vor-Ort-Frage 2\n",
    "\n",
    "## Problem\n",
    "\n",
    "**Bei einer Liste von Konto-ID-Nummern (ganze Zahlen), die Duplikate enthalten, finde die eine eindeutige ganze Zahl. (die Liste hat garantiert nur eine eindeutige (nicht duplizierte) ganze Zahl).**\n",
    "\n",
    "## Anforderungen\n",
    "\n",
    "**Verwende keine integrierten Python-Funktionen oder -Methoden.**"
   ]
  },
  {
   "cell_type": "markdown",
   "metadata": {},
   "source": [
    "# Viel Glück!"
   ]
  }
 ],
 "metadata": {
  "kernelspec": {
   "display_name": "Python 3",
   "language": "python",
   "name": "python3"
  },
  "language_info": {
   "codemirror_mode": {
    "name": "ipython",
    "version": 3
   },
   "file_extension": ".py",
   "mimetype": "text/x-python",
   "name": "python",
   "nbconvert_exporter": "python",
   "pygments_lexer": "ipython3",
   "version": "3.7.0"
  }
 },
 "nbformat": 4,
 "nbformat_minor": 1
}
