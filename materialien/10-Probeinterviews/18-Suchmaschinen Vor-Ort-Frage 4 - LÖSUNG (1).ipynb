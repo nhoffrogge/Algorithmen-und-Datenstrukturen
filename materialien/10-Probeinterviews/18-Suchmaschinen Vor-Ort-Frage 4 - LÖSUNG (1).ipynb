{
 "cells": [
  {
   "cell_type": "markdown",
   "metadata": {},
   "source": [
    "<a href=\"http://datamics.com/de/courses/\"><img src=../DATA/bg_datamics_top.png></a>\n",
    "\n",
    "<em text-align:center>© Datamics</em>\n",
    "# Vor-Ort-Frage 4 \n",
    "\n",
    "## Frage\n",
    "**Finde die Quadratzahlen einer bestimmten Zahl, abgerundet auf die nächste ganze Zahl, ohne die Funktion sqrt zu verwenden. Zum Beispiel sollte die Funktion bei einer Zahl zwischen[9, 15] 3 zurückgeben, und [16, 24] sollte 4 zurückgeben.**\n",
    "\n",
    "## Anforderungen\n",
    "\n",
    "**Du kannst diese Aufgabe gerne mit einem Programmcode zubeantworten (aber es wird empfohlen, Papier/Bleistift oder ein Whiteboard zu verwenden)**."
   ]
  },
  {
   "cell_type": "markdown",
   "metadata": {
    "collapsed": true
   },
   "source": [
    "## Lösung\n",
    "\n",
    "Das Quadrat einer (nicht negativen) Zahl N liegt immer zwischen 0 und N/2. Der einfache Weg, dieses Problem zu lösen, wäre, jede Zahl k zwischen 0 und N/2 zu überprüfen, bis das Quadrat von k größer oder gleich N wird. Wenn k^2 gleich N wird, dann geben wir k zurück. Andernfalls geben wir k-1 zurück, weil wir runden. Hier ist der Code:"
   ]
  },
  {
   "cell_type": "code",
   "execution_count": 19,
   "metadata": {},
   "outputs": [],
   "source": [
    "def solution(num): \n",
    "    if num<0: \n",
    "        raise ValueError \n",
    "    if num==1: \n",
    "        return 1 \n",
    "    for k in range(1+(num//2)): \n",
    "        if k**2==num: \n",
    "            return k \n",
    "        elif k**2>num: \n",
    "            return k-1 \n",
    "    return k  "
   ]
  },
  {
   "cell_type": "code",
   "execution_count": 20,
   "metadata": {},
   "outputs": [
    {
     "data": {
      "text/plain": [
       "3"
      ]
     },
     "execution_count": 20,
     "metadata": {},
     "output_type": "execute_result"
    }
   ],
   "source": [
    "solution(14)"
   ]
  },
  {
   "cell_type": "code",
   "execution_count": 21,
   "metadata": {},
   "outputs": [
    {
     "data": {
      "text/plain": [
       "3"
      ]
     },
     "execution_count": 21,
     "metadata": {},
     "output_type": "execute_result"
    }
   ],
   "source": [
    "solution(15)"
   ]
  },
  {
   "cell_type": "code",
   "execution_count": 22,
   "metadata": {},
   "outputs": [
    {
     "data": {
      "text/plain": [
       "4"
      ]
     },
     "execution_count": 22,
     "metadata": {},
     "output_type": "execute_result"
    }
   ],
   "source": [
    "solution(16)"
   ]
  },
  {
   "cell_type": "markdown",
   "metadata": {},
   "source": [
    "Die Komplexität dieses Ansatzes ist O(N), da wir im schlimmsten Fall N/2-Nummern überprüfen müssen. Dieser lineare Algorithmus ist ziemlich ineffizient, wir können eine Art binäre Suche verwenden, um ihn zu beschleunigen. Wir wissen, dass das Ergebnis zwischen 0 und N/2 liegt, also können wir zuerst N/4 versuchen, um zu sehen, ob sein Quadrat kleiner als, größer als oder gleich N ist. Wenn es gleich ist, dann geben wir einfach diesen Wert zurück. Wenn es weniger ist, dann setzen wir unsere Suche zwischen N/4 und N/2 fort. Andernfalls, wenn es größer ist, dann suchen wir zwischen 0 und N/4. In beiden Fällen reduzieren wir den potentiellen Bereich um die Hälfte und fahren fort, das ist die Logik der binären Suche. Wir führen jedoch keine reguläre binäre Suche durch, sondern verändern sie etwas. Wir wollen sicherstellen, dass wir bei einer Zahl k anhalten, bei der k^2<=N aber (k+1)^2>N. Zum Beispiel:"
   ]
  },
  {
   "cell_type": "code",
   "execution_count": 23,
   "metadata": {},
   "outputs": [],
   "source": [
    "def better_solution(num): \n",
    "    if num<0: \n",
    "        raise ValueError \n",
    "    if num==1: \n",
    "        return 1 \n",
    "    low=0 \n",
    "    high=1+(num//2) \n",
    "    \n",
    "    while low+1<high: \n",
    "        mid=low+(high-low)//2 \n",
    "        square=mid**2 \n",
    "        if square==num: \n",
    "            return mid \n",
    "        elif square<num: \n",
    "            low=mid \n",
    "        else: high=mid \n",
    "            \n",
    "    return low"
   ]
  },
  {
   "cell_type": "code",
   "execution_count": 24,
   "metadata": {},
   "outputs": [
    {
     "data": {
      "text/plain": [
       "3"
      ]
     },
     "execution_count": 24,
     "metadata": {},
     "output_type": "execute_result"
    }
   ],
   "source": [
    "better_solution(14)"
   ]
  },
  {
   "cell_type": "code",
   "execution_count": 25,
   "metadata": {},
   "outputs": [
    {
     "data": {
      "text/plain": [
       "3"
      ]
     },
     "execution_count": 25,
     "metadata": {},
     "output_type": "execute_result"
    }
   ],
   "source": [
    "better_solution(15)"
   ]
  },
  {
   "cell_type": "code",
   "execution_count": 26,
   "metadata": {},
   "outputs": [
    {
     "data": {
      "text/plain": [
       "4"
      ]
     },
     "execution_count": 26,
     "metadata": {},
     "output_type": "execute_result"
    }
   ],
   "source": [
    "better_solution(16)"
   ]
  },
  {
   "cell_type": "markdown",
   "metadata": {},
   "source": [
    "Ein Unterschied zur normalen binären Suche ist die Bedingung der while-Schleife, sie ist low+1<high anstelle von low<high. Außerdem haben wir low=mid statt low=mid+1, und high=mid statt high=mid-1. Das sind die Änderungen, die wir an der binären Standardsuche vornehmen. Die Komplexität ist jedoch immer noch die gleiche, es ist logarithmisches O(logN). Was viel besser ist als die naive lineare Lösung.\n",
    "\n",
    "Es gibt auch eine O(1)-Lösung mit konstanter Zeit, die einen cleveren mathematischen Trick beinhaltet. Hier ist sie: \n",
    "\n",
    "# $$ \\sqrt{N} = N^{0.5} = 2^{\\log_2 N^{0.5}} = 2^{0.5 \\log_2 N}  $$"
   ]
  },
  {
   "cell_type": "markdown",
   "metadata": {},
   "source": [
    "Diese Lösung nutzt die Eigenschaft aus, dass wenn wir den Exponenten des Log einer Zahl nehmen, sich das Ergebnis nicht ändert, es ist immer noch die Zahl selbst. So können wir zuerst das Log einer Zahl berechnen, mit 0,5 multiplizieren, den Exponenten nehmen und schließlich die Basis dieses Wertes belegen, um ihn aufzurunden. Auf diese Weise können wir die Verwendung der sqrt-Funktion durch die Verwendung der Log-Funktion vermeiden. Der Logarithmus einer auf die nächste ganze Zahl abgerundeten Zahl kann in konstanter Zeit berechnet werden, indem man die Position der linken 1 in der binären Darstellung der Zahl betrachtet. Zum Beispiel ist die Zahl 6 im Binärformat 110, und die linke 1 befindet sich an Position 2 (beginnend mit der rechten Zählung von 0). Der Logarithmus von 6 abgerundet ist also 2, wobei diese Lösung aufgrund der Rundungseffekte nicht immer das gleiche Ergebnis wie die obigen Algorithmen liefert. Und je nach Perspektive des Interviewers kann dieser Ansatz entweder als sehr elegant und clever oder als problematisch und ungültig angesehen werden. So oder so, du solltest deinem Interviewer mitteilen, dass du die Abkürzung kannst!"
   ]
  },
  {
   "cell_type": "markdown",
   "metadata": {},
   "source": [
    "# Gut gemacht!"
   ]
  }
 ],
 "metadata": {
  "kernelspec": {
   "display_name": "Python 3",
   "language": "python",
   "name": "python3"
  },
  "language_info": {
   "codemirror_mode": {
    "name": "ipython",
    "version": 3
   },
   "file_extension": ".py",
   "mimetype": "text/x-python",
   "name": "python",
   "nbconvert_exporter": "python",
   "pygments_lexer": "ipython3",
   "version": "3.7.0"
  }
 },
 "nbformat": 4,
 "nbformat_minor": 1
}
