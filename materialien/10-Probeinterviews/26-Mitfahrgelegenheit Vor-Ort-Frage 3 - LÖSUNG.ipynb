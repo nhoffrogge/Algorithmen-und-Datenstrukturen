{
 "cells": [
  {
   "cell_type": "markdown",
   "metadata": {},
   "source": [
    "<a href=\"http://datamics.com/de/courses/\"><img src=../DATA/bg_datamics_top.png></a>\n",
    "\n",
    "<em text-align:center>© Datamics</em>\n",
    "# Vor-Ort-Frage 3 - LÖSUNG\n",
    "\n",
    "## Problem\n",
    "\n",
    "**Überprüfe bei einem binären Baum, ob es sich um einen binären Suchbaum handelt oder nicht.**"
   ]
  },
  {
   "cell_type": "markdown",
   "metadata": {},
   "source": [
    "## Anforderungen\n",
    "\n",
    "**Verwende Papier und Bleistift, programmiere dies erst dann in einer IDE, wenn du es von Hand gelöst hast.**\n",
    "\n",
    "**Verwende keine integrierten Python-Bibliotheken, aber erwähne sie, wenn du sie kennst**."
   ]
  },
  {
   "cell_type": "markdown",
   "metadata": {},
   "source": [
    "## Lösung\n",
    "\n",
    "Die erste Lösung, die einem in den Sinn kommt, ist, an jedem Knoten zu überprüfen, ob sein Wert größer oder gleich seinem linken Kind und kleiner oder gleich seinem rechten Kind ist (vorausgesetzt, dass Gleichheit entweder links oder rechts erscheinen kann). Dieser Ansatz ist jedoch falsch, da er nicht überprüft, ob ein Knoten mit seinem Großelternteil oder einem seiner Vorfahren eine Bedingung verletzt. \n",
    "\n",
    "Daher sollten wir die Minimal- und Maximalwerte im Auge behalten, die ein Knoten annehmen kann. Und an jedem Knoten werden wir prüfen, ob sein Wert zwischen dem Min- und Max-Wert liegt, den er annehmen darf. Die Wurzel kann jeden Wert zwischen minus Unendlich und plus Unendlichkeit annehmen. An jedem Knoten sollte sein linkes Kind kleiner oder gleich seinem eigenen Wert sein, und ebenso sollte das rechte Kind größer oder gleich sein. Während der Rekursion senden wir also den aktuellen Wert als neues Maximum an unser linkes Kind und senden das Min, wie es ist, ohne es zu ändern. Und an das rechte Kind senden wir den aktuellen Wert als neues Minimum und das Maximum ohne Änderung. "
   ]
  },
  {
   "cell_type": "code",
   "execution_count": 3,
   "metadata": {},
   "outputs": [],
   "source": [
    "class Node: \n",
    "    def __init__(self, val=None): \n",
    "        self.left, self.right, self.val = None, None, val   \n",
    "        \n",
    "INFINITY = float(\"INFINITY\") \n",
    "NEG_INFINITY = float(\"-INFINITY\")  \n",
    "\n",
    "def isBST(tree, minVal=NEG_INFINITY, maxVal=INFINITY): \n",
    "    if tree is None:\n",
    "        return True   \n",
    "    if not minVal <= tree.val <= maxVal: \n",
    "        return False   \n",
    "    \n",
    "    return isBST(tree.left, minVal, tree.val) and isBST(tree.right, tree.val, maxVal) "
   ]
  },
  {
   "cell_type": "markdown",
   "metadata": {},
   "source": [
    "Es gibt eine ebenso gute Alternativlösung. Wenn ein Baum ein binärer Suchbaum ist, dann sollte das Durchlaufen der Baumordnung zu einer sortierten Reihenfolge der Werte im Baum führen. So können wir eine in Reihenfolge (inorder) Traversierung durchführen und überprüfen, ob die Knotenwerte sortiert sind oder nicht."
   ]
  },
  {
   "cell_type": "code",
   "execution_count": 4,
   "metadata": {},
   "outputs": [],
   "source": [
    "def isBST2(tree, lastNode=[NEG_INFINITY]): \n",
    "    \n",
    "    if tree is None: \n",
    "        return True   \n",
    "    \n",
    "    if not isBST2(tree.left, lastNode):\n",
    "        return False   \n",
    "    \n",
    "    if tree.val < lastNode[0]: \n",
    "        return False   \n",
    "    \n",
    "    lastNode[0]=tree.val   \n",
    "    \n",
    "    return isBST2(tree.right, lastNode) "
   ]
  },
  {
   "cell_type": "markdown",
   "metadata": {},
   "source": [
    "Dies ist ein häufiges Interviewproblem, es ist relativ einfach, aber nicht trivial und zeigt, dass jemand Kenntnisse über binäre Suchbäume und Baumdurchquerungen hat.\n",
    "# Gut gemacht!"
   ]
  }
 ],
 "metadata": {
  "kernelspec": {
   "display_name": "Python 3",
   "language": "python",
   "name": "python3"
  },
  "language_info": {
   "codemirror_mode": {
    "name": "ipython",
    "version": 3
   },
   "file_extension": ".py",
   "mimetype": "text/x-python",
   "name": "python",
   "nbconvert_exporter": "python",
   "pygments_lexer": "ipython3",
   "version": "3.7.0"
  }
 },
 "nbformat": 4,
 "nbformat_minor": 1
}
