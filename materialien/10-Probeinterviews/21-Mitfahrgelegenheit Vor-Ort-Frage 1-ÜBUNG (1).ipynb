{
 "cells": [
  {
   "cell_type": "markdown",
   "metadata": {},
   "source": [
    "<a href=\"http://datamics.com/de/courses/\"><img src=../DATA/bg_datamics_top.png></a>\n",
    "\n",
    "<em text-align:center>© Datamics</em>\n",
    "# Vor-Ort-Frage 1 \n",
    "\n",
    "## Problem\n",
    "\n",
    "**Anhand einer Liste von ganzen Zahlen finde das größte Produkt, das du aus 3 ganzen Zahlen aus der Liste machen kannst**.\n",
    "\n",
    "## Anforderungen\n",
    "\n",
    "**Du kannst davon ausgehen, dass die Liste immer mindestens 3 ganze Zahlen haben wird**.\n",
    "\n",
    "**Nur Papier/Bleistift, programmiere das nicht, bis du es so weit wie möglich von Hand gelöst hast.**"
   ]
  },
  {
   "cell_type": "markdown",
   "metadata": {},
   "source": [
    "# Viel Glück"
   ]
  }
 ],
 "metadata": {
  "kernelspec": {
   "display_name": "Python 3",
   "language": "python",
   "name": "python3"
  },
  "language_info": {
   "codemirror_mode": {
    "name": "ipython",
    "version": 3
   },
   "file_extension": ".py",
   "mimetype": "text/x-python",
   "name": "python",
   "nbconvert_exporter": "python",
   "pygments_lexer": "ipython3",
   "version": "3.7.0"
  }
 },
 "nbformat": 4,
 "nbformat_minor": 1
}
