{
 "cells": [
  {
   "cell_type": "markdown",
   "metadata": {},
   "source": [
    "<a href=\"http://datamics.com/de/courses/\"><img src=../DATA/bg_datamics_top.png></a>\n",
    "\n",
    "<em text-align:center>© Datamics</em>\n",
    "# Telefoninterview - LÖSUNG\n",
    "\n",
    "## Problem \n",
    "\n",
    "**Entferne das doppelte Zeichen in einer bestimmten Zeichenkette, wobei nur die ersten Vorkommen berücksichtigt werden. Wenn die Eingabe beispielsweise \"tree traversal\" ist, ist die Ausgabe \"tre avsl\".**\n",
    "\n",
    "## Anforderungen\n",
    "\n",
    "**Löse dieses Problem mit einem Texteditor, der keine Syntaxhervorhebung hat, wie z.B. ein google doc!**."
   ]
  },
  {
   "cell_type": "markdown",
   "metadata": {},
   "source": [
    "## Lösung\n",
    "\n",
    "Wir brauchen eine Datenstruktur, um die bisher gesehenen Zeichen im Auge zu behalten, die eine effiziente Suchoperation durchführen können. Wenn die Eingabe garantiert in Standard-ASCII-Form erfolgt, können wir einfach ein boolesches Array der Größe 128 erstellen und Lookups durchführen, indem wir auf den Index des ASCII-Wertes des Zeichens in konstanter Zeit zugreifen. Aber wenn die Zeichenkette Unicode ist, dann bräuchten wir ein viel größeres Array mit einer Größe von mehr als 100K, was eine Verschwendung wäre, da das meiste davon im Allgemeinen unbenutzt bliebe.\n",
    "\n",
    "Die Set Datenstruktur passt perfekt zu unserem Zweck. Sie speichert Schlüssel und ermöglicht eine ständige Zeitsuche nach der Existenz von Schlüsseln. Also werden wir die Zeichen der Zeichenkette durchlaufen, und bei jeder Iteration werden wir überprüfen, ob wir das aktuelle Zeichen schon einmal gesehen haben, indem wir das Set durchsuchen. Wenn es im Set ist, dann bedeutet es, dass wir es schon einmal gesehen haben, also ignorieren wir es. Andernfalls nehmen wir es in das Ergebnis auf und fügen es dem Set hinzu, um es für zukünftige Referenzen zu verfolgen. Der Code ist leichter zu verstehen:"
   ]
  },
  {
   "cell_type": "code",
   "execution_count": 1,
   "metadata": {},
   "outputs": [],
   "source": [
    "def removeDuplicates(string): \n",
    "    result=[] \n",
    "    seen=set() \n",
    "    \n",
    "    for char in string: \n",
    "        if char not in seen: \n",
    "            seen.add(char) \n",
    "            result.append(char)\n",
    "            \n",
    "    return ''.join(result) "
   ]
  },
  {
   "cell_type": "markdown",
   "metadata": {},
   "source": [
    "Die zeitliche Komplexität des Algorithmus ist O(N), wobei N die Anzahl der Zeichen in der Eingabezeichenkette ist, da set O(1) insert und find unterstützt. Dies ist eine optimale Lösung für eine der häufigsten Interviewfragen. \n",
    "\n",
    "Dieses Problem sollte sich sehr ähnlich anfühlen wie bei einigen anderen Fragen, die dir gestellt wurden! Denke bitte daran, dass sich viele grundlegende Ideen für Interviewfragen überschneiden, nur ihre Präsentation ist anders!"
   ]
  },
  {
   "cell_type": "markdown",
   "metadata": {},
   "source": [
    "# Gut gemacht!"
   ]
  }
 ],
 "metadata": {
  "kernelspec": {
   "display_name": "Python 3",
   "language": "python",
   "name": "python3"
  },
  "language_info": {
   "codemirror_mode": {
    "name": "ipython",
    "version": 3
   },
   "file_extension": ".py",
   "mimetype": "text/x-python",
   "name": "python",
   "nbconvert_exporter": "python",
   "pygments_lexer": "ipython3",
   "version": "3.7.0"
  }
 },
 "nbformat": 4,
 "nbformat_minor": 1
}
