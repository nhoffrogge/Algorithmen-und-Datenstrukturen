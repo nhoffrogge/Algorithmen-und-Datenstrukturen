{
 "cells": [
  {
   "cell_type": "markdown",
   "metadata": {},
   "source": [
    "<a href=\"http://datamics.com/de/courses/\"><img src=../DATA/bg_datamics_top.png></a>\n",
    "\n",
    "<em text-align:center>© Datamics</em>\n",
    "# Telefoninterview \n",
    "\n",
    "**Dieses Telefoninterview besteht aus einer Reihe von nicht-technischen Fragen über dich und das Unternehmen, und anschließend in der zweiten Hälfte aus einer einfachen technischen Frage, die es zu beantworten gilt**.\n",
    "___\n",
    "## Nicht-technische Fragen\n",
    "\n",
    "**Beantworte die folgenden Fragen (2-5 Minuten Antworten) technische Antworten sind nicht erforderlich, der Fragesteller ist mehr daran interessiert, etwas über deine Argumentation zu erfahren**."
   ]
  },
  {
   "cell_type": "markdown",
   "metadata": {},
   "source": [
    "* Gib mir einen kurzen Hintergrund über dich (geh deinen Lebenslauf durch).\n",
    "* Warum willst du hier arbeiten?\n",
    "* Was ist deine Lieblingsprogrammiersprache und warum?\n",
    "* Wo siehst du dich in 5 Jahren?\n",
    "* Hast du irgendwelche Fragen über das Unternehmen?"
   ]
  },
  {
   "cell_type": "markdown",
   "metadata": {},
   "source": [
    "___"
   ]
  },
  {
   "cell_type": "markdown",
   "metadata": {},
   "source": [
    "___\n",
    "## Technische Fragen\n",
    "\n",
    "**Beantworte die folgende Frage in der untenstehenden *Markdown* Zelle. Es ist wichtig zu beachten, dass die Zelle unten KEINE Syntaxhervorhebung hat, es ist üblich, in einem Telefoninterview einen Texteditor zu erhalten, der nichts anderes als einfache Textunterstützung hat**.\n",
    "\n",
    "1. Schreibe eine Funktion, die die N-te Fibonacci-Zahl berechnet."
   ]
  },
  {
   "cell_type": "markdown",
   "metadata": {},
   "source": []
  },
  {
   "cell_type": "markdown",
   "metadata": {},
   "source": [
    "# Viel Glück!"
   ]
  }
 ],
 "metadata": {
  "kernelspec": {
   "display_name": "Python 3",
   "language": "python",
   "name": "python3"
  },
  "language_info": {
   "codemirror_mode": {
    "name": "ipython",
    "version": 3
   },
   "file_extension": ".py",
   "mimetype": "text/x-python",
   "name": "python",
   "nbconvert_exporter": "python",
   "pygments_lexer": "ipython3",
   "version": "3.7.0"
  }
 },
 "nbformat": 4,
 "nbformat_minor": 1
}
