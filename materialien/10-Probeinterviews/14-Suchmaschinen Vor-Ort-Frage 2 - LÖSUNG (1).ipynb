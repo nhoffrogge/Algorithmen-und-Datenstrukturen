{
 "cells": [
  {
   "cell_type": "markdown",
   "metadata": {},
   "source": [
    "<a href=\"http://datamics.com/de/courses/\"><img src=../DATA/bg_datamics_top.png></a>\n",
    "\n",
    "<em text-align:center>© Datamics</em>\n",
    "# Vor-Ort-Frage 2 - LÖSUNG\n",
    "___\n",
    "\n",
    "## Frage\n",
    "**Bei einem Würfel, der von 1 bis 5 würfelt, simuliere einen einheitlichen 7-seitigen Würfel!**\n",
    "\n",
    "## Anforderungen\n",
    "\n",
    "**Du MUSST dies auf Stift und Papier oder auf einer Tafel erledigen. Erst wenn du es auf Papier und Stift gelöst hast, ist eine tatsächliche Programmierung erlaubt!**"
   ]
  },
  {
   "cell_type": "markdown",
   "metadata": {},
   "source": [
    "___"
   ]
  },
  {
   "cell_type": "markdown",
   "metadata": {},
   "source": [
    "# LÖSUNG\n",
    "\n",
    "Da die 5-seitigen Würfel keine 7 möglichen Ergebnisse bei einem einzigen Wurf bringen können, wissen wir sofort, dass wir die Würfel mindestens zweimal würfeln müssen.  \n",
    "\n",
    "Wenn wir die Würfel zweimal würfeln, haben wir 25 mögliche Kombinationen der Ergebnisse der beiden Würfe. 25 ist nicht durch 7 teilbar, 21 hingegen schon. Das bedeutet, dass wir unsere bisherige Strategie, Würfe auszuwerfen, nicht in unserem vorgesehenen Programm umsetzen können.\n",
    "\n",
    "Es ist auch wichtig zu beachten, dass wir die Lösung nicht erweitern können, um mehr Würfe zu implementieren, um keinen herauszuwerfen, denn 5 und 7 sind beide Primzahlen, was bedeutet, dass kein Exponent von 5 durch 7 teilbar sein wird, egal wie hoch du gehst.\n",
    "\n",
    "Wir werden unser Programm als einen Ausschnitt aus den 25 möglichen Kombinationen von Würfeln definieren. Eine gute Möglichkeit, dies zu tun, ist die Umwandlung der beiden Würfe in eine eindeutige Ergebniszahl im Bereich von 1 bis 25.\n",
    "\n",
    "Wir erstellen diese Zahl, indem wir die Würfe nehmen, dann nehmen wir den ersten Wurf und nachdem wir 1 von ihm abgezogen haben, multiplizieren wir ihn mit 5, jetzt entspricht der erste Wurf einem Wert von 0, 5, 10, 15 und 20.\n",
    "\n",
    "Dann nehmen wir den zweiten Wurf und addieren ihn zum Ergebnis der ersten Manipulation. Das gibt uns eine Reichweite von 1-25.\n",
    "\n",
    "Unsere endgültige Lösung ist also, die Würfel zweimal zu würfeln. Überprüfe bitte den manipulierten Wertebereich von 1 bis 25, wenn er größer als 21 ist, führe einen Wiederholungswurf durch. Schauen wir es uns in Aktion an:"
   ]
  },
  {
   "cell_type": "code",
   "execution_count": 1,
   "metadata": {},
   "outputs": [],
   "source": [
    "from random import randint\n",
    " \n",
    "def dice5():\n",
    "    return randint(1, 5)"
   ]
  },
  {
   "cell_type": "markdown",
   "metadata": {},
   "source": [
    "Nun zu unserer Konvertierungsfunktion:"
   ]
  },
  {
   "cell_type": "code",
   "execution_count": 2,
   "metadata": {},
   "outputs": [],
   "source": [
    "def convert5to7():\n",
    "\n",
    "    # Für konstante Wiederholungswürfe\n",
    "    while True:\n",
    "\n",
    "        # Würfel zweimal würfeln\n",
    "        roll_1 = dice5()\n",
    "        roll_2 = dice5()\n",
    "        \n",
    "        # print ('Die Würfe waren {} und {}'.format(roll_1,roll_2))\n",
    "\n",
    "        # Konvertiere die Kombination in den Bereich 1 bis 25.\n",
    "        num = ( (roll_1-1) * 5 ) +  ( roll_2 ) \n",
    "\n",
    "        #print ('Die konvertierte Nummer des Wertebereichs war:',num)\n",
    "        if num > 21:\n",
    "\n",
    "            # erneut würfeln, wenn wir außerhalb der Reichweite sind.\n",
    "            continue\n",
    "\n",
    "        return num %7 + 1       "
   ]
  },
  {
   "cell_type": "code",
   "execution_count": 3,
   "metadata": {},
   "outputs": [
    {
     "data": {
      "text/plain": [
       "4"
      ]
     },
     "execution_count": 3,
     "metadata": {},
     "output_type": "execute_result"
    }
   ],
   "source": [
    "convert5to7()"
   ]
  },
  {
   "cell_type": "markdown",
   "metadata": {},
   "source": [
    "# Gut gemacht!"
   ]
  }
 ],
 "metadata": {
  "kernelspec": {
   "display_name": "Python 3",
   "language": "python",
   "name": "python3"
  },
  "language_info": {
   "codemirror_mode": {
    "name": "ipython",
    "version": 3
   },
   "file_extension": ".py",
   "mimetype": "text/x-python",
   "name": "python",
   "nbconvert_exporter": "python",
   "pygments_lexer": "ipython3",
   "version": "3.7.0"
  }
 },
 "nbformat": 4,
 "nbformat_minor": 1
}
