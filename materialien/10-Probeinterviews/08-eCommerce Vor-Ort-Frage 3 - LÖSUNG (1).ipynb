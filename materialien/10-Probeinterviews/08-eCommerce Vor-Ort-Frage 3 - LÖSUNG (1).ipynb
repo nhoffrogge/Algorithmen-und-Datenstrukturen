{
 "cells": [
  {
   "cell_type": "markdown",
   "metadata": {},
   "source": [
    "<a href=\"http://datamics.com/de/courses/\"><img src=../DATA/bg_datamics_top.png></a>\n",
    "\n",
    "<em text-align:center>© Datamics</em>\n",
    "# Vor-Ort-Frage 3 - LÖSUNG\n",
    "\n",
    "## Problem\n",
    "\n",
    "**Es sind zwei Rechtecke geben, stelle fest, ob sich die beiden Rechtecke in einem Kartesischen Koordinatensystem überlappen.   Die Rechtecke sind als Dictionary definiert, z.B.:**."
   ]
  },
  {
   "cell_type": "code",
   "execution_count": 4,
   "metadata": {},
   "outputs": [],
   "source": [
    "r1 = {\n",
    "    \n",
    "         # x- und y-Koordinaten der linken unteren Ecke des Rechtecks\n",
    "         'x': 2 , 'y': 4,\n",
    "         \n",
    "         # Breite='w' und Höhe='h' des Rechtecks\n",
    "         'w':5,'h':12}"
   ]
  },
  {
   "cell_type": "markdown",
   "metadata": {},
   "source": [
    "**Wenn sich die beiden Rechtecke überlappen, gib das Dictionary zurück, das den überlappenden Abschnitt beschreibt.**"
   ]
  },
  {
   "cell_type": "markdown",
   "metadata": {},
   "source": [
    "## Voraussetzungen\n",
    "\n",
    "**Achte darauf, dass das von dir ausgegebene Dictionary die gleiche Form wie die Eingabe hat.**\n",
    "\n",
    "**Du kannst gerne eine IDE für den Code verwenden, aber stelle sicher, dass du Papier und Stift oder ein Whiteboard verwendest, um deinen Plan und deine Logik auszuarbeiten**."
   ]
  },
  {
   "cell_type": "markdown",
   "metadata": {},
   "source": [
    "## Lösung\n",
    "\n",
    "Dies ist ein Problem, bei dem es sehr hilfreich ist, deine Gedanken auszuarbeiten. Es gibt ein paar Dinge, über die wir nachdenken müssen:\n",
    "\n",
    "* Wie können wir eine Schnittmenge bestimmen?\n",
    "* Was passiert, wenn sich ein Rechteck vollständig in einem anderen Rechteck befindet?\n",
    "* Was passiert, wenn es keinen Schnittpunkt gibt, aber die Rechtecke eine Kante teilen?\n",
    "\n",
    "Der Schlüssel zur Lösung dieses Problems liegt darin, es in *Teilprobleme* zu zerlegen. Wir können das Problem in ein X-Achsenproblem und ein Y-Achsenproblem zerlegen. \n",
    "\n",
    "Wir werden eine Funktion erstellen, welche Überlappungen in einer Dimension erkennt. Dann werden wir die Rechtecke in x und Breite, y und Höhe zerlegen. Wir können dann feststellen, dass sich die Rechtecke gegenseitig schneiden, wenn es zu einer Überlappung beider Dimensionen kommt!\n",
    "\n",
    "Um die Funktion **calc_overlap** zu verstehen, zeichne zwei flache Linien und folge der Funktion und beachte, wie sie eine Überlappung erkennt!\n",
    "\n",
    "Beginnen wir mit der Erstellung einer allgemeinen Funktion zur Erkennung von Überlappungen in einer einzigen Dimension:"
   ]
  },
  {
   "cell_type": "code",
   "execution_count": 5,
   "metadata": {},
   "outputs": [],
   "source": [
    "def calc_overlap(coor1,dim1,coor2,dim2):\n",
    "    \"\"\"\n",
    "    Nimmt 2 Koordinaten und deren Länge in dieser Dimension auf.\n",
    "    \"\"\"\n",
    "    \n",
    "    # Größere der beiden Koordinaten finden\n",
    "    # (dies ist entweder der Punkt ganz rechts \n",
    "    # oder der höhere Punkt, je nach Dimension).\n",
    "    \n",
    "    # Der größere Punkt wäre der Beginn der Überlappung.\n",
    "    greater = max(coor1,coor2)\n",
    "    \n",
    "    # Der untere Punkt ist das Ende der Überlappung.\n",
    "    lower = min(coor1+dim1,coor2+dim2)\n",
    "    \n",
    "    # Rückgabe eines Tupels von Nones, wenn es keine Überlappung gibt.\n",
    "    \n",
    "    if greater >= lower:\n",
    "        return (None,None)\n",
    "    \n",
    "    # Andernfalls gebe die Überlappungslänge zurück.\n",
    "    overlap = lower-greater\n",
    "    \n",
    "    return (greater,overlap)"
   ]
  },
  {
   "cell_type": "markdown",
   "metadata": {},
   "source": [
    "Verwenden wir nun diese Funktion, um zu erkennen, ob sich die Rechtecke überlappen!"
   ]
  },
  {
   "cell_type": "code",
   "execution_count": 6,
   "metadata": {},
   "outputs": [],
   "source": [
    "def calc_rect_overlap(r1,r2):\n",
    "    \n",
    "    \n",
    "    x_overlap, w_overlap = calc_overlap(r1['x'],r1['w'],r2['x'],r2['w'])\n",
    "    \n",
    "    y_overlap, h_overlap = calc_overlap(r1['y'],r1['h'],r2['y'],r2['h'])\n",
    "    \n",
    "    # Wenn einer von beiden einen None Tupel zurückgibt\n",
    "    # , dann gibt es keine Überschneidung!\n",
    "    if not w_overlap or not h_overlap:\n",
    "        print ('Es gab keine Überschneidung!')\n",
    "        return None\n",
    "    \n",
    "    # Andernfalls wird das Dictionary-Format \n",
    "    # des überlappenden Rechtecks zurückgegeben.\n",
    "    return { 'x':x_overlap,'y': y_overlap,'w':w_overlap,'h':h_overlap}"
   ]
  },
  {
   "cell_type": "markdown",
   "metadata": {},
   "source": [
    "Unsere Lösung ist O(1) für Zeit und Raum! Sehen wir es in Aktion:"
   ]
  },
  {
   "cell_type": "code",
   "execution_count": 7,
   "metadata": {},
   "outputs": [
    {
     "data": {
      "text/plain": [
       "{'x': 2, 'y': 5, 'w': 5, 'h': 11}"
      ]
     },
     "execution_count": 7,
     "metadata": {},
     "output_type": "execute_result"
    }
   ],
   "source": [
    "r1 = {'x': 2 , 'y': 4,'w':5,'h':12}\n",
    "r2 = {'x': 1 , 'y': 5,'w':7,'h':14}\n",
    "calc_rect_overlap(r1,r2)"
   ]
  },
  {
   "cell_type": "markdown",
   "metadata": {},
   "source": [
    "Achte darauf, die Antwort zu überprüfen und zu trainieren, wie du sie auf Papier ausarbeitest!\n",
    "# Gut gemacht!"
   ]
  }
 ],
 "metadata": {
  "kernelspec": {
   "display_name": "Python 3",
   "language": "python",
   "name": "python3"
  },
  "language_info": {
   "codemirror_mode": {
    "name": "ipython",
    "version": 3
   },
   "file_extension": ".py",
   "mimetype": "text/x-python",
   "name": "python",
   "nbconvert_exporter": "python",
   "pygments_lexer": "ipython3",
   "version": "3.7.0"
  }
 },
 "nbformat": 4,
 "nbformat_minor": 1
}
