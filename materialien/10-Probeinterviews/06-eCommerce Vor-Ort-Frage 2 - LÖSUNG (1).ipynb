{
 "cells": [
  {
   "cell_type": "markdown",
   "metadata": {},
   "source": [
    "<a href=\"http://datamics.com/de/courses/\"><img src=../DATA/bg_datamics_top.png></a>\n",
    "\n",
    "<em text-align:center>©  Datamics</em>\n",
    "# Vor-Ort-Frage 2  - LÖSUNG\n",
    "\n",
    "## Problem\n",
    "\n",
    "**Bei einer Liste von ganzen Zahlen schreibe eine Funktion, die eine Liste zurückgibt, in der für jeden Index das Element das Produkt aller ganzen Zahlen mit Ausnahme des Elements an diesem Index ist**.\n",
    "\n",
    "**Zum Beispiel würde eine Eingabe von [1,2,3,4] die Liste mit den Werten [24,12,8,6] zurückgeben, indem die folgenden Operationen ausgeführt werden:[2×3×4,1×3×4,1×2×4,1×2×2×3]**.\n",
    "\n",
    "## Voraussetzungen\n",
    "\n",
    "**Du darfst keine Division in deiner Antwort verwenden! Das bedeutet, du kannst nicht einfach alle Zahlen multiplizieren und anschließend durch die einzelnen Elemente für jeden Index teilen!**\n",
    "\n",
    "**Versuche bitte zuerst das Problem auf einer Tafel oder mit Papier und Stift zu lösen.**"
   ]
  },
  {
   "cell_type": "markdown",
   "metadata": {
    "collapsed": true
   },
   "source": [
    "___\n",
    "## Lösung\n",
    "\n",
    "Wenn du dir die Liste oben mit der Multiplikation ansiehst, wirst du feststellen, dass wir Multiplikationen wiederholen, wie z.B. 2 mal 3 oder 3 mal 4 bei mehreren Einträgen in der neuen Liste. \n",
    "\n",
    "Wir werden einen Greedy-Algorithmus wählen und die Ergebnisse für die spätere Wiederverwendung bei anderen Indizes aufzeichnen. Wir müssen auch darüber nachdenken, was passiert, wenn eine Zahl Null ist!\n",
    "\n",
    "Um die Produkte aller ganzen Zahlen zu finden (mit Ausnahme der ganzen Zahl in diesem Index), werden wir unsere Liste tatsächlich zweimal mit Greedy-Algorithmus durchgehen. \n",
    "\n",
    "Im ersten Durchgang erhalten wir die Produkte aller ganzen Zahlen **vor** jedem Index, und dann im zweiten Durchgang gehen wir **zurück**, um die Produkte aller ganzen Zahlen nach jedem Index zu erhalten.\n",
    "\n",
    "Dann müssen wir nur noch alle Produkte vor und nach jedem Index multiplizieren, um das endgültige Produktergebnis zu erhalten!\n",
    "\n",
    "Sehen wir uns das in Aktion an:"
   ]
  },
  {
   "cell_type": "code",
   "execution_count": 1,
   "metadata": {},
   "outputs": [],
   "source": [
    "def index_prod(lst):\n",
    "    \n",
    "    # Erstellen einer leeren Ausgabeliste\n",
    "    output = [None] * len(lst)\n",
    "    \n",
    "    # Initialisieren des Ausgangsprodukts \n",
    "    product = 1\n",
    "    # und die greedy-Iterationsvariable\n",
    "    i = 0\n",
    "    \n",
    "    while i < len(lst):\n",
    "        \n",
    "        # Index als kumuliertes Produkt festlegen\n",
    "        output[i] = product\n",
    "        \n",
    "        # Kumuliertes Produkt\n",
    "        product *= lst[i]\n",
    "        \n",
    "        # Weitergehen\n",
    "        i +=1\n",
    "        \n",
    "    \n",
    "    # Nun zu unserem greedy-Rückwärtslauf.\n",
    "    product = 1\n",
    "    \n",
    "    # Iterationsvariable auf das letzte Listenelement setzen\n",
    "    # ((len()-1) unter Berücksichtigung des Index 0)\n",
    "    i = len(lst) - 1\n",
    "    \n",
    "    # Bis zum Anfang der Liste\n",
    "    while i >=0:\n",
    "        \n",
    "        # Gleiche Operationen wie zuvor, nur rückwärts\n",
    "        output[i] *= product\n",
    "        product *= lst[i]\n",
    "        i -= 1\n",
    "        \n",
    "    return output    "
   ]
  },
  {
   "cell_type": "code",
   "execution_count": 2,
   "metadata": {},
   "outputs": [
    {
     "data": {
      "text/plain": [
       "[24, 12, 8, 6]"
      ]
     },
     "execution_count": 2,
     "metadata": {},
     "output_type": "execute_result"
    }
   ],
   "source": [
    "index_prod([1,2,3,4])"
   ]
  },
  {
   "cell_type": "code",
   "execution_count": 3,
   "metadata": {},
   "outputs": [
    {
     "data": {
      "text/plain": [
       "[24, 0, 0, 0, 0]"
      ]
     },
     "execution_count": 3,
     "metadata": {},
     "output_type": "execute_result"
    }
   ],
   "source": [
    "index_prod([0,1,2,3,4])"
   ]
  },
  {
   "cell_type": "markdown",
   "metadata": {},
   "source": [
    "Überprüfe die Lösung und stelle sicher, dass du sie verstanden hast!  Die Lösung hat eine Zeit- und Raum-Komplexität von O(n)!\n",
    "# Gut gemacht!"
   ]
  }
 ],
 "metadata": {
  "kernelspec": {
   "display_name": "Python 3",
   "language": "python",
   "name": "python3"
  },
  "language_info": {
   "codemirror_mode": {
    "name": "ipython",
    "version": 3
   },
   "file_extension": ".py",
   "mimetype": "text/x-python",
   "name": "python",
   "nbconvert_exporter": "python",
   "pygments_lexer": "ipython3",
   "version": "3.7.0"
  }
 },
 "nbformat": 4,
 "nbformat_minor": 1
}
