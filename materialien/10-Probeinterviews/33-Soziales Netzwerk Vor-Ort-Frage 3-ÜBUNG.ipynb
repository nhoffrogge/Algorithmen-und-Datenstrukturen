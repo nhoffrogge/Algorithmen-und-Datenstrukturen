{
 "cells": [
  {
   "cell_type": "markdown",
   "metadata": {},
   "source": [
    "<a href=\"http://datamics.com/de/courses/\"><img src=../DATA/bg_datamics_top.png></a>\n",
    "\n",
    "<em text-align:center>© Datamics</em>\n",
    "# Vor-Ort-Frage 3\n",
    "\n",
    "## Problem\n",
    "\n",
    "**Erstelle eine Funktion, die eine Liste mit unsortierten Preisen (ganze Zahlen) und einen maximal möglichen Preiswert aufnimmt, und gib eine sortierte Liste von Preisen zurück.**\n",
    "\n",
    "## Anforderungen\n",
    "\n",
    "**Deine Funktion sollte in der Lage sein, dies in kürzerer Zeit als O(nlogn) durchzuführen.**"
   ]
  },
  {
   "cell_type": "markdown",
   "metadata": {},
   "source": [
    "# Viel Glück!"
   ]
  }
 ],
 "metadata": {
  "kernelspec": {
   "display_name": "Python 3",
   "language": "python",
   "name": "python3"
  },
  "language_info": {
   "codemirror_mode": {
    "name": "ipython",
    "version": 3
   },
   "file_extension": ".py",
   "mimetype": "text/x-python",
   "name": "python",
   "nbconvert_exporter": "python",
   "pygments_lexer": "ipython3",
   "version": "3.7.0"
  }
 },
 "nbformat": 4,
 "nbformat_minor": 1
}
