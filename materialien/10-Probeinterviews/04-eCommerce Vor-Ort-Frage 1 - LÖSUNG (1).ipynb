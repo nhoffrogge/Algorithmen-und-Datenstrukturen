{
 "cells": [
  {
   "cell_type": "markdown",
   "metadata": {},
   "source": [
    "<a href=\"http://datamics.com/de/courses/\"><img src=../DATA/bg_datamics_top.png></a>\n",
    "\n",
    "<em text-align:center>©  Datamics</em>\n",
    "# Vor-Ort-Frage 1 - LÖSUNG\n",
    "\n",
    "## Problem\n",
    "\n",
    "**Du hast eine Liste der bisherigen Aktienpreise der Amazon-Aktie für einen einzigen Tag erhalten. Der Index der Liste stellt den Zeitstempel dar, so dass das Element mit dem Index 0 der Anfangspreis der Aktie ist, und das Element mit dem Index 1 der nächste erfasste Preis der Aktie an diesem Tag ist, etc. Deine Aufgabe ist es, eine Funktion zu schreiben, die den maximalen Gewinn aus dem Kauf und Verkauf einer einzigen Aktie der Amazon-Aktien an diesem Tag liefert. Denke daran, dies so effizient wie möglich zu machen.**\n",
    "\n",
    "\n",
    "Zum Beispiel, wenn dir diese Liste der Aktienkurse gegeben wird::\n",
    "\n",
    "Preise = [12,11,15,15,3,10]\n",
    "\n",
    "Dann würde deine Funktion den größtmöglichen Gewinn zurückgeben, welcher 7 wäre (kaufen bei 3 und verkaufen bei 10).\n",
    "\n",
    "## Anforderungen\n",
    "\n",
    "**Probiere dieses Problem zuerst mit Papier und Bleistift zu lösen, ohne eine IDE zu verwenden. Denke auch daran, dass du in der Lage sein solltest, eine bessere Lösung zu finden, als nur rohe Gewalt (brute force), die jede mögliche Verkaufskombination erzwingt**.\n",
    "\n",
    "Außerdem kannst du eine Aktie nicht \"short\" verkaufen, du musst *kaufen, bevor du die Aktie verkaufst.*\n"
   ]
  },
  {
   "cell_type": "markdown",
   "metadata": {
    "collapsed": true
   },
   "source": [
    "## Lösung\n",
    "\n",
    "Denken wir über ein paar Dinge nach, bevor wir mit der Programmierung beginnen. Etwas, worüber man gleich nachdenken sollte, ist, dass wir nicht einfach nur den Höchstpreis und den Tiefstpreis ermitteln und dann die beiden subtrahieren können, weil der Höchstpreis vor dem Mindestpreis liegen könnte.\n",
    "\n",
    "Die Brute-Force-Methode wäre, jedes mögliche Paar von Preiskombinationen auszuprobieren, aber das wäre O(N^2), ziemlich schlecht. Auch da es sich hierbei um eine Interviewumgebung handelt, solltest du wahrscheinlich bereits wissen, dass es eine intelligentere Lösung gibt.\n",
    "\n",
    "In diesem Fall werden wir einen [Greedy-Algorithmus](https://www.wikiwand.com/de/Greedy-Algorithmus) verwenden. Wir werden durch die Liste der Aktienkurse iterieren und dabei unseren maximalen Gewinn im Auge behalten.\n",
    "\n",
    "Das bedeutet, dass wir für jeden Preis den bisher niedrigsten Preis im Auge behalten und dann prüfen, ob wir einen besseren Gewinn als unseren aktuellen Maximalpreis erzielen können.\n",
    "\n",
    "Sehen wir uns eine Implementierung davon an:"
   ]
  },
  {
   "cell_type": "code",
   "execution_count": 1,
   "metadata": {},
   "outputs": [],
   "source": [
    "def profit(stock_prices):\n",
    "    \n",
    "    # Tiefstpreismarkierung auf den ersten Preis setzen\n",
    "    min_stock_price = stock_prices[0]\n",
    "    \n",
    "    # Mit einem Profit von Null anfangen\n",
    "    max_profit = 0\n",
    "    \n",
    "    for price in stock_prices:\n",
    "        \n",
    "        # Überprüfe ob der markierte Tiefstpreis noch der niedrigste ist.\n",
    "        min_stock_price = min(min_stock_price,price)\n",
    "        \n",
    "        # Subtrahiere den aktuellen Preis mit unsere Tiefstpreismarkierung\n",
    "        # , um den aktuellen Gewinn zu berechnen, und damit dann  \n",
    "        # einen Gewinnvergleich mit dem max_profit durchzuführen. \n",
    "        comparison_profit = price - min_stock_price\n",
    "        \n",
    "        # Überprüfe ob der Höchstpreis noch der höchste ist.  \n",
    "        max_profit = max(max_profit,comparison_profit)\n",
    "        \n",
    "    return max_profit"
   ]
  },
  {
   "cell_type": "code",
   "execution_count": 2,
   "metadata": {},
   "outputs": [
    {
     "data": {
      "text/plain": [
       "39"
      ]
     },
     "execution_count": 2,
     "metadata": {},
     "output_type": "execute_result"
    }
   ],
   "source": [
    "profit([10,12,14,12,13,11,8,7,6,13,23,45,11,10])"
   ]
  },
  {
   "cell_type": "markdown",
   "metadata": {},
   "source": [
    "Derzeit finden wir den maximalen Gewinn in einem Durchgang O(n) und im konstanten Raum O(1). Allerdings denken wir immer noch nicht über irgendwelche Edge-Cases nach. Beispielsweise müssen wir uns mit den folgenden Szenarien befassen:\n",
    "\n",
    "* Der Aktienkurs sinkt immer.\n",
    "* Es gibt weniger als zwei Aktienkurse in der Liste.\n",
    "\n",
    "Wir können uns um das erste Szenario kümmern, indem wir einen negativen Gewinn zurückgeben, wenn der Preis den ganzen Tag sinkt (so können wir wissen, wie viel wir verloren haben). Und das zweite Problem kann mit einem schnellen **len()** Check gelöst werden. Sehen wir uns die Komplettlösung an:"
   ]
  },
  {
   "cell_type": "code",
   "execution_count": 3,
   "metadata": {},
   "outputs": [],
   "source": [
    "def profit2(stock_prices):\n",
    "    \n",
    "    # Länge der Liste prüfen\n",
    "    if len(stock_prices) < 2:\n",
    "        raise Exception('Sie benötigen mindestens zwei Aktienkurse!')\n",
    "    \n",
    "    # Tiefstpreismarkierung auf den ersten Preis setzen\n",
    "    min_stock_price = stock_prices[0]\n",
    "    \n",
    "    # Starte mit einem anfänglichen maximalen Gewinn.\n",
    "    max_profit = stock_prices[1] - stock_prices[0]\n",
    "    \n",
    "    # Ersten Index 0 überspringen \n",
    "    for price in stock_prices[1:]:\n",
    "        \n",
    "        \n",
    "        # BITTE BEACHTE DIE UMORDNUNG \n",
    "        # AUFGRUND DES NEGATIVEN PROFIT-TRACKING.\n",
    "        \n",
    "        # Subtrahiere den aktuellen Preis mit unsere Tiefstpreismarkierung\n",
    "        # , um den aktuellen Gewinn zu berechnen, und damit dann  \n",
    "        # einen Gewinnvergleich mit dem max_profit durchzuführen. \n",
    "        comparison_profit = price - min_stock_price\n",
    "        \n",
    "        # Überprüfe ob der Höchstpreis noch der höchste ist.  \n",
    "        max_profit = max(max_profit,comparison_profit)\n",
    "        \n",
    "        # Überprüfe ob der markierte Tiefstpreis noch der niedrigste ist.\n",
    "        min_stock_price = min(min_stock_price,price)\n",
    "        \n",
    "        \n",
    "        \n",
    "        \n",
    "        \n",
    "    return max_profit"
   ]
  },
  {
   "cell_type": "code",
   "execution_count": 4,
   "metadata": {},
   "outputs": [
    {
     "ename": "Exception",
     "evalue": "Sie benötigen mindestens zwei Aktienkurse!",
     "output_type": "error",
     "traceback": [
      "\u001b[1;31m---------------------------------------------------------------------------\u001b[0m",
      "\u001b[1;31mException\u001b[0m                                 Traceback (most recent call last)",
      "\u001b[1;32m<ipython-input-4-9a864ce32d12>\u001b[0m in \u001b[0;36m<module>\u001b[1;34m\u001b[0m\n\u001b[0;32m      1\u001b[0m \u001b[1;31m# Exception Raised\u001b[0m\u001b[1;33m\u001b[0m\u001b[1;33m\u001b[0m\u001b[1;33m\u001b[0m\u001b[0m\n\u001b[1;32m----> 2\u001b[1;33m \u001b[0mprofit2\u001b[0m\u001b[1;33m(\u001b[0m\u001b[1;33m[\u001b[0m\u001b[1;36m1\u001b[0m\u001b[1;33m]\u001b[0m\u001b[1;33m)\u001b[0m\u001b[1;33m\u001b[0m\u001b[1;33m\u001b[0m\u001b[0m\n\u001b[0m",
      "\u001b[1;32m<ipython-input-3-b619fc7f2d0f>\u001b[0m in \u001b[0;36mprofit2\u001b[1;34m(stock_prices)\u001b[0m\n\u001b[0;32m      3\u001b[0m     \u001b[1;31m# Länge der Liste prüfen\u001b[0m\u001b[1;33m\u001b[0m\u001b[1;33m\u001b[0m\u001b[1;33m\u001b[0m\u001b[0m\n\u001b[0;32m      4\u001b[0m     \u001b[1;32mif\u001b[0m \u001b[0mlen\u001b[0m\u001b[1;33m(\u001b[0m\u001b[0mstock_prices\u001b[0m\u001b[1;33m)\u001b[0m \u001b[1;33m<\u001b[0m \u001b[1;36m2\u001b[0m\u001b[1;33m:\u001b[0m\u001b[1;33m\u001b[0m\u001b[1;33m\u001b[0m\u001b[0m\n\u001b[1;32m----> 5\u001b[1;33m         \u001b[1;32mraise\u001b[0m \u001b[0mException\u001b[0m\u001b[1;33m(\u001b[0m\u001b[1;34m'Sie benötigen mindestens zwei Aktienkurse!'\u001b[0m\u001b[1;33m)\u001b[0m\u001b[1;33m\u001b[0m\u001b[1;33m\u001b[0m\u001b[0m\n\u001b[0m\u001b[0;32m      6\u001b[0m \u001b[1;33m\u001b[0m\u001b[0m\n\u001b[0;32m      7\u001b[0m     \u001b[1;31m# Tiefstpreismarkierung auf dem ersten Preis setzen\u001b[0m\u001b[1;33m\u001b[0m\u001b[1;33m\u001b[0m\u001b[1;33m\u001b[0m\u001b[0m\n",
      "\u001b[1;31mException\u001b[0m: Sie benötigen mindestens zwei Aktienkurse!"
     ]
    }
   ],
   "source": [
    "# Exception geworfen\n",
    "profit2([1])"
   ]
  },
  {
   "cell_type": "code",
   "execution_count": null,
   "metadata": {},
   "outputs": [],
   "source": [
    "profit2([30,22,21,5])"
   ]
  },
  {
   "cell_type": "markdown",
   "metadata": {},
   "source": [
    "Großartig! Jetzt können wir uns auf den Worst-Case vorbereiten. Es ist wichtig, Randfälle im Auge zu behalten, besonders wenn du in der Lage bist, die ursprüngliche Frage ziemlich schnell zu lösen.\n",
    "\n",
    "# Gut gemacht!"
   ]
  }
 ],
 "metadata": {
  "kernelspec": {
   "display_name": "Python 3",
   "language": "python",
   "name": "python3"
  },
  "language_info": {
   "codemirror_mode": {
    "name": "ipython",
    "version": 3
   },
   "file_extension": ".py",
   "mimetype": "text/x-python",
   "name": "python",
   "nbconvert_exporter": "python",
   "pygments_lexer": "ipython3",
   "version": "3.7.0"
  }
 },
 "nbformat": 4,
 "nbformat_minor": 1
}
