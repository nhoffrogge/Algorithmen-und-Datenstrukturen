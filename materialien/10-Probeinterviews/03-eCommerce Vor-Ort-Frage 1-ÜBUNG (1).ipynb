{
 "cells": [
  {
   "cell_type": "markdown",
   "metadata": {},
   "source": [
    "<a href=\"http://datamics.com/de/courses/\"><img src=../DATA/bg_datamics_top.png></a>\n",
    "\n",
    "<em text-align:center>© Datamics</em>\n",
    "# Vor-Ort-Frage 1 \n",
    "\n",
    "## Problem\n",
    "\n",
    "**Du hast eine Liste der bisherigen Aktienpreise der Amazon-Aktie für einen einzigen Tag erhalten. Der Index der Liste stellt den Zeitstempel dar, so dass das Element mit dem Index 0 der Anfangspreis der Aktie ist, und das Element mit dem Index 1 der nächste erfasste Preis der Aktie an diesem Tag ist, etc. Deine Aufgabe ist es, eine Funktion zu schreiben, die den maximalen Gewinn aus dem Kauf und Verkauf einer einzigen Aktie der Amazon-Aktien an diesem Tag liefert. Denke daran, dies so effizient wie möglich zu machen.**\n",
    "\n",
    "\n",
    "Zum Beispiel, wenn dir diese Liste der Aktienkurse gegeben wird::\n",
    "\n",
    "Preise = [12,11,15,15,3,10]\n",
    "\n",
    "Dann würde deine Funktion den größtmöglichen Gewinn zurückgeben, welcher 7 wäre (kaufen bei 3 und verkaufen bei 10).\n",
    "\n",
    "## Anforderungen\n",
    "\n",
    "**Probiere dieses Problem zuerst mit Papier und Bleistift zu lösen, ohne eine IDE zu verwenden. Denke auch daran, dass du in der Lage sein solltest, eine bessere Lösung zu finden, als nur rohe Gewalt (brute force), die jede mögliche Verkaufskombination erzwingt**.\n",
    "\n",
    "Außerdem kannst du eine Aktie nicht \"short\" verkaufen, du musst *kaufen, bevor du die Aktie verkaufst.*\n"
   ]
  },
  {
   "cell_type": "markdown",
   "metadata": {},
   "source": [
    "# Viel Glück!"
   ]
  }
 ],
 "metadata": {
  "kernelspec": {
   "display_name": "Python 3",
   "language": "python",
   "name": "python3"
  },
  "language_info": {
   "codemirror_mode": {
    "name": "ipython",
    "version": 3
   },
   "file_extension": ".py",
   "mimetype": "text/x-python",
   "name": "python",
   "nbconvert_exporter": "python",
   "pygments_lexer": "ipython3",
   "version": "3.7.0"
  }
 },
 "nbformat": 4,
 "nbformat_minor": 1
}
