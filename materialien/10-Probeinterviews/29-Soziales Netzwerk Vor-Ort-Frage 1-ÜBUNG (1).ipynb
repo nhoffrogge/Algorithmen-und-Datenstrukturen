{
 "cells": [
  {
   "cell_type": "markdown",
   "metadata": {},
   "source": [
    "<a href=\"http://datamics.com/de/courses/\"><img src=../DATA/bg_datamics_top.png></a>\n",
    "\n",
    "<em text-align:center>© Datamics</em>\n",
    "# Vor-Ort-Frage 1 \n",
    "\n",
    "## Problem\n",
    "\n",
    "**Bei einer Liste von ganzen Zahlen und einer Zielzahl schreibe eine Funktion, die einen Booleschen Wert zurückgibt und angibt, ob es möglich ist, zwei ganze Zahlen aus der Liste zu summieren, um die Zielzahl zu erreichen.**\n",
    "\n",
    "## Anforderungen\n",
    "\n",
    "**Probiere zuerst Stift und Papier aus, bevor du deine Lösung ausprogrammierst.**\n",
    "\n",
    "**Du kannst ein ganzzahliges Element nicht zweimal verwenden. Optimiere dein Algorithmus für die Zeit über den Raum.**"
   ]
  },
  {
   "cell_type": "markdown",
   "metadata": {},
   "source": [
    "# Viel Glück!"
   ]
  }
 ],
 "metadata": {
  "kernelspec": {
   "display_name": "Python 3",
   "language": "python",
   "name": "python3"
  },
  "language_info": {
   "codemirror_mode": {
    "name": "ipython",
    "version": 3
   },
   "file_extension": ".py",
   "mimetype": "text/x-python",
   "name": "python",
   "nbconvert_exporter": "python",
   "pygments_lexer": "ipython3",
   "version": "3.7.0"
  }
 },
 "nbformat": 4,
 "nbformat_minor": 1
}
