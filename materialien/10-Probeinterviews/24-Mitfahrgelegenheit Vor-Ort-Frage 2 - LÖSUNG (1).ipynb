{
 "cells": [
  {
   "cell_type": "markdown",
   "metadata": {},
   "source": [
    "<a href=\"http://datamics.com/de/courses/\"><img src=../DATA/bg_datamics_top.png></a>\n",
    "\n",
    "<em text-align:center>© Datamics</em>\n",
    "# Vor-Ort-Frage 2 - LÖSUNG\n",
    "\n",
    "## Problem\n",
    "\n",
    "**Schreibe eine Funktion, die einen Zielbetrag und eine Liste der möglichen Münzwerte angibt und die Anzahl der Möglichkeiten zurückgibt, den Zielbetrag anhand der Münzwerte zu ändern**.\n",
    "\n",
    "## Anforderungen\n",
    "\n",
    "**Schreibe deine Ergebnisse auf Papier mit Bleistift aus und schaue dann, ob du deine Lösung programmieren kannst**."
   ]
  },
  {
   "cell_type": "markdown",
   "metadata": {},
   "source": [
    "## Lösung\n",
    "\n",
    "Das ist ein klassisches Interviewproblem, so klassisch, dass du bereits ein sehr ähnliches Problem im Rekursionsabschnitt gesehen hast! Bitte achte darauf, dass du dieses Problem zuerst versuchst, bevor du unsere Lösung hier durchliest!\n",
    "\n",
    "In dieser Lösung werden wir einen [bottom-up](https://www.wikiwand.com/de/Top-Down-_und_Bottom-Up-Design) Algorithmus verwenden.\n",
    "\n",
    "\n",
    "* Während wir durch jede Münze iterieren, fügen wir die Möglichkeiten hinzu, arr[i - Coin] zu arr[i] zu machen.\n",
    "* Wenn wir 2 Möglichkeiten haben, 4 zu erreichen, und jetzt auf einer Münze mit dem Wert 3 iterieren, sollte es 2 Möglichkeiten geben, 7 zu erreichen.\n",
    "* Wir fügen im Wesentlichen die Münze, die wir wiederholen, zu der Anzahl der Möglichkeiten hinzu, arr[i] zu erreichen."
   ]
  },
  {
   "cell_type": "code",
   "execution_count": 1,
   "metadata": {},
   "outputs": [],
   "source": [
    "def solution(n, coins):\n",
    "    \n",
    "    # Einrichtung unseres Arrays zur Verfolgung der Ergebnisse\n",
    "    arr = [1] + [0] * n\n",
    "    \n",
    "    for coin in coins:\n",
    "        for i in range(coin, n + 1):\n",
    "            arr[i] += arr[i - coin]\n",
    "            \n",
    "    if n == 0:\n",
    "        return 0\n",
    "    else:\n",
    "        return arr[n]\n",
    "    "
   ]
  },
  {
   "cell_type": "code",
   "execution_count": 2,
   "metadata": {},
   "outputs": [
    {
     "data": {
      "text/plain": [
       "884"
      ]
     },
     "execution_count": 2,
     "metadata": {},
     "output_type": "execute_result"
    }
   ],
   "source": [
    "solution(100, [1, 2, 3])"
   ]
  },
  {
   "cell_type": "markdown",
   "metadata": {},
   "source": [
    "Diese Lösung führt zu O((m)(n)), wobei m die Anzahl der Münzen ist und wir über n Operationen iterieren. Das hat eine O(n)-Raumkomplexität."
   ]
  },
  {
   "cell_type": "markdown",
   "metadata": {},
   "source": [
    "# Gut gemacht!"
   ]
  }
 ],
 "metadata": {
  "kernelspec": {
   "display_name": "Python 3",
   "language": "python",
   "name": "python3"
  },
  "language_info": {
   "codemirror_mode": {
    "name": "ipython",
    "version": 3
   },
   "file_extension": ".py",
   "mimetype": "text/x-python",
   "name": "python",
   "nbconvert_exporter": "python",
   "pygments_lexer": "ipython3",
   "version": "3.7.0"
  }
 },
 "nbformat": 4,
 "nbformat_minor": 1
}
