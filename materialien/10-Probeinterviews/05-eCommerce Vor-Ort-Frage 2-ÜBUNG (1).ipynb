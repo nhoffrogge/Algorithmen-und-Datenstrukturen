{
 "cells": [
  {
   "cell_type": "markdown",
   "metadata": {},
   "source": [
    "<a href=\"http://datamics.com/de/courses/\"><img src=../DATA/bg_datamics_top.png></a>\n",
    "\n",
    "<em text-align:center>©  Datamics</em>\n",
    "# Vor-Ort-Frage 2 \n",
    "\n",
    "## Problem\n",
    "\n",
    "**Bei einer Liste von ganzen Zahlen schreibe eine Funktion, die eine Liste zurückgibt, in der für jeden Index das Element das Produkt aller ganzen Zahlen mit Ausnahme des Elements an diesem Index ist**.\n",
    "\n",
    "**Zum Beispiel würde eine Eingabe von [1,2,3,4] die Liste mit dem Werten [24,12,8,6] zurückgeben, indem die folgenden Operationen ausgeführt werden:[2×3×4,1×3×4,1×2×4,1×2×2×3]**.\n",
    "\n",
    "## Voraussetzungen\n",
    "\n",
    "**Du darfst keine Division in deiner Antwort verwenden! Das bedeutet, du kannst nicht einfach alle Zahlen multiplizieren und anschließend durch die einzelnen Elemente für jeden Index teilen!**\n",
    "\n",
    "**Versuche bitte zuerst das Problem auf einer Tafel oder mit Papier und Stift zu lösen.**\n"
   ]
  },
  {
   "cell_type": "markdown",
   "metadata": {},
   "source": [
    "# Viel Glück"
   ]
  }
 ],
 "metadata": {
  "kernelspec": {
   "display_name": "Python 3",
   "language": "python",
   "name": "python3"
  },
  "language_info": {
   "codemirror_mode": {
    "name": "ipython",
    "version": 3
   },
   "file_extension": ".py",
   "mimetype": "text/x-python",
   "name": "python",
   "nbconvert_exporter": "python",
   "pygments_lexer": "ipython3",
   "version": "3.7.0"
  }
 },
 "nbformat": 4,
 "nbformat_minor": 1
}
