{
 "cells": [
  {
   "cell_type": "markdown",
   "metadata": {},
   "source": [
    "<a href=\"http://datamics.com/de/courses/\"><img src=../DATA/bg_datamics_top.png></a>\n",
    "\n",
    "<em text-align:center>© Datamics</em>\n",
    "# Vor-Ort-Frage 1 - LÖSUNG\n",
    "___\n",
    "\n",
    "## Frage\n",
    "**Bei einem Würfel, der 1 bis 7 würfelt (mit gleicher Wahrscheinlichkeit), simuliere einen 5-seitigen Würfel. Am besten schreibe deine Lösung als Funktion. **\n",
    "\n",
    "## Anforderungen\n",
    "\n",
    "**Du MUSST dies auf Stift und Papier oder auf einer Tafel erledigen. Erst wenn du es auf Papier und Stift gelöst hast, ist eine tatsächliche Programmierung erlaubt!**"
   ]
  },
  {
   "cell_type": "markdown",
   "metadata": {},
   "source": [
    "___"
   ]
  },
  {
   "cell_type": "markdown",
   "metadata": {},
   "source": [
    "# LÖSUNG\n",
    "\n",
    "Das ist ein neues Problem, das wir noch nie direkt gesehen haben! Oft wird diese Frage in Form von Funktionen gestellt, z.B. wenn du eine Funktion random_7() angegeben hast und du sie als Eingabe nimmst und random_5() erzeugst.\n",
    "\n",
    "Der Schlüssel zur Lösung dieses Problems ist, sich auf die Anforderung zu konzentrieren, dass die endgültige Verteilung der Würfe gleichmäßig ist, auch wenn dir keine Anforderungen an Zeit und Raum gestellt wurden, so dass die Lösung eigentlich *sehr* einfach ist, mach einfach weiter, wenn du eine Zahl größer als 5 hast!\n",
    "\n",
    "Wir können diesen Code schreiben:"
   ]
  },
  {
   "cell_type": "code",
   "execution_count": 1,
   "metadata": {},
   "outputs": [],
   "source": [
    "from random import randint\n",
    " \n",
    "def dice7():\n",
    "    return randint(1, 7)\n",
    " \n",
    "# Unsere Lösung\n",
    "def convert7to5():\n",
    "    \n",
    "    # Startwurf (muss nur größer als 5 sein)\n",
    "    roll = 7\n",
    "    \n",
    "    while roll > 5:\n",
    "        \n",
    "        roll = dice7()\n",
    "        print ('dice7() produzierte einen Wurf von ',roll)\n",
    "    print (' Dein letzter zurückgegebener Wurf ist unten:')\n",
    "    return roll"
   ]
  },
  {
   "cell_type": "code",
   "execution_count": 3,
   "metadata": {},
   "outputs": [
    {
     "name": "stdout",
     "output_type": "stream",
     "text": [
      "dice7() produzierte einen Wurf von  7\n",
      "dice7() produzierte einen Wurf von  6\n",
      "dice7() produzierte einen Wurf von  2\n",
      " Dein letzter zurückgegebener Wurf ist unten:\n"
     ]
    },
    {
     "data": {
      "text/plain": [
       "2"
      ]
     },
     "execution_count": 3,
     "metadata": {},
     "output_type": "execute_result"
    }
   ],
   "source": [
    "convert7to5()"
   ]
  },
  {
   "cell_type": "markdown",
   "metadata": {},
   "source": [
    "Nun wird das nächste Problem (Vor-Ort-Frage 2) schwieriger sein, die umgekehrte Umrüstung von Würfeln! Diese Frage sollte als Erinnerung dienen, die Lösung einer Frage nicht zu überdenken! Denke bitte daran, dass unsere Lösung das Potenzial hat, unendlich zu laufen, wenn wir weiterhin 6er und 7er würfeln (obwohl dies höchst unwahrscheinlich ist).\n",
    "\n",
    "## Gut gemacht!"
   ]
  }
 ],
 "metadata": {
  "kernelspec": {
   "display_name": "Python 3",
   "language": "python",
   "name": "python3"
  },
  "language_info": {
   "codemirror_mode": {
    "name": "ipython",
    "version": 3
   },
   "file_extension": ".py",
   "mimetype": "text/x-python",
   "name": "python",
   "nbconvert_exporter": "python",
   "pygments_lexer": "ipython3",
   "version": "3.7.0"
  }
 },
 "nbformat": 4,
 "nbformat_minor": 1
}
