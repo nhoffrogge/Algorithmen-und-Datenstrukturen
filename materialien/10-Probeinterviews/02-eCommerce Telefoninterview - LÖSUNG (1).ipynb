{
 "cells": [
  {
   "cell_type": "markdown",
   "metadata": {},
   "source": [
    "<a href=\"http://datamics.com/de/courses/\"><img src=../DATA/bg_datamics_top.png></a>\n",
    "\n",
    "<em text-align:center>©  Datamics</em>\n",
    "# Telefoninterview - LÖSUNG\n",
    "\n",
    "## Problem\n",
    "\n",
    "**Ein Turm hat 100 Etagen. Du hast zwei Eier bekommen. Die Eier sind so widerstandsfähig, dass sie von einer bestimmten Etage im Turm fallen gelassen werden können, ohne zu brechen. Du wurdest beauftragt, die höchste Etage zu finden, auf der ein Ei fallen gelassen werden kann, ohne zu brechen, und zwar mit so wenigen Abwürfen wie möglich. Wenn ein Ei oberhalb seiner Ziel-Etage fallen gelassen wird, zerbricht es. Wenn es von dieser Ziel-Etage oder darunter fallen gelassen wird, bleibt es intakt und du kannst das Ei erneut auf einer anderen Etage fallen lassen.**\n",
    "\n",
    "**Zeige algorithmisch, wie du dies mit so wenig Abwürfen wie möglich tun würdest.**\n",
    "\n",
    "## Anforderungen\n",
    "\n",
    "**Benutze Papier und Stift oder ein Whiteboard um dieses Problem zu lösen**."
   ]
  },
  {
   "cell_type": "markdown",
   "metadata": {
    "collapsed": true
   },
   "source": [
    "## Lösung\n",
    "\n",
    "**Wir haben dieses Problem bereits im Rätselbereich gesehen, hier ist die Antwort aus diesem Bereich (alternativ kannst du auch \"2 Eier 100 Stockwerke\" für eine Vielzahl von Erklärungen zu dieser Lösung googeln)**.\n",
    "\n",
    "\n",
    "Fang im 10. Stock an und steigere die Stockwerke in Vielfachen von 10.\n",
    "Wenn das erste Ei bricht, sagen wir im 20. Stock, dann kannst du alle Stockwerke zwischen dem 11. und 19. mit dem zweiten Ei überprüfen, um zu sehen, auf welchem Stockwerk es nicht zerbricht.\n",
    "\n",
    "Die Worst-Case Anzahl der Abwürfe beträgt in diesem Fall 19. Wenn die Schwelle der 99. Stock wäre, dann müsste man das erste Ei 10 mal und das zweite Ei 9 mal linear fallen lassen.\n",
    "\n",
    "**Beste Lösung:**\n",
    "Wir müssen diese Worst-Case-Anzahl von Abwürfe minimieren. Dazu müssen wir das Problem verallgemeinern, um n Stockwerke zu haben. Was wäre der Stufenwert für das erste Ei? Wären es immer noch zehn? Angenommen, wir haben 200 Stockwerke. Wäre der Schrittwert noch 10? \n",
    "\n",
    "Der Punkt, der hier zu beachten ist, ist, dass wir versuchen, die Worst-Case-Anzahl der Abwürfe zu minimieren, die auftritt, wenn sich die Schwelle in den höchsten Stockwerken befindet. Unsere Schritte sollten also von einem Wert sein, der die Anzahl der Würfe des ersten Eis reduziert.\n",
    "\n",
    "Nehmen wir an, wir machen zunächst einen Schrittwert m. Wenn jeder nachfolgende Schritt m-1 ist,\n",
    "dann, \n",
    "$$m+m-1+m-2+......+1=n$$\n",
    "\n",
    "Das ist \n",
    "\n",
    "$$\\frac{m∗(m+1)}{2}=n$$\n",
    "\n",
    "Wenn n =100, dann wäre m=13.65, weswegen wir, da wir das Ei nicht von einer Dezimalstelle eines Stockwerks fallen lassen können, eigentlich 14 verwenden.\n",
    "\n",
    "Also, das Worst-Case-Szenario ist jetzt, wenn sich die Schwelle in den ersten 14 Stockwerken befindet, wobei die Anzahl der Würfe 14 beträgt.\n",
    "\n",
    "Beachte bitte, dass es sich hierbei lediglich um eine binäre Suche handelt!\n"
   ]
  },
  {
   "cell_type": "markdown",
   "metadata": {},
   "source": [
    "# Gut gemacht!"
   ]
  }
 ],
 "metadata": {
  "kernelspec": {
   "display_name": "Python 3",
   "language": "python",
   "name": "python3"
  },
  "language_info": {
   "codemirror_mode": {
    "name": "ipython",
    "version": 3
   },
   "file_extension": ".py",
   "mimetype": "text/x-python",
   "name": "python",
   "nbconvert_exporter": "python",
   "pygments_lexer": "ipython3",
   "version": "3.7.0"
  }
 },
 "nbformat": 4,
 "nbformat_minor": 1
}
