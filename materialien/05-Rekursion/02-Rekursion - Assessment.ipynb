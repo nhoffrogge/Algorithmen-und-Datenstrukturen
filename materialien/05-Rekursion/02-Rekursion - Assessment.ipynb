{
 "cells": [
  {
   "cell_type": "markdown",
   "metadata": {},
   "source": [
    "<a href=\"http://datamics.com/de/courses/\"><img src=../DATA/bg_datamics_top.png></a>\n",
    "\n",
    "<em text-align:center>© Datamics</em>\n",
    "# Rekursion Assessment\n",
    "\n",
    "Diese Aufgabe ist eine Vielzahl von kleinen Problemen, um dich an die Idee der Rekursion zu gewöhnen. Es sind keine ausgewachsenen Interviewfragen, sondern dienen als guter Anfang, um den Kopf \"in die Nähe\" für Rekursionsprobleme zu bringen.\n",
    "\n",
    "\n",
    "______\n",
    "### Problem 1\n",
    "\n",
    "**Schreibe eine rekursive Funktion, die eine ganze Zahl annimmt und die kumulative Summe von 0 bis zu dieser ganzen Zahl berechnet**.\n",
    "\n",
    "**Zum Beispiel, wenn n=4, gib 4+3+2+1+0 zurück, was 10.** ist.\n",
    "\n",
    "Dieses Problem ist sehr ähnlich wie das faktorielle Problem, das während der Einführung in die Rekursion auftritt. Denke daran In diesem Fall haben wir einen Basisfall von n =0.\n",
    "\n",
    "In diesem Fall haben wir:\n",
    "   n + (n-1) + (n-2) + (n-3) + ...... + 0\n",
    "   \n",
    "\n",
    "Fülle hier unten deine Lösung ein:"
   ]
  },
  {
   "cell_type": "code",
   "execution_count": 7,
   "metadata": {
    "collapsed": true
   },
   "outputs": [],
   "source": [
    "def rec_sum(n):\n",
    "    \n",
    "    pass"
   ]
  },
  {
   "cell_type": "code",
   "execution_count": 8,
   "metadata": {},
   "outputs": [
    {
     "data": {
      "text/plain": [
       "10"
      ]
     },
     "execution_count": 8,
     "metadata": {},
     "output_type": "execute_result"
    }
   ],
   "source": [
    "rec_sum(4)"
   ]
  },
  {
   "cell_type": "markdown",
   "metadata": {},
   "source": [
    "______\n",
    "### Problem 2\n",
    "\n",
    "**Gebe eine ganze Zahl an und erstelle eine Funktion, die die Summe aller einzelnen Ziffern dieser Zahl zurückgibt. Zum Beispiel:\n",
    "wenn n = 4321, Rückgabe 4+3+2+1**"
   ]
  },
  {
   "cell_type": "code",
   "execution_count": 3,
   "metadata": {
    "collapsed": true
   },
   "outputs": [],
   "source": [
    "def sum_func(n):\n",
    "    pass"
   ]
  },
  {
   "cell_type": "code",
   "execution_count": 4,
   "metadata": {},
   "outputs": [
    {
     "data": {
      "text/plain": [
       "10"
      ]
     },
     "execution_count": 4,
     "metadata": {},
     "output_type": "execute_result"
    }
   ],
   "source": [
    "sum_func(4321)"
   ]
  },
  {
   "cell_type": "markdown",
   "metadata": {},
   "source": [
    "*Hints:*"
   ]
  },
  {
   "cell_type": "markdown",
   "metadata": {},
   "source": [
    "Du musst modulo verwenden."
   ]
  },
  {
   "cell_type": "code",
   "execution_count": 1,
   "metadata": {},
   "outputs": [
    {
     "data": {
      "text/plain": [
       "1"
      ]
     },
     "execution_count": 1,
     "metadata": {},
     "output_type": "execute_result"
    }
   ],
   "source": [
    "4321%10"
   ]
  },
  {
   "cell_type": "code",
   "execution_count": 7,
   "metadata": {
    "scrolled": true
   },
   "outputs": [
    {
     "data": {
      "text/plain": [
       "432"
      ]
     },
     "execution_count": 7,
     "metadata": {},
     "output_type": "execute_result"
    }
   ],
   "source": [
    "4321 // 10"
   ]
  },
  {
   "cell_type": "markdown",
   "metadata": {},
   "source": [
    "Wir können die rekursive Funktion erdenken, indem wir das wissen:\n",
    "    \n",
    "    4502 % 10 + sum_func(4502//10)"
   ]
  },
  {
   "cell_type": "markdown",
   "metadata": {},
   "source": [
    "________\n",
    "### Problem 3\n",
    "*Hinweis: Dies ist ein fortgeschritteneres Problem als die beiden vorherigen! Es hat auch viele Variationsmöglichkeiten und wir ignorieren hier strenge Anforderungen.*\n",
    "\n",
    "Erstelle eine Funktion namens word_split(), die eine Zeichenkette **phrase** und eine Menge **list_of_words** aufnimmt. Die Funktion bestimmt dann, ob es möglich ist, die Zeichenkette so aufzuteilen, dass aus der Wortliste Wörter gebildet werden können. Du kannst davon ausgehen, dass die Phrase nur Wörter enthält, die im Wörterbuch gefunden wurden, wenn sie vollständig teilbar ist.\n",
    "\n",
    "Zum Beispiel:"
   ]
  },
  {
   "cell_type": "code",
   "execution_count": 3,
   "metadata": {},
   "outputs": [
    {
     "data": {
      "text/plain": [
       "['the', 'man', 'ran']"
      ]
     },
     "execution_count": 3,
     "metadata": {},
     "output_type": "execute_result"
    }
   ],
   "source": [
    "word_split('themanran',['the','ran','man'])"
   ]
  },
  {
   "cell_type": "code",
   "execution_count": 4,
   "metadata": {},
   "outputs": [
    {
     "data": {
      "text/plain": [
       "['i', 'love', 'dogs', 'John']"
      ]
     },
     "execution_count": 4,
     "metadata": {},
     "output_type": "execute_result"
    }
   ],
   "source": [
    "word_split('ilovedogsJohn',['i','am','a','dogs','lover','love','John'])"
   ]
  },
  {
   "cell_type": "code",
   "execution_count": 5,
   "metadata": {},
   "outputs": [
    {
     "data": {
      "text/plain": [
       "[]"
      ]
     },
     "execution_count": 5,
     "metadata": {},
     "output_type": "execute_result"
    }
   ],
   "source": [
    "word_split('themanran',['clown','ran','man'])"
   ]
  },
  {
   "cell_type": "code",
   "execution_count": 2,
   "metadata": {},
   "outputs": [],
   "source": [
    "def word_split(phrase,list_of_words, output = None):\n",
    "    pass      "
   ]
  },
  {
   "cell_type": "markdown",
   "metadata": {},
   "source": [
    "## Viel Glück!\n",
    "\n",
    "Schau dir das Lösung Notebook an, wenn du fertig bist!"
   ]
  }
 ],
 "metadata": {
  "kernelspec": {
   "display_name": "Python 3",
   "language": "python",
   "name": "python3"
  },
  "language_info": {
   "codemirror_mode": {
    "name": "ipython",
    "version": 3
   },
   "file_extension": ".py",
   "mimetype": "text/x-python",
   "name": "python",
   "nbconvert_exporter": "python",
   "pygments_lexer": "ipython3",
   "version": "3.7.0"
  }
 },
 "nbformat": 4,
 "nbformat_minor": 2
}
