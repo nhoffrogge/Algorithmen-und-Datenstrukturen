{
 "cells": [
  {
   "cell_type": "markdown",
   "metadata": {},
   "source": [
    "<a href=\"http://datamics.com/de/courses/\"><img src=../DATA/bg_datamics_top.png></a>\n",
    "\n",
    "<em text-align:center>© Datamics</em>\n",
    "# String Permutation - LÖSUNG\n",
    "\n",
    "## Problembeschreibung\n",
    "\n",
    "Schreibe eine Funktion, die Rekursion verwendet, um eine Liste aller möglichen Permutationen dieser Zeichenkette auszugeben.\n",
    "\n",
    "Zum Beispiel sollte die Funktion bei s='abc' ['abc','acb','bac','bca','cab','cba'] zurückgeben.\n",
    "\n",
    "*Hinweis: Wenn ein Zeichen wiederholt wird, behandelst du jedes Vorkommen als unterschiedlich, z.B. würde eine Eingabe von 'xxx' eine Liste mit 6 \"Versionen\" von 'xxx' liefern.*\n",
    "\n",
    "## Fülle deine Lösung unten aus.\n",
    "\n",
    "Lasst uns darüber nachdenken, was die Schritte sind, die wir hier unternehmen müssen:\n",
    "\n",
    "1. Iteriere durch die anfängliche Zeichenkette - z.B.'abc'.\n",
    "\n",
    "* Lege für jedes Zeichen in der Anfangszeichenkette dieses Zeichen beiseite und erhalte eine Liste aller Permutationen der verbleibenden Zeichenkette. Wenn also zum Beispiel die aktuelle Iteration auf 'b' steht, würden wir alle Permutationen der Zeichenkette 'ac' finden wollen.\n",
    "\n",
    "* Sobald du die Liste aus Schritt 2 hast, füge jedes Element aus dieser Liste zu dem Zeichen aus der Anfangszeichenkette hinzu und füge das Ergebnis zu unserer Liste der Endergebnisse hinzu. Wenn wir also auf'b' sind und die Liste ['ac', 'ca'] bekommen haben, würden wir 'b' zu diesen hinzufügen, was zu 'bac' und 'bca' führt, von denen wir jede zu unseren Endergebnissen hinzufügen würden.\n",
    "\n",
    "* Gibt die Liste der Endergebnisse zurück.\n",
    "\n",
    "Lasst uns weitermachen und sehen, wie das umgesetzt wird:"
   ]
  },
  {
   "cell_type": "code",
   "execution_count": 1,
   "metadata": {},
   "outputs": [],
   "source": [
    "def permute(s):\n",
    "    out = []\n",
    "    \n",
    "    # BasisFall\n",
    "    if len(s) == 1:\n",
    "        out = [s]\n",
    "        \n",
    "    else:\n",
    "        # Für jeden Buchstaben in einem String\n",
    "        for i, let in enumerate(s):\n",
    "            \n",
    "            # Für jede Permutation, \n",
    "            # die sich aus den oben beschriebenen Schritten 2 und 3 ergibt.\n",
    "            for perm in permute(s[:i] + s[i+1:]):\n",
    "                \n",
    "                # Zur Ausgabe hinzufügen\n",
    "                out += [let + perm]\n",
    "\n",
    "    return out"
   ]
  },
  {
   "cell_type": "code",
   "execution_count": 2,
   "metadata": {},
   "outputs": [
    {
     "data": {
      "text/plain": [
       "['abc', 'acb', 'bac', 'bca', 'cab', 'cba']"
      ]
     },
     "execution_count": 2,
     "metadata": {},
     "output_type": "execute_result"
    }
   ],
   "source": [
    "permute('abc')"
   ]
  },
  {
   "cell_type": "markdown",
   "metadata": {},
   "source": [
    "____\n",
    "# Teste deine Lösung"
   ]
  },
  {
   "cell_type": "code",
   "execution_count": 3,
   "metadata": {},
   "outputs": [
    {
     "name": "stdout",
     "output_type": "stream",
     "text": [
      "ALLE TESTFÄLLE BESTANDEN\n"
     ]
    }
   ],
   "source": [
    "\"\"\"\n",
    "BITTE, FÜHRE DIESE ZELLE AUS, UM DEINE LÖSUNG ZU TESTEN.\n",
    "\"\"\"\n",
    "\n",
    "from nose.tools import assert_equal\n",
    "\n",
    "class TestPerm(object):\n",
    "    \n",
    "    def test(self,solution):\n",
    "        \n",
    "        assert_equal(sorted(solution('abc')),sorted(['abc', 'acb', 'bac', 'bca', 'cab', 'cba']))\n",
    "        assert_equal(sorted(solution('dog')),sorted(['dog', 'dgo', 'odg', 'ogd', 'gdo', 'god']) )\n",
    "        \n",
    "        print ('ALLE TESTFÄLLE BESTANDEN')\n",
    "        \n",
    "\n",
    "\n",
    "# Tests durchführen\n",
    "t = TestPerm()\n",
    "t.test(permute)"
   ]
  },
  {
   "cell_type": "markdown",
   "metadata": {},
   "source": [
    "___\n",
    "# Fazit\n",
    "\n",
    "Es gab zwei Hauptthemen, um dieses Problem anzugehen:\n",
    "\n",
    "* Jedes Mal, wenn wir einen neuen Buchstaben in Position i setzen, mussten wir dann alle möglichen Kombinationen an Position i+1 finden - das war der rekursive Aufruf, den wir gemacht haben. Woher wissen wir, wann wir eine Zeichenkette speichern sollen? Wenn wir uns an einer Position i befinden, die größer ist als die Anzahl der Buchstaben in der Eingabezeichenkette, dann wissen wir, dass wir eine gültige Permutation der Zeichenkette gefunden haben, und dann können wir sie zur Liste hinzufügen und zu geänderten Buchstaben an Positionen zurückkehren, die kleiner sind als i. Dies war unser Basisfall - denke daran, dass wir bei der Verwendung von Rekursion immer einen rekursiven Fall und einen Basisfall haben müssen!\n",
    "\n",
    "\n",
    "* Ein weiterer großer Teil dieses Problems bestand darin, herauszufinden, welche Buchstaben wir in eine bestimmte Position bringen können. Mit unserer Beispielszeichenkette \"abc\" können wir sagen, dass wir alle Permutationen durchlaufen, bei denen der erste Buchstabe \"c\" ist. Dann sollte klar sein, dass der Buchstabe an der zweiten und dritten Stelle nur entweder \"a\" oder \"b\" sein kann, da \"a\" bereits verwendet wird. Als Teil unseres Algorithmus müssen wir wissen, welche Buchstaben an einer bestimmten Stelle verwendet werden können - denn wir können die Buchstaben, die an den früheren Stellen verwendet wurden, nicht wiederverwenden. "
   ]
  },
  {
   "cell_type": "markdown",
   "metadata": {},
   "source": [
    "### Gute Arbeit!"
   ]
  }
 ],
 "metadata": {
  "kernelspec": {
   "display_name": "Python 3",
   "language": "python",
   "name": "python3"
  },
  "language_info": {
   "codemirror_mode": {
    "name": "ipython",
    "version": 3
   },
   "file_extension": ".py",
   "mimetype": "text/x-python",
   "name": "python",
   "nbconvert_exporter": "python",
   "pygments_lexer": "ipython3",
   "version": "3.7.0"
  }
 },
 "nbformat": 4,
 "nbformat_minor": 2
}
