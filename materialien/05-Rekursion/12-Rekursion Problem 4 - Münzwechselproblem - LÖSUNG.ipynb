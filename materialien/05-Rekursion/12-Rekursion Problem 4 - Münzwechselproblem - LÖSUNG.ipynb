{
 "cells": [
  {
   "cell_type": "markdown",
   "metadata": {},
   "source": [
    "<a href=\"http://datamics.com/de/courses/\"><img src=../DATA/bg_datamics_top.png></a>\n",
    "\n",
    "<em text-align:center>© Datamics</em>\n",
    "# Münzwechselproblem (Coin Change Problem)\n",
    "\n",
    "**Hinweis: Dieses Problem hat mehrere Lösungen und ist ein klassisches Problem bei der Darstellung von Problemen mit grundlegender Rekursion. Wenn du Probleme mit diesem Problem hast (oder wenn die Ausführung in manchen Fällen lange zu dauert), schaue dir das Solution Notebook an und lies den Fazit-Link vollständig durch, um eine detaillierte Beschreibung der verschiedenen Möglichkeiten zur Lösung dieses Problems zu erhalten!**\n",
    "\n",
    "\n",
    "Dieses Problem ist weit verbreitet genug, dass es tatsächlich einen eigenen [Wikipedia-Eintrag](https://en.wikipedia.org/wiki/Change-making_problem) hat! Lasst uns die Problemstellung noch einmal überprüfen:\n",
    "\n",
    "Dieses Problem ist ein klassisches Rekursionsproblem: Bei einem Zielbetrag **n** und einer Liste (Array) von verschiedenen Münzwerten, was ist die geringste Anzahl von Münzen, um den Wechselbetrag zu ermitteln. \n",
    "\n",
    "Zum Beispiel:\n",
    "\n",
    "Wenn n = 10 und deine Münzen = [1,5,10] sind. Dann gibt es 4 Möglichkeiten, Änderungen vorzunehmen:\n",
    "\n",
    "* 1+1+1+1+1+1+1+1+1+1\n",
    "\n",
    "* 5 + 1+1+1+1+1\n",
    "\n",
    "* 5+5\n",
    "\n",
    "* 10\n",
    "\n",
    "Mit einer Münze als Minimalwert.\n",
    "\n",
    "    \n",
    "## Lösung\n",
    "\n",
    "Dies ist ein klassisches Problem, um den Mehrwert der dynamischen Programmierung zu zeigen. Wir zeigen ein einfaches rekursives Beispiel und zeigen, dann warum es eigentlich nicht der beste Weg ist, dieses Problem zu lösen.\n",
    "\n",
    "Bitte achte darauf, die Kommentare im folgenden Code zu lesen, um die grundlegende Logik vollständig zu verstehen!"
   ]
  },
  {
   "cell_type": "code",
   "execution_count": 1,
   "metadata": {},
   "outputs": [],
   "source": [
    "def rec_coin(target,coins):\n",
    "    '''\n",
    "    EINGABE: Zielwechselbetrag und Liste der Münzwerte\n",
    "    AUSGANG: Mindestanzahl der Münzen, die für das Wechseln benötigt werden\n",
    "    \n",
    "    Bitte beachte, dass diese Lösung nicht optimiert ist.\n",
    "    '''\n",
    "    \n",
    "    # Voreinstellung auf Sollwert\n",
    "    min_coins = target\n",
    "    \n",
    "    # Überprüfe, ob wir eine einzige Münzübereinstimmung haben (BASE CASE).\n",
    "    if target in coins:\n",
    "        return 1\n",
    "    \n",
    "    else:\n",
    "        \n",
    "        # für jeden Münzwert, der <= als Ziel ist.\n",
    "        for i in [c for c in coins if c <= target]:\n",
    "            \n",
    "            # Recursive Call (add a count coin and subtract from the target) \n",
    "            num_coins = 1 + rec_coin(target-i,coins)\n",
    "            \n",
    "            # Reset Minimum if we have a new minimum\n",
    "            if num_coins < min_coins:\n",
    "                \n",
    "                min_coins = num_coins\n",
    "                \n",
    "    return min_coins"
   ]
  },
  {
   "cell_type": "markdown",
   "metadata": {},
   "source": [
    "Lasst es uns in Aktion sehen."
   ]
  },
  {
   "cell_type": "code",
   "execution_count": 2,
   "metadata": {},
   "outputs": [
    {
     "data": {
      "text/plain": [
       "6"
      ]
     },
     "execution_count": 2,
     "metadata": {},
     "output_type": "execute_result"
    }
   ],
   "source": [
    "rec_coin(63,[1,5,10,25]) #rec_coin(15,[1,5,10]) "
   ]
  },
  {
   "cell_type": "markdown",
   "metadata": {},
   "source": [
    "Das Problem bei diesem Ansatz ist, dass er sehr ineffizient ist! Um dieses Problem zu lösen, kann es viele, viele rekursive Aufrufe geben und es ist auch ungenau für nicht standardisierte Münzwerte (Münzwerte, die nicht 1,5,10 sind, etc.).\n",
    "\n",
    "Wir können das Problem mit diesem Ansatz in der folgenden Abbildung sehen:"
   ]
  },
  {
   "cell_type": "code",
   "execution_count": 3,
   "metadata": {},
   "outputs": [
    {
     "data": {
      "text/html": [
       "<img src=\"http://interactivepython.org/runestone/static/pythonds/_images/callTree.png\"/>"
      ],
      "text/plain": [
       "<IPython.core.display.Image object>"
      ]
     },
     "execution_count": 3,
     "metadata": {},
     "output_type": "execute_result"
    }
   ],
   "source": [
    "from IPython.display import Image\n",
    "Image(url='http://interactivepython.org/runestone/static/pythonds/_images/callTree.png')"
   ]
  },
  {
   "cell_type": "markdown",
   "metadata": {},
   "source": [
    "Jeder Knoten hier entspricht einem Aufruf der Funktion **rec_coin**. Das Etikett auf dem Knoten zeigte die Höhe der Veränderung an, für die wir jetzt die Anzahl der Münzen berechnen. Beachte bitte, wie wir Werte neu berechnen, die wir bereits gelöst haben! Zum Beispiel wird 15 3 mal aufgerufen. Es wäre viel besser, wenn wir die Funktionsaufrufe, die wir bereits gemacht haben, im Auge behalten könnten.\n",
    "_____\n",
    "## Dynamische Programmierlösung\n",
    "\n",
    "Dies ist der Schlüssel zur Reduzierung der Arbeitszeit für die Funktion. Die bessere Lösung ist, sich an vergangene Ergebnisse zu erinnern, so dass wir vor der Berechnung eines neuen Minimums überprüfen können, ob wir bereits ein Ergebnis kennen.\n",
    "\n",
    "Lasst uns das umsetzen:"
   ]
  },
  {
   "cell_type": "code",
   "execution_count": 4,
   "metadata": {},
   "outputs": [],
   "source": [
    "def rec_coin_dynam(target,coins,known_results):\n",
    "    '''\n",
    "    EINGABE: Diese Funktion beinhaltet einen Zielbetrag und eine Liste der möglichen Münzen.\n",
    "    Dazu gehört auch ein dritter Parameter, known_results, der bereits berechnete Ergebnisse anzeigt.\n",
    "    Der Parameter known_results sollte mit [0] * (target+1) gestartet werden.\n",
    "    \n",
    "    AUSGANG: Minimale Anzahl von Münzen, die benötigt werden, um das Ziel zu erreichen.\n",
    "    '''\n",
    "    \n",
    "    # Standardausgabe an das Ziel\n",
    "    min_coins = target\n",
    "    \n",
    "    # Basisfall\n",
    "    if target in coins:\n",
    "        known_results[target] = 1\n",
    "        return 1\n",
    "    \n",
    "    # Liefert ein bekanntes Ergebnis, wenn es größer als 1 ist.\n",
    "    elif known_results[target] > 0:\n",
    "        return known_results[target]\n",
    "    \n",
    "    else:\n",
    "        # für jeden Münzwert, der <= als Ziel ist.\n",
    "        for i in [c for c in coins if c <= target]:\n",
    "            \n",
    "            # Rekursiver Aufruf, beachte, wie wir die bekannten Ergebnisse einbeziehen!\n",
    "            num_coins = 1 + rec_coin_dynam(target-i,coins,known_results)\n",
    "            \n",
    "            # Minimum zurücksetzen, wenn wir ein neues Minimum haben.\n",
    "            if num_coins < min_coins:\n",
    "                min_coins = num_coins\n",
    "                \n",
    "                # Zurücksetzen des bekannten Ergebnisses\n",
    "                known_results[target] = min_coins\n",
    "                \n",
    "    return min_coins"
   ]
  },
  {
   "cell_type": "markdown",
   "metadata": {},
   "source": [
    "Testen wir es!"
   ]
  },
  {
   "cell_type": "code",
   "execution_count": 7,
   "metadata": {},
   "outputs": [
    {
     "data": {
      "text/plain": [
       "8"
      ]
     },
     "execution_count": 7,
     "metadata": {},
     "output_type": "execute_result"
    }
   ],
   "source": [
    "target = 74\n",
    "coins = [1,5,10,25]\n",
    "known_results = [0]*(target+1)\n",
    "\n",
    "rec_coin_dynam(target,coins,known_results)"
   ]
  },
  {
   "cell_type": "markdown",
   "metadata": {},
   "source": [
    "# Teste deine Lösung\n",
    "\n",
    "Führe die nachfolgende Zelle aus, um deine Funktion anhand einiger Testfälle zu testen. \n",
    "\n",
    "**Beachte bitte, dass die TestCoins-Klasse nur mit zwei Parametereingaben funktioniert, nämlich der Liste der Münzen und dem Ziel**."
   ]
  },
  {
   "cell_type": "code",
   "execution_count": null,
   "metadata": {},
   "outputs": [],
   "source": [
    "\"\"\"\n",
    "FÜHRE DIESE ZELLE AUS, UM DEINE FUNKTION ZU TESTEN.\n",
    "HINWEIS: NICHT-DYNAMISCHE FUNKTIONEN BRAUCHEN LANGE ZUM TESTEN.\n",
    "      WENN DU GLAUBST, DASS DU EINE LÖSUNG HAST. \n",
    "      GEH UND ÜBERPRÜFE DAS LÖSUNGSNOTIZBUCH, ANSTATT ES AUSZUFÜHREN!\n",
    "\"\"\"\n",
    "\n",
    "from nose.tools import assert_equal\n",
    "\n",
    "class TestCoins(object):\n",
    "    \n",
    "    def check(self,solution):\n",
    "        coins = [1,5,10,25]\n",
    "        assert_equal(solution(45,coins),3)\n",
    "        assert_equal(solution(23,coins),5)\n",
    "        assert_equal(solution(74,coins),8)\n",
    "        print ('Alle Tests bestanden.')\n",
    "# Test ausführen\n",
    "\n",
    "test = TestCoins()\n",
    "test.check(rec_coin)"
   ]
  },
  {
   "cell_type": "markdown",
   "metadata": {},
   "source": [
    "# Schlussfolgerung und zusätzliche Ressourcen\n",
    "\n",
    "Als Hausaufgaben lese bitte den nachfolgenden Link und implementiere auch die im Link beschriebene nicht rekursive Lösung!\n",
    "\n",
    "Für eine weitere großartige Ressource über eine Variation dieses Problems, besuche diesen Link:\n",
    "[Dynamische Programmierung Coin Change Problem](http://interactivepython.org/runestone/static/pythonds/Recursion/DynamicProgramming.html)"
   ]
  }
 ],
 "metadata": {
  "kernelspec": {
   "display_name": "Python 3",
   "language": "python",
   "name": "python3"
  },
  "language_info": {
   "codemirror_mode": {
    "name": "ipython",
    "version": 3
   },
   "file_extension": ".py",
   "mimetype": "text/x-python",
   "name": "python",
   "nbconvert_exporter": "python",
   "pygments_lexer": "ipython3",
   "version": "3.7.0"
  }
 },
 "nbformat": 4,
 "nbformat_minor": 2
}
