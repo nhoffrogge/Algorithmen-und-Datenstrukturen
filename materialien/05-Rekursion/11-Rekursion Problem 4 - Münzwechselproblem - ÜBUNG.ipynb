{
 "cells": [
  {
   "cell_type": "markdown",
   "metadata": {},
   "source": [
    "<a href=\"http://datamics.com/de/courses/\"><img src=../DATA/bg_datamics_top.png></a>\n",
    "\n",
    "<em text-align:center>© Datamics</em>\n",
    "# Münzwechselproblem (Coin Change Problem)\n",
    "\n",
    "**Hinweis: Dieses Problem hat mehrere Lösungen und ist ein klassisches Problem bei der Darstellung von Problemen mit grundlegender Rekursion. Wenn du Probleme mit diesem Problem hast (oder wenn die Ausführung in manchen Fällen lange zu dauert), schaue dir das Solution Notebook an und lies den Fazit-Link vollständig durch, um eine detaillierte Beschreibung der verschiedenen Möglichkeiten zur Lösung dieses Problems zu erhalten!**\n",
    "\n",
    "\n",
    "Dieses Problem ist weit verbreitet genug, dass es tatsächlich einen eigenen [Wikipedia-Eintrag](https://en.wikipedia.org/wiki/Change-making_problem) hat! Lasst uns die Problemstellung noch einmal überprüfen:\n",
    "\n",
    "Dieses Problem ist ein klassisches Rekursionsproblem: Bei einem Zielbetrag **n** und einer Liste (Array) von verschiedenen Münzwerten, was ist die geringste Anzahl von Münzen, um den Wechselbetrag zu ermitteln. \n",
    "\n",
    "Zum Beispiel:\n",
    "\n",
    "Wenn n = 10 und deine Münzen = [1,5,10] sind. Dann gibt es 4 Möglichkeiten, Änderungen vorzunehmen:\n",
    "\n",
    "* 1+1+1+1+1+1+1+1+1+1\n",
    "\n",
    "* 5 + 1+1+1+1+1\n",
    "\n",
    "* 5+5\n",
    "\n",
    "* 10\n",
    "\n",
    "Mit 1 Münze als Minimalwert.\n",
    "    \n",
    "## Lösung\n",
    "\n",
    "Implementiere deine Lösung unten:"
   ]
  },
  {
   "cell_type": "code",
   "execution_count": 1,
   "metadata": {},
   "outputs": [],
   "source": [
    "def rec_coin(target,coins):\n",
    "    \n",
    "    pass"
   ]
  },
  {
   "cell_type": "code",
   "execution_count": 2,
   "metadata": {},
   "outputs": [],
   "source": [
    "rec_coin(10,[1,5])"
   ]
  },
  {
   "cell_type": "markdown",
   "metadata": {},
   "source": [
    "# Teste deine Lösung\n",
    "\n",
    "Führe die nachfolgende Zelle aus, um deine Funktion anhand einiger Testfälle zu testen. \n",
    "\n",
    "**Beachte bitte, dass die TestCoins-Klasse nur mit zwei Parametereingaben funktioniert, nämlich der Liste der Münzen und dem Ziel**.\n"
   ]
  },
  {
   "cell_type": "code",
   "execution_count": null,
   "metadata": {},
   "outputs": [],
   "source": [
    "\"\"\"\n",
    "FÜHRE DIESE ZELLE AUS, UM DEINE FUNKTION ZU TESTEN.\n",
    "HINWEIS: NICHT-DYNAMISCHE FUNKTIONEN BRAUCHEN LANGE ZUM TESTEN.\n",
    "      WENN DU GLAUBST, DASS DU EINE LÖSUNG HAST. \n",
    "      GEH UND ÜBERPRÜFE DAS LÖSUNGSNOTIZBUCH, ANSTATT ES AUSZUFÜHREN!\n",
    "\"\"\"\n",
    "\n",
    "from nose.tools import assert_equal\n",
    "\n",
    "class TestCoins(object):\n",
    "    \n",
    "    def check(self,solution):\n",
    "        coins = [1,5,10,25]\n",
    "        assert_equal(solution(45,coins),3)\n",
    "        assert_equal(solution(23,coins),5)\n",
    "        assert_equal(solution(74,coins),8)\n",
    "        print ('Alle Tests bestanden.')\n",
    "# Test ausführen\n",
    "\n",
    "test = TestCoins()\n",
    "test.check(rec_coin)"
   ]
  },
  {
   "cell_type": "markdown",
   "metadata": {},
   "source": [
    "## EXTRA\n",
    "\n",
    "Viel Glück und denk daran, das Lösungsnotizbuch zu diesem Thema zu lesen, sobald du denkst, dass du eine Lösung hast!"
   ]
  },
  {
   "cell_type": "code",
   "execution_count": null,
   "metadata": {},
   "outputs": [],
   "source": []
  }
 ],
 "metadata": {
  "kernelspec": {
   "display_name": "Python 3",
   "language": "python",
   "name": "python3"
  },
  "language_info": {
   "codemirror_mode": {
    "name": "ipython",
    "version": 3
   },
   "file_extension": ".py",
   "mimetype": "text/x-python",
   "name": "python",
   "nbconvert_exporter": "python",
   "pygments_lexer": "ipython3",
   "version": "3.7.0"
  }
 },
 "nbformat": 4,
 "nbformat_minor": 2
}
