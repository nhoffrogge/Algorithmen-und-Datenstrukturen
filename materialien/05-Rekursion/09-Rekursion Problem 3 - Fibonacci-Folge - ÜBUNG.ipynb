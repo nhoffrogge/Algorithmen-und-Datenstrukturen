{
 "cells": [
  {
   "cell_type": "markdown",
   "metadata": {},
   "source": [
    "<a href=\"http://datamics.com/de/courses/\"><img src=../DATA/bg_datamics_top.png></a>\n",
    "\n",
    "<em text-align:center>© Datamics</em>\n",
    "# Fibonacci-Folge\n",
    "\n",
    "## Problem Statement\n",
    "\n",
    "Implemtiere eine [Fibonacci-Folge](https://www.wikiwand.com/de/Fibonacci-Folge) in drei verschiedene Wege:\n",
    "\n",
    "* Rekursiv\n",
    "* Dynamisch (Verwendung von Memoisierung zum Speichern der Ergebnisse)\n",
    "* Iterativ\n",
    "\n",
    "Denke daran, dass eine Fibonacci-Folge: 0,1,1,2,3,5,8,13,21,.... beginnt mit einer Basisfallprüfung, um zu sehen, ob n = 0 oder 1 ist, dann gibt es 1 zurück. \n",
    "\n",
    "Andernfalls gibt es fib(n-1)+fib(n-2) zurück.\n",
    "____\n",
    "\n",
    "## Fülle deine Lösungen unten aus"
   ]
  },
  {
   "cell_type": "markdown",
   "metadata": {},
   "source": [
    "### Rekursiv\n",
    "\n",
    "Löse das Problem mit einer einfachen Rekursion."
   ]
  },
  {
   "cell_type": "code",
   "execution_count": 1,
   "metadata": {},
   "outputs": [],
   "source": [
    "def fib_rec(n):\n",
    "    \n",
    "    pass"
   ]
  },
  {
   "cell_type": "code",
   "execution_count": 2,
   "metadata": {},
   "outputs": [],
   "source": [
    "fib_rec(10)"
   ]
  },
  {
   "cell_type": "markdown",
   "metadata": {},
   "source": [
    "### Dynamisch\n",
    "\n",
    "Implementiere die Funktion mit dynamischer Programmierung, indem du einen Cache zum Speichern der Ergebnisse verwendest (Memoisierung)."
   ]
  },
  {
   "cell_type": "code",
   "execution_count": 3,
   "metadata": {},
   "outputs": [],
   "source": [
    "# Instantiate Cache information\n",
    "n = 10\n",
    "cache = [None] * (n + 1)\n",
    "\n",
    "\n",
    "def fib_dyn(n):\n",
    "    \n",
    "    pass"
   ]
  },
  {
   "cell_type": "code",
   "execution_count": 4,
   "metadata": {},
   "outputs": [],
   "source": [
    "fib_dyn(10)"
   ]
  },
  {
   "cell_type": "markdown",
   "metadata": {},
   "source": [
    "### Iterativ\n",
    "\n",
    "Implementiere die Lösung mit einer einfachen Iteration."
   ]
  },
  {
   "cell_type": "code",
   "execution_count": 5,
   "metadata": {},
   "outputs": [],
   "source": [
    "def fib_iter(n):\n",
    "    \n",
    "    pass"
   ]
  },
  {
   "cell_type": "code",
   "execution_count": 6,
   "metadata": {},
   "outputs": [],
   "source": [
    "fib_iter(23)"
   ]
  },
  {
   "cell_type": "markdown",
   "metadata": {},
   "source": [
    "# Teste deine Lösung\n",
    "\n",
    "Führe die untenstehende Zelle aus, um deine Lösungen zu testen. Entkommentiere einfach die Lösungsfunktionen, die du testen möchtest!"
   ]
  },
  {
   "cell_type": "code",
   "execution_count": null,
   "metadata": {},
   "outputs": [],
   "source": [
    "\"\"\"\n",
    "ENTKOMMENTIERE DEN CODE AM UNTEREN RAND DIESER ZELLE, UM AUSZUWÄHLEN, WELCHE LÖSUNGEN GETESTET WERDEN SOLLEN.\n",
    "UND DANN DIE ZELLE STARTEN.\n",
    "\"\"\"\n",
    "\n",
    "from nose.tools import assert_equal\n",
    "\n",
    "class TestFib(object):\n",
    "    \n",
    "    def test(self,solution):\n",
    "        assert_equal(solution(10),55)\n",
    "        assert_equal(solution(1),1)\n",
    "        assert_equal(solution(23),28657)\n",
    "        print ('ALLE TESTFÄLLE BESTANDEN')\n",
    "# ENTKOMMENTIERUNG FÜR DIE ENTSPRECHENDE FUNKTION\n",
    "t = TestFib()\n",
    "\n",
    "t.test(fib_rec)\n",
    "#t.test(fib_dyn) #  Beachte, dass die Cache-Größe für jeden Test neu eingestellt werden muss!\n",
    "#t.test(fib_iter)"
   ]
  },
  {
   "cell_type": "markdown",
   "metadata": {},
   "source": [
    "# Fazit\n",
    "\n",
    "Hoffentlich diente diese Interviewfrage als gute Übung, um Rekursionen, dynamische Programmierung und iterative Lösungen für ein einzelnes Problem zu untersuchen! Es ist gut, alle drei durchzuarbeiten, denn in einem Interview kann eine häufige Frage einfach damit beginnen, eine rekursive Lösung anzufordern und dann zu prüfen, ob du die anderen Formen implementieren kannst!"
   ]
  }
 ],
 "metadata": {
  "kernelspec": {
   "display_name": "Python 3",
   "language": "python",
   "name": "python3"
  },
  "language_info": {
   "codemirror_mode": {
    "name": "ipython",
    "version": 3
   },
   "file_extension": ".py",
   "mimetype": "text/x-python",
   "name": "python",
   "nbconvert_exporter": "python",
   "pygments_lexer": "ipython3",
   "version": "3.7.0"
  }
 },
 "nbformat": 4,
 "nbformat_minor": 2
}
