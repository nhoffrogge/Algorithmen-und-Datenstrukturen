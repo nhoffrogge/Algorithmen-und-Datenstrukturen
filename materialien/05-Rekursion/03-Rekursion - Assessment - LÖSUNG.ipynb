{
 "cells": [
  {
   "cell_type": "markdown",
   "metadata": {},
   "source": [
    "<a href=\"http://datamics.com/de/courses/\"><img src=../DATA/bg_datamics_top.png></a>\n",
    "\n",
    "<em text-align:center>© Datamics</em>\n",
    "# Rekursion Assessment\n",
    "\n",
    "Diese Aufgabe ist eine Vielzahl von kleinen Problemen, um dich an die Idee der Rekursion zu gewöhnen. Es sind keine ausgewachsenen Interviewfragen, sondern dienen als guter Anfang, um den Kopf \"in die Nähe\" für Rekursionsprobleme zu bringen.\n",
    "\n",
    "\n",
    "______\n",
    "### Problem 1\n",
    "\n",
    "**Schreibe eine rekursive Funktion, die eine ganze Zahl annimmt und die kumulative Summe von 0 bis zu dieser ganzen Zahl berechnet**.\n",
    "\n",
    "**Zum Beispiel, wenn n=4, gib 4+3+2+1+0 zurück, was 10.** ist.\n",
    "\n",
    "Dieses Problem ist sehr ähnlich wie das faktorielle Problem, das während der Einführung in die Rekursion auftritt. Denke daran In diesem Fall haben wir einen Basisfall von n =0.\n",
    "\n",
    "In diesem Fall haben wir:\n",
    "   n + (n-1) + (n-2) + (n-3) + ...... + 0\n",
    "   \n",
    "Schaue dir die Beispielslösung an:"
   ]
  },
  {
   "cell_type": "code",
   "execution_count": 3,
   "metadata": {},
   "outputs": [],
   "source": [
    "def rec_sum(n):\n",
    "    \n",
    "    # Basisfall\n",
    "    if n == 0:\n",
    "        return 0\n",
    "    \n",
    "    # Rekursion\n",
    "    else:\n",
    "        return n + rec_sum(n-1)"
   ]
  },
  {
   "cell_type": "code",
   "execution_count": 4,
   "metadata": {},
   "outputs": [
    {
     "data": {
      "text/plain": [
       "10"
      ]
     },
     "execution_count": 4,
     "metadata": {},
     "output_type": "execute_result"
    }
   ],
   "source": [
    "rec_sum(4)"
   ]
  },
  {
   "cell_type": "markdown",
   "metadata": {},
   "source": [
    "______\n",
    "### Problem 2\n",
    "\n",
    "**Gebe eine ganze Zahl an und erstelle eine Funktion, die die Summe aller einzelnen Ziffern dieser Zahl zurückgibt. Zum Beispiel:\n",
    "wenn n = 4321, Rückgabe 4+3+2+1**"
   ]
  },
  {
   "cell_type": "code",
   "execution_count": 7,
   "metadata": {},
   "outputs": [],
   "source": [
    "def sum_func(n):\n",
    "    # Basisfall\n",
    "    if len(str(n)) == 1:\n",
    "        return n\n",
    "    \n",
    "    # Rekursion\n",
    "    else:\n",
    "        return n%10 + sum_func(n//10)"
   ]
  },
  {
   "cell_type": "code",
   "execution_count": 8,
   "metadata": {},
   "outputs": [
    {
     "data": {
      "text/plain": [
       "10"
      ]
     },
     "execution_count": 8,
     "metadata": {},
     "output_type": "execute_result"
    }
   ],
   "source": [
    "sum_func(4321)"
   ]
  },
  {
   "cell_type": "markdown",
   "metadata": {},
   "source": [
    "*Hints:*"
   ]
  },
  {
   "cell_type": "code",
   "execution_count": 9,
   "metadata": {},
   "outputs": [
    {
     "data": {
      "text/plain": [
       "1"
      ]
     },
     "execution_count": 9,
     "metadata": {},
     "output_type": "execute_result"
    }
   ],
   "source": [
    "# Du musst modulo verwenden.\n",
    "4321%10"
   ]
  },
  {
   "cell_type": "code",
   "execution_count": 11,
   "metadata": {},
   "outputs": [
    {
     "data": {
      "text/plain": [
       "432"
      ]
     },
     "execution_count": 11,
     "metadata": {},
     "output_type": "execute_result"
    }
   ],
   "source": [
    "4321 // 10"
   ]
  },
  {
   "cell_type": "markdown",
   "metadata": {},
   "source": [
    "Wir können die rekuruive Funktion erdenken, indem wir das wissen:\n",
    "    \n",
    "    4502 % 10 + sum_func(4502//10)"
   ]
  },
  {
   "cell_type": "markdown",
   "metadata": {},
   "source": [
    "________\n",
    "### Problem 3\n",
    "*Hinweis: Dies ist ein fortgeschritteneres Problem als die beiden vorherigen! Es hat auch viele Variationsmöglichkeiten und wir ignorieren hier strenge Anforderungen.*\n",
    "\n",
    "Erstelle eine Funktion namens word_split(), die eine Zeichenkette **phrase** und eine Menge **list_of_words** aufnimmt. Die Funktion bestimmt dann, ob es möglich ist, die Zeichenkette so aufzuteilen, dass aus der Wortliste Wörter gebildet werden können. Du kannst davon ausgehen, dass die Phrase nur Wörter enthält, die im Wörterbuch gefunden wurden, wenn sie vollständig teilbar ist.\n",
    "\n",
    "Zum Beispiel:"
   ]
  },
  {
   "cell_type": "code",
   "execution_count": 12,
   "metadata": {},
   "outputs": [
    {
     "data": {
      "text/plain": [
       "['the', 'man', 'ran']"
      ]
     },
     "execution_count": 12,
     "metadata": {},
     "output_type": "execute_result"
    }
   ],
   "source": [
    "word_split('themanran',['the','ran','man'])"
   ]
  },
  {
   "cell_type": "code",
   "execution_count": 13,
   "metadata": {},
   "outputs": [
    {
     "data": {
      "text/plain": [
       "['i', 'love', 'dogs', 'John']"
      ]
     },
     "execution_count": 13,
     "metadata": {},
     "output_type": "execute_result"
    }
   ],
   "source": [
    "word_split('ilovedogsJohn',['i','am','a','dogs','lover','love','John'])"
   ]
  },
  {
   "cell_type": "code",
   "execution_count": 14,
   "metadata": {},
   "outputs": [
    {
     "data": {
      "text/plain": [
       "[]"
      ]
     },
     "execution_count": 14,
     "metadata": {},
     "output_type": "execute_result"
    }
   ],
   "source": [
    "word_split('themanran',['clown','ran','man'])"
   ]
  },
  {
   "cell_type": "code",
   "execution_count": 15,
   "metadata": {},
   "outputs": [],
   "source": [
    "def word_split(phrase,list_of_words, output = None):\n",
    "    '''\n",
    "    Hinweis: Dies ist eine sehr \" pythonartige \" Lösung.\n",
    "    ''' \n",
    "    \n",
    "    # Prüft, ob eine Ausgabe ausgelöst wurde.\n",
    "    # Wenn du die Standardausgabe=[] hast, wird sie bei jeder Rekursion überschrieben!\n",
    "    if output is None:\n",
    "        output = []\n",
    "    \n",
    "    # Für jedes Wort in der Liste\n",
    "    for word in list_of_words:\n",
    "        \n",
    "        # Wenn die aktuelle Phrase mit dem Wort beginnt, \n",
    "        # haben wir einen Trennungspunkt!\n",
    "        if phrase.startswith(word):\n",
    "            \n",
    "            # Fügt das Wort zur Ausgabe hinzu\n",
    "            output.append(word)\n",
    "            \n",
    "            # Rufe rekursiv die Split-Funktion auf, die sich auf den verbleibenden Teil der Phrase----Phrase bezieht[len(word):].\n",
    "            # Denke daran, die Ausgabe und die Wortliste weiterzugeben.\n",
    "            return word_split(phrase[len(word):],list_of_words,output)\n",
    "    \n",
    "    # Abschließend wird die Ausgabe zurückgegeben, \n",
    "    # wenn keine phrase.startswith(word) True zurückgibt.\n",
    "    return output        "
   ]
  },
  {
   "cell_type": "markdown",
   "metadata": {},
   "source": [
    "## Schlussfolgerung\n",
    "\n",
    "\n",
    "In Ordnung, nun, da wir ein paar Beispiele gesehen haben, lass uns auf die Probleme für die Vorstellungsgespräche eingehen"
   ]
  },
  {
   "cell_type": "code",
   "execution_count": null,
   "metadata": {},
   "outputs": [],
   "source": []
  }
 ],
 "metadata": {
  "kernelspec": {
   "display_name": "Python 3",
   "language": "python",
   "name": "python3"
  },
  "language_info": {
   "codemirror_mode": {
    "name": "ipython",
    "version": 3
   },
   "file_extension": ".py",
   "mimetype": "text/x-python",
   "name": "python",
   "nbconvert_exporter": "python",
   "pygments_lexer": "ipython3",
   "version": "3.7.0"
  }
 },
 "nbformat": 4,
 "nbformat_minor": 2
}
