{
 "cells": [
  {
   "cell_type": "markdown",
   "metadata": {},
   "source": [
    "<a href=\"http://datamics.com/de/courses/\"><img src=../DATA/bg_datamics_top.png></a>\n",
    "\n",
    "<em text-align:center>© Datamics</em>\n",
    "# Memoisation (Memoization)\n",
    "\n",
    "In dieser Lektion werden wir uns mit Memoisierung und dynamischer Programmierung beschäftigen. Für deine Hausaufgaben lies bitte den [Wikipedia-Artikel über Memoisierung](https://www.wikiwand.com/de/Memoisation) bevor du mit diesem Vortrag weitermachst!\n",
    "\n",
    "\n",
    "____\n",
    "\n",
    "Memoisation(Memoization) bezieht sich effektiv auf das Erinnern (\"Memoisation\" -> \" Memorandum \" -> zu erinnernde Ergebnisse) von Methodenaufrufen, die auf den Eingaben der Methode basieren und dann das erinnerte Ergebnis zurückgeben, anstatt das Ergebnis erneut zu berechnen. Du kannst es dir als Cache für Methodenergebnisse vorstellen. Wir werden dies in einigen der Interview-Probleme als verbesserte Versionen einer rein rekursiven Lösung verwenden.\n",
    "\n",
    "Ein einfaches Beispiel für die Berechnung von Fakultäten mit Memoisation(Memoization) in Python wäre etwa so:"
   ]
  },
  {
   "cell_type": "code",
   "execution_count": 5,
   "metadata": {},
   "outputs": [],
   "source": [
    "# Cache für bekannte Ergebnisse anlegen\n",
    "factorial_memo = {}\n",
    "\n",
    "def factorial(k):\n",
    "    \n",
    "    if k < 2: \n",
    "        return 1\n",
    "    \n",
    "    if not k in factorial_memo:\n",
    "        factorial_memo[k] = k * factorial(k-1)\n",
    "        \n",
    "    return factorial_memo[k]"
   ]
  },
  {
   "cell_type": "code",
   "execution_count": 6,
   "metadata": {},
   "outputs": [
    {
     "data": {
      "text/plain": [
       "24"
      ]
     },
     "execution_count": 6,
     "metadata": {},
     "output_type": "execute_result"
    }
   ],
   "source": [
    "factorial(4)"
   ]
  },
  {
   "cell_type": "markdown",
   "metadata": {},
   "source": [
    "Beachte bitte, dass wir jetzt ein Dictionary verwenden, um frühere Ergebnisse der Fakultät zu speichern! Wir sind nun in der Lage, die Effizienz dieser Funktion zu steigern, indem wir uns an alte Ergebnisse erinnern!\n",
    "\n",
    "Denke daran, wenn du an dem Münzwechsel(Coin Change) Problem und dem Fibonacci-Folge(Fibonacci Sequence) Problem arbeitest.\n",
    "\n",
    "___\n",
    "\n",
    "Wir können den Memoisierungsprozess auch in einer Klasse kapseln:"
   ]
  },
  {
   "cell_type": "code",
   "execution_count": 7,
   "metadata": {},
   "outputs": [],
   "source": [
    "class Memoize:\n",
    "    def __init__(self, f):\n",
    "        self.f = f\n",
    "        self.memo = {}\n",
    "    def __call__(self, *args):\n",
    "        if not args in self.memo:\n",
    "            self.memo[args] = self.f(*args)\n",
    "        return self.memo[args]"
   ]
  },
  {
   "cell_type": "markdown",
   "metadata": {},
   "source": [
    "Dann müssen wir nur noch die Fakultät-Funktion definieren:"
   ]
  },
  {
   "cell_type": "code",
   "execution_count": 8,
   "metadata": {},
   "outputs": [],
   "source": [
    "def factorial(k):\n",
    "    \n",
    "    if k < 2: \n",
    "        return 1\n",
    "    \n",
    "    return k * factorial(k - 1)\n",
    "\n",
    "factorial = Memoize(factorial)"
   ]
  },
  {
   "cell_type": "markdown",
   "metadata": {},
   "source": [
    "Versuche doch einmal die Laufzeiten der Memoization-Versionen von Funktionen mit den normalen rekursiven Lösungen zu vergleichen!"
   ]
  },
  {
   "cell_type": "code",
   "execution_count": 14,
   "metadata": {},
   "outputs": [
    {
     "name": "stdout",
     "output_type": "stream",
     "text": [
      "232 ns ± 3.21 ns per loop (mean ± std. dev. of 7 runs, 1000000 loops each)\n"
     ]
    }
   ],
   "source": [
    "%timeit factorial(1000)\n",
    "# %timit HierDieNormaleRekursionFunktion"
   ]
  }
 ],
 "metadata": {
  "kernelspec": {
   "display_name": "Python 3",
   "language": "python",
   "name": "python3"
  },
  "language_info": {
   "codemirror_mode": {
    "name": "ipython",
    "version": 3
   },
   "file_extension": ".py",
   "mimetype": "text/x-python",
   "name": "python",
   "nbconvert_exporter": "python",
   "pygments_lexer": "ipython3",
   "version": "3.7.0"
  }
 },
 "nbformat": 4,
 "nbformat_minor": 2
}
