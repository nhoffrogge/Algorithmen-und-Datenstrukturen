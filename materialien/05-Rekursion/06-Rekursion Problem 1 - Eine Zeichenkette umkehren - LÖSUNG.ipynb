{
 "cells": [
  {
   "cell_type": "markdown",
   "metadata": {},
   "source": [
    "<a href=\"http://datamics.com/de/courses/\"><img src=../DATA/bg_datamics_top.png></a>\n",
    "\n",
    "<em text-align:center>© Datamics</em>\n",
    "# Eine Zeichenkette umkehren\n",
    "\n",
    "Diese Interviewfrage erfordert, dass du eine Zeichenkette mit Rekursion umkehrst. Denke unbedingt an den Basisfall von diesem Fall.\n",
    "\n",
    "Stelle auch hier sicher, dass du *Rekursion* verwendest, um dies zu erreichen.  Verwende bitte kein **Slice (z.B. string[::-1]) oder Iterationen, es muss ein rekursiver Aufruf für die Funktion sein.**\n",
    "\n",
    "____\n",
    "\n",
    "## Lösung\n",
    "\n",
    "Um eine Zeichenkette mit Rekursion umzukehren, müssen wir berücksichtigen, wie der Basisfall und der jeweilige Rekursionsfall aussehen würden. Hier wurde ein Basisfall festgelegt, wenn die Länge der Zeichenkette, die wir durch die Funktion übergeben, kleiner oder gleich 1 ist.\n",
    "\n",
    "Während des rekursiven Falles greifen wir uns den ersten Buchstaben und fügen ihn dem rekursiven Aufruf hinzu."
   ]
  },
  {
   "cell_type": "code",
   "execution_count": 1,
   "metadata": {},
   "outputs": [],
   "source": [
    "def reverse(s):\n",
    "    \n",
    "    # Basisfall\n",
    "    if len(s) <= 1:\n",
    "        return s\n",
    "\n",
    "    # Rekursionsfall\n",
    "    return reverse(s[1:]) + s[0]"
   ]
  },
  {
   "cell_type": "code",
   "execution_count": 5,
   "metadata": {},
   "outputs": [
    {
     "data": {
      "text/plain": [
       "'dlrow olleh'"
      ]
     },
     "execution_count": 5,
     "metadata": {},
     "output_type": "execute_result"
    }
   ],
   "source": [
    "reverse('hello world')"
   ]
  },
  {
   "cell_type": "markdown",
   "metadata": {},
   "source": [
    "# Teste deine Lösung\n",
    "\n",
    "Führen die untenstehende Zelle aus, um deine Lösung anhand der folgenden Fälle zu testen:\n",
    "\n",
    "    string = 'hello'\n",
    "    string = 'hello world'\n",
    "    string = '123456789'"
   ]
  },
  {
   "cell_type": "code",
   "execution_count": 6,
   "metadata": {},
   "outputs": [
    {
     "name": "stdout",
     "output_type": "stream",
     "text": [
      "ALLE TESTFÄLLE BESTANDEN\n"
     ]
    }
   ],
   "source": [
    "\"\"\"\n",
    "BITTE, FÜHRE DIESE ZELLE AUS, UM DEINE LÖSUNG ZU TESTEN.\n",
    "\"\"\"\n",
    "\n",
    "from nose.tools import assert_equal\n",
    "\n",
    "class TestReverse(object):\n",
    "    \n",
    "    def test_rev(self,solution):\n",
    "        assert_equal(solution('hello'),'olleh')\n",
    "        assert_equal(solution('hello world'),'dlrow olleh')\n",
    "        assert_equal(solution('123456789'),'987654321')\n",
    "        \n",
    "    print ('ALLE TESTFÄLLE BESTANDEN')\n",
    "    \n",
    "# Tests durchführen\n",
    "test = TestReverse()\n",
    "test.test_rev(reverse)"
   ]
  },
  {
   "cell_type": "markdown",
   "metadata": {},
   "source": [
    "## Zusätzliche Hinweise\n",
    "\n",
    "Der \"Trick\" bei dieser Frage war, darüber nachzudenken, wie ein Basisfall aussehen würde, wenn eine Zeichenkette rekursiv umgekehrt wird. Es braucht viel Übung, um anfangen zu können, so zu denken, also mach dir keine Sorgen, wenn du Probleme hast! Es ist jedoch wichtig, die Lösung vollständig zu verstehen!\n",
    "\n",
    "**Gute Arbeit!**"
   ]
  }
 ],
 "metadata": {
  "kernelspec": {
   "display_name": "Python 3",
   "language": "python",
   "name": "python3"
  },
  "language_info": {
   "codemirror_mode": {
    "name": "ipython",
    "version": 3
   },
   "file_extension": ".py",
   "mimetype": "text/x-python",
   "name": "python",
   "nbconvert_exporter": "python",
   "pygments_lexer": "ipython3",
   "version": "3.7.0"
  }
 },
 "nbformat": 4,
 "nbformat_minor": 2
}
