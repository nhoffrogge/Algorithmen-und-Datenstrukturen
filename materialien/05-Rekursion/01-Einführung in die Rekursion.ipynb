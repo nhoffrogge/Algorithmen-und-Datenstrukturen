{
 "cells": [
  {
   "cell_type": "markdown",
   "metadata": {},
   "source": [
    "<a href=\"http://datamics.com/de/courses/\"><img src=../DATA/bg_datamics_top.png></a>\n",
    "\n",
    "<em text-align:center>© Datamics</em>\n",
    "# Einführung in die Rekursion\n",
    "\n",
    "In dieser Lektion werden wir die Grundlagen der Rekursion besprechen.\n",
    "\n",
    "## Was ist Rekursion?\n",
    "\n",
    "Es gibt zwei Hauptinstanzen der Rekursion. Das erste ist, wenn die Rekursion als eine Technik verwendet wird, bei der eine Funktion einen oder mehrere Aufrufe an sich selbst macht. Die zweite ist, wenn eine Datenstruktur kleinere Instanzen der genau gleichen Art von Datenstruktur verwendet, und zwar wenn sie sich selbst repräsentiert. Beide Fälle sind Anwendungsfälle der Rekursion.\n",
    "\n",
    "Rekursion tritt tatsächlich in der realen Welt auf, wie z.B. fraktale Muster in Pflanzen!\n",
    "\n",
    "## Warum Rekursion verwenden?\n",
    "\n",
    "Die Rekursion bietet eine leistungsstarke Alternative für die Durchführung von Wiederholungen von Vorgängen, bei denen eine Schleife nicht ideal ist. Die meisten modernen Programmiersprachen unterstützen Rekursionen und Rekursionen sind ein hervorragendes Werkzeug zum Aufbau bestimmter Datenstrukturen.\n",
    "\n",
    "Wir beginnen diese Einführung mit einem Beispiel der Rekursion - einer Fakultätfunktion(factorial function).\n",
    "\n",
    "_______\n",
    "# Fakultäts-Bespielfunktion \n",
    "\n",
    "In diesem Teil der Lektion werden wir die Rekursion anhand einer exemplarischen Übung zur Schaffung der Fakultät  erklären.\n",
    "Die Fakultät wird mit einem Ausrufezeichen bezeichnet und ist definiert als das Produkt der ganzen Zahlen von 1 bis *n*. Formal können wir das so formulieren:\n",
    "\n",
    "$$ n! = n-(n-1)-(n-2)..... 3·2·1 $$\n",
    "\n",
    "Hinweis, **wenn n = 0, dann n! = 1**. Dies ist wichtig zu berücksichtigen, denn es wird als unser *Basisfall* dienen. "
   ]
  },
  {
   "cell_type": "markdown",
   "metadata": {},
   "source": [
    "ehmen wir dieses Beispiel:\n",
    "$$4! = 4 · 3 · 2 · 1 = 24. $$\n",
    "Wie können wir das also rekursiv formulieren? Hier setzt das Konzept des **Basisfalls(base case)** an.\n",
    "\n",
    "**Basisfall(base case)** ist ein Schlüsselbestandteil des Verständnisses von Rekursion, insbesondere wenn es darum geht, Interviewprobleme im Zusammenhang mit Rekursionen zu lösen. Lasst uns die obige Gleichung von 4! neu schreiben, damit sie so aussieht:\n",
    "\n",
    "$$ 4! = 4 · (3 · 2 · 1) = 24 $$\n",
    "\n",
    "Achte darauf, dass dies das Gleiche ist wie:\n",
    "\n",
    "$$ 4! = 4 · 3! = 24 $$\n",
    "\n",
    "Was bedeutet, dass wir die formale Rekursionsdefinition in Bezug auf die Rekursion so umschreiben können:\n",
    "\n",
    "$$ n! = n·(n−1)!$$\n",
    "\n",
    "Bitte achte darauf, **wenn n = 0, dann n! = 1**. Damit tritt der **Basisfall(base case)** auf, wenn n=0 erreicht ist, mit der Definition der *rekursiven Fälle* in der obigen Gleichung. Wann immer du versuchst, eine rekursive Lösung zu entwickeln, lohnt es sich, über den Basisfall nachzudenken, da deine Lösung den Basisfall zurückgeben muss, sobald alle rekursiven Fälle(recursive cases) bearbeitet sind. Lasst uns einen Blick darauf werfen, wie wir die Fakultät in Python erstellen können:\n",
    "___"
   ]
  },
  {
   "cell_type": "code",
   "execution_count": 1,
   "metadata": {},
   "outputs": [],
   "source": [
    "def fact(n):\n",
    "    '''\n",
    "    Liefert die Fakultät von n (n!).\n",
    "    Verwendung von Rekursionen beachten\n",
    "    '''\n",
    "    # BASISFALL!\n",
    "    if n == 0:\n",
    "        return 1\n",
    "    \n",
    "    # Rekursion!\n",
    "    else:\n",
    "        return n * fact(n-1)"
   ]
  },
  {
   "cell_type": "markdown",
   "metadata": {},
   "source": [
    "Lasst es uns in Aktion sehen!"
   ]
  },
  {
   "cell_type": "code",
   "execution_count": 2,
   "metadata": {},
   "outputs": [
    {
     "data": {
      "text/plain": [
       "120"
      ]
     },
     "execution_count": 2,
     "metadata": {},
     "output_type": "execute_result"
    }
   ],
   "source": [
    "fact(5)"
   ]
  },
  {
   "cell_type": "markdown",
   "metadata": {},
   "source": [
    "Man beachte, wie wir eine if-Anweisung hatten, um zu überprüfen, ob ein Basisfall(Base Case) aufgetreten ist. Ohne sie wäre diese Funktion nicht erfolgreich abgeschlossen worden. Wir können die Rekursion mit der folgenden Abbildung veranschaulichen:"
   ]
  },
  {
   "cell_type": "code",
   "execution_count": 3,
   "metadata": {},
   "outputs": [
    {
     "data": {
      "text/html": [
       "<img src=\"http://faculty.cs.niu.edu/~freedman/241/241notes/recur.gif\"/>"
      ],
      "text/plain": [
       "<IPython.core.display.Image object>"
      ]
     },
     "execution_count": 3,
     "metadata": {},
     "output_type": "execute_result"
    }
   ],
   "source": [
    "from IPython.display import Image\n",
    "from IPython.core.display import HTML \n",
    "Image(url= 'http://faculty.cs.niu.edu/~freedman/241/241notes/recur.gif')"
   ]
  },
  {
   "cell_type": "markdown",
   "metadata": {},
   "source": [
    "Dieses Flussdiagramm können wir von oben nach unten verfolgen, dann erreicht es den Basisfall und arbeiten sich dann wieder nach oben.\n",
    "\n",
    "# Fazit\n",
    "\n",
    "Rekursion ist ein mächtiges Werkzeug, aber es kann ein schwieriges Konzept sein. In der nächsten Lektion werden wir noch ein paar weitere Beispielprobleme für die Rekursion besprechen. Danach wirst du mit ein paar echten Interviewfragen konfrontiert, die Rekursionen beinhalten!"
   ]
  }
 ],
 "metadata": {
  "kernelspec": {
   "display_name": "Python 3",
   "language": "python",
   "name": "python3"
  },
  "language_info": {
   "codemirror_mode": {
    "name": "ipython",
    "version": 3
   },
   "file_extension": ".py",
   "mimetype": "text/x-python",
   "name": "python",
   "nbconvert_exporter": "python",
   "pygments_lexer": "ipython3",
   "version": "3.7.0"
  }
 },
 "nbformat": 4,
 "nbformat_minor": 2
}
