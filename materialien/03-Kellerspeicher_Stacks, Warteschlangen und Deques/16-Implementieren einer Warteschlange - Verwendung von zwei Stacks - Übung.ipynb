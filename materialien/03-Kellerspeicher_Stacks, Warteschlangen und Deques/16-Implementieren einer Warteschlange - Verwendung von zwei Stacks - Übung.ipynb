{
 "cells": [
  {
   "cell_type": "markdown",
   "metadata": {},
   "source": [
    "<a href=\"http://datamics.com/de/courses/\"><img src=../DATA/bg_datamics_top.png></a>\n",
    "\n",
    "<em text-align:center>© Datamics</em>\n",
    "#  Implementieren einer Warteschlange - Verwendung von zwei Stacks (Implement a Queue - Using Two Stacks)\n",
    "\n",
    "Implementiere angesichts der folgenden Stack-Klasse eine Queue-Klasse mit **zwei** Stacks! Beachte, dass es sich hier um ein \"klassisches\" Interviewproblem handelt. Verwende eine Python-Listendatenstruktur als Stapelspeicher."
   ]
  },
  {
   "cell_type": "code",
   "execution_count": 1,
   "metadata": {},
   "outputs": [],
   "source": [
    "# Verwende Listen anstelle deiner eigenen Stapelklasse.\n",
    "stack1 = []\n",
    "stack2 = []"
   ]
  },
  {
   "cell_type": "markdown",
   "metadata": {},
   "source": [
    "## Lösung\n",
    "\n",
    "Bitte trage unten deine Lösung ein:"
   ]
  },
  {
   "cell_type": "code",
   "execution_count": 2,
   "metadata": {},
   "outputs": [],
   "source": [
    "class Queue2Stacks(object):\n",
    "    \n",
    "    def __init__(self):\n",
    "        \n",
    "        # Zwei Stapelspeicher\n",
    "        self.stack1 = []\n",
    "        self.stack2 = []\n",
    "     \n",
    "    def enqueue(self,element):\n",
    "        \n",
    "        # FÜLLE DEN CODE HIER EIN\n",
    "        pass\n",
    "    \n",
    "    def dequeue(self):\n",
    "        \n",
    "        # FÜLLE DEN CODE HIER EIN\n",
    "        pass  "
   ]
  },
  {
   "cell_type": "markdown",
   "metadata": {},
   "source": [
    "# Testen deine Lösung\n",
    "\n",
    "Du solltest mit deinem aktuellen Wissen über Stacks und Queues erkennen können, ob dies funktioniert wie es sollte. Beispielsweise sollte das Folgende als solches gedruckt werden:"
   ]
  },
  {
   "cell_type": "code",
   "execution_count": 3,
   "metadata": {},
   "outputs": [
    {
     "name": "stdout",
     "output_type": "stream",
     "text": [
      "None\n",
      "None\n",
      "None\n",
      "None\n",
      "None\n"
     ]
    }
   ],
   "source": [
    "\"\"\"\n",
    "FÜHREN DIESE ZELLE AUS, UM ZU ÜBERPRÜFEN, OB DEIN LÖSUNGSERGEBNIS SINNVOLL IST UND SICH WIE EINE WARTESCHLANGE VERHÄLT.\n",
    "\"\"\"\n",
    "q = Queue2Stacks()\n",
    "\n",
    "for i in range(5):\n",
    "    q.enqueue(i)\n",
    "    \n",
    "for i in range(5):\n",
    "    print (q.dequeue())"
   ]
  },
  {
   "cell_type": "markdown",
   "metadata": {},
   "source": [
    "## Gut Gemacht!"
   ]
  }
 ],
 "metadata": {
  "kernelspec": {
   "display_name": "Python 3",
   "language": "python",
   "name": "python3"
  },
  "language_info": {
   "codemirror_mode": {
    "name": "ipython",
    "version": 3
   },
   "file_extension": ".py",
   "mimetype": "text/x-python",
   "name": "python",
   "nbconvert_exporter": "python",
   "pygments_lexer": "ipython3",
   "version": "3.7.0"
  }
 },
 "nbformat": 4,
 "nbformat_minor": 2
}
