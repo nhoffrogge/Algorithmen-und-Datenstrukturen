{
 "cells": [
  {
   "cell_type": "markdown",
   "metadata": {},
   "source": [
    "<a href=\"http://datamics.com/de/courses/\"><img src=../DATA/bg_datamics_top.png></a>\n",
    "\n",
    "<em text-align:center>© Datamics</em>\n",
    "# Übersicht über Stapel(Stacks), Warteschlangen(Queues) und Deques"
   ]
  },
  {
   "cell_type": "markdown",
   "metadata": {},
   "source": [
    "In diesem Abschnitt des Kurses wirst du mehr über Stapel(Stacks), Warteschlangen(Queues) und Deques erfahren. Das sind lineare Strukturen. Sie ähneln Arrays, aber jede dieser Strukturen unterscheidet sich dadurch, wie sie Elemente hinzufügt und entfernt.\n",
    "\n",
    "Hier ist das, was dich in diesem Abschnitt erwartet:\n",
    "\n",
    "    1.) Ein kurzer Überblick über die linearen Strukturen\n",
    "    2.) Ein Übersicht über die Stapel(Stacks)\n",
    "    3.) Eine Implementierung einer Stapelklasse\n",
    "    4.) Eine Übersicht über die Warteschlangen(Queue)\n",
    "    5.) Eine Implementierung einer Warteschlangen-Klasse\n",
    "    6.) Eine Übersicht über die Deques\n",
    "    7.) Eine Implementierung einer Deque-Klasse\n",
    "    \n",
    "    Und zum Schluss eine Vielzahl von Interviewfragen zu Stapeln, Warteschlangen und Dequen!\n",
    "    \n",
    "**Eine komplette Aufschlüsselung dieses Kursabschnitts findest du im Kursvideo!**."
   ]
  }
 ],
 "metadata": {
  "kernelspec": {
   "display_name": "Python 3",
   "language": "python",
   "name": "python3"
  },
  "language_info": {
   "codemirror_mode": {
    "name": "ipython",
    "version": 3
   },
   "file_extension": ".py",
   "mimetype": "text/x-python",
   "name": "python",
   "nbconvert_exporter": "python",
   "pygments_lexer": "ipython3",
   "version": "3.7.0"
  }
 },
 "nbformat": 4,
 "nbformat_minor": 2
}
