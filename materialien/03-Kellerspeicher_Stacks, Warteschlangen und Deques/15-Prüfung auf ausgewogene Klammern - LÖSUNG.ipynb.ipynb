{
 "cells": [
  {
   "cell_type": "markdown",
   "metadata": {},
   "source": [
    "<a href=\"http://datamics.com/de/courses/\"><img src=../DATA/bg_datamics_top.png></a>\n",
    "\n",
    "<em text-align:center>© Datamics</em>\n",
    "# Prüfung auf ausgewogene Klammern - LÖSUNG\n",
    "# (Balanced Parentheses Check )\n",
    "\n",
    "## Problemstellung\n",
    "\n",
    "Überprüfe bei einer Reihe von öffnenden und schließenden Klammern, ob sie ausgewogen sind. Wir haben 3 Arten von Klammern: runde Klammern: (), eckige Klammern: und geschweifte Klammern: {}. Angenommen, die Zeichenkette enthält kein anderes Zeichen als diese, keine Leerzeichen, Wörter oder Zahlen. Zur Erinnerung: Bei ausgewogenen Klammern muss jede öffnende Klammer in umgekehrter Reihenfolge geschlossen werden. Zum Beispiel ist '([]])' ausgeglichen, aber '([)]' nicht. \n",
    "\n",
    "\n",
    "Du kannst davon ausgehen, dass die eingegebene Zeichenkette keine Leerzeichen enthält.\n",
    "\n",
    "## Lösung\n",
    "\n",
    "Dies ist eine sehr beliebte Interviewfrage und eine der wichtigsten Möglichkeiten, dein Wissen über die Verwendung von Stapelspeichers zu überprüfen! Wir werden unsere Lösungslogik an dieser Stelle beginnen:\n",
    "\n",
    "Zuerst scannen wir die Zeichenkette von links nach rechts, und jedes Mal, wenn wir eine öffnende Klammer sehen, schieben wir sie auf einen Stapel, denn wir wollen, dass die letzte öffnende Klammer zuerst geschlossen wird. (Erinnere dich an die FILO-Struktur eines Stapelspeichers!)\n",
    "\n",
    "Wenn wir dann eine schließende Klammer sehen, überprüfen wir, ob die zuletzt geöffnete das entsprechende Abschlussmatch ist, indem wir ein Element aus dem Stapel poppen. Wenn es sich um eine gültige Übereinstimmung handelt, dann gehen wir vorwärts, wenn nicht sogar falsch zurück. \n",
    "\n",
    "Oder wenn der Stapelspeicher leer ist, geben wir auch false zurück, da mit diesem schließenden Stapel keine öffnende Klammer assoziiert sind. Am Ende prüfen wir auch, ob der Stapel leer ist. Wenn ja, geben wir true zurück, ansonsten false, weil es ja noch einige offene Klammern gibt, die nicht geschlossen wurden. \n",
    "\n",
    "Hier ist eine exemplarische Lösung:"
   ]
  },
  {
   "cell_type": "code",
   "execution_count": 1,
   "metadata": {},
   "outputs": [],
   "source": [
    "def balance_check(s):\n",
    "    \n",
    "    # Überprüfe, dass die Anzahl der Klammern geradzahlig ist.\n",
    "    if len(s)%2 != 0:\n",
    "        return False\n",
    "    \n",
    "    # Satz der öffenende Klammernzeichen\n",
    "    opening = set('([{') \n",
    "    \n",
    "    # Passende Paare\n",
    "    matches = set([ ('(',')'), ('[',']'), ('{','}') ]) \n",
    "    \n",
    "    # Eine Liste als \"Stapelspeicher\" verwenden\n",
    "    stack = []\n",
    "    \n",
    "    # Überprüfe jede Klammer in einer Zeichenkette.\n",
    "    for paren in s:\n",
    "        \n",
    "        # Wenn es sich um eine öffnende Klammer handelt, füge sie an die Liste an.\n",
    "        if paren in opening:\n",
    "            stack.append(paren)\n",
    "        \n",
    "        else:\n",
    "            \n",
    "            # Kontrollieren ob es Klammern im Stack gibt.\n",
    "            if len(stack) == 0:\n",
    "                return False\n",
    "            \n",
    "            # Überprüfe die letzte offene Klammer.\n",
    "            last_open = stack.pop()\n",
    "            \n",
    "            # Überprüfe, ob es ein Abschlussmatch gibt.\n",
    "            if (last_open,paren) not in matches:\n",
    "                return False\n",
    "            \n",
    "    return len(stack) == 0"
   ]
  },
  {
   "cell_type": "code",
   "execution_count": 2,
   "metadata": {},
   "outputs": [
    {
     "data": {
      "text/plain": [
       "True"
      ]
     },
     "execution_count": 2,
     "metadata": {},
     "output_type": "execute_result"
    }
   ],
   "source": [
    "balance_check('[]')"
   ]
  },
  {
   "cell_type": "code",
   "execution_count": 3,
   "metadata": {},
   "outputs": [
    {
     "data": {
      "text/plain": [
       "True"
      ]
     },
     "execution_count": 3,
     "metadata": {},
     "output_type": "execute_result"
    }
   ],
   "source": [
    "balance_check('[](){([[[]]])}')"
   ]
  },
  {
   "cell_type": "code",
   "execution_count": 4,
   "metadata": {},
   "outputs": [
    {
     "data": {
      "text/plain": [
       "False"
      ]
     },
     "execution_count": 4,
     "metadata": {},
     "output_type": "execute_result"
    }
   ],
   "source": [
    "balance_check('()(){]}')"
   ]
  },
  {
   "cell_type": "markdown",
   "metadata": {},
   "source": [
    "# Teste deine Lösung"
   ]
  },
  {
   "cell_type": "code",
   "execution_count": 10,
   "metadata": {},
   "outputs": [
    {
     "name": "stdout",
     "output_type": "stream",
     "text": [
      "ALL TEST CASES PASSED\n"
     ]
    }
   ],
   "source": [
    "\"\"\"\n",
    "FÜHRE DIESE ZELLE AUS, UM DEINE LÖSUNG ZU TESTEN.\n",
    "\"\"\"\n",
    "from nose.tools import assert_equal\n",
    "\n",
    "class TestBalanceCheck(object):\n",
    "    \n",
    "    def test(self,sol):\n",
    "        assert_equal(sol('[](){([[[]]])}('),False)\n",
    "        assert_equal(sol('[{{{(())}}}]((()))'),True)\n",
    "        assert_equal(sol('[[[]])]'),False)\n",
    "        print ('ALL TEST CASES PASSED')\n",
    "        \n",
    "# Run Tests\n",
    "\n",
    "t = TestBalanceCheck()\n",
    "t.test(balance_check)"
   ]
  },
  {
   "cell_type": "markdown",
   "metadata": {},
   "source": [
    "## Gut gemacht!"
   ]
  }
 ],
 "metadata": {
  "kernelspec": {
   "display_name": "Python 3",
   "language": "python",
   "name": "python3"
  },
  "language_info": {
   "codemirror_mode": {
    "name": "ipython",
    "version": 3
   },
   "file_extension": ".py",
   "mimetype": "text/x-python",
   "name": "python",
   "nbconvert_exporter": "python",
   "pygments_lexer": "ipython3",
   "version": "3.7.0"
  }
 },
 "nbformat": 4,
 "nbformat_minor": 2
}
