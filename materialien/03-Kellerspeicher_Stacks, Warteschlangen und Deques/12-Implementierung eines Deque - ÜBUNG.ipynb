{
 "cells": [
  {
   "cell_type": "markdown",
   "metadata": {},
   "source": [
    "<a href=\"http://datamics.com/de/courses/\"><img src=../DATA/bg_datamics_top.png></a>\n",
    "\n",
    "<em text-align:center>© Datamics</em>\n",
    "# Implementierung eines Deque(Implement a Deque) \n",
    "\n",
    "Schließlich implementierst du eine Deque-Klasse! Diese sollte in der Lage sein, Folgendes zu tun:\n",
    "\n",
    "* Überprüfen, ob es leer ist. (isEmpty)\n",
    "* Hinzufügen sowohl an der Vorder- als auch an der Rückseite (add_front / add_rear)\n",
    "* Von vorne und hinten entfernen (remove_front / remove_rear)\n",
    "* Überprüfen die Größe (size)\n"
   ]
  },
  {
   "cell_type": "code",
   "execution_count": 1,
   "metadata": {
    "collapsed": true
   },
   "outputs": [],
   "source": [
    "class Deque(object):\n",
    "    pass"
   ]
  }
 ],
 "metadata": {
  "kernelspec": {
   "display_name": "Python 3",
   "language": "python",
   "name": "python3"
  },
  "language_info": {
   "codemirror_mode": {
    "name": "ipython",
    "version": 3
   },
   "file_extension": ".py",
   "mimetype": "text/x-python",
   "name": "python",
   "nbconvert_exporter": "python",
   "pygments_lexer": "ipython3",
   "version": "3.7.0"
  }
 },
 "nbformat": 4,
 "nbformat_minor": 2
}
