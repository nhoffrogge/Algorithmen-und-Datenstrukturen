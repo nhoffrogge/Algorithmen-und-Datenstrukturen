{
 "cells": [
  {
   "cell_type": "markdown",
   "metadata": {},
   "source": [
    "<a href=\"http://datamics.com/de/courses/\"><img src=../DATA/bg_datamics_top.png></a>\n",
    "\n",
    "<em text-align:center>© Datamics</em>\n",
    "# Einen Stapelspeicher implementieren(Implement a Stack)\n",
    "\n",
    "Eine sehr häufige Interviewfrage ist es, zunächst nur einen Stack zu implementieren! Versuche dein Bestes, um deinen eigenen Stapel zu implementieren!\n",
    "\n",
    "Dazu sollte es diese Methoden haben:\n",
    "\n",
    "* Prüfen, ob es leer ist.(isEmpty)\n",
    "* Einen neuen Eintrag verschieben(push)\n",
    "* Einen Eintrag poppen(pop)\n",
    "* Schaue dir auf den obersten Eintrag an.(peak)\n",
    "* Liefert die Größe zurück(count)"
   ]
  },
  {
   "cell_type": "code",
   "execution_count": 3,
   "metadata": {},
   "outputs": [],
   "source": [
    "class Stack(object):\n",
    "    \n",
    "    \n",
    "    # Bitte, trage hier deine Stapelmethoden ein.\n",
    "    pass"
   ]
  },
  {
   "cell_type": "code",
   "execution_count": null,
   "metadata": {},
   "outputs": [],
   "source": []
  }
 ],
 "metadata": {
  "kernelspec": {
   "display_name": "Python 3",
   "language": "python",
   "name": "python3"
  },
  "language_info": {
   "codemirror_mode": {
    "name": "ipython",
    "version": 3
   },
   "file_extension": ".py",
   "mimetype": "text/x-python",
   "name": "python",
   "nbconvert_exporter": "python",
   "pygments_lexer": "ipython3",
   "version": "3.7.0"
  }
 },
 "nbformat": 4,
 "nbformat_minor": 2
}
