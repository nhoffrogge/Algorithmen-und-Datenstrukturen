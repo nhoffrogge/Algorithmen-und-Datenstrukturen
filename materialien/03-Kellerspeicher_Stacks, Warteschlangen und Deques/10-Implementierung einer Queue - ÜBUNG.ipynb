{
 "cells": [
  {
   "cell_type": "markdown",
   "metadata": {},
   "source": [
    "<a href=\"http://datamics.com/de/courses/\"><img src=../DATA/bg_datamics_top.png></a>\n",
    "\n",
    "<em text-align:center>© Datamics</em>\n",
    "# Implementieren einer Warteschlange (Implement a Queue)\n",
    "\n",
    "Es ist sehr verbreitet, dass man gefragt wird, eine Warteschlangenklasse zu implementieren! Die Klasse sollte in der Lage sein, Folgendes zu tun:\n",
    "\n",
    "* Überprüfen ob die Warteschlange leer ist. (isEmpty)\n",
    "* Enqueue\n",
    "* Dequeue\n",
    "* Liefert die Größe der Warteschlange. (count)\n"
   ]
  },
  {
   "cell_type": "code",
   "execution_count": 1,
   "metadata": {},
   "outputs": [],
   "source": [
    "class Queue(object):\n",
    "    pass"
   ]
  }
 ],
 "metadata": {
  "kernelspec": {
   "display_name": "Python 3",
   "language": "python",
   "name": "python3"
  },
  "language_info": {
   "codemirror_mode": {
    "name": "ipython",
    "version": 3
   },
   "file_extension": ".py",
   "mimetype": "text/x-python",
   "name": "python",
   "nbconvert_exporter": "python",
   "pygments_lexer": "ipython3",
   "version": "3.7.0"
  }
 },
 "nbformat": 4,
 "nbformat_minor": 2
}
