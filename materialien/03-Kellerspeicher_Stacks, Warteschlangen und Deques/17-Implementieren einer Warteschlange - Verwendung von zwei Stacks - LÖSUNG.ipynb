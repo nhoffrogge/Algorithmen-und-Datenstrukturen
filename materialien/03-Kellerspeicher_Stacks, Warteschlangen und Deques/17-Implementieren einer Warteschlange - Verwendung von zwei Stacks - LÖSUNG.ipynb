{
 "cells": [
  {
   "cell_type": "markdown",
   "metadata": {},
   "source": [
    "<a href=\"http://datamics.com/de/courses/\"><img src=../DATA/bg_datamics_top.png></a>\n",
    "\n",
    "<em text-align:center>© Datamics</em>\n",
    "#  Implementieren einer Warteschlange - Verwendung von zwei Stacks - LÖSUNG (Implement a Queue - Using Two Stacks)\n",
    "\n",
    "Implementiere angesichts der folgenden Stack-Klasse eine Queue-Klasse mit **zwei** Stacks! Beachte, dass es sich hier um ein \"klassisches\" Interviewproblem handelt. Verwende eine Python-Listendatenstruktur als Stapelspeicher.\n"
   ]
  },
  {
   "cell_type": "code",
   "execution_count": 6,
   "metadata": {},
   "outputs": [],
   "source": [
    "stack1 = []\n",
    "stack2 = []"
   ]
  },
  {
   "cell_type": "markdown",
   "metadata": {},
   "source": [
    "## Lösung\n",
    "\n",
    "Die wichtigste Erkenntnis ist, dass ein Stapelspeicher die Reihenfolge umkehrt (während eine Warteschlange es nicht tut). Eine Folge von Elementen, die auf einen Stapel geschoben werden, kehrt in umgekehrter Reihenfolge zurück, wenn sie entfernt werden. Folglich werden zwei Stapel, die miteinander verbunden sind, Elemente in der gleichen Reihenfolge zurückgeben, da die umgekehrte Reihenfolge wieder umgekehrt ist.\n",
    "\n",
    " Wir verwenden einen instack, den wir füllen, wenn ein Element in die Enqueue gestellt wird und der Dequeue-Vorgang Elemente aus einem Out-Stack übernimmt. Wenn der outstack leer ist, öffnen wir alle Elemente aus dem instack und schieben sie auf den outstack. "
   ]
  },
  {
   "cell_type": "code",
   "execution_count": 7,
   "metadata": {},
   "outputs": [],
   "source": [
    "class Queue2Stacks(object):\n",
    "    \n",
    "    def __init__(self):\n",
    "        \n",
    "        # Two Stacks\n",
    "        self.instack = []\n",
    "        self.outstack = []\n",
    "     \n",
    "    def enqueue(self,element):\n",
    "        \n",
    "        # Hinzufügen einer Enqueue mit dem \"IN\" Stack\n",
    "        self.instack.append(element)\n",
    "    \n",
    "    def dequeue(self):\n",
    "        if not self.outstack:\n",
    "            while self.instack:\n",
    "                # Füge Elemente zum Outstack hinzu, um die Reihenfolge beim Aufruf umzukehren.\n",
    "                self.outstack.append(self.instack.pop())\n",
    "        return self.outstack.pop()  "
   ]
  },
  {
   "cell_type": "markdown",
   "metadata": {},
   "source": [
    "# Testen deine Lösung\n",
    "\n",
    "Du solltest mit deinem aktuellen Wissen über Stacks und Queues erkennen können, ob dies funktioniert wie es sollte. Beispielsweise sollte das Folgende als solches gedruckt werden:"
   ]
  },
  {
   "cell_type": "code",
   "execution_count": 8,
   "metadata": {},
   "outputs": [
    {
     "name": "stdout",
     "output_type": "stream",
     "text": [
      "0\n",
      "1\n",
      "2\n",
      "3\n",
      "4\n"
     ]
    }
   ],
   "source": [
    "\"\"\"\n",
    "FÜHREN DIESE ZELLE AUS, UM ZU ÜBERPRÜFEN, OB DEIN LÖSUNGSERGEBNIS SINNVOLL IST UND SICH WIE EINE WARTESCHLANGE VERHÄLT.\n",
    "\"\"\"\n",
    "q = Queue2Stacks()\n",
    "\n",
    "for i in range(5):\n",
    "    q.enqueue(i)\n",
    "    \n",
    "for i in range(5):\n",
    "    print (q.dequeue())"
   ]
  },
  {
   "cell_type": "markdown",
   "metadata": {},
   "source": [
    "## Gut Gemacht!"
   ]
  },
  {
   "cell_type": "code",
   "execution_count": null,
   "metadata": {},
   "outputs": [],
   "source": []
  }
 ],
 "metadata": {
  "kernelspec": {
   "display_name": "Python 3",
   "language": "python",
   "name": "python3"
  },
  "language_info": {
   "codemirror_mode": {
    "name": "ipython",
    "version": 3
   },
   "file_extension": ".py",
   "mimetype": "text/x-python",
   "name": "python",
   "nbconvert_exporter": "python",
   "pygments_lexer": "ipython3",
   "version": "3.7.0"
  }
 },
 "nbformat": 4,
 "nbformat_minor": 2
}
