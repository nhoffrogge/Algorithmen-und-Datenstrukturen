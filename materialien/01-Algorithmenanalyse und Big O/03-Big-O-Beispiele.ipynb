{
 "cells": [
  {
   "cell_type": "markdown",
   "metadata": {},
   "source": [
    "<a href=\"http://datamics.com/de/courses/\"><img src=../DATA/bg_datamics_top.png></a>\n",
    "\n",
    "<em text-align:center>© Datamics</em>\n",
    "# Landau-Symbole (Big O) Beispiele\n",
    "\n",
    "Im ersten Teil des Big-O-Beispielabschnitts werden wir verschiedene Iterationen der verschiedenen Big-O-Funktionen durchgehen. Die empfohlenen Texte sind unbedingt zu lesen!\n",
    "\n",
    "Beginnen wir mit einigen einfachen Beispielen und erkunden wir, was ihr Big-O ist.\n",
    "\n",
    "## O(1) Konstant"
   ]
  },
  {
   "cell_type": "code",
   "execution_count": 1,
   "metadata": {},
   "outputs": [
    {
     "name": "stdout",
     "output_type": "stream",
     "text": [
      "1\n"
     ]
    }
   ],
   "source": [
    "def func_constant(values):\n",
    "    '''\n",
    "    Druckt das erste Element in einer Werteliste.\n",
    "    '''\n",
    "    print (values[0])\n",
    "    \n",
    "func_constant([1,2,3])"
   ]
  },
  {
   "cell_type": "markdown",
   "metadata": {},
   "source": [
    "Man beachte, dass diese Funktion konstant ist, da die Funktion unabhängig von der Listengröße immer nur eine konstante Schrittweite einnimmt, in diesem Fall 1, indem sie den ersten Wert aus einer Liste ausgibt. So können wir hier sehen, dass eine Eingabeliste mit 100 Werten nur 1 Element ausgibt, eine Liste mit 10.000 Werten nur 1 Element ausgibt und eine Liste mit **n** Werten nur 1 Element ausgibt!"
   ]
  },
  {
   "cell_type": "markdown",
   "metadata": {},
   "source": [
    "## O(n) Linear"
   ]
  },
  {
   "cell_type": "code",
   "execution_count": 2,
   "metadata": {},
   "outputs": [
    {
     "name": "stdout",
     "output_type": "stream",
     "text": [
      "1\n",
      "2\n",
      "3\n"
     ]
    }
   ],
   "source": [
    "def func_lin(lst):\n",
    "    '''\n",
    "    Übernimmt die Liste und druckt alle Werte aus.\n",
    "    '''\n",
    "    for val in lst:\n",
    "        print (val)\n",
    "        \n",
    "func_lin([1,2,3])"
   ]
  },
  {
   "cell_type": "markdown",
   "metadata": {},
   "source": [
    "Diese Funktion läuft in linearer Zeit (O(n)). Das bedeutet, dass die Anzahl der Operationen linear mit n wächst. Daher können wir hier feststellen, dass eine Liste mit 100 Werten 100 mal print ausführt, eine Liste mit 10.000 Werten 10.000 mal print ausführt und eine Liste mit **n Werten n** mal print ausführt."
   ]
  },
  {
   "cell_type": "markdown",
   "metadata": {},
   "source": [
    "## O(n^2) Quadratisch"
   ]
  },
  {
   "cell_type": "code",
   "execution_count": 3,
   "metadata": {},
   "outputs": [
    {
     "name": "stdout",
     "output_type": "stream",
     "text": [
      "0 0\n",
      "0 1\n",
      "0 2\n",
      "0 3\n",
      "1 0\n",
      "1 1\n",
      "1 2\n",
      "1 3\n",
      "2 0\n",
      "2 1\n",
      "2 2\n",
      "2 3\n",
      "3 0\n",
      "3 1\n",
      "3 2\n",
      "3 3\n"
     ]
    }
   ],
   "source": [
    "def func_quad(lst):\n",
    "    '''\n",
    "    Druckt Paare für jedes Element in der Liste.\n",
    "    '''\n",
    "    for item_1 in lst:\n",
    "        for item_2 in lst:\n",
    "            print (item_1,item_2)\n",
    "            \n",
    "lst = [0, 1, 2, 3]\n",
    "\n",
    "func_quad(lst)"
   ]
  },
  {
   "cell_type": "markdown",
   "metadata": {},
   "source": [
    "Bemerkenswert ist, dass wir nun zwei Schleifen haben, eine verschachtelt in der anderen. Das bedeutet, dass wir für eine Liste von n Elementen n Operationen für *jedes Element in der Liste durchführen müssen!* In Summe werden also n mal n oder **n^2** Zuweisungen durchgeführt. So hat eine Liste von 10 Elementen 10^2 oder 100 Operationen. Du kannst sehen, wie gefährlich das bei sehr großen Eingaben werden kann! Deshalb ist es so wichtig, sich über Big-O im Klaren zu sein!"
   ]
  },
  {
   "cell_type": "markdown",
   "metadata": {},
   "source": [
    "______\n",
    "## Berechnungsmaßstab für Big-O\n",
    "\n",
    "In diesem Abschnitt werden wir darüber diskutieren, wie unbedeutende Terme aus der Big-O-Notation herausfallen.\n",
    "\n",
    "Wenn es um die Big O-Notation geht, kümmern wir uns nur um die wichtigsten Terme, denn wenn die Inputgröße größer wird, spielen nur die am schnellsten wachsenden Terme eine Rolle. Wenn du schon einmal Analysis in der Schule oder Uni hattest, wird dich das daran erinnern, den Limes gegen Unendlich zu bilden. Schauen wir uns ein Beispiel an, wie man Konstanten fallen lassen kann:"
   ]
  },
  {
   "cell_type": "code",
   "execution_count": 4,
   "metadata": {},
   "outputs": [],
   "source": [
    "def print_once(lst):\n",
    "    '''\n",
    "    Druckt alle Elemente nur einmal aus.\n",
    "    '''\n",
    "    for val in lst:\n",
    "        print (val)"
   ]
  },
  {
   "cell_type": "code",
   "execution_count": 5,
   "metadata": {
    "scrolled": true
   },
   "outputs": [
    {
     "name": "stdout",
     "output_type": "stream",
     "text": [
      "0\n",
      "1\n",
      "2\n",
      "3\n"
     ]
    }
   ],
   "source": [
    "print_once(lst)"
   ]
  },
  {
   "cell_type": "markdown",
   "metadata": {},
   "source": [
    "Die Funktion print_once() ist O(n), da sie mit der Eingabe linear skaliert. Was ist mit dem nächsten Beispiel?"
   ]
  },
  {
   "cell_type": "code",
   "execution_count": 6,
   "metadata": {},
   "outputs": [],
   "source": [
    "def print_3(lst):\n",
    "    '''\n",
    "    Druckt alle Elemente dreimal aus.\n",
    "    '''\n",
    "    for val in lst:\n",
    "        print (val)\n",
    "        \n",
    "    for val in lst:\n",
    "        print (val)\n",
    "        \n",
    "    for val in lst:\n",
    "        print (val)"
   ]
  },
  {
   "cell_type": "code",
   "execution_count": 7,
   "metadata": {},
   "outputs": [
    {
     "name": "stdout",
     "output_type": "stream",
     "text": [
      "0\n",
      "1\n",
      "2\n",
      "3\n",
      "0\n",
      "1\n",
      "2\n",
      "3\n",
      "0\n",
      "1\n",
      "2\n",
      "3\n"
     ]
    }
   ],
   "source": [
    "print_3(lst)"
   ]
  },
  {
   "cell_type": "markdown",
   "metadata": {},
   "source": [
    "Wir können sehen, dass die erste Funktion O(n)-Elemente druckt und die zweite O(3n)-Elemente. Für n, die gegen Unendlich gehen, kann die Konstante jedoch entfallen, weil sie keine große Wirkung hat, so dass beide Funktionen O(n) sind.\n",
    "\n",
    "Schauen wir uns ein komplexeres Beispiel dafür an:"
   ]
  },
  {
   "cell_type": "code",
   "execution_count": 8,
   "metadata": {},
   "outputs": [],
   "source": [
    "def comp(lst):\n",
    "    '''\n",
    "    Diese Funktion druckt das erste Element O(1) aus.\n",
    "    Dann wird die erste Hälfte der Liste O(n/2) gedruckt.\n",
    "    Dann wird eine Zeichenkette(string) 10 mal O(10) gedruckt.\n",
    "    '''\n",
    "    print (lst[0])\n",
    "    \n",
    "    midpoint = len(lst)//2\n",
    "    \n",
    "    for val in lst[:midpoint]:\n",
    "        print (val)\n",
    "        \n",
    "    for x in range(10):\n",
    "        print ('number')"
   ]
  },
  {
   "cell_type": "code",
   "execution_count": 9,
   "metadata": {},
   "outputs": [
    {
     "name": "stdout",
     "output_type": "stream",
     "text": [
      "1\n",
      "1\n",
      "2\n",
      "3\n",
      "4\n",
      "5\n",
      "number\n",
      "number\n",
      "number\n",
      "number\n",
      "number\n",
      "number\n",
      "number\n",
      "number\n",
      "number\n",
      "number\n"
     ]
    }
   ],
   "source": [
    "lst = [1,2,3,4,5,6,7,8,9,10]\n",
    "\n",
    "comp(lst)"
   ]
  },
  {
   "cell_type": "markdown",
   "metadata": {},
   "source": [
    "Also lass uns die Operationen im Einzelnen durchgehen. Wir können alle Operationen miteinander kombinieren, um den gesamten Big-O der Funktion zu erhalten:\n",
    "\n",
    "$$O(1 + n/2 + 10)$$\n",
    "\n",
    "Wir können sehen, dass mit zunehmender Größe von n die Terme 1 und 10 unbedeutend werden und der 1/2-Term multipliziert mit n auch nicht viel Wirkung haben wird, wenn n gegen Unendlich geht. Das bedeutet, dass die Funktion einfach O(n) ist!"
   ]
  },
  {
   "cell_type": "markdown",
   "metadata": {},
   "source": [
    "## Schlimmster Fall vs. Bestfall (Worst Case vs Best Case)\n",
    "\n",
    "Oftmals geht es uns nur um den schlimmstmöglichen Fall eines Algorithmus, aber für eine Interview-Situation solltest du im Hinterkopf behalten, dass Worst-Case- und Best-Case-Szenarien völlig unterschiedliche Big-O-Zeiten haben können. Betrachten wir beispielsweise die folgende Funktion:"
   ]
  },
  {
   "cell_type": "code",
   "execution_count": 10,
   "metadata": {},
   "outputs": [],
   "source": [
    "def matcher(lst,match):\n",
    "    '''\n",
    "    Gibt bei einer Liste lst einen booleschen Wert zurück, \n",
    "    der angibt, ob sich ein Treffer in der Liste befindet.\n",
    "    '''\n",
    "    for item in lst:\n",
    "        if item == match:\n",
    "            return True\n",
    "    return False"
   ]
  },
  {
   "cell_type": "code",
   "execution_count": 11,
   "metadata": {},
   "outputs": [
    {
     "data": {
      "text/plain": [
       "[1, 2, 3, 4, 5, 6, 7, 8, 9, 10]"
      ]
     },
     "execution_count": 11,
     "metadata": {},
     "output_type": "execute_result"
    }
   ],
   "source": [
    "lst"
   ]
  },
  {
   "cell_type": "code",
   "execution_count": 12,
   "metadata": {},
   "outputs": [
    {
     "data": {
      "text/plain": [
       "True"
      ]
     },
     "execution_count": 12,
     "metadata": {},
     "output_type": "execute_result"
    }
   ],
   "source": [
    "matcher(lst,1) # O (1)"
   ]
  },
  {
   "cell_type": "code",
   "execution_count": 13,
   "metadata": {},
   "outputs": [
    {
     "data": {
      "text/plain": [
       "False"
      ]
     },
     "execution_count": 13,
     "metadata": {},
     "output_type": "execute_result"
    }
   ],
   "source": [
    "matcher(lst,11) # O (n)"
   ]
  },
  {
   "cell_type": "markdown",
   "metadata": {},
   "source": [
    "Dabei ist zu beachten, dass im ersten Szenario der bestmögliche Fall im Grunde genommen O(1) war, da die Übereinstimmung beim ersten Element gefunden wurde. Falls keine Übereinstimmung vorliegt, muss jedes Element überprüft werden, was zu einer Worst-Case-Zeit von O(n) führt. Später werden wir auch die durchschnittliche Fallzeit besprechen.\n",
    "\n",
    "Zum Schluss möchten wir noch das Konzept der Raumkomplexität (space complexity) vorstellen.\n",
    "\n",
    "## Raumkomplexität (Space Complexity)\n",
    "\n",
    "Oftmals geht es uns auch darum, wie viel Speicherplatz ein Algorithmus verbraucht. Die Notation der Raumkomplexität ist die gleiche, aber anstatt die Zeit der Operationen zu überprüfen, überprüfen wir die Größe der Speicherzuweisung.\n",
    "\n",
    "Schauen wir uns ein paar Beispiele an:"
   ]
  },
  {
   "cell_type": "code",
   "execution_count": 14,
   "metadata": {},
   "outputs": [],
   "source": [
    "def printer(n=10):\n",
    "    '''\n",
    "    Drucke  \"Hello World!\" n mal\n",
    "    '''\n",
    "    for x in range(n):\n",
    "        print ('Hello World!')"
   ]
  },
  {
   "cell_type": "code",
   "execution_count": 15,
   "metadata": {},
   "outputs": [
    {
     "name": "stdout",
     "output_type": "stream",
     "text": [
      "Hello World!\n",
      "Hello World!\n",
      "Hello World!\n",
      "Hello World!\n",
      "Hello World!\n",
      "Hello World!\n",
      "Hello World!\n",
      "Hello World!\n",
      "Hello World!\n",
      "Hello World!\n"
     ]
    }
   ],
   "source": [
    "printer()"
   ]
  },
  {
   "cell_type": "markdown",
   "metadata": {},
   "source": [
    "Beachten Sie, dass wir die Variable 'Hello World!' nur einmal vergeben, nicht jedes Mal, wenn wir drucken. Der Algorithmus hat also O(1) **Raum** Komplexität und eine O(n) **Zeit** Komplexität. \n",
    "\n",
    "Schauen wir uns ein Beispiel für eine **Raum** Komplexität von O(n) an:"
   ]
  },
  {
   "cell_type": "code",
   "execution_count": 16,
   "metadata": {},
   "outputs": [],
   "source": [
    "def create_list(n):\n",
    "    new_list = []\n",
    "    \n",
    "    for num in range(n):\n",
    "        new_list.append('new')\n",
    "    \n",
    "    return new_list"
   ]
  },
  {
   "cell_type": "code",
   "execution_count": 17,
   "metadata": {},
   "outputs": [
    {
     "name": "stdout",
     "output_type": "stream",
     "text": [
      "['new', 'new', 'new', 'new', 'new']\n"
     ]
    }
   ],
   "source": [
    "print (create_list(5))"
   ]
  },
  {
   "cell_type": "markdown",
   "metadata": {},
   "source": [
    "Bitte beachte, dass die Größe des new_list Objekts mit der Eingabe n skaliert wird, dies zeigt, dass es sich um einen O(n)-Algorithmus in Bezug auf die Komplexität des **Raums** handelt.\n",
    "_____\n",
    "\n",
    "Das war es für diese Lektion, bevor du weitermachst, stelle bitte sicher, dass du die folgende Hausaufgabe erledigst:"
   ]
  },
  {
   "cell_type": "markdown",
   "metadata": {},
   "source": [
    "# Weitere Erklärungen\n",
    "\n",
    "Schaue dir am Besten noch diese wunderbaren Erklärungen der Big-O Notation an:\n",
    "\n",
    "\n",
    "* [Big-O Notation erklärt](http://stackoverflow.com/questions/487258/plain-english-explanation-of-big-o/487278#487278)\n",
    "\n",
    "* [Big-O Beispiele erklärt](http://stackoverflow.com/questions/2307283/what-does-olog-n-mean-exactly)"
   ]
  }
 ],
 "metadata": {
  "kernelspec": {
   "display_name": "Python 3",
   "language": "python",
   "name": "python3"
  },
  "language_info": {
   "codemirror_mode": {
    "name": "ipython",
    "version": 3
   },
   "file_extension": ".py",
   "mimetype": "text/x-python",
   "name": "python",
   "nbconvert_exporter": "python",
   "pygments_lexer": "ipython3",
   "version": "3.7.0"
  }
 },
 "nbformat": 4,
 "nbformat_minor": 2
}
