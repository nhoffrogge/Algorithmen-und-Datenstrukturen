{
 "cells": [
  {
   "cell_type": "markdown",
   "metadata": {},
   "source": [
    "<a href=\"http://datamics.com/de/courses/\"><img src=../DATA/bg_datamics_top.png></a>\n",
    "\n",
    "<em text-align:center>Copyright Datamics</em>\n",
    "# Landau-Symbole (Big O) für Python-Datenstrukturen\n",
    "In dieser Lektion werden wir uns die Big O - Notation für in Python eingebaute Datenstrukturen (Listen und Dictionaries) ansehen."
   ]
  },
  {
   "cell_type": "markdown",
   "metadata": {},
   "source": [
    "# Listen\n",
    "\n",
    "\n",
    "In Python fungieren Listen als dynamische Arrays und unterstützen eine Reihe von gängigen Operationen durch Methoden, die sie aufrufen. Die beiden häufigsten Operationen, die auf einer Liste durchgeführt werden, sind die Indizierung und die Zuordnung zu einer Index-Position. Diese Vorgänge sind beide so konzipiert, dass sie in konstanter Zeit laufen, O(1).\n",
    "\n",
    "Stellen wir uns vor, du wolltest verschiedene Methoden testen, um eine Liste zu erstellen, die[0,1,2...10000] lautet. Vergleichen wir nun verschiedene Methoden, wie das Anhängen an das Ende einer Liste, das Verketten einer Liste oder die Verwendung von Werkzeugen wie Casting und Listenverständnis(list comprehension).\n",
    "\n",
    "Zum Beispiel:"
   ]
  },
  {
   "cell_type": "code",
   "execution_count": 1,
   "metadata": {},
   "outputs": [],
   "source": [
    "def method1():\n",
    "    l = []\n",
    "    for n in range(10000):\n",
    "        l = l + [n]\n",
    "\n",
    "def method2():\n",
    "    l = []\n",
    "    for n in range(10000):\n",
    "        l.append(n)\n",
    "\n",
    "def method3():\n",
    "    l = [n for n in range(10000)]\n",
    "\n",
    "def method4():\n",
    "    l = range(10000) # Python 3: list(range(10000))"
   ]
  },
  {
   "cell_type": "markdown",
   "metadata": {},
   "source": [
    "Lass uns nun diese Methoden mit der magischen Funktion timeit testen:"
   ]
  },
  {
   "cell_type": "code",
   "execution_count": 2,
   "metadata": {},
   "outputs": [
    {
     "name": "stdout",
     "output_type": "stream",
     "text": [
      "98 ms ± 652 µs per loop (mean ± std. dev. of 7 runs, 10 loops each)\n",
      "458 µs ± 10.1 µs per loop (mean ± std. dev. of 7 runs, 1000 loops each)\n",
      "244 µs ± 14.4 µs per loop (mean ± std. dev. of 7 runs, 1000 loops each)\n",
      "233 ns ± 3.25 ns per loop (mean ± std. dev. of 7 runs, 1000000 loops each)\n"
     ]
    }
   ],
   "source": [
    "%timeit method1()\n",
    "%timeit method2()\n",
    "%timeit method3()\n",
    "%timeit method4()"
   ]
  },
  {
   "cell_type": "markdown",
   "metadata": {},
   "source": [
    "Wir können deutlich sehen, dass die effektivste Methode die eingebaute range()-Funktion in Python ist!\n",
    "\n",
    "Bei der Entwicklung eines effizienten Codes ist es wichtig, diese Faktoren im Auge zu behalten. Noch wichtiger ist es, darüber nachzudenken, wie wir mit O(1) indizieren können. Wir werden dies ausführlicher besprechen, wenn wir uns mit Arrays im Allgemeinen befassen. Einen Überblick über die Big-O-Effizienzen bietet dir die folgende Tabelle."
   ]
  },
  {
   "cell_type": "markdown",
   "metadata": {},
   "source": [
    "### Tabelle von Big-O für gängige Listenoperationen\n",
    "\n",
    "** Bitte beachte: um diese Tabelle zu sehen, musst du möglicherweise diese .ipynb-Datei herunterladen und lokal ansehen. Manchmal kann es sein, dass GitHub oder nbveiwer Probleme haben, das HTML dafür anzuzeigen..... **"
   ]
  },
  {
   "cell_type": "markdown",
   "metadata": {},
   "source": [
    "<table>\n",
    "    <tr>\n",
    "            <th>Operation </th>\n",
    "            <th>Big-O Effizienz</th>\n",
    "        </tr>\n",
    "    <tr>\n",
    "        <td>index []</td>\n",
    "        <td>O(1)</td>\n",
    "    </tr>\n",
    "    <tr>\n",
    "        <td>index assignment</td>\n",
    "        <td>O(1)</td>\n",
    "    </tr>\n",
    "    <tr>\n",
    "        <td>append</td>\n",
    "        <td>O(1)</td>\n",
    "    </tr>\n",
    "    <tr>\n",
    "        <td>pop()</td>\n",
    "        <td>O(1)</td>\n",
    "    </tr>\n",
    "    <tr>\n",
    "        <td>pop(i)</td>\n",
    "        <td>O(n)</td>\n",
    "    </tr>\n",
    "    <tr >\n",
    "        <td>insert(i,item)</td>\n",
    "        <td>O(n)</td>\n",
    "    </tr>\n",
    "    <tr>\n",
    "        <td>del operator</td>\n",
    "        <td>O(n)</td>\n",
    "    </tr>\n",
    "    <tr>\n",
    "        <td>iteration</td>\n",
    "        <td>O(n)</td>\n",
    "    </tr>\n",
    "    <tr>\n",
    "        <td>contains (in)</td>\n",
    "        <td>O(n)</td>\n",
    "    </tr>\n",
    "    <tr>\n",
    "        <td>get slice [x:y]</td>\n",
    "        <td>O(k)</td>\n",
    "    </tr>\n",
    "    <tr>\n",
    "        <td>del slice</td>\n",
    "        <td>O(n)</td>\n",
    "    </tr>\n",
    "    <tr>\n",
    "        <td>set slice</td>\n",
    "        <td>O(n+k)</td>\n",
    "    </tr>\n",
    "    <tr>\n",
    "        <td>reverse</td>\n",
    "        <td>O(n)</td>\n",
    "    </tr>\n",
    "    <tr>\n",
    "        <td>concatenate</td>\n",
    "        <td>O(k)</td>\n",
    "    </tr>\n",
    "    <tr>\n",
    "        <td>sort</td>\n",
    "        <td>O(n log n)</td>\n",
    "    </tr>\n",
    "    <tr>\n",
    "        <td>multiply</td>\n",
    "        <td>O(nk)</td>\n",
    "    </tr>\n",
    "</table>"
   ]
  },
  {
   "cell_type": "markdown",
   "metadata": {},
   "source": [
    "# Dictionaries\n",
    "\n",
    "Dictionaries in Python sind eine Implementierung einer Hash-Tabelle. Diese arbeiten z.B. mit Schlüsseln und Werten:"
   ]
  },
  {
   "cell_type": "code",
   "execution_count": 3,
   "metadata": {},
   "outputs": [],
   "source": [
    "d = {'k1':1,'k2':2}"
   ]
  },
  {
   "cell_type": "code",
   "execution_count": 4,
   "metadata": {},
   "outputs": [
    {
     "data": {
      "text/plain": [
       "1"
      ]
     },
     "execution_count": 4,
     "metadata": {},
     "output_type": "execute_result"
    }
   ],
   "source": [
    "d['k1']"
   ]
  },
  {
   "cell_type": "markdown",
   "metadata": {},
   "source": [
    "Das Erstaunliche ist, dass das Abfragen und Setzen von Elementen in einem Dictionary O(1) ist! Hash-Tabellen wurden unter dem Gesichtspunkt der Effizienz entwickelt, die wir im Laufe des Kurses als eine der bedeutendsten Datenstrukturen, die es heute gibt, noch viel detaillierter untersuchen werden. In der Zwischenzeit kannst du der folgenden Tabelle die Big-O-Effizienzen der gängigen Dictionary-Operationen entnehmen:\n",
    "\n",
    "<table border=\"1\">\n",
    "<thead valign=\"bottom\">\n",
    "<tr class=\"row-odd\"><th class=\"head\">Operation</th>\n",
    "<th class=\"head\">Big-O Effizienz</th>\n",
    "</tr>\n",
    "</thead>\n",
    "<tbody valign=\"top\">\n",
    "<tr class=\"row-even\"><td>copy</td>\n",
    "<td>O(n)</td>\n",
    "</tr>\n",
    "<tr class=\"row-odd\"><td>get item</td>\n",
    "<td>O(1)</td>\n",
    "</tr>\n",
    "<tr class=\"row-even\"><td>set item</td>\n",
    "<td>O(1)</td>\n",
    "</tr>\n",
    "<tr class=\"row-odd\"><td>delete item</td>\n",
    "<td>O(1)</td>\n",
    "</tr>\n",
    "<tr class=\"row-even\"><td>contains (in)</td>\n",
    "<td>O(1)</td>\n",
    "</tr>\n",
    "<tr class=\"row-odd\"><td>iteration</td>\n",
    "<td>O(n)</td>\n",
    "</tr>\n",
    "</tbody>\n",
    "</table>"
   ]
  },
  {
   "cell_type": "markdown",
   "metadata": {},
   "source": [
    "# Fazit\n",
    "\n",
    "Am Ende dieses Abschnitts solltest du verstehen, wie Big-O in der Algorithmusanalyse verwendet wird und in der Lage sein, das Big-O eines von dir entwickelten Algorithmus zu berechnen. Mach dich bitte bereit, als nächstes gibt es ein Quiz!"
   ]
  }
 ],
 "metadata": {
  "anaconda-cloud": {},
  "kernelspec": {
   "display_name": "Python 3",
   "language": "python",
   "name": "python3"
  },
  "language_info": {
   "codemirror_mode": {
    "name": "ipython",
    "version": 3
   },
   "file_extension": ".py",
   "mimetype": "text/x-python",
   "name": "python",
   "nbconvert_exporter": "python",
   "pygments_lexer": "ipython3",
   "version": "3.7.0"
  }
 },
 "nbformat": 4,
 "nbformat_minor": 1
}
