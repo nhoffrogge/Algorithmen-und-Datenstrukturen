{
 "cells": [
  {
   "cell_type": "markdown",
   "metadata": {
    "collapsed": true,
    "slideshow": {
     "slide_type": "slide"
    }
   },
   "source": [
    "<a href=\"http://datamics.com/de/courses/\"><img src=../DATA/bg_datamics_top.png></a>\n",
    "\n",
    "<em text-align:center>Copyright Datamics</em>\n",
    "# Einführung in die Algorithmusanalyse & Big O\n",
    "\n",
    "In dieser Lektion werden wir diskutieren, wie man Algorithmen analysiert und warum es wichtig ist, dies zu tun!\n",
    "\n",
    "## Warum Algorithmen analysieren?\n",
    "\n",
    "Bevor wir beginnen, lass uns klären, was ein Algorithmus ist. In diesem Kurs ist ein **Algorithmus** einfach ein Verfahren oder eine Formel zur Lösung eines Problems. Einige Probleme sind so berühmt, dass die Algorithmen Namen haben, und einige Verfahren sind so verbreitet, dass der damit verbundene Algorithmus auch einen Namen hat. Jetzt haben wir also eine gute Frage, die wir beantworten müssen:\n",
    "\n",
    "***Wie analysieren wir Algorithmen und wie können wir Algorithmen miteinander vergleichen?***\n",
    "\n",
    "Stell dir vor, du und ein Freund hättet beide Funktionen erfunden, um die Zahlen von 0 bis N zu summieren. Wie würdest du die Funktionen und Algorithmen innerhalb der Funktionen vergleichen? Nehmen wir an, ihr beide habt diese beiden separaten Funktionen:"
   ]
  },
  {
   "cell_type": "code",
   "execution_count": 1,
   "metadata": {},
   "outputs": [],
   "source": [
    "# Erste Funktion (Beachte die Verwendung von range)\n",
    "def sum1(n):\n",
    "    '''\n",
    "    Nimm eine Eingabe von n und gib die Summe der Zahlen von 0 bis n zurück.\n",
    "    '''\n",
    "    final_sum = 0\n",
    "    for x in range(n+1): \n",
    "        final_sum += x\n",
    "    \n",
    "    return final_sum"
   ]
  },
  {
   "cell_type": "code",
   "execution_count": 2,
   "metadata": {},
   "outputs": [
    {
     "data": {
      "text/plain": [
       "55"
      ]
     },
     "execution_count": 2,
     "metadata": {},
     "output_type": "execute_result"
    }
   ],
   "source": [
    "sum1(10)"
   ]
  },
  {
   "cell_type": "code",
   "execution_count": 3,
   "metadata": {},
   "outputs": [],
   "source": [
    "def sum2(n):\n",
    "    \"\"\"\n",
    "    Nimm eine Eingabe von n und gib die Summe der Zahlen von 0 bis n zurück.\n",
    "    \"\"\"\n",
    "    return (n*(n+1))/2"
   ]
  },
  {
   "cell_type": "code",
   "execution_count": 4,
   "metadata": {},
   "outputs": [
    {
     "data": {
      "text/plain": [
       "55.0"
      ]
     },
     "execution_count": 4,
     "metadata": {},
     "output_type": "execute_result"
    }
   ],
   "source": [
    "sum2(10)"
   ]
  },
  {
   "cell_type": "markdown",
   "metadata": {},
   "source": [
    "* Du wirst feststellen, dass beide Funktionen das gleiche Ergebnis haben, aber völlig unterschiedliche Algorithmen. \n",
    "* Du wirst feststellen, dass die erste Funktion die Zahlen iterativ addiert, während die zweite Funktion Folgendes (Gauß-Summe) verwendet:\n",
    "$$ \\sum_{i=0}^{n} {i} = \\frac{n(n+1)}{2} $$\n",
    "\n",
    "Wie können wir also die Algorithmen objektiv vergleichen? Wir könnten vergleichen, wie viel Platz sie im Speicher einnehmen, oder wir könnten auch vergleichen, wie viel Zeit jede Funktion benötigt, um ausgeführt zu werden. Wir können die eingebaute magische Funktion **%timeit**  in Jupyter verwenden, um die Zeit der Funktionen zu vergleichen. Die  [**%timeit**](https://ipython.org/ipython-doc/3/interactive/magics.html#magic-timeit)-Magie in Jupyter Notebooks wiederholt die Schleifen-Iteration eine bestimmte Anzahl von Mal und liefert das beste Ergebnis. Schau dir einfach den Link zur Dokumentation an. \n",
    "\n",
    "Vergleichen wir nun die Zeit, die die Ausführung der Funktionen in Anspruch genommen hat:"
   ]
  },
  {
   "cell_type": "code",
   "execution_count": 5,
   "metadata": {},
   "outputs": [
    {
     "name": "stdout",
     "output_type": "stream",
     "text": [
      "3.31 µs ± 70 ns per loop (mean ± std. dev. of 7 runs, 100000 loops each)\n"
     ]
    }
   ],
   "source": [
    "%timeit sum1(100)"
   ]
  },
  {
   "cell_type": "code",
   "execution_count": 6,
   "metadata": {
    "scrolled": true
   },
   "outputs": [
    {
     "name": "stdout",
     "output_type": "stream",
     "text": [
      "116 ns ± 1.18 ns per loop (mean ± std. dev. of 7 runs, 10000000 loops each)\n"
     ]
    }
   ],
   "source": [
    "%timeit sum2(100)"
   ]
  },
  {
   "cell_type": "markdown",
   "metadata": {},
   "source": [
    "Wir sehen, dass die zweite Funktion viel effizienter ist! Die Laufgeschwindigkeit ist viel schneller als bei der ersten. Allerdings können wir die \" Betriebszeit(time to run)\" nicht als objektive Messung verwenden, da dies von der Geschwindigkeit des Computers selbst und den Hardware-Fähigkeiten abhängt. Also müssen wir eine andere Methode verwenden, nämlich **Big-O**!"
   ]
  },
  {
   "cell_type": "markdown",
   "metadata": {
    "collapsed": true
   },
   "source": [
    "In der nächsten Lektion werden wir die Big-O-Notation diskutieren und warum sie so wichtig ist!"
   ]
  }
 ],
 "metadata": {
  "kernelspec": {
   "display_name": "Python 3",
   "language": "python",
   "name": "python3"
  },
  "language_info": {
   "codemirror_mode": {
    "name": "ipython",
    "version": 3
   },
   "file_extension": ".py",
   "mimetype": "text/x-python",
   "name": "python",
   "nbconvert_exporter": "python",
   "pygments_lexer": "ipython3",
   "version": "3.7.0"
  }
 },
 "nbformat": 4,
 "nbformat_minor": 1
}
