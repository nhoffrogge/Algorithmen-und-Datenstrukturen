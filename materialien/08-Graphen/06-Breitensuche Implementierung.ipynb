{
 "cells": [
  {
   "cell_type": "markdown",
   "metadata": {},
   "source": [
    "<a href=\"http://datamics.com/de/courses/\"><img src=../DATA/bg_datamics_top.png></a>\n",
    "\n",
    "<em text-align:center>© Datamics</em>\n",
    "#  Implementierung der Breitensuche ((BFS) Breadth First Search)\n",
    "\n",
    "\n",
    "Ein alternativer Algorithmus namens Breitensuche ((BFS) Breath-First Search)gibt uns die Möglichkeit, die gleichen Ergebnisse wie die DFS zu erhalten, aber mit der zusätzlichen Garantie, dass wir zuerst den kürzesten Pfad zurückgeben. Dieser Algorithmus ist etwas schwieriger rekursiv zu implementieren, anstatt die Datenstruktur der Warteschlange (Queue) zu verwenden, so dass ich lediglich den iterativen Ansatz dokumentieren werde. Die Aktionen, die für jeden erkundeten Knoten ausgeführt werden, sind die gleichen wie bei der Implementierung in der Tiefensuche, jedoch wird durch das Ersetzen des Stapels (Stacks) durch eine Warteschlange (Queue) stattdessen die \"Breite der Tiefe eines Knotens\" untersucht, um weiterzumachen. Dieses Verhalten garantiert, dass der erste gefundene Weg einer der kürzesten vorhandenen Wege ist, basierend auf der Anzahl der Kanten als Kostenfaktor.\n",
    "\n",
    "Wir gehen davon aus, dass unser Graph von der folgenden Form ist:"
   ]
  },
  {
   "cell_type": "code",
   "execution_count": 1,
   "metadata": {
    "collapsed": true
   },
   "outputs": [],
   "source": [
    "graph = {'A': set(['B', 'C']),\n",
    "         'B': set(['A', 'D', 'E']),\n",
    "         'C': set(['A', 'F']),\n",
    "         'D': set(['B']),\n",
    "         'E': set(['B', 'F']),\n",
    "         'F': set(['C', 'E'])}"
   ]
  },
  {
   "cell_type": "markdown",
   "metadata": {},
   "source": [
    "## Verbundene Komponente (Connected Component)\n",
    "Ähnlich wie bei der iterativen DFS-Implementierung ist nur die Änderung erforderlich, dass das nächste Element am Anfang der Liste entfernt wird anstatt vom Ende des Stacks."
   ]
  },
  {
   "cell_type": "code",
   "execution_count": 2,
   "metadata": {},
   "outputs": [
    {
     "data": {
      "text/plain": [
       "{'A', 'B', 'C', 'D', 'E', 'F'}"
      ]
     },
     "execution_count": 2,
     "metadata": {},
     "output_type": "execute_result"
    }
   ],
   "source": [
    "def bfs(graph, start):\n",
    "    visited, queue = set(), [start]\n",
    "    while queue:\n",
    "        vertex = queue.pop(0)\n",
    "        if vertex not in visited:\n",
    "            visited.add(vertex)\n",
    "            queue.extend(graph[vertex] - visited)\n",
    "    return visited\n",
    "\n",
    "bfs(graph, 'A')"
   ]
  },
  {
   "cell_type": "markdown",
   "metadata": {},
   "source": [
    "## Pfade\n",
    "Diese Implementierung kann wieder leicht geändert werden, um stattdessen alle möglichen Pfade zwischen zwei Knoten zurückzugeben, wobei der erste dieser Pfade einer der kürzesten ist."
   ]
  },
  {
   "cell_type": "code",
   "execution_count": 3,
   "metadata": {},
   "outputs": [
    {
     "data": {
      "text/plain": [
       "[['A', 'C', 'F'], ['A', 'B', 'E', 'F']]"
      ]
     },
     "execution_count": 3,
     "metadata": {},
     "output_type": "execute_result"
    }
   ],
   "source": [
    "def bfs_paths(graph, start, goal):\n",
    "    queue = [(start, [start])]\n",
    "    while queue:\n",
    "        (vertex, path) = queue.pop(0)\n",
    "        for next in graph[vertex] - set(path):\n",
    "            if next == goal:\n",
    "                yield path + [next]\n",
    "            else:\n",
    "                queue.append((next, path + [next]))\n",
    "\n",
    "list(bfs_paths(graph, 'A', 'F'))"
   ]
  },
  {
   "cell_type": "markdown",
   "metadata": {},
   "source": [
    "Da wir wissen, dass der kürzeste Pfad von der BFS-Pfadgenerator-Methode als erster zurückgegeben wird, können wir eine nützliche Methode erstellen, die einfach den kürzesten gefundenen Pfad oder \"None\" zurückgibt, wenn kein Pfad existiert. Da wir einen Generator verwenden, sollte dies in der Theorie ähnliche Performance-Ergebnisse liefern, wie das Abbrechen und die Rückgabe des ersten passenden Pfades in der BFS-Implementierung."
   ]
  },
  {
   "cell_type": "code",
   "execution_count": 4,
   "metadata": {},
   "outputs": [
    {
     "data": {
      "text/plain": [
       "['A', 'C', 'F']"
      ]
     },
     "execution_count": 4,
     "metadata": {},
     "output_type": "execute_result"
    }
   ],
   "source": [
    "def shortest_path(graph, start, goal):\n",
    "    try:\n",
    "        return next(bfs_paths(graph, start, goal))\n",
    "    except StopIteration:\n",
    "        return None\n",
    "\n",
    "shortest_path(graph, 'A', 'F')"
   ]
  },
  {
   "cell_type": "markdown",
   "metadata": {},
   "source": [
    "### Quellen\n",
    "* [Depth-and Breadth-First Search](http://jeremykun.com/2013/01/22/depth-and-breadth-first-search/)\n",
    "* [Connected component](https://en.wikipedia.org/wiki/Connected_component_(graph_theory))\n",
    "* [Adjacency matrix](https://en.wikipedia.org/wiki/Adjacency_matrix)\n",
    "* [Adjacency list](https://en.wikipedia.org/wiki/Adjacency_list)\n",
    "* [Python Gotcha: Default arguments and mutable data structures](https://developmentality.wordpress.com/2010/08/23/python-gotcha-default-arguments/)\n",
    "* [Generators](https://wiki.python.org/moin/Generators)"
   ]
  }
 ],
 "metadata": {
  "kernelspec": {
   "display_name": "Python 3",
   "language": "python",
   "name": "python3"
  },
  "language_info": {
   "codemirror_mode": {
    "name": "ipython",
    "version": 3
   },
   "file_extension": ".py",
   "mimetype": "text/x-python",
   "name": "python",
   "nbconvert_exporter": "python",
   "pygments_lexer": "ipython3",
   "version": "3.7.0"
  }
 },
 "nbformat": 4,
 "nbformat_minor": 2
}
