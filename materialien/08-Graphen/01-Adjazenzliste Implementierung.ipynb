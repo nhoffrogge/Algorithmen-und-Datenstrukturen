{
 "cells": [
  {
   "cell_type": "markdown",
   "metadata": {},
   "source": [
    "<a href=\"http://datamics.com/de/courses/\"><img src=../DATA/bg_datamics_top.png></a>\n",
    "\n",
    "<em text-align:center>© Datamics</em>\n",
    "# Implementierung eines Graphen als Adjazenzliste (Adjacency List)\n",
    "\n",
    "\n",
    "Mit Hilfe von Dictionaries ist es einfach, die Adjazenzliste in Python zu implementieren. In unserer Implementierung des abstrakten Datentyps Graph werden wir zwei Klassen erstellen: **Graph**, welche die Masterliste der Knoten enthält, und **Vertex**, welche jeden Knoten im Graphen darstellt.\n",
    "\n",
    "Jeder Knoten verwendet ein Wörterbuch, um die Knoten, mit denen er verbunden ist, und das Gewicht jeder Kante zu verfolgen. Dieses Wörterbuch heißt **connectedTo**. Der Konstruktor initialisiert einfach die ID, die typischerweise ein String ist, und das **connectedTo** Dictionary. Die Methode **addNeighbor** wird verwendet, um eine Verbindung von diesem Knoten zu einem anderen hinzuzufügen. Die Methode **getConnections** gibt alle Knoten in der Adjazenzliste zurück, wie sie durch die Instanzvariable **connectedTo** dargestellt werden. Die Methode **getWeight** gibt das Gewicht der Kante von diesem Knoten an den als Parameter übergebenen Knoten zurück.\n"
   ]
  },
  {
   "cell_type": "code",
   "execution_count": 1,
   "metadata": {},
   "outputs": [],
   "source": [
    "class Vertex:\n",
    "    def __init__(self,key):\n",
    "        self.id = key\n",
    "        self.connectedTo = {}\n",
    "\n",
    "    def addNeighbor(self,nbr,weight=0):\n",
    "        self.connectedTo[nbr] = weight\n",
    "\n",
    "    def __str__(self):\n",
    "        return str(self.id) + ' connectedTo: ' + str([x.id for x in self.connectedTo])\n",
    "\n",
    "    def getConnections(self):\n",
    "        return self.connectedTo.keys()\n",
    "\n",
    "    def getId(self):\n",
    "        return self.id\n",
    "\n",
    "    def getWeight(self,nbr):\n",
    "        return self.connectedTo[nbr]"
   ]
  },
  {
   "cell_type": "markdown",
   "metadata": {},
   "source": [
    "Um ein Diagramm als Adjazenzliste zu implementieren, müssen wir die Methoden definieren, die unser Adjazenzlistenobjekt haben wird:\n",
    "\n",
    "* **Graph()** erstellt ein neues, leeres Diagramm.\n",
    "* **addVertex(vert)** fügt dem Diagramm eine Instanz von Vertex (einen Knoten) hinzu.\n",
    "* **addEdge(fromVert, toVert)** Fügt dem Diagramm eine neue, gerichtete Kante hinzu, die zwei Knoten verbindet.\n",
    "* **addEdge(fromVert, toVert, weight)** Fügt dem Diagramm eine neue, gewichtete, gerichtete Kante hinzu, die zwei Knoten verbindet.\n",
    "* **getVertex(vertKey)** findet den Knoten im Graphen namens vertKey.\n",
    "* **getVertices()** gibt die Liste aller Knoten im Diagramm zurück. \n",
    "* **in** gibt True für eine Aussage der Form \"Knoten im Graph\" zurück, wenn sich der angegebene Knoten im Graphen befindet, andernfalls False."
   ]
  },
  {
   "cell_type": "code",
   "execution_count": 2,
   "metadata": {},
   "outputs": [],
   "source": [
    "class Graph:\n",
    "    def __init__(self):\n",
    "        self.vertList = {}\n",
    "        self.numVertices = 0\n",
    "\n",
    "    def addVertex(self,key):\n",
    "        self.numVertices = self.numVertices + 1\n",
    "        newVertex = Vertex(key)\n",
    "        self.vertList[key] = newVertex\n",
    "        return newVertex\n",
    "\n",
    "    def getVertex(self,key):\n",
    "        if key in self.vertList:\n",
    "            return self.vertList[key]\n",
    "        else:\n",
    "            return None\n",
    "\n",
    "    def __contains__(self,key):\n",
    "        return key in self.vertList\n",
    "\n",
    "    def addEdge(self,f,t,cost=0):\n",
    "        if f not in self.vertList:\n",
    "            nv = self.addVertex(f)\n",
    "        if t not in self.vertList:\n",
    "            nv = self.addVertex(t)\n",
    "        self.vertList[f].addNeighbor(self.vertList[t], cost)\n",
    "\n",
    "    def getVertices(self):\n",
    "        return self.vertList.keys()\n",
    "\n",
    "    def __iter__(self):\n",
    "        return iter(self.vertList.values())"
   ]
  },
  {
   "cell_type": "markdown",
   "metadata": {},
   "source": [
    "Schauen wir uns ein einfaches Beispiel an, wie man das benutzt:"
   ]
  },
  {
   "cell_type": "code",
   "execution_count": 3,
   "metadata": {},
   "outputs": [],
   "source": [
    "g = Graph()\n",
    "for i in range(6):\n",
    "    g.addVertex(i)"
   ]
  },
  {
   "cell_type": "code",
   "execution_count": 4,
   "metadata": {},
   "outputs": [
    {
     "data": {
      "text/plain": [
       "{0: <__main__.Vertex at 0x10f2ce0b8>,\n",
       " 1: <__main__.Vertex at 0x10f2ce0f0>,\n",
       " 2: <__main__.Vertex at 0x10f2ce240>,\n",
       " 3: <__main__.Vertex at 0x10f2ce2b0>,\n",
       " 4: <__main__.Vertex at 0x10f2ce320>,\n",
       " 5: <__main__.Vertex at 0x10f2ce2e8>}"
      ]
     },
     "execution_count": 4,
     "metadata": {},
     "output_type": "execute_result"
    }
   ],
   "source": [
    "g.vertList"
   ]
  },
  {
   "cell_type": "code",
   "execution_count": 5,
   "metadata": {},
   "outputs": [],
   "source": [
    "g.addEdge(0,1,2)"
   ]
  },
  {
   "cell_type": "code",
   "execution_count": 6,
   "metadata": {},
   "outputs": [
    {
     "name": "stdout",
     "output_type": "stream",
     "text": [
      "0 connectedTo: [1]\n",
      "dict_keys([<__main__.Vertex object at 0x10f2ce0f0>])\n",
      "\n",
      "\n",
      "1 connectedTo: []\n",
      "dict_keys([])\n",
      "\n",
      "\n",
      "2 connectedTo: []\n",
      "dict_keys([])\n",
      "\n",
      "\n",
      "3 connectedTo: []\n",
      "dict_keys([])\n",
      "\n",
      "\n",
      "4 connectedTo: []\n",
      "dict_keys([])\n",
      "\n",
      "\n",
      "5 connectedTo: []\n",
      "dict_keys([])\n",
      "\n",
      "\n"
     ]
    }
   ],
   "source": [
    "for vertex in g:\n",
    "    print (vertex)\n",
    "    print (vertex.getConnections())\n",
    "    print ('\\n')"
   ]
  },
  {
   "cell_type": "markdown",
   "metadata": {},
   "source": [
    "# Gut gemacht!"
   ]
  }
 ],
 "metadata": {
  "kernelspec": {
   "display_name": "Python 3",
   "language": "python",
   "name": "python3"
  },
  "language_info": {
   "codemirror_mode": {
    "name": "ipython",
    "version": 3
   },
   "file_extension": ".py",
   "mimetype": "text/x-python",
   "name": "python",
   "nbconvert_exporter": "python",
   "pygments_lexer": "ipython3",
   "version": "3.7.0"
  }
 },
 "nbformat": 4,
 "nbformat_minor": 2
}
