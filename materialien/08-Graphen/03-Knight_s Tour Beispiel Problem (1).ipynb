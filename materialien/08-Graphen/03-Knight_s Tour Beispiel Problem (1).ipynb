{
 "cells": [
  {
   "cell_type": "markdown",
   "metadata": {},
   "source": [
    "<a href=\"http://datamics.com/de/courses/\"><img src=../DATA/bg_datamics_top.png></a>\n",
    "\n",
    "<em text-align:center>© Datamics</em>\n",
    "# Springerproblem (Knight's Tour Code)\n",
    "\n",
    "**Unten ist der Code, auf den in der Videovorlesung verwiesen wird. Bitte schaue dir die Videovorträge für eine ausführliche Erklärung an.**"
   ]
  },
  {
   "cell_type": "code",
   "execution_count": 1,
   "metadata": {},
   "outputs": [],
   "source": [
    "def knightGraph(bdSize):\n",
    "    ktGraph = Graph()\n",
    "    for row in range(bdSize):\n",
    "        for col in range(bdSize):\n",
    "            nodeId = posToNodeId(row,col,bdSize)\n",
    "            newPositions = genLegalMoves(row,col,bdSize)\n",
    "            for e in newPositions:\n",
    "                nid = posToNodeId(e[0],e[1],bdSize)\n",
    "                ktGraph.addEdge(nodeId,nid)\n",
    "    return ktGraph\n",
    "\n",
    "def posToNodeId(row, column, board_size):\n",
    "    return (row * board_size) + column\n"
   ]
  },
  {
   "cell_type": "code",
   "execution_count": 2,
   "metadata": {},
   "outputs": [],
   "source": [
    "def genLegalMoves(x,y,bdSize):\n",
    "    newMoves = []\n",
    "    moveOffsets = [(-1,-2),(-1,2),(-2,-1),(-2,1),\n",
    "                   ( 1,-2),( 1,2),( 2,-1),( 2,1)]\n",
    "    for i in moveOffsets:\n",
    "        newX = x + i[0]\n",
    "        newY = y + i[1]\n",
    "        if legalCoord(newX,bdSize) and \\\n",
    "                        legalCoord(newY,bdSize):\n",
    "            newMoves.append((newX,newY))\n",
    "    return newMoves\n",
    "\n",
    "def legalCoord(x,bdSize):\n",
    "    if x >= 0 and x < bdSize:\n",
    "        return True\n",
    "    else:\n",
    "        return False"
   ]
  },
  {
   "cell_type": "code",
   "execution_count": 3,
   "metadata": {},
   "outputs": [],
   "source": [
    "def knightTour(n,path,u,limit):\n",
    "        u.setColor('gray')\n",
    "        path.append(u)\n",
    "        if n < limit:\n",
    "            nbrList = list(u.getConnections())\n",
    "            i = 0\n",
    "            done = False\n",
    "            while i < len(nbrList) and not done:\n",
    "                if nbrList[i].getColor() == 'white':\n",
    "                    done = knightTour(n+1, path, nbrList[i], limit)\n",
    "                i = i + 1\n",
    "            if not done:  # prepare to backtrack\n",
    "                path.pop()\n",
    "                u.setColor('white')\n",
    "        else:\n",
    "            done = True\n",
    "        return done"
   ]
  }
 ],
 "metadata": {
  "kernelspec": {
   "display_name": "Python 3",
   "language": "python",
   "name": "python3"
  },
  "language_info": {
   "codemirror_mode": {
    "name": "ipython",
    "version": 3
   },
   "file_extension": ".py",
   "mimetype": "text/x-python",
   "name": "python",
   "nbconvert_exporter": "python",
   "pygments_lexer": "ipython3",
   "version": "3.7.0"
  }
 },
 "nbformat": 4,
 "nbformat_minor": 2
}
