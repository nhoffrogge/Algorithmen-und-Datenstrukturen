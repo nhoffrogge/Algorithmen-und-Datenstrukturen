{
 "cells": [
  {
   "cell_type": "markdown",
   "metadata": {},
   "source": [
    "<a href=\"http://datamics.com/de/courses/\"><img src=../DATA/bg_datamics_top.png></a>\n",
    "\n",
    "<em text-align:center>© Datamics</em>\n",
    "# Implementierung der Tiefensuche ((DFS)Depth-First Search)\n",
    "\n",
    "In dieser Lektion wird die Tiefensuche(DFS) behandelt, welche, wie der Name schon sagt, mögliche Knoten (von einer mitgelieferten Wurzel) entlang jedes Zweiges(branch) vor dem Backtracking untersucht. Diese Eigenschaft ermöglicht es, den Algorithmus sowohl in iterativen als auch in rekursiven Formen bündig zu implementieren. Im Folgenden findest du eine Liste der Aktionen, die bei jedem Besuch eines Knotens durchgeführt werden.\n",
    "\n",
    "* Kennzeichnung des aktuellen Knotens als besucht.\n",
    "* Durchsuchung jedes benachbarten Knotens, der nicht in der besuchten Menge(visited set) enthalten ist.\n",
    "\n",
    "Wir gehen von einer vereinfachten Version eines Graphen in der folgenden Form aus:"
   ]
  },
  {
   "cell_type": "code",
   "execution_count": 1,
   "metadata": {},
   "outputs": [],
   "source": [
    "graph = {'A': set(['B', 'C']),\n",
    "         'B': set(['A', 'D', 'E']),\n",
    "         'C': set(['A', 'F']),\n",
    "         'D': set(['B']),\n",
    "         'E': set(['B', 'F']),\n",
    "         'F': set(['C', 'E'])}"
   ]
  },
  {
   "cell_type": "markdown",
   "metadata": {},
   "source": [
    "## Zusammenhangskomponente (Connected Component)\n",
    "\n",
    "Die folgende Implementierung verwendet die Stapeldatenstruktur(stack data-structure), um einen Satz von Knoten aufzubauen und zurückzugeben, die innerhalb der Zusammenhangskomponente von den Probanden zugänglich sind. Mit Pythons Überladung des Subtraktionsoperators (mit der wir Elemente aus einer Menge entfernen können), sind wir in der Lage, nur die unbesuchten benachbarten Eckpunkte einzufügen."
   ]
  },
  {
   "cell_type": "code",
   "execution_count": 2,
   "metadata": {},
   "outputs": [
    {
     "data": {
      "text/plain": [
       "{'A', 'B', 'C', 'D', 'E', 'F'}"
      ]
     },
     "execution_count": 2,
     "metadata": {},
     "output_type": "execute_result"
    }
   ],
   "source": [
    "def dfs(graph, start):\n",
    "    visited, stack = set(), [start]\n",
    "    while stack:\n",
    "        vertex = stack.pop()\n",
    "        if vertex not in visited:\n",
    "            visited.add(vertex)\n",
    "            stack.extend(graph[vertex] - visited)\n",
    "    return visited\n",
    "\n",
    "dfs(graph, 'A') "
   ]
  },
  {
   "cell_type": "markdown",
   "metadata": {},
   "source": [
    "Die zweite Implementierung bietet die gleiche Funktionalität wie die erste, aber diesmal verwenden wir die kürzere rekursive Form. Aufgrund eines gemeinsamen Python gotcha mit Standardparameterwerten, die nur einmal erstellt werden, müssen wir bei jedem Aufruf eines Benutzers ein neues besuchtes Set(visited set) erstellen. Ein weiteres Detail der Python-Sprache ist, dass Funktionsvariablen per Referenz übergeben werden, so dass der besuchte veränderliche Mengensatz(visited mutable set) nicht bei jedem rekursiven Aufruf neu zugeordnet werden muss."
   ]
  },
  {
   "cell_type": "code",
   "execution_count": 3,
   "metadata": {},
   "outputs": [
    {
     "data": {
      "text/plain": [
       "{'A', 'B', 'C', 'D', 'E', 'F'}"
      ]
     },
     "execution_count": 3,
     "metadata": {},
     "output_type": "execute_result"
    }
   ],
   "source": [
    "def dfs(graph, start, visited=None):\n",
    "    if visited is None:\n",
    "        visited = set()\n",
    "    visited.add(start)\n",
    "    for nxt in graph[start] - visited:\n",
    "        dfs(graph, nxt, visited)\n",
    "    return visited\n",
    "\n",
    "dfs(graph, 'A') "
   ]
  },
  {
   "cell_type": "markdown",
   "metadata": {},
   "source": [
    "## Pfade\n",
    "Wir sind in der Lage, die beiden vorherigen Implementierungen zu optimieren, um alle möglichen Pfade zwischen einem Start- und einem Zielpunkt zurückzugeben. Die folgende Implementierung verwendet die Stack-Datenstruktur(stack data-structure) erneut, um das Problem iterativ zu lösen und liefert jeden erdenklichen Pfad, sobald wir das Ziel gefunden haben. Die Verwendung eines Generators ermöglicht es dem Benutzer, lediglich die gewünschte Anzahl von alternativen Pfaden zu berechnen."
   ]
  },
  {
   "cell_type": "code",
   "execution_count": 4,
   "metadata": {},
   "outputs": [
    {
     "data": {
      "text/plain": [
       "[['A', 'C', 'F'], ['A', 'B', 'E', 'F']]"
      ]
     },
     "execution_count": 4,
     "metadata": {},
     "output_type": "execute_result"
    }
   ],
   "source": [
    "def dfs_paths(graph, start, goal):\n",
    "    stack = [(start, [start])]\n",
    "    while stack:\n",
    "        (vertex, path) = stack.pop()\n",
    "        for nxt in graph[vertex] - set(path):\n",
    "            if nxt == goal:\n",
    "                yield path + [nxt]\n",
    "            else:\n",
    "                stack.append((nxt, path + [nxt]))\n",
    "\n",
    "list(dfs_paths(graph, 'A', 'F'))"
   ]
  },
  {
   "cell_type": "markdown",
   "metadata": {},
   "source": [
    "### Quellen\n",
    "* [Depth-and Breadth-First Search](http://jeremykun.com/2013/01/22/depth-and-breadth-first-search/)\n",
    "* [Connected component](https://en.wikipedia.org/wiki/Connected_component_(graph_theory))\n",
    "* [Adjacency matrix](https://en.wikipedia.org/wiki/Adjacency_matrix)\n",
    "* [Adjacency list](https://en.wikipedia.org/wiki/Adjacency_list)\n",
    "* [Python Gotcha: Default arguments and mutable data structures](https://developmentality.wordpress.com/2010/08/23/python-gotcha-default-arguments/)\n",
    "* [Generators](https://wiki.python.org/moin/Generators)"
   ]
  }
 ],
 "metadata": {
  "kernelspec": {
   "display_name": "Python 3",
   "language": "python",
   "name": "python3"
  },
  "language_info": {
   "codemirror_mode": {
    "name": "ipython",
    "version": 3
   },
   "file_extension": ".py",
   "mimetype": "text/x-python",
   "name": "python",
   "nbconvert_exporter": "python",
   "pygments_lexer": "ipython3",
   "version": "3.7.0"
  }
 },
 "nbformat": 4,
 "nbformat_minor": 2
}
