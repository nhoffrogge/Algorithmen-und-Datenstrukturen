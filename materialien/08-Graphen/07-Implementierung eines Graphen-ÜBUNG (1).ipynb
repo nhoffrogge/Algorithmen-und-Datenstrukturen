{
 "cells": [
  {
   "cell_type": "markdown",
   "metadata": {},
   "source": [
    "<a href=\"http://datamics.com/de/courses/\"><img src=../DATA/bg_datamics_top.png></a>\n",
    "\n",
    "<em text-align:center>© Datamics</em>\n",
    "# Implementiere eine Graph-Klasse!\n",
    "\n",
    "Das war es! \n",
    "\n",
    "Viel Glück und schaue dir bitte bei Fragen die Video-Lektion an!\n",
    "\n",
    "In der Lektion hast du bereits die Implementierungen ausgearbeitet, also vergiss nicht, dich auf diese zu beziehen!"
   ]
  },
  {
   "cell_type": "code",
   "execution_count": 9,
   "metadata": {},
   "outputs": [],
   "source": [
    "class Graph:\n",
    "    '''\n",
    "    Um ein Diagramm als Adjazenzliste zu implementieren, müssen wir die Methoden definieren, die unser Adjazenzlistenobjekt haben soll:\n",
    "    Graph() erstellt einen neuen, leeren Graphen.\n",
    "    addVertex(vert) fügt dem Graphen eine Instanz von Vertex (einen Knoten) hinzu.\n",
    "    addEdge(fromVert, toVert) Fügt dem Graphen eine neue, gerichtete Kante hinzu, die zwei Knoten verbindet.\n",
    "    addEdge(fromVert, toVert, weight) Fügt dem Graphen, einen neue, gewichtete, gerichtete Kante hinzu, welche zwei Knoten verbindet.\n",
    "    getVertex(vertKey) findet den Knoten im Graphen namens vertKey.\n",
    "    getVertices() gibt die Liste aller Knoten im Graphen zurück.\n",
    "    es gibt True zurück für eine Aussage der Form \"Knoten im Graphen\", wenn sich der angegebene Knoten im Graphen befindet, sonst False.\n",
    "    '''\n",
    "    def __init__(self):\n",
    "#         self.nodes = set() # alle Knoten im Graph -- könnte im Bereich Kanten gemacht werden.\n",
    "        self.connections = {} # alle Verbindungen start_vertex:{end_vertex:weigth}\n",
    "        \n",
    "#     def add_node(self, node):\n",
    "#         self.nodes.add(node)\n",
    "    \n",
    "    def contains(self, v):\n",
    "        return v in self.connections.keys()\n",
    "        \n",
    "    def connect(self, start, end, weight=1):\n",
    "#         v = self.get_vertex(str(from_vertex)) or Vertex(str(from_vertex))\n",
    "        if start not in self.connections:\n",
    "            self.connections[start] = {end:weight} \n",
    "        else:\n",
    "            self.connections[start][end] = weight\n",
    "            \n",
    "        if end not in self.connections:\n",
    "            self.connections[end] = {}\n",
    "\n",
    "    def get_nodes(self):\n",
    "        return self.connections.keys()\n",
    "        \n",
    "#      gehe davon aus, dass es einen und nur einen Startknoten (niemand zeigt auf diesen) im gerichteten Graphen gibt.\n",
    "    def get_start_vertex(self):\n",
    "        cadidates = set(self.get_nodes())\n",
    "        for end in self.connections.values():\n",
    "            for k in end.keys():\n",
    "                if k in cadidates:\n",
    "                    cadidates.remove(k)\n",
    "#         return set(self.get_nodes()) - set(end_nodes)\n",
    "        return cadidates\n",
    "        \n",
    "    def paint(self):\n",
    "        print(self.connections)"
   ]
  },
  {
   "cell_type": "code",
   "execution_count": 10,
   "metadata": {},
   "outputs": [],
   "source": [
    "g = Graph()\n",
    "# v1 = Node(1)\n",
    "g.connect(1, 2)\n",
    "\n",
    "g.connect(1,3)\n",
    "g.connect(1,4)\n",
    "g.connect(2,4)\n",
    "g.connect(2,5)\n",
    "g.connect(3,5)\n",
    "g.connect(5,4)"
   ]
  },
  {
   "cell_type": "code",
   "execution_count": 11,
   "metadata": {},
   "outputs": [
    {
     "name": "stdout",
     "output_type": "stream",
     "text": [
      "{1: {2: 1, 3: 1, 4: 1}, 2: {4: 1, 5: 1}, 3: {5: 1}, 4: {}, 5: {4: 1}}\n"
     ]
    }
   ],
   "source": [
    "g.paint()"
   ]
  },
  {
   "cell_type": "code",
   "execution_count": 12,
   "metadata": {},
   "outputs": [
    {
     "data": {
      "text/plain": [
       "dict_keys([1, 2, 3, 4, 5])"
      ]
     },
     "execution_count": 12,
     "metadata": {},
     "output_type": "execute_result"
    }
   ],
   "source": [
    "g.get_nodes()"
   ]
  },
  {
   "cell_type": "code",
   "execution_count": 13,
   "metadata": {},
   "outputs": [
    {
     "data": {
      "text/plain": [
       "{1}"
      ]
     },
     "execution_count": 13,
     "metadata": {},
     "output_type": "execute_result"
    }
   ],
   "source": [
    "g.get_start_vertex()"
   ]
  },
  {
   "cell_type": "code",
   "execution_count": 14,
   "metadata": {},
   "outputs": [
    {
     "data": {
      "text/plain": [
       "set"
      ]
     },
     "execution_count": 14,
     "metadata": {},
     "output_type": "execute_result"
    }
   ],
   "source": [
    "type(g.get_start_vertex())"
   ]
  },
  {
   "cell_type": "code",
   "execution_count": 15,
   "metadata": {},
   "outputs": [],
   "source": [
    "s = set([1,2,3])"
   ]
  },
  {
   "cell_type": "code",
   "execution_count": 16,
   "metadata": {},
   "outputs": [
    {
     "data": {
      "text/plain": [
       "{1, 2, 3}"
      ]
     },
     "execution_count": 16,
     "metadata": {},
     "output_type": "execute_result"
    }
   ],
   "source": [
    "s"
   ]
  },
  {
   "cell_type": "markdown",
   "metadata": {},
   "source": [
    "# Viel Glück!"
   ]
  }
 ],
 "metadata": {
  "kernelspec": {
   "display_name": "Python 3",
   "language": "python",
   "name": "python3"
  },
  "language_info": {
   "codemirror_mode": {
    "name": "ipython",
    "version": 3
   },
   "file_extension": ".py",
   "mimetype": "text/x-python",
   "name": "python",
   "nbconvert_exporter": "python",
   "pygments_lexer": "ipython3",
   "version": "3.7.0"
  }
 },
 "nbformat": 4,
 "nbformat_minor": 2
}
