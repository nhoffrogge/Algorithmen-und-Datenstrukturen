{
 "cells": [
  {
   "cell_type": "markdown",
   "metadata": {},
   "source": [
    "<a href=\"http://datamics.com/de/courses/\"><img src=../DATA/bg_datamics_top.png></a>\n",
    "\n",
    "<em text-align:center>© Datamics</em>\n",
    "# Verkettete Listen\n",
    "\n",
    "In dieser Lektion erhalten wir einen kurzen Überblick darüber, was wir im Abschnitt \"Verkettete Listen\" des Kurses lernen werden.\n",
    "\n",
    "Wir werden die folgenden Themen behandeln:\n",
    "\n",
    "* Einfach verkettete Listen\n",
    "* Implementierung einer einfach verketteten Liste\n",
    "* Doppelt verkettete Listen\n",
    "* Implementierung einer doppelt verketteten Liste\n",
    "* Vertkettete Liste (Linked Lists) Interview Probleme "
   ]
  },
  {
   "cell_type": "code",
   "execution_count": null,
   "metadata": {},
   "outputs": [],
   "source": []
  }
 ],
 "metadata": {
  "kernelspec": {
   "display_name": "Python 3",
   "language": "python",
   "name": "python3"
  },
  "language_info": {
   "codemirror_mode": {
    "name": "ipython",
    "version": 3
   },
   "file_extension": ".py",
   "mimetype": "text/x-python",
   "name": "python",
   "nbconvert_exporter": "python",
   "pygments_lexer": "ipython3",
   "version": "3.7.0"
  }
 },
 "nbformat": 4,
 "nbformat_minor": 1
}
