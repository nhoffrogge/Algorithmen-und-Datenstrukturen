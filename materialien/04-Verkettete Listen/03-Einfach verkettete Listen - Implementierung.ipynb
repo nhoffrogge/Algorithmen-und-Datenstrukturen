{
 "cells": [
  {
   "cell_type": "markdown",
   "metadata": {},
   "source": [
    "<a href=\"http://datamics.com/de/courses/\"><img src=../DATA/bg_datamics_top.png></a>\n",
    "\n",
    "<em text-align:center>© Datamics</em>\n",
    "# Einfach verkettete Listen (Singly Linked List) Implementierung\n",
    "\n",
    "In dieser Lektion werden wir eine grundlegende einfach verkettete Liste (Singly Linked List) implementieren.\n",
    "\n",
    "Denke daran, dass wir bei einer einfach verketteten Liste eine geordnete Liste (ordered list) von Einträgen als individuelle Knoten (individual Nodes) mit Zeigern (pointers) auf andere Knoten haben."
   ]
  },
  {
   "cell_type": "code",
   "execution_count": 1,
   "metadata": {},
   "outputs": [],
   "source": [
    "class Node(object):\n",
    "    \n",
    "    def __init__(self,value):\n",
    "        \n",
    "        self.value = value\n",
    "        self.nextnode = None"
   ]
  },
  {
   "cell_type": "markdown",
   "metadata": {},
   "source": [
    "Jetzt können wir die verkettete Liste mit der Sammlung von Knoten erstellen:"
   ]
  },
  {
   "cell_type": "code",
   "execution_count": 2,
   "metadata": {},
   "outputs": [],
   "source": [
    "a = Node(1)\n",
    "b = Node(2)\n",
    "c = Node(3)"
   ]
  },
  {
   "cell_type": "code",
   "execution_count": 3,
   "metadata": {},
   "outputs": [],
   "source": [
    "a.nextnode = b"
   ]
  },
  {
   "cell_type": "code",
   "execution_count": 4,
   "metadata": {},
   "outputs": [],
   "source": [
    "b.nextnode = c"
   ]
  },
  {
   "cell_type": "markdown",
   "metadata": {},
   "source": [
    "In einer verknüpften Liste wird der erste Knoten als **head** und der letzte Knoten als **tail** bezeichnet. Lass uns über die Vor- und Nachteile von verketteten Listen diskutieren:\n",
    "\n",
    "## Vorteile\n",
    "\n",
    "* Verkettete Listen verwenden Einfüge- und Löschoperationen mit konstanter Zeit an beliebiger Stelle, im Vergleich dazu benötigen Arrays O(n)-Zeit, um dasselbe zu tun.\n",
    "\n",
    "* Verkettete Listen können erweitert werden, ohne ihre Größe im Voraus festlegen zu müssen (Erinnere dich an unsere Vorträge über die Dimensionierung von Arrays aus dem Abschnitt Array Sequence des Kurses!!)\n",
    "\n",
    "## Nachteile\n",
    "\n",
    "* Um auf ein Element in einer verknüpften Liste zuzugreifen, musst du dir O(k) Zeit nehmen, um vom Kopf der Liste zum k-ten Element zu gelangen. Im Gegensatz dazu haben Arrays konstante Zeitoperationen, um auf Elemente in einem Array zuzugreifen."
   ]
  },
  {
   "cell_type": "markdown",
   "metadata": {},
   "source": [
    "# Gut gemacht!\n",
    "\n",
    "Das war's mit der Implementierung (ziemlich einfach, oder?). Als nächstes werden wir mehr über doppelt verkettete Listen (Doubly Linked Lists) erfahren!"
   ]
  }
 ],
 "metadata": {
  "kernelspec": {
   "display_name": "Python 3",
   "language": "python",
   "name": "python3"
  },
  "language_info": {
   "codemirror_mode": {
    "name": "ipython",
    "version": 3
   },
   "file_extension": ".py",
   "mimetype": "text/x-python",
   "name": "python",
   "nbconvert_exporter": "python",
   "pygments_lexer": "ipython3",
   "version": "3.7.0"
  }
 },
 "nbformat": 4,
 "nbformat_minor": 2
}
