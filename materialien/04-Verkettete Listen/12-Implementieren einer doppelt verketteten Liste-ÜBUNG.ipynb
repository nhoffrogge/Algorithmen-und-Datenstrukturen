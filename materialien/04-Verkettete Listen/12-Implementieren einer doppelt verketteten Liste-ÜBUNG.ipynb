{
 "cells": [
  {
   "cell_type": "markdown",
   "metadata": {},
   "source": [
    "<a href=\"http://datamics.com/de/courses/\"><img src=../DATA/bg_datamics_top.png></a>\n",
    "\n",
    "<em text-align:center>© Datamics</em>\n",
    "# Implementieren einer doppelt verketteten Liste\n",
    "\n",
    "Implementiere für dieses Interviewproblem eine Knotenklasse (Node Class) und zeige, wie man damit eine doppelt verkettete Liste erstellen kann."
   ]
  },
  {
   "cell_type": "code",
   "execution_count": 1,
   "metadata": {},
   "outputs": [],
   "source": [
    "class Node(object):\n",
    "    pass"
   ]
  },
  {
   "cell_type": "code",
   "execution_count": 2,
   "metadata": {},
   "outputs": [],
   "source": [
    "# Erstelle hier eine doppelt verkettete Liste"
   ]
  },
  {
   "cell_type": "markdown",
   "metadata": {},
   "source": [
    "# Teste deine Lösung\n",
    "Beachte bitte, dass es keinen Test für diese Lösung gibt (weil dies die Antwortstruktur verraten würde).\n",
    "\n",
    "Schaue dir bitte das Notebook \"Implementieren einer doppelt verketteten Liste - Lösung\" an, um die Antwort auf dieses Interviewproblem zu erhalten, sowie die Antwort auf die Implementierung einer einfach verlinkten Liste."
   ]
  }
 ],
 "metadata": {
  "kernelspec": {
   "display_name": "Python 3",
   "language": "python",
   "name": "python3"
  },
  "language_info": {
   "codemirror_mode": {
    "name": "ipython",
    "version": 3
   },
   "file_extension": ".py",
   "mimetype": "text/x-python",
   "name": "python",
   "nbconvert_exporter": "python",
   "pygments_lexer": "ipython3",
   "version": "3.7.0"
  }
 },
 "nbformat": 4,
 "nbformat_minor": 2
}
