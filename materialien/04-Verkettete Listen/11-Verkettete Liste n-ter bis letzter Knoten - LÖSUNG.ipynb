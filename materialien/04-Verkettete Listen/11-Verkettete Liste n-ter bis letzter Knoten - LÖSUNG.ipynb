{
 "cells": [
  {
   "cell_type": "markdown",
   "metadata": {},
   "source": [
    "<a href=\"http://datamics.com/de/courses/\"><img src=../DATA/bg_datamics_top.png></a>\n",
    "\n",
    "<em text-align:center>© Datamics</em>\n",
    "# Verkettete Liste n-ter bis letzter Knoten - LÖSUNG\n",
    "\n",
    "## Problemstellung\n",
    "Schreibe eine Funktion, die einen Kopfknoten und einen ganzzahligen Wert **n** nimmt und dann den n-ten bis letzten Knoten in der verknüpften Liste zurückgibt. Zum Beispiel, gegeben:"
   ]
  },
  {
   "cell_type": "code",
   "execution_count": 1,
   "metadata": {},
   "outputs": [],
   "source": [
    "class Node:\n",
    "\n",
    "    def __init__(self, value):\n",
    "        self.value = value\n",
    "        self.nextnode  = None"
   ]
  },
  {
   "cell_type": "code",
   "execution_count": 7,
   "metadata": {},
   "outputs": [],
   "source": [
    "a = Node(1)\n",
    "b = Node(2)\n",
    "c = Node(3)\n",
    "d = Node(4)\n",
    "e = Node(5)\n",
    "\n",
    "a.nextnode = b\n",
    "b.nextnode = c\n",
    "c.nextnode = d\n",
    "d.nextnode = e\n",
    "\n",
    "# Dies würde den Knoten d mit einem Wert von 4 zurückgeben\n",
    "# , da er der zweitletzte Knoten ist.\n",
    "target_node = nth_to_last_node(2, a) "
   ]
  },
  {
   "cell_type": "code",
   "execution_count": 8,
   "metadata": {},
   "outputs": [
    {
     "data": {
      "text/plain": [
       "4"
      ]
     },
     "execution_count": 8,
     "metadata": {},
     "output_type": "execute_result"
    }
   ],
   "source": [
    "target_node.value"
   ]
  },
  {
   "cell_type": "markdown",
   "metadata": {},
   "source": [
    "## Lösung\n",
    "\n",
    "Ein Ansatz für dieses Problem ist folgender:\n",
    "\n",
    "Stell dir vor, du hast einen Haufen Knoten und einen \"Block\", der n-Knoten breit ist. Wir könnten diesen \"Block\" den ganzen Weg entlang der Liste gehen, und wenn die Vorderseite des Blocks das Ende erreicht hat, dann wäre das andere Ende des Blocks ein Nte Knoten!  \n",
    "\n",
    "Um diesen \"Block\" zu implementieren, müssten wir also nur zwei Zeiger haben, ein linkes und ein rechtes Paar von Zeigern. Lasst uns die Schritte aufzeigen, die wir unternehmen müssen:\n",
    "\n",
    "* Gehe mit einem Zeiger **n** Knoten vom Kopf weg, dies ist der richtige Punkt.\n",
    "* Setze den anderen Zeiger auf den Kopf, dies wird der left_pointer sein.\n",
    "* Gehe/quere den Block (beide Zeiger) bis zum Ende hin, einen Knoten nach dem anderen, halte einen Abstand **n** zwischen ihnen.\n",
    "* Sobald der right_pointer das Ende getroffen hat, wissen wir, dass der linke Punkt auf dem Ziel ist.\n",
    "\n",
    "Schauen wir uns den Code dafür an!"
   ]
  },
  {
   "cell_type": "code",
   "execution_count": 5,
   "metadata": {},
   "outputs": [],
   "source": [
    "def nth_to_last_node(n, head):\n",
    "\n",
    "    left_pointer  = head\n",
    "    right_pointer = head\n",
    "\n",
    "    # Setze den rechten Zeiger auf n Knoten, die vom Kopf entfernt sind.\n",
    "    for i in range(n-1):\n",
    "        \n",
    "        # Überprüfe, ob es den Randfall gibt\n",
    "        # , dass nicht genügend Knoten vorhanden sind!\n",
    "        if not right_pointer.nextnode:\n",
    "            raise LookupError('Fehler: n ist größer als die verkettete Liste.')\n",
    "\n",
    "        # Andernfalls können wir den Block setzen.\n",
    "        right_pointer = right_pointer.nextnode\n",
    "\n",
    "    # Bewege den Block in der verketteten Liste nach unten.\n",
    "    while right_pointer.nextnode:\n",
    "        left_pointer  = left_pointer.nextnode\n",
    "        right_pointer = right_pointer.nextnode\n",
    "\n",
    "    # Nun gebe den linken Zeiger zurück, der am n-ten zum letzten Element liegt!\n",
    "    return left_pointer"
   ]
  },
  {
   "cell_type": "markdown",
   "metadata": {},
   "source": [
    "# Teste deine Lösung"
   ]
  },
  {
   "cell_type": "code",
   "execution_count": 6,
   "metadata": {},
   "outputs": [
    {
     "name": "stdout",
     "output_type": "stream",
     "text": [
      "Alle Testfälle bestanden\n"
     ]
    }
   ],
   "source": [
    "\"\"\"\n",
    "FÜHRE DIESE ZELLE AUS, UM DEINE LÖSUNG ANHAND EINES TESTFALLS ZU TESTEN. \n",
    "\n",
    "BITTE BEACHTE, DASS DIES NUR EIN FALL IST.\n",
    "\"\"\"\n",
    "\n",
    "from nose.tools import assert_equal\n",
    "\n",
    "a = Node(1)\n",
    "b = Node(2)\n",
    "c = Node(3)\n",
    "d = Node(4)\n",
    "e = Node(5)\n",
    "\n",
    "a.nextnode = b\n",
    "b.nextnode = c\n",
    "c.nextnode = d\n",
    "d.nextnode = e\n",
    "\n",
    "####\n",
    "\n",
    "class TestNLast(object):\n",
    "    \n",
    "    def test(self,sol):\n",
    "        \n",
    "        assert_equal(sol(2,a),d)\n",
    "        print ('Alle Testfälle bestanden')\n",
    "        \n",
    "# Wende Test an\n",
    "t = TestNLast()\n",
    "t.test(nth_to_last_node)"
   ]
  },
  {
   "cell_type": "markdown",
   "metadata": {},
   "source": [
    "## Gut gemacht!"
   ]
  }
 ],
 "metadata": {
  "kernelspec": {
   "display_name": "Python 3",
   "language": "python",
   "name": "python3"
  },
  "language_info": {
   "codemirror_mode": {
    "name": "ipython",
    "version": 3
   },
   "file_extension": ".py",
   "mimetype": "text/x-python",
   "name": "python",
   "nbconvert_exporter": "python",
   "pygments_lexer": "ipython3",
   "version": "3.7.0"
  }
 },
 "nbformat": 4,
 "nbformat_minor": 2
}
