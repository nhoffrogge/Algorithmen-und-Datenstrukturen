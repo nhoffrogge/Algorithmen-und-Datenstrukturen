{
 "cells": [
  {
   "cell_type": "markdown",
   "metadata": {},
   "source": [
    "<a href=\"http://datamics.com/de/courses/\"><img src=../DATA/bg_datamics_top.png></a>\n",
    "\n",
    "<em text-align:center>© Datamics</em>\n",
    "# Umkehrung verketteter Listen - LÖSUNG\n",
    "\n",
    "## Problem\n",
    "\n",
    "Schreibe eine Funktion, um eine verkettete  Liste umzudrehen. Die Funktion nimmt den Kopf der Liste als Eingabe auf und gibt den neuen Kopf der Liste zurück.\n",
    "\n",
    "Du bekommst die Beispiel-Klasse Linked List Node:"
   ]
  },
  {
   "cell_type": "code",
   "execution_count": 1,
   "metadata": {},
   "outputs": [],
   "source": [
    "class Node(object):\n",
    "    \n",
    "    def __init__(self,value):\n",
    "        \n",
    "        self.value = value\n",
    "        self.nextnode = None"
   ]
  },
  {
   "cell_type": "markdown",
   "metadata": {},
   "source": [
    "# Lösung\n",
    "\n",
    "Da wir dies vor Ort tun wollen, wollen wir die Funktion im O(1)-Raum betreiben, d.h. wir wollen keine neue Liste erstellen, also werden wir einfach die aktuellen Knoten verwenden! Zeitmäßig können wir die Umkehrung in O(n)-Zeit durchführen.\n",
    "\n",
    "Wir können die Liste umkehren, indem wir den nächsten Zeiger jedes Knotens ändern. Der nächste Zeiger jedes Knotens sollte auf den vorherigen Knoten zeigen.\n",
    "\n",
    "In einem Durchgang unserer Eingabeliste von vorne nach hinten setzen wir den nächsten Zeiger jedes Knotens auf das vorherige Element.\n",
    "\n",
    "Stelle bitte sicher, dass du current.next_node in next_node kopierst, **bevor** du current.next_node auf previous setzt. Schauen wir uns diese Lösung an:"
   ]
  },
  {
   "cell_type": "code",
   "execution_count": 2,
   "metadata": {},
   "outputs": [],
   "source": [
    "def reverse(head):\n",
    "    \n",
    "    # Einrichten der aktuellen, vorherigen und nächsten Knoten\n",
    "    current = head\n",
    "    previous = None\n",
    "    nextnode = None\n",
    "\n",
    "    # bis wir zum Ende der Liste durchgegangen sind.\n",
    "    while current:\n",
    "        \n",
    "        # Stelle sicher, dass du den aktuellen Knoten als nächsten Knoten in eine Variable next_node kopierst.\n",
    "        # Vor dem Überschreiben als vorheriger Knoten für die Stornierung\n",
    "        nextnode = current.nextnode\n",
    "\n",
    "        # Umkehrung des Zeigers auf den nächsten Knoten\n",
    "        current.nextnode = previous\n",
    "\n",
    "        # In der Liste vorwärts gehen\n",
    "        previous = current\n",
    "        current = nextnode\n",
    "\n",
    "    return previous"
   ]
  },
  {
   "cell_type": "markdown",
   "metadata": {},
   "source": [
    "# Teste deine Lösung\n",
    "\n",
    "**Beachte bitte, dass es sich hierbei nicht um eine klassische Run-Zelle zum Testen deiner Lösung handelt, lies bitte die folgenden Aussagen sorgfältig durch**.\n",
    "\n",
    "Du solltest in der Lage sein, deine eigene Lösung leicht zu testen, um sicherzustellen, dass sie funktioniert. In Anbetracht der kurzen Liste a,b,c,d mit den Werten 1,2,3,4. Überprüfe die Wirkung deiner Umkehrfunktion und stelle sicher, dass die Ergebnisse mit der Logik hier unten übereinstimmen:"
   ]
  },
  {
   "cell_type": "code",
   "execution_count": 3,
   "metadata": {},
   "outputs": [],
   "source": [
    "# Erstellen einer Liste von 4 Knoten\n",
    "a = Node(1)\n",
    "b = Node(2)\n",
    "c = Node(3)\n",
    "d = Node(4)\n",
    "\n",
    "# Reihenfolge a,b,c,d mit Werten 1,2,3,4 einrichten\n",
    "a.nextnode = b\n",
    "b.nextnode = c\n",
    "c.nextnode = d"
   ]
  },
  {
   "cell_type": "markdown",
   "metadata": {},
   "source": [
    "Nun überprüfen wir die Werte der Knoten, die nach a, b und c kommen:"
   ]
  },
  {
   "cell_type": "code",
   "execution_count": 4,
   "metadata": {},
   "outputs": [
    {
     "name": "stdout",
     "output_type": "stream",
     "text": [
      "2\n",
      "3\n",
      "4\n"
     ]
    }
   ],
   "source": [
    "print (a.nextnode.value)\n",
    "print (b.nextnode.value)\n",
    "print (c.nextnode.value)"
   ]
  },
  {
   "cell_type": "code",
   "execution_count": 5,
   "metadata": {},
   "outputs": [
    {
     "ename": "AttributeError",
     "evalue": "'NoneType' object has no attribute 'value'",
     "output_type": "error",
     "traceback": [
      "\u001b[1;31m---------------------------------------------------------------------------\u001b[0m",
      "\u001b[1;31mAttributeError\u001b[0m                            Traceback (most recent call last)",
      "\u001b[1;32m<ipython-input-5-9ee2d814a788>\u001b[0m in \u001b[0;36m<module>\u001b[1;34m\u001b[0m\n\u001b[1;32m----> 1\u001b[1;33m \u001b[0md\u001b[0m\u001b[1;33m.\u001b[0m\u001b[0mnextnode\u001b[0m\u001b[1;33m.\u001b[0m\u001b[0mvalue\u001b[0m\u001b[1;33m\u001b[0m\u001b[1;33m\u001b[0m\u001b[0m\n\u001b[0m",
      "\u001b[1;31mAttributeError\u001b[0m: 'NoneType' object has no attribute 'value'"
     ]
    }
   ],
   "source": [
    "d.nextnode.value"
   ]
  },
  {
   "cell_type": "markdown",
   "metadata": {},
   "source": [
    "So weit, so gut. Beachte bitte, dass es keinen Wert für den letzten Knoten gibt, das macht Sinn! Drehen wir nun die verkettete Liste um, sollten wir die umgekehrte Reihenfolge der Werte sehen!"
   ]
  },
  {
   "cell_type": "code",
   "execution_count": null,
   "metadata": {},
   "outputs": [],
   "source": [
    "reverse(a)"
   ]
  },
  {
   "cell_type": "code",
   "execution_count": null,
   "metadata": {},
   "outputs": [],
   "source": [
    "print (d.nextnode.value)\n",
    "print (c.nextnode.value)\n",
    "print (b.nextnode.value)"
   ]
  },
  {
   "cell_type": "code",
   "execution_count": null,
   "metadata": {},
   "outputs": [],
   "source": [
    "print (a.nextnode.value) # Dies führt zu einem Fehler, da es nun auf None zeigt."
   ]
  },
  {
   "cell_type": "markdown",
   "metadata": {},
   "source": [
    "Großartig, jetzt können wir sehen, dass jeder der Werte auf seinen vorherigen Wert zeigt (obwohl wir jetzt, da die verknüpfte Liste umgekehrt ist, sehen können, dass die Reihenfolge auch umgekehrt ist).\n",
    "\n",
    "## Gut gemacht!"
   ]
  }
 ],
 "metadata": {
  "kernelspec": {
   "display_name": "Python 3",
   "language": "python",
   "name": "python3"
  },
  "language_info": {
   "codemirror_mode": {
    "name": "ipython",
    "version": 3
   },
   "file_extension": ".py",
   "mimetype": "text/x-python",
   "name": "python",
   "nbconvert_exporter": "python",
   "pygments_lexer": "ipython3",
   "version": "3.7.0"
  }
 },
 "nbformat": 4,
 "nbformat_minor": 2
}
